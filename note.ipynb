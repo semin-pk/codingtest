{
 "cells": [
  {
   "cell_type": "markdown",
   "metadata": {},
   "source": [
    "문자열 s에는 공백으로 구분된 숫자들이 저장되어 있습니다. str에 나타나는 숫자 중 최소값과 최대값을 찾아 이를 \"(최소값) (최대값)\"형태의 문자열을 반환하는 함수, solution을 완성하세요.\n",
    "예를들어 s가 \"1 2 3 4\"라면 \"1 4\"를 리턴하고, \"-1 -2 -3 -4\"라면 \"-4 -1\"을 리턴하면 됩니다."
   ]
  },
  {
   "cell_type": "code",
   "execution_count": null,
   "metadata": {},
   "outputs": [],
   "source": [
    "\n",
    "def solution(s):\n",
    "    s = list(map(int,s.split())) #중요한 문법\n",
    "\n",
    "    return str(min(s)) + \" \" + str(max(s))"
   ]
  },
  {
   "cell_type": "markdown",
   "metadata": {},
   "source": [
    "길이가 같은 배열 A, B 두개가 있습니다. 각 배열은 자연수로 이루어져 있습니다.\n",
    "배열 A, B에서 각각 한 개의 숫자를 뽑아 두 수를 곱합니다. 이러한 과정을 배열의 길이만큼 반복하며, 두 수를 곱한 값을 누적하여 더합니다. 이때 최종적으로 누적된 값이 최소가 되도록 만드는 것이 목표입니다. (단, 각 배열에서 k번째 숫자를 뽑았다면 다음에 k번째 숫자는 다시 뽑을 수 없습니다.)\n",
    "\n",
    "예를 들어 A = [1, 4, 2] , B = [5, 4, 4] 라면\n",
    "\n",
    "A에서 첫번째 숫자인 1, B에서 첫번째 숫자인 5를 뽑아 곱하여 더합니다. (누적된 값 : 0 + 5(1x5) = 5)\n",
    "A에서 두번째 숫자인 4, B에서 세번째 숫자인 4를 뽑아 곱하여 더합니다. (누적된 값 : 5 + 16(4x4) = 21)\n",
    "A에서 세번째 숫자인 2, B에서 두번째 숫자인 4를 뽑아 곱하여 더합니다. (누적된 값 : 21 + 8(2x4) = 29)\n",
    "즉, 이 경우가 최소가 되므로 29를 return 합니다.\n",
    "\n",
    "배열 A, B가 주어질 때 최종적으로 누적된 최솟값을 return 하는 solution 함수를 완성해 주세요.\n",
    "\n",
    "제한사항\n",
    "배열 A, B의 크기 : 1,000 이하의 자연수\n",
    "배열 A, B의 원소의 크기 : 1,000 이하의 자연수"
   ]
  },
  {
   "cell_type": "code",
   "execution_count": null,
   "metadata": {},
   "outputs": [],
   "source": [
    "def getMinSum(A, B):\n",
    "    return sum([a * b for a, b in zip(sorted(A), sorted(B, reverse=True))])\n",
    "\n",
    "\n",
    "# 아래 코드는 출력을 위한 테스트 코드입니다.\n",
    "\n",
    "print(getMinSum([1, 2], [3, 4]))"
   ]
  },
  {
   "cell_type": "markdown",
   "metadata": {},
   "source": [
    "0과 1로 이루어진 어떤 문자열 x에 대한 이진 변환을 다음과 같이 정의합니다.\n",
    "\n",
    "x의 모든 0을 제거합니다.\n",
    "x의 길이를 c라고 하면, x를 \"c를 2진법으로 표현한 문자열\"로 바꿉니다.\n",
    "예를 들어, x = \"0111010\"이라면, x에 이진 변환을 가하면 x = \"0111010\" -> \"1111\" -> \"100\" 이 됩니다.\n",
    "\n",
    "0과 1로 이루어진 문자열 s가 매개변수로 주어집니다. s가 \"1\"이 될 때까지 계속해서 s에 이진 변환을 가했을 때, 이진 변환의 횟수와 변환 과정에서 제거된 모든 0의 개수를 각각 배열에 담아 return 하도록 solution 함수를 완성해주세요."
   ]
  },
  {
   "cell_type": "code",
   "execution_count": null,
   "metadata": {},
   "outputs": [],
   "source": [
    "def solution(s):\n",
    "    a, b = 0, 0\n",
    "    while s != '1':\n",
    "        a += 1\n",
    "        num = s.count('1')\n",
    "        b += len(s) - num\n",
    "        s = bin(num)[2:]\n",
    "    return [a, b]"
   ]
  },
  {
   "cell_type": "markdown",
   "metadata": {},
   "source": [
    "문제 설명\n",
    "자연수 n이 주어졌을 때, n의 다음 큰 숫자는 다음과 같이 정의 합니다.\n",
    "\n",
    "조건 1. n의 다음 큰 숫자는 n보다 큰 자연수 입니다.\n",
    "조건 2. n의 다음 큰 숫자와 n은 2진수로 변환했을 때 1의 갯수가 같습니다.\n",
    "조건 3. n의 다음 큰 숫자는 조건 1, 2를 만족하는 수 중 가장 작은 수 입니다.\n",
    "예를 들어서 78(1001110)의 다음 큰 숫자는 83(1010011)입니다.\n",
    "\n",
    "자연수 n이 매개변수로 주어질 때, n의 다음 큰 숫자를 return 하는 solution 함수를 완성해주세요.\n",
    "\n",
    "제한 사항\n",
    "n은 1,000,000 이하의 자연수 입니다."
   ]
  },
  {
   "cell_type": "code",
   "execution_count": null,
   "metadata": {},
   "outputs": [],
   "source": [
    "def solution(n):\n",
    "    cnt = bin(n)[2:].count(\"1\")\n",
    "    while True:\n",
    "        n += 1\n",
    "        if bin(n)[2:].count(\"1\") == cnt:\n",
    "            break\n",
    "            \n",
    "    answer = n\n",
    "    return answer"
   ]
  },
  {
   "cell_type": "markdown",
   "metadata": {},
   "source": [
    "문제 설명\n",
    "피보나치 수는 F(0) = 0, F(1) = 1일 때, 1 이상의 n에 대하여 F(n) = F(n-1) + F(n-2) 가 적용되는 수 입니다.\n",
    "\n",
    "예를들어\n",
    "\n",
    "F(2) = F(0) + F(1) = 0 + 1 = 1\n",
    "F(3) = F(1) + F(2) = 1 + 1 = 2\n",
    "F(4) = F(2) + F(3) = 1 + 2 = 3\n",
    "F(5) = F(3) + F(4) = 2 + 3 = 5\n",
    "와 같이 이어집니다.\n",
    "\n",
    "2 이상의 n이 입력되었을 때, n번째 피보나치 수를 1234567으로 나눈 나머지를 리턴하는 함수, solution을 완성해 주세요.\n",
    "\n",
    "제한 사항\n",
    "n은 2 이상 100,000 이하인 자연수입니다.\n",
    "입출력 예\n",
    "n\treturn\n",
    "3\t2\n",
    "5\t5\n",
    "입출력 예 설명\n",
    "피보나치수는 0번째부터 0, 1, 1, 2, 3, 5, ... 와 같이 이어집니다.\n",
    "\n"
   ]
  },
  {
   "cell_type": "code",
   "execution_count": null,
   "metadata": {},
   "outputs": [],
   "source": [
    "def solution(n):\n",
    "    f0 = 0\n",
    "    f1 = 1\n",
    "    for i in range(n-1):\n",
    "        f = f0 + f1\n",
    "        f0 = f1\n",
    "        f1 = f\n",
    "    answer = f % 1234567\n",
    "    return answer"
   ]
  },
  {
   "cell_type": "markdown",
   "metadata": {},
   "source": [
    "문제 설명\n",
    "짝지어 제거하기는, 알파벳 소문자로 이루어진 문자열을 가지고 시작합니다. 먼저 문자열에서 같은 알파벳이 2개 붙어 있는 짝을 찾습니다. 그다음, 그 둘을 제거한 뒤, 앞뒤로 문자열을 이어 붙입니다. 이 과정을 반복해서 문자열을 모두 제거한다면 짝지어 제거하기가 종료됩니다. 문자열 S가 주어졌을 때, 짝지어 제거하기를 성공적으로 수행할 수 있는지 반환하는 함수를 완성해 주세요. 성공적으로 수행할 수 있으면 1을, 아닐 경우 0을 리턴해주면 됩니다.\n",
    "\n",
    "예를 들어, 문자열 S = baabaa 라면\n",
    "\n",
    "b aa baa → bb aa → aa →\n",
    "\n",
    "의 순서로 문자열을 모두 제거할 수 있으므로 1을 반환합니다.\n",
    "\n",
    "제한사항\n",
    "문자열의 길이 : 1,000,000이하의 자연수\n",
    "문자열은 모두 소문자로 이루어져 있습니다.\n",
    "입출력 예\n",
    "s\tresult\n",
    "baabaa\t1\n",
    "cdcd\t0\n",
    "입출력 예 설명\n",
    "입출력 예 #1\n",
    "위의 예시와 같습니다.\n",
    "입출력 예 #2\n",
    "문자열이 남아있지만 짝지어 제거할 수 있는 문자열이 더 이상 존재하지 않기 때문에 0을 반환합니다.\n",
    "\n",
    "※ 공지 - 2020년 6월 8일 테스트케이스가 추가되었습니다.\n",
    "※ 공지 - 2023년 8월 31일 테스트케이스가 추가되었습니다. 기존에 제출한 코드가 통과하지 못할 수도 있습니다."
   ]
  },
  {
   "cell_type": "code",
   "execution_count": 6,
   "metadata": {},
   "outputs": [
    {
     "ename": "TypeError",
     "evalue": "unsupported operand type(s) for -: 'str' and 'str'",
     "output_type": "error",
     "traceback": [
      "\u001b[1;31m---------------------------------------------------------------------------\u001b[0m",
      "\u001b[1;31mTypeError\u001b[0m                                 Traceback (most recent call last)",
      "Cell \u001b[1;32mIn[6], line 3\u001b[0m\n\u001b[0;32m      1\u001b[0m \u001b[38;5;28mstr\u001b[39m \u001b[38;5;241m=\u001b[39m \u001b[38;5;124m\"\u001b[39m\u001b[38;5;124maab\u001b[39m\u001b[38;5;124m\"\u001b[39m\n\u001b[0;32m      2\u001b[0m sto \u001b[38;5;241m=\u001b[39m \u001b[38;5;124m\"\u001b[39m\u001b[38;5;124ma\u001b[39m\u001b[38;5;124m\"\u001b[39m\n\u001b[1;32m----> 3\u001b[0m \u001b[38;5;28;43mstr\u001b[39;49m\u001b[38;5;241;43m-\u001b[39;49m\u001b[43msto\u001b[49m\n",
      "\u001b[1;31mTypeError\u001b[0m: unsupported operand type(s) for -: 'str' and 'str'"
     ]
    }
   ],
   "source": [
    "def solution(s):\n",
    "    store = []\n",
    "    for i in s:\n",
    "        if len(store) > 0:\n",
    "            if store[-1] == i:\n",
    "                store.pop(-1)\n",
    "            else:\n",
    "                store.append(i)\n",
    "        else:\n",
    "            store.append(i)\n",
    "            \n",
    "    if len(store) == 0:\n",
    "        answer = 1\n",
    "    else:\n",
    "        answer = 0\n",
    "                \n",
    "    return answer"
   ]
  },
  {
   "cell_type": "markdown",
   "metadata": {},
   "source": [
    "OO 연구소는 한 번에 K 칸을 앞으로 점프하거나, (현재까지 온 거리) x 2 에 해당하는 위치로 순간이동을 할 수 있는 특수한 기능을 가진 아이언 슈트를 개발하여 판매하고 있습니다. 이 아이언 슈트는 건전지로 작동되는데, 순간이동을 하면 건전지 사용량이 줄지 않지만, 앞으로 K 칸을 점프하면 K 만큼의 건전지 사용량이 듭니다. 그러므로 아이언 슈트를 착용하고 이동할 때는 순간 이동을 하는 것이 더 효율적입니다. 아이언 슈트 구매자는 아이언 슈트를 착용하고 거리가 N 만큼 떨어져 있는 장소로 가려고 합니다. 단, 건전지 사용량을 줄이기 위해 점프로 이동하는 것은 최소로 하려고 합니다. 아이언 슈트 구매자가 이동하려는 거리 N이 주어졌을 때, 사용해야 하는 건전지 사용량의 최솟값을 return하는 solution 함수를 만들어 주세요.\n",
    "\n",
    "예를 들어 거리가 5만큼 떨어져 있는 장소로 가려고 합니다.\n",
    "아이언 슈트를 입고 거리가 5만큼 떨어져 있는 장소로 갈 수 있는 경우의 수는 여러 가지입니다.\n",
    "\n",
    "처음 위치 0 에서 5 칸을 앞으로 점프하면 바로 도착하지만, 건전지 사용량이 5 만큼 듭니다.\n",
    "처음 위치 0 에서 2 칸을 앞으로 점프한 다음 순간이동 하면 (현재까지 온 거리 : 2) x 2에 해당하는 위치로 이동할 수 있으므로 위치 4로 이동합니다. 이때 1 칸을 앞으로 점프하면 도착하므로 건전지 사용량이 3 만큼 듭니다.\n",
    "처음 위치 0 에서 1 칸을 앞으로 점프한 다음 순간이동 하면 (현재까지 온 거리 : 1) x 2에 해당하는 위치로 이동할 수 있으므로 위치 2로 이동됩니다. 이때 다시 순간이동 하면 (현재까지 온 거리 : 2) x 2 만큼 이동할 수 있으므로 위치 4로 이동합니다. 이때 1 칸을 앞으로 점프하면 도착하므로 건전지 사용량이 2 만큼 듭니다.\n",
    "위의 3가지 경우 거리가 5만큼 떨어져 있는 장소로 가기 위해서 3번째 경우가 건전지 사용량이 가장 적으므로 답은 2가 됩니다.\n",
    "\n",
    "제한 사항\n",
    "숫자 N: 1 이상 10억 이하의 자연수\n",
    "숫자 K: 1 이상의 자연수\n",
    "입출력 예\n",
    "N\tresult\n",
    "5\t2\n",
    "6\t2\n",
    "5000\t5\n",
    "입출력 예 설명\n",
    "입출력 예 #1\n",
    "위의 예시와 같습니다.\n",
    "\n",
    "입출력 예 #2\n",
    "처음 위치 0 에서 1 칸을 앞으로 점프한 다음 순간이동 하면 (현재까지 온 거리 : 1) x 2에 해당하는 위치로 이동할 수 있으므로 위치 2로 이동합니다. 이때 1 칸을 앞으로 점프하면 위치3으로 이동합니다. 이때 다시 순간이동 하면 (현재까지 온 거리 : 3) x 2 이동할 수 있으므로 위치 6에 도착합니다. 이 경우가 건전지 사용량이 가장 적으므로 2를 반환해주면 됩니다.\n",
    "\n",
    "입출력 예 #3\n",
    "위와 같은 방식으로 합니다."
   ]
  },
  {
   "cell_type": "code",
   "execution_count": null,
   "metadata": {},
   "outputs": [],
   "source": [
    "def solution(n):\n",
    "    return bin(n).count('1')"
   ]
  },
  {
   "cell_type": "markdown",
   "metadata": {},
   "source": [
    "프로그래머스\n",
    "표 편집\n"
   ]
  },
  {
   "cell_type": "code",
   "execution_count": null,
   "metadata": {},
   "outputs": [],
   "source": [
    "def solution(n, k, cmd):\n",
    "    deleted = []\n",
    "    up = [i - 1 for i in range(n+2)]\n",
    "    down = [i + 1 for i in range(n+1)]\n",
    "    \n",
    "    k += 1\n",
    "    \n",
    "    for cmd_i in cmd:\n",
    "        if cmd_i.startswith(\"C\"):\n",
    "            deleted.append(k)\n",
    "            up[down[k]] = up[k]\n",
    "            down[up[k]] = down[k]\n",
    "            k = up[k] if n < down[k] else down[k]\n",
    "            \n",
    "        elif cmd_i.startswith(\"Z\"):\n",
    "            restore = deleted.pop()\n",
    "            down[up[restore]] = restore\n",
    "            up[down[restore]] = restore\n",
    "            \n",
    "        else:\n",
    "            action, num = cmd_i.split()\n",
    "            if action == \"U\":\n",
    "                for _ in range(int(num)):\n",
    "                    k = up[k]\n",
    "                    \n",
    "            else:\n",
    "                for _ in range(int(num)):\n",
    "                    k = down[k]\n",
    "                    \n",
    "    answer = [\"O\"] * n\n",
    "    for i in deleted:\n",
    "        answer[i - 1] = \"X\"\n",
    "    return  \"\".join(answer)"
   ]
  },
  {
   "cell_type": "markdown",
   "metadata": {},
   "source": [
    "Python\n",
    "리스트 정렬  arr.sort()\n",
    "\t이 자체로 코드 실행 가능 변수 할당 안해도됌 변수를 할당하고싶으면                      x = list(sort(arr)\n",
    "result = sorted(result, key=lambda x : result[x], reverse=True)\n",
    "lambd를 사용하여 정렬\n",
    "result딕셔너리의 value값을 key로 설정하여 value값을 기준으로 정렬하고 reverse를 True로 설정하여 내림차순으로 정렬한다.\n",
    "\n",
    "리스트를 문자열로\n",
    "Ex) [‘z’, ‘e’, ‘r’, ‘o’]  ‘zero’: string = ‘’.join(list)\n",
    "\n",
    "Deque 사용하기\n",
    "From collections import deque\n"
   ]
  },
  {
   "cell_type": "code",
   "execution_count": null,
   "metadata": {},
   "outputs": [],
   "source": [
    "result = sorted(result, key=lambda x : result[x], reverse=True)\n",
    "#lambd를 사용하여 정렬\n",
    "#result딕셔너리의 value값을 key로 설정하여 value값을 기준으로 정렬하고 reverse를 True로 설정하여 내림차순으로 정렬한다.\n",
    "\n"
   ]
  },
  {
   "cell_type": "code",
   "execution_count": 2,
   "metadata": {},
   "outputs": [
    {
     "name": "stdout",
     "output_type": "stream",
     "text": [
      "zero\n"
     ]
    }
   ],
   "source": [
    "#리스트를 문자열로\n",
    "list_ex = [\"z\", \"e\", \"r\", \"o\"]\n",
    "string_ex = \"\".join(list_ex)\n",
    "print(string_ex)"
   ]
  },
  {
   "cell_type": "code",
   "execution_count": null,
   "metadata": {},
   "outputs": [],
   "source": [
    "#deque 사용하기\n",
    "from collections import deque\n",
    "dq = deque()\n"
   ]
  },
  {
   "cell_type": "markdown",
   "metadata": {},
   "source": [
    "기능 개발(프로그래머스)"
   ]
  },
  {
   "cell_type": "code",
   "execution_count": 3,
   "metadata": {},
   "outputs": [],
   "source": [
    "from collections import deque\n",
    "def solution(progresses, speeds):\n",
    "    progresses = deque(progresses)\n",
    "    speeds = deque(speeds)\n",
    "    answer = []\n",
    "    while len(progresses) > 0:\n",
    "        if progresses[0] < 100:\n",
    "            for i in range(len(progresses)):\n",
    "                progresses[i] += speeds[i]\n",
    "        else:\n",
    "            j = 0\n",
    "            while progresses and progresses[0] >= 100:\n",
    "                progresses.popleft()\n",
    "                speeds.popleft()\n",
    "                j += 1\n",
    "            answer.append(j)\n",
    "                    \n",
    "    return answer"
   ]
  },
  {
   "cell_type": "code",
   "execution_count": 5,
   "metadata": {},
   "outputs": [],
   "source": [
    "import math \n",
    "def solution(progresses, speeds):\n",
    "    answer = []\n",
    "    n = len(progresses)\n",
    "    days_left = [math.ceil((100 - progresses[i])/ speeds[i]) for i in range(n)]\n",
    "\n",
    "    count = 0\n",
    "\n",
    "    max_day = days_left[0]\n",
    "\n",
    "    for i in range(n):\n",
    "        if days_left[i] <= max_day:\n",
    "            count += 1\n",
    "        else:\n",
    "            answer.append(count)\n",
    "            count = 1\n",
    "            max_day = days_left[i]\n",
    "    answer.append(count)\n",
    "    return answer"
   ]
  },
  {
   "cell_type": "code",
   "execution_count": 6,
   "metadata": {},
   "outputs": [
    {
     "data": {
      "text/plain": [
       "[2, 1]"
      ]
     },
     "execution_count": 6,
     "metadata": {},
     "output_type": "execute_result"
    }
   ],
   "source": [
    "solution([93, 30, 55], [1, 30, 5])"
   ]
  },
  {
   "cell_type": "markdown",
   "metadata": {},
   "source": [
    "카드뭉치(프로그래머스)"
   ]
  },
  {
   "cell_type": "code",
   "execution_count": null,
   "metadata": {},
   "outputs": [],
   "source": [
    "from collections import deque\n",
    "\n",
    "def solution(cards1, cards2, goal):\n",
    "    cards1 = deque(cards1)\n",
    "    cards2 = deque(cards2)\n",
    "    goal = deque(goal)\n",
    "    for goal_i in goal:\n",
    "        if cards1 and cards1[0] == goal_i:\n",
    "            cards1.popleft()\n",
    "        elif cards2 and cards2[0] == goal_i:\n",
    "            cards2.popleft()\n",
    "        else:\n",
    "            return \"No\"\n",
    "    answer = 'Yes'\n",
    "    return answer"
   ]
  },
  {
   "cell_type": "markdown",
   "metadata": {},
   "source": [
    "문자열 해싱을 이용한 검색 함수 만들기\n"
   ]
  },
  {
   "cell_type": "code",
   "execution_count": 3,
   "metadata": {},
   "outputs": [],
   "source": [
    "def polynomial_hash(str):\n",
    "    p = 31\n",
    "    m = 1_000_000_007\n",
    "    hash_value = 0\n",
    "    for char in str:\n",
    "        hash_value = (hash_value * p + ord(char))%m\n",
    "    return hash_value\n",
    "\n",
    "def solution(string_list, query_list):\n",
    "    hash_list = [polynomial_hash(str) for str in string_list]\n",
    "\n",
    "    result = []\n",
    "    for query in query_list:\n",
    "        query_hash = polynomial_hash(query)\n",
    "        if query_hash in hash_list:\n",
    "            result.append(True)\n",
    "        else:\n",
    "            result.append(False)\n",
    "    return result"
   ]
  },
  {
   "cell_type": "code",
   "execution_count": 28,
   "metadata": {},
   "outputs": [],
   "source": [
    "def solution(id_list, report, k):\n",
    "    report_dic = {}\n",
    "    report_count = {}\n",
    "    for report_i in report:\n",
    "        a, b = report_i.split(\" \")\n",
    "        print(a,b)\n",
    "        if b not in report_count:\n",
    "            report_count[b] = 0\n",
    "        if a not in report_dic:\n",
    "            report_dic[a] = []\n",
    "        report_dic[a].append(b)\n",
    "        report_count[b] += 1\n",
    "    print(report_dic)\n",
    "    for user, u_users in report_dic.items():\n",
    "        count = 0\n",
    "        print(u_users)\n",
    "        for u_user in u_users:\n",
    "            print(user, u_user)\n",
    "            if report_count[u_user] >= k:\n",
    "                count += 1\n",
    "        for i in range(len(id_list)):\n",
    "            if id_list[i] == user:\n",
    "                id_list[i] = count\n",
    "    for i in range(len(id_list)):\n",
    "        if type(id_list[i]) is str:\n",
    "                id_list[i] = 0\n",
    "    return id_list"
   ]
  },
  {
   "cell_type": "code",
   "execution_count": 29,
   "metadata": {},
   "outputs": [
    {
     "name": "stdout",
     "output_type": "stream",
     "text": [
      "muzi frodo\n",
      "apeach frodo\n",
      "frodo neo\n",
      "muzi neo\n",
      "apeach muzi\n",
      "{'muzi': ['frodo', 'neo'], 'apeach': ['frodo', 'muzi'], 'frodo': ['neo']}\n",
      "['frodo', 'neo']\n",
      "muzi frodo\n",
      "muzi neo\n",
      "['frodo', 'muzi']\n",
      "apeach frodo\n",
      "apeach muzi\n",
      "['neo']\n",
      "frodo neo\n"
     ]
    },
    {
     "data": {
      "text/plain": [
       "[2, 1, 1, 0]"
      ]
     },
     "execution_count": 29,
     "metadata": {},
     "output_type": "execute_result"
    }
   ],
   "source": [
    "solution([\"muzi\", \"frodo\", \"apeach\", \"neo\"],[\"muzi frodo\",\"apeach frodo\",\"frodo neo\",\"muzi neo\",\"apeach muzi\"], 2)"
   ]
  },
  {
   "cell_type": "markdown",
   "metadata": {},
   "source": [
    "메뉴 리뉴얼\n",
    "counter, combinations 공부 필요"
   ]
  },
  {
   "cell_type": "code",
   "execution_count": null,
   "metadata": {},
   "outputs": [],
   "source": [
    "from itertools import combinations\n",
    "from collections import Counter\n",
    "\n",
    "def solution(orders, course):\n",
    "    answer = []\n",
    "    \n",
    "    for c in course:\n",
    "        menu = []\n",
    "        for order in orders:\n",
    "            comb = combinations(\n",
    "            sorted(order), c\n",
    "            )\n",
    "            menu += comb\n",
    "        counter = Counter(menu)\n",
    "        if(\n",
    "            len(counter) != 0 and max(counter.values()) != 1\n",
    "        ):\n",
    "            for m, cnt in counter.items():\n",
    "                if cnt == max(counter.values()):\n",
    "                    answer.append(\"\".join(m))\n",
    "            \n",
    "    return sorted(answer)"
   ]
  },
  {
   "cell_type": "markdown",
   "metadata": {},
   "source": [
    "트리순회"
   ]
  },
  {
   "cell_type": "code",
   "execution_count": 3,
   "metadata": {},
   "outputs": [],
   "source": [
    "def preorder(nodes, idx):\n",
    "    if idx < len(nodes):\n",
    "        ret = str(nodes[idx]) + \" \"\n",
    "        ret += preorder(nodes, idx * 2 + 1)\n",
    "        ret += preorder(nodes, idx * 2 + 2)\n",
    "        return ret\n",
    "    else:\n",
    "        return \"\"\n",
    "    \n",
    "def inorder(nodes, idx):\n",
    "    if idx < len(nodes):\n",
    "        ret = inorder(nodes, idx * 2 + 1)\n",
    "        ret += str(nodes[idx]) + \" \"\n",
    "        ret += inorder(nodes, idx * 2 + 2)\n",
    "        return ret\n",
    "    else:\n",
    "        return \"\" \n",
    "\n",
    "def postorder(nodes, idx):\n",
    "    if idx < len(nodes):\n",
    "        ret = postorder(nodes, idx * 2 + 1)\n",
    "        ret += postorder(nodes, idx * 2 + 2)\n",
    "        ret += str(nodes[idx]) + \" \"\n",
    "        return ret\n",
    "    else:\n",
    "        return \"\"\n",
    "    \n",
    "def solution(nodes):\n",
    "\n",
    "    return [\n",
    "        preorder(nodes, 0)[:-1],\n",
    "        inorder(nodes, 0)[:-1],\n",
    "        postorder(nodes, 0)[:-1],\n",
    "    ]"
   ]
  },
  {
   "cell_type": "code",
   "execution_count": 4,
   "metadata": {},
   "outputs": [
    {
     "data": {
      "text/plain": [
       "['1 2 4 5 3 6 7', '4 2 5 1 6 3 7', '4 5 2 6 7 3 1']"
      ]
     },
     "execution_count": 4,
     "metadata": {},
     "output_type": "execute_result"
    }
   ],
   "source": [
    "solution([1,2,3,4,5,6,7])"
   ]
  },
  {
   "cell_type": "markdown",
   "metadata": {},
   "source": [
    "이진 탐색 트리 구현"
   ]
  },
  {
   "cell_type": "code",
   "execution_count": 22,
   "metadata": {},
   "outputs": [],
   "source": [
    "class Node:\n",
    "    def __init__(self, key):\n",
    "        self.left = None\n",
    "        self.right = None\n",
    "        self.val = key\n",
    "\n",
    "class BST:\n",
    "    def __init__(self):\n",
    "        self.root = None\n",
    "\n",
    "    def insert(self, key):\n",
    "        if not self.root:\n",
    "            self.root = Node(key)\n",
    "        else:\n",
    "            curr = self.root\n",
    "            while True:\n",
    "                if key < curr.val:\n",
    "                    if curr.left:\n",
    "                        curr = curr.left\n",
    "                    else:\n",
    "                        curr.left = Node(key)\n",
    "                        break\n",
    "                else:\n",
    "                    if curr.right:\n",
    "                        curr = curr.right\n",
    "                    else:\n",
    "                        curr.right = Node(key)\n",
    "                        break\n",
    "    def search(self, key):\n",
    "        curr = self.root\n",
    "        print(curr.left)\n",
    "        while curr and curr.val != key:\n",
    "            if key < curr.val:\n",
    "                curr = curr.left\n",
    "            else:\n",
    "                curr = curr.right\n",
    "        return curr\n",
    "    \n",
    "def solution(lst, search_lst):\n",
    "    bst = BST()\n",
    "\n",
    "    for key in lst:\n",
    "        bst.insert(key)\n",
    "    result = []\n",
    "    print(bst)\n",
    "\n",
    "    for search_val in search_lst:\n",
    "        if bst.search(search_val):\n",
    "            result.append(True)\n",
    "        else:\n",
    "            result.append(False)\n",
    "\n",
    "    return result"
   ]
  },
  {
   "cell_type": "code",
   "execution_count": 23,
   "metadata": {},
   "outputs": [
    {
     "name": "stdout",
     "output_type": "stream",
     "text": [
      "<__main__.BST object at 0x000001E7C91F9C10>\n",
      "<__main__.Node object at 0x000001E7C91F8A90>\n",
      "<__main__.Node object at 0x000001E7C91F8A90>\n",
      "<__main__.Node object at 0x000001E7C91F8A90>\n",
      "<__main__.Node object at 0x000001E7C91F8A90>\n"
     ]
    },
    {
     "data": {
      "text/plain": [
       "[True, True, True, False]"
      ]
     },
     "execution_count": 23,
     "metadata": {},
     "output_type": "execute_result"
    }
   ],
   "source": [
    "solution([5, 3, 8, 2, 1, 7, 10], [1, 2, 5, 6])"
   ]
  },
  {
   "cell_type": "markdown",
   "metadata": {},
   "source": [
    "예상 대진표"
   ]
  },
  {
   "cell_type": "code",
   "execution_count": null,
   "metadata": {},
   "outputs": [],
   "source": [
    "def solution(n,a,b):\n",
    "    answer = 0\n",
    "    while a != b:\n",
    "        a = (a + 1) // 2\n",
    "        b = (b + 1) // 2\n",
    "        answer += 1\n",
    "\n",
    "    return answer"
   ]
  },
  {
   "cell_type": "markdown",
   "metadata": {},
   "source": []
  },
  {
   "cell_type": "markdown",
   "metadata": {},
   "source": [
    "깊이 우선 탐색 순회"
   ]
  },
  {
   "cell_type": "code",
   "execution_count": 36,
   "metadata": {},
   "outputs": [],
   "source": [
    "from collections import defaultdict\n",
    "\n",
    "def solution(graph, start):\n",
    "    adj_list = defaultdict(list)\n",
    "\n",
    "    for u, v in graph:\n",
    "        adj_list[u].append(v)\n",
    "\n",
    "    def dfs(node, visited:set, result:list):\n",
    "        visited.add(node)\n",
    "        result.append(node)\n",
    "        for neighbor in adj_list.get(node, []):\n",
    "            print(neighbor)\n",
    "            if neighbor not in visited:\n",
    "                dfs(neighbor, visited, result)\n",
    "\n",
    "    visited = set()\n",
    "    result = []\n",
    "    dfs(start, visited, result)\n",
    "    return result\n"
   ]
  },
  {
   "cell_type": "code",
   "execution_count": 37,
   "metadata": {},
   "outputs": [
    {
     "name": "stdout",
     "output_type": "stream",
     "text": [
      "B\n",
      "D\n",
      "E\n",
      "F\n",
      "C\n",
      "F\n"
     ]
    },
    {
     "data": {
      "text/plain": [
       "['A', 'B', 'D', 'E', 'F', 'C']"
      ]
     },
     "execution_count": 37,
     "metadata": {},
     "output_type": "execute_result"
    }
   ],
   "source": [
    "solution([['A','B'],['A','C'],['B','D'],['B','E'], ['C', 'F'], ['E', 'F']], 'A')"
   ]
  },
  {
   "cell_type": "markdown",
   "metadata": {},
   "source": [
    "너비 우선 탐색 순회"
   ]
  },
  {
   "cell_type": "code",
   "execution_count": 38,
   "metadata": {},
   "outputs": [],
   "source": [
    "from collections import defaultdict, deque\n",
    "\n",
    "def solution(graph, start):\n",
    "    adj_list = defaultdict(list)\n",
    "    for u, v in graph:\n",
    "        adj_list[u].append(v)\n",
    "\n",
    "    def bfs(start):\n",
    "        visited = set()\n",
    "\n",
    "        queue = deque([start])\n",
    "        visited.add(start)\n",
    "        result.append(start)\n",
    "\n",
    "        while queue:\n",
    "            node = queue.popleft()\n",
    "            for neighbor in adj_list.get(node, []):\n",
    "                if neighbor not in visited:\n",
    "                    queue.append(neighbor)\n",
    "                    visited.add(neighbor)\n",
    "                    result.append(neighbor)\n",
    "\n",
    "    result = []\n",
    "    bfs(start)\n",
    "    return result"
   ]
  },
  {
   "cell_type": "markdown",
   "metadata": {},
   "source": [
    "다익스트라 알고리즘"
   ]
  },
  {
   "cell_type": "code",
   "execution_count": 41,
   "metadata": {},
   "outputs": [],
   "source": [
    "import heapq\n",
    "def solution(graph, start):\n",
    "    distances = {node: float(\"inf\") for node in graph}\n",
    "\n",
    "    distances[start] = 0\n",
    "    queue = []\n",
    "    heapq.heappush(queue, [distances[start], start])\n",
    "    paths = {start:[start]}\n",
    "\n",
    "    while queue:\n",
    "        current_distance, current_node = heapq.heappop(queue)\n",
    "\n",
    "        if distances[current_node] < current_distance:\n",
    "            continue\n",
    "\n",
    "        for adjacent_node, weight in graph[current_node].items():\n",
    "            distance = current_distance + weight\n",
    "            \n",
    "\n",
    "            if distance < distance[adjacent_node]:\n",
    "                distances[adjacent_node] = distance\n",
    "                paths[adjacent_node] = paths[current_node] + [adjacent_node]\n",
    "\n",
    "                heapq.heappush(queue, [distance, adjacent_node])\n",
    "\n",
    "    sorted_paths = {node:paths[node] for node in sorted(paths)}\n",
    "    return [distances, sorted_paths]"
   ]
  },
  {
   "cell_type": "code",
   "execution_count": 43,
   "metadata": {},
   "outputs": [],
   "source": [
    "def solution(graph, source):\n",
    "    num_vertices = len(graph)\n",
    "\n",
    "    distance = [float(\"inf\")] * num_vertices\n",
    "    distance[source] = 0\n",
    "    predecessor = [None] * num_vertices\n",
    "\n",
    "    for temp in range(num_vertices - 1):\n",
    "        for u in range(num_vertices):\n",
    "            for v, weight in graph[u]:\n",
    "\n",
    "                if distance[u] + weight < distance[v]:\n",
    "                    distance[v] = distance[u] + weight\n",
    "                    predecessor[v] = u\n",
    "    for u in range(num_vertices):\n",
    "        for v, weight in graph[u]:\n",
    "\n",
    "            if distance[u] + weight <  distance[v]:\n",
    "                return [-1]\n",
    "    return [distance, predecessor]"
   ]
  },
  {
   "cell_type": "markdown",
   "metadata": {},
   "source": [
    "백트래킹\n",
    "    - 1부터 N까지 숫자 중 합이 10이 되는 조합 구하기\n",
    "    "
   ]
  },
  {
   "cell_type": "code",
   "execution_count": 44,
   "metadata": {},
   "outputs": [],
   "source": [
    "def solution(N):\n",
    "    results = []\n",
    "    def backtrack(sum, selected_nums, start):\n",
    "        if sum == 10:\n",
    "            results.append(selected_nums)\n",
    "            return\n",
    "        \n",
    "        for i in range(start, N + 1):\n",
    "            if sum + i <= 10:\n",
    "                backtrack(\n",
    "                    sum+i, selected_nums+ [i], i + 1\n",
    "                )\n",
    "    backtrack(0, [], 1)\n",
    "    return results"
   ]
  },
  {
   "cell_type": "code",
   "execution_count": 46,
   "metadata": {},
   "outputs": [
    {
     "data": {
      "text/plain": [
       "[[1, 2, 3, 4],\n",
       " [1, 2, 7],\n",
       " [1, 3, 6],\n",
       " [1, 4, 5],\n",
       " [1, 9],\n",
       " [2, 3, 5],\n",
       " [2, 8],\n",
       " [3, 7],\n",
       " [4, 6],\n",
       " [10]]"
      ]
     },
     "execution_count": 46,
     "metadata": {},
     "output_type": "execute_result"
    }
   ],
   "source": [
    "solution(100)\n"
   ]
  },
  {
   "cell_type": "markdown",
   "metadata": {},
   "source": [
    "스도쿠 퍼즐"
   ]
  },
  {
   "cell_type": "code",
   "execution_count": null,
   "metadata": {},
   "outputs": [],
   "source": []
  },
  {
   "cell_type": "markdown",
   "metadata": {},
   "source": [
    "<h1>정렬 <br>\n"
   ]
  },
  {
   "cell_type": "markdown",
   "metadata": {},
   "source": [
    "계수 정렬 구현하기"
   ]
  },
  {
   "cell_type": "code",
   "execution_count": 3,
   "metadata": {},
   "outputs": [],
   "source": [
    "def solution(s):\n",
    "    num_sort = {}\n",
    "    for ch in s:\n",
    "        if ch not in num_sort:\n",
    "            num_sort[ch] = 0\n",
    "        num_sort[ch] += 1\n",
    "    return num_sort"
   ]
  },
  {
   "cell_type": "code",
   "execution_count": 6,
   "metadata": {},
   "outputs": [
    {
     "data": {
      "text/plain": [
       "'ehllo'"
      ]
     },
     "execution_count": 6,
     "metadata": {},
     "output_type": "execute_result"
    }
   ],
   "source": [
    "solution(\"hello\")"
   ]
  },
  {
   "cell_type": "code",
   "execution_count": 5,
   "metadata": {},
   "outputs": [],
   "source": [
    "def solution(s):\n",
    "    counts = [0] * 26\n",
    "\n",
    "    for c in s:\n",
    "        counts[ord(c) - ord(\"a\")] += 1\n",
    "\n",
    "    sorted_str =\"\"\n",
    "    for i in range(26):\n",
    "        sorted_str += chr(i + ord(\"a\")) * counts[i]\n",
    "\n",
    "    return sorted_str"
   ]
  },
  {
   "cell_type": "markdown",
   "metadata": {},
   "source": [
    "병합정렬"
   ]
  },
  {
   "cell_type": "code",
   "execution_count": 12,
   "metadata": {},
   "outputs": [],
   "source": [
    "def solution(arr1, arr2):\n",
    "    i, j = 0, 0\n",
    "    sort_matrix = []\n",
    "    while i < len(arr1) and j < len(arr2):\n",
    "        if arr1[i] <= arr2[j]:\n",
    "            sort_matrix.append(arr1[i])\n",
    "            i += 1\n",
    "        else:\n",
    "            sort_matrix.append(arr2[j])\n",
    "            j += 1\n",
    "    while i < len(arr1):\n",
    "        sort_matrix.append(arr1[i])\n",
    "        i += 1\n",
    "    while j < len(arr2):\n",
    "        sort_matrix.append(arr2[j])\n",
    "        j += 1\n",
    "    return sort_matrix"
   ]
  },
  {
   "cell_type": "code",
   "execution_count": 13,
   "metadata": {},
   "outputs": [
    {
     "data": {
      "text/plain": [
       "[1, 2, 3, 4, 5, 6]"
      ]
     },
     "execution_count": 13,
     "metadata": {},
     "output_type": "execute_result"
    }
   ],
   "source": [
    "solution([1,3,5], [2,4,6])"
   ]
  },
  {
   "cell_type": "markdown",
   "metadata": {},
   "source": [
    "python 정렬 <br>\n",
    "cmp_to_key(lambda a,b : compare(a, b))  <br>\n",
    "compare 리턴값이 양수이면 a, b 자리를 바꿈 <br>\n",
    "compare 리턴값이 음수이면 a, b 자리를 바꾸지않음"
   ]
  },
  {
   "cell_type": "code",
   "execution_count": null,
   "metadata": {},
   "outputs": [],
   "source": [
    "import functools\n",
    "\n",
    "def compare(a, b):\n",
    "    t1 = str(a) + str(b)\n",
    "    t2 = str(b) + str(a)\n",
    "    return (int(t1) > int(t2)) - (int(t1) < int(t2))\n",
    "\n",
    "def solution(numbers):\n",
    "    sorted_nums = sorted(\n",
    "        numbers, key=functools.cmp_to_key(lambda a, b: compare(a, b)), reverse=True\n",
    "    )\n",
    "    answer = \"\".join(str(x) for x in sorted_nums)\n",
    "    return \"0\" if int(answer) == 0 else answer\n"
   ]
  },
  {
   "cell_type": "markdown",
   "metadata": {},
   "source": [
    "문자열 내 마음대로 정렬하기"
   ]
  },
  {
   "cell_type": "code",
   "execution_count": null,
   "metadata": {},
   "outputs": [],
   "source": [
    "def solution(strings, n):\n",
    "    return sorted(strings, key=lambda x: (x[n], x))\n",
    "\n"
   ]
  },
  {
   "cell_type": "markdown",
   "metadata": {},
   "source": [
    "정수 내림차순으로 배치하기"
   ]
  },
  {
   "cell_type": "code",
   "execution_count": null,
   "metadata": {},
   "outputs": [],
   "source": [
    "def solution(n):\n",
    "    n = list(str(n))\n",
    "    nin = sorted(n, key = lambda x: int(x)*(-1))\n",
    "    nin = \"\".join(nin)\n",
    "    return int(nin)"
   ]
  },
  {
   "cell_type": "markdown",
   "metadata": {},
   "source": [
    "k번째 수"
   ]
  },
  {
   "cell_type": "code",
   "execution_count": null,
   "metadata": {},
   "outputs": [],
   "source": [
    "def solution(array, commands):\n",
    "    answer = []\n",
    "    sample = []\n",
    "    for i in commands:\n",
    "        answer.append(sorted(array[i[0]-1:i[1]])[i[2]-1])\n",
    "    return answer"
   ]
  },
  {
   "cell_type": "markdown",
   "metadata": {},
   "source": [
    "가장 큰 수"
   ]
  },
  {
   "cell_type": "code",
   "execution_count": null,
   "metadata": {},
   "outputs": [],
   "source": [
    "import functools\n",
    "\n",
    "def compare(a, b):\n",
    "    t1 = str(a) + str(b)\n",
    "    t2 = str(b) + str(a)\n",
    "    return (int(t1) > int(t2)) - (int(t1) < int(t2))\n",
    "\n",
    "def solution(numbers):\n",
    "    sorted_nums = sorted(\n",
    "        numbers, key=functools.cmp_to_key(lambda a, b: compare(a, b)), reverse=True\n",
    "    )\n",
    "    answer = \"\".join(str(x) for x in sorted_nums)\n",
    "    return \"0\" if int(answer) == 0 else answer\n"
   ]
  },
  {
   "cell_type": "markdown",
   "metadata": {},
   "source": [
    "튜플"
   ]
  },
  {
   "cell_type": "code",
   "execution_count": null,
   "metadata": {},
   "outputs": [],
   "source": [
    "def solution(s):\n",
    "    s = list(s[2:-2].split(\"},{\"))\n",
    "    for i in range(len(s)):\n",
    "        s[i] = list(s[i].split(\",\"))\n",
    "    answer = []\n",
    "    s = sorted(s, key=lambda x: len(x))\n",
    "    for i in s:\n",
    "        for j in i:\n",
    "            if int(j) not in answer:\n",
    "                answer.append(int(j))\n",
    "    \n",
    "    return answer"
   ]
  },
  {
   "cell_type": "markdown",
   "metadata": {},
   "source": [
    "지형이동"
   ]
  },
  {
   "cell_type": "code",
   "execution_count": null,
   "metadata": {},
   "outputs": [],
   "source": [
    "from heapq import heappop, heappush\n",
    "\n",
    "def solution(land, height):\n",
    "    answer = 0\n",
    "    n = len(land)\n",
    "    visited = [[False] * n for _ in range(n)]\n",
    "    q = []\n",
    "    di = [-1, 0, 1, 0]\n",
    "    dj = [0, 1, 0, -1]\n",
    "    heappush(q, [0,0,0])\n",
    "    while q:\n",
    "        cost, x, y = heappop(q)\n",
    "        if not visited[x][y]:\n",
    "            visited[x][y] = True\n",
    "            answer += cost\n",
    "            for i in range(4):\n",
    "                nx, ny = x + di[i], y + dj[i]\n",
    "                if 0<=nx<n and 0<=ny<n:\n",
    "                    new_cost = abs(land[x][y] - land[nx][ny])\n",
    "                    if new_cost > height:\n",
    "                        c = new_cost\n",
    "                    else:\n",
    "                        c = 0\n",
    "                    heappush(q, [c, nx, ny])\n",
    "                \n",
    "    return answer"
   ]
  },
  {
   "cell_type": "markdown",
   "metadata": {},
   "source": []
  },
  {
   "cell_type": "code",
   "execution_count": 2,
   "metadata": {},
   "outputs": [],
   "source": [
    "arr = [\n",
    "    [1,2,3],\n",
    "    [4,0,5],\n",
    "    [6,7,8],\n",
    "]"
   ]
  },
  {
   "cell_type": "code",
   "execution_count": 3,
   "metadata": {},
   "outputs": [
    {
     "data": {
      "text/plain": [
       "2"
      ]
     },
     "execution_count": 3,
     "metadata": {},
     "output_type": "execute_result"
    }
   ],
   "source": [
    "arr[0][1]"
   ]
  },
  {
   "cell_type": "markdown",
   "metadata": {},
   "source": [
    "    배열 회전하기"
   ]
  },
  {
   "cell_type": "code",
   "execution_count": 4,
   "metadata": {},
   "outputs": [],
   "source": [
    "def solution(arr, n):\n",
    "    def rotate_90(arr):\n",
    "        n=len(arr)\n",
    "        rotated_arr = [[0] * n for _ in range(n)]\n",
    "\n",
    "        for i in range(n):\n",
    "            for j in range(n):\n",
    "                rotated_arr[j][n-i-1] = arr[i][j]\n",
    "        return rotated_arr\n",
    "    \n",
    "    rotated_arr = arr.copy()\n",
    "\n",
    "    for _ in range(n):\n",
    "        rotated_arr = rotate_90(rotated_arr)\n",
    "\n",
    "    return rotated_arr"
   ]
  },
  {
   "cell_type": "code",
   "execution_count": 6,
   "metadata": {},
   "outputs": [
    {
     "data": {
      "text/plain": [
       "[[6, 4, 1], [7, 0, 2], [8, 5, 3]]"
      ]
     },
     "execution_count": 6,
     "metadata": {},
     "output_type": "execute_result"
    }
   ],
   "source": [
    "solution(arr, 1)"
   ]
  },
  {
   "cell_type": "markdown",
   "metadata": {},
   "source": [
    "두 행렬을 곱한 후 전치 행렬 만들기\n"
   ]
  },
  {
   "cell_type": "code",
   "execution_count": 23,
   "metadata": {},
   "outputs": [],
   "source": [
    "def solution(matrix1, matrix2):\n",
    "    result = [[0,0,0],[0,0,0],[0,0,0]]\n",
    "    for i in range(len(matrix1)):\n",
    "        for j in range(len(matrix2[0])):\n",
    "            for k in range(len(matrix1[0])):\n",
    "                result[i][j] += matrix1[i][k] * matrix2[k][j]\n",
    "    result1 = [[0,0,0],[0,0,0],[0,0,0]]\n",
    "    for i in range(len(result)):\n",
    "        for j in range(len(result[0])):\n",
    "            result1[j][i]=result[i][j]\n",
    "    return result1"
   ]
  },
  {
   "cell_type": "code",
   "execution_count": 24,
   "metadata": {},
   "outputs": [],
   "source": [
    "m = [\n",
    "    [1,2,3],\n",
    "    [4,5,6],\n",
    "    [7,8,9]\n",
    "]\n",
    "n = [\n",
    "    [9,8,7],\n",
    "    [6,5,4],\n",
    "    [3,2,1]\n",
    "]"
   ]
  },
  {
   "cell_type": "code",
   "execution_count": 25,
   "metadata": {},
   "outputs": [
    {
     "data": {
      "text/plain": [
       "[[30, 84, 138], [24, 69, 114], [18, 54, 90]]"
      ]
     },
     "execution_count": 25,
     "metadata": {},
     "output_type": "execute_result"
    }
   ],
   "source": [
    "solution(m, n)"
   ]
  },
  {
   "cell_type": "markdown",
   "metadata": {},
   "source": [
    "달팽이 수열 만들기 <br>\n",
    "n을 입력받아서 n x n 크기의 2차원 배열을 생성하여 달팽이 수열을 채우는 solution()함수를 구현. 1부터 시작하여 시계 방향 나선형으로 채우는 수열을 말한다.\n"
   ]
  },
  {
   "cell_type": "code",
   "execution_count": 26,
   "metadata": {},
   "outputs": [],
   "source": [
    "def solution(n):\n",
    "    snail_array = [[0] * n for _ in range(n)]\n",
    "\n",
    "    num = 1\n",
    "\n",
    "    start_row, end_row = 0, n-1\n",
    "    start_col, end_col = 0, n-1\n",
    "\n",
    "    while start_row <= end_row and start_col <= end_col:\n",
    "        for i in range(start_col, end_col + 1):\n",
    "            snail_array[start_row][i] = num\n",
    "            num += 1\n",
    "        start_row +=1\n",
    "        for i in range(start_row, end_row + 1):\n",
    "            snail_array[i][end_col] = num\n",
    "            num += 1\n",
    "        end_col +=1\n",
    "\n",
    "        if start_row <= end_row:\n",
    "            for i in range(end_col, start_col - 1, -1):\n",
    "                snail_array[end_row][i] = num\n",
    "                num += 1\n",
    "            end_row -=1\n",
    "\n",
    "        if start_col <= end_col:\n",
    "            for i in range(end_row, start_row - 1, -1):\n",
    "                snail_array[i][start_col] = num\n",
    "                num += 1\n",
    "            start_col += 1\n",
    "\n",
    "    return snail_array\n"
   ]
  },
  {
   "cell_type": "markdown",
   "metadata": {},
   "source": [
    "LCS 길이 계산하기<br>\n",
    "주어진 두 개의 문자열 str1과 str2에 대해 최장 공통 부분 수열의 길이를 계산하는 solution()함수를 구현하세요."
   ]
  },
  {
   "cell_type": "code",
   "execution_count": null,
   "metadata": {},
   "outputs": [],
   "source": [
    "def solution(str1, str2):\n",
    "    m = len(str1)\n",
    "    n = len(str2)\n",
    "    dp = [[0]*(n+1) for _ in range(m+1)]\n",
    "    \n",
    "    for i in range(1, m + 1):\n",
    "        for j in range(1, n + 1):\n",
    "            if str1[i - 1] == str2[j - 1]:\n",
    "                dp[i][j] = dp[i - 1][j - 1] + 1\n",
    "            else:\n",
    "                dp[i][j] = max(dp[i-1][j], dp[i][j-1])\n",
    "\n",
    "    return dp[m][n]"
   ]
  },
  {
   "cell_type": "markdown",
   "metadata": {},
   "source": [
    "LIS 길이 계산하기<br>\n",
    "정수 배열 nums에서 LIS의 길이를 찾는 함수를 작성하세요\n"
   ]
  },
  {
   "cell_type": "code",
   "execution_count": 14,
   "metadata": {},
   "outputs": [],
   "source": [
    "def solution(nums):\n",
    "    n = len(nums)\n",
    "\n",
    "    dp = [1]*n\n",
    "    for i in range(1, n):\n",
    "        for j in range(i):\n",
    "            if nums[i] > nums [j]:\n",
    "                dp[i] = max(dp[i], dp[j]+1)\n",
    "\n",
    "    return max(dp)"
   ]
  },
  {
   "cell_type": "markdown",
   "metadata": {},
   "source": [
    "조약돌 문제<br>\n",
    "3열 N행의 가중치가 있는 배열 arr이 주어집니다. 이 배열에 다음 규칙을 준수하면서 조약돌을 놓을 때 최대 가중치의 합을 반환하는 solution() 함수를 구현하세요. "
   ]
  },
  {
   "cell_type": "markdown",
   "metadata": {},
   "source": [
    "그리디"
   ]
  },
  {
   "cell_type": "markdown",
   "metadata": {},
   "source": [
    "거스름돈 주기<br>\n",
    "화폐단위 [1,10,50,100]"
   ]
  },
  {
   "cell_type": "code",
   "execution_count": 15,
   "metadata": {},
   "outputs": [],
   "source": [
    "def solution(amount):\n",
    "    cash = [1, 10, 50, 100]\n",
    "    cash.sort(reverse=True)\n",
    "\n",
    "    change = []\n",
    "\n",
    "    for i in cash:\n",
    "        while amount >= i:\n",
    "            change.append(i)\n",
    "            amount -= i\n",
    "\n",
    "    return change"
   ]
  },
  {
   "cell_type": "code",
   "execution_count": 16,
   "metadata": {},
   "outputs": [
    {
     "data": {
      "text/plain": [
       "[100, 10, 10, 1, 1, 1]"
      ]
     },
     "execution_count": 16,
     "metadata": {},
     "output_type": "execute_result"
    }
   ],
   "source": [
    "solution(123)"
   ]
  },
  {
   "cell_type": "markdown",
   "metadata": {},
   "source": [
    "부분 배낭 문제"
   ]
  },
  {
   "cell_type": "markdown",
   "metadata": {},
   "source": [
    "무게와 가치가 있는 짐 items와 배낭 weight_limit이 주어질 때 부분 배낭 문제를 푸는 solution함수를 작성\n"
   ]
  },
  {
   "cell_type": "code",
   "execution_count": 29,
   "metadata": {},
   "outputs": [],
   "source": [
    "def solution(items: list[list], weight_limit):\n",
    "    answer = 0\n",
    "    weight_value = [items[i][1]/items[i][0] for i in range(len(items))]\n",
    "    print(weight_value)\n",
    "    for i in range(len(weight_value)):\n",
    "        items[i].append(weight_value[i])\n",
    "    items = sorted(items, reverse=True, key=lambda x: x[2])\n",
    "    print(items)\n",
    "    for item in items:\n",
    "        if weight_limit > item[0]:\n",
    "            answer += item[1]\n",
    "            weight_limit -= item[0]\n",
    "        else:\n",
    "            answer += item[2] * weight_limit\n",
    "            return answer\n",
    "    return answer\n"
   ]
  },
  {
   "cell_type": "code",
   "execution_count": 30,
   "metadata": {},
   "outputs": [
    {
     "name": "stdout",
     "output_type": "stream",
     "text": [
      "[1.9, 1.4285714285714286, 1.6666666666666667]\n",
      "[[10, 19, 1.9], [6, 10, 1.6666666666666667], [7, 10, 1.4285714285714286]]\n"
     ]
    },
    {
     "data": {
      "text/plain": [
       "27.333333333333336"
      ]
     },
     "execution_count": 30,
     "metadata": {},
     "output_type": "execute_result"
    }
   ],
   "source": [
    "solution([[10,19],[7,10],[6,10]], 15)"
   ]
  },
  {
   "cell_type": "markdown",
   "metadata": {},
   "source": [
    "예산"
   ]
  },
  {
   "cell_type": "code",
   "execution_count": null,
   "metadata": {},
   "outputs": [],
   "source": [
    "def solution(d, budget):\n",
    "    answer = 0\n",
    "    d.sort()\n",
    "    for i in d:\n",
    "        if budget-i >= 0:\n",
    "            budget -= i\n",
    "            answer += 1\n",
    "        else:\n",
    "            break\n",
    "    return answer"
   ]
  },
  {
   "cell_type": "markdown",
   "metadata": {},
   "source": [
    "구명보트"
   ]
  },
  {
   "cell_type": "code",
   "execution_count": null,
   "metadata": {},
   "outputs": [],
   "source": [
    "def solution(people, limit):\n",
    "    answer = 0\n",
    "    people.sort()\n",
    "    \n",
    "    start, end = 0, len(people)-1\n",
    "    while start <= end:\n",
    "        if people[end] + people[start] <= limit:\n",
    "            start += 1\n",
    "        end -= 1\n",
    "        answer += 1\n",
    "            \n",
    "        \n",
    "    return answer"
   ]
  },
  {
   "cell_type": "markdown",
   "metadata": {},
   "source": [
    "귤고르기"
   ]
  },
  {
   "cell_type": "code",
   "execution_count": 38,
   "metadata": {},
   "outputs": [],
   "source": [
    "def solution(k, tangerine):\n",
    "    answer = 0\n",
    "    count = {}\n",
    "    for i in tangerine:\n",
    "        if i not in count:\n",
    "            count[i] = 0\n",
    "        count[i] += 1\n",
    "    \n",
    "    count = sorted(count.items(), reverse= True, key = lambda x : x[1])\n",
    "    \n",
    "    for key, value in count:\n",
    "        k -= value\n",
    "        answer += 1\n",
    "        if k <= 0:\n",
    "            break\n",
    "    return answer"
   ]
  },
  {
   "cell_type": "code",
   "execution_count": 39,
   "metadata": {},
   "outputs": [
    {
     "data": {
      "text/plain": [
       "3"
      ]
     },
     "execution_count": 39,
     "metadata": {},
     "output_type": "execute_result"
    }
   ],
   "source": [
    "solution(6, [1, 3, 2, 5, 4, 5, 2, 3])"
   ]
  },
  {
   "cell_type": "code",
   "execution_count": 35,
   "metadata": {},
   "outputs": [],
   "source": [
    "a = [False] * 11\n",
    "\n",
    "a[0] = True"
   ]
  },
  {
   "cell_type": "code",
   "execution_count": 36,
   "metadata": {},
   "outputs": [
    {
     "data": {
      "text/plain": [
       "[True, False, False, False, False, False, False, False, False, False, False]"
      ]
     },
     "execution_count": 36,
     "metadata": {},
     "output_type": "execute_result"
    }
   ],
   "source": [
    "a"
   ]
  },
  {
   "cell_type": "markdown",
   "metadata": {},
   "source": [
    "기지국 설치"
   ]
  },
  {
   "cell_type": "code",
   "execution_count": 40,
   "metadata": {},
   "outputs": [],
   "source": [
    "def solution(n, stations, w):\n",
    "    answer = 0\n",
    "    location = 1\n",
    "    idx= 0 \n",
    "    while location <= n:\n",
    "        if idx < len(stations) and location >= stations[idx] - w:\n",
    "            location = stations[idx] + w + 1\n",
    "            idx += 1\n",
    "        else:\n",
    "            location += 2 * w + 1\n",
    "            answer += 1\n",
    "    return answer"
   ]
  },
  {
   "cell_type": "markdown",
   "metadata": {},
   "source": [
    "SW Expert Academy"
   ]
  },
  {
   "cell_type": "code",
   "execution_count": null,
   "metadata": {},
   "outputs": [],
   "source": [
    "def dfs(num_list, count, memo):\n",
    "    # 숫자 리스트를 문자열로 만들어 메모이제이션을 위한 키를 생성\n",
    "    num_str = ''.join(num_list)\n",
    "    if (num_str, count) in memo:\n",
    "        return memo[(num_str, count)]\n",
    "    \n",
    "    # 교환 횟수가 0이면 현재 숫자판의 값을 반환\n",
    "    if count == 0:\n",
    "        return int(num_str)\n",
    "    \n",
    "    max_value = 0\n",
    "    # 모든 가능한 자리 쌍에 대해 교환을 시도\n",
    "    for i in range(len(num_list)):\n",
    "        for j in range(i + 1, len(num_list)):\n",
    "            # i와 j 자리의 숫자를 교환\n",
    "            num_list[i], num_list[j] = num_list[j], num_list[i]\n",
    "            \n",
    "            # 재귀 호출을 통해 교환 횟수를 하나 줄인 상태로 탐색\n",
    "            max_value = max(max_value, dfs(num_list, count - 1, memo))\n",
    "            \n",
    "            # 원래 상태로 복원\n",
    "            num_list[i], num_list[j] = num_list[j], num_list[i]\n",
    "    \n",
    "    # 메모이제이션에 현재 상태 저장\n",
    "    memo[(num_str, count)] = max_value\n",
    "    return max_value\n",
    "\n",
    "T = int(input())\n",
    "for test_case in range(1, T + 1):\n",
    "    num, count = input().split()\n",
    "    num_list = list(num)\n",
    "    count = int(count)\n",
    "    \n",
    "    # 메모이제이션을 위한 딕셔너리\n",
    "    memo = {}\n",
    "    \n",
    "    # DFS 탐색 시작\n",
    "    max_money = dfs(num_list, count, memo)\n",
    "    print(f\"#{test_case} {max_money}\")\n"
   ]
  },
  {
   "cell_type": "code",
   "execution_count": null,
   "metadata": {},
   "outputs": [],
   "source": [
    "def solve_n_queens(n):\n",
    "    def backtrack(row):\n",
    "        if row == n:  # 모든 퀸을 배치한 경우\n",
    "            return 1\n",
    "        \n",
    "        count = 0\n",
    "        for col in range(n):\n",
    "            # 열과 대각선에 퀸이 있는지 확인\n",
    "            if not cols[col] and not left_diagonals[row + col] and not right_diagonals[row - col + (n - 1)]:\n",
    "                # 현재 위치에 퀸 배치\n",
    "                cols[col] = left_diagonals[row + col] = right_diagonals[row - col + (n - 1)] = True\n",
    "                count += backtrack(row + 1)  # 다음 행으로 이동\n",
    "                # 배치 해제 (백트래킹)\n",
    "                cols[col] = left_diagonals[row + col] = right_diagonals[row - col + (n - 1)] = False\n",
    "        return count\n",
    "\n",
    "    # 퀸의 배치를 기록하는 배열\n",
    "    cols = [False] * n\n",
    "    left_diagonals = [False] * (2 * n - 1)\n",
    "    right_diagonals = [False] * (2 * n - 1)\n",
    "    \n",
    "    return backtrack(0)\n",
    "\n",
    "# 입력 및 출력 처리\n",
    "T = int(input())\n",
    "for test_case in range(1, T + 1):\n",
    "    N = int(input())\n",
    "    result = solve_n_queens(N)\n",
    "    print(f\"#{test_case} {result}\")\n"
   ]
  },
  {
   "cell_type": "code",
   "execution_count": 2,
   "metadata": {},
   "outputs": [
    {
     "name": "stdout",
     "output_type": "stream",
     "text": [
      "#1 92\n"
     ]
    }
   ],
   "source": [
    "def solve_n_queens(n):\n",
    "    def backtrack(row):\n",
    "        if row == n:\n",
    "            return 1\n",
    "        count = 0\n",
    "        for col in range(n):\n",
    "            if not cols[col] and not left[row+col] and not right[row-col]:\n",
    "                cols[col] = left[row+col] = right[row-col] = True\n",
    "                count += backtrack(row+1)\n",
    "                cols[col] = left[row+col] = right[row-col] = False\n",
    "        return count\n",
    "    cols = [False]*n\n",
    "    left = [False]*(2 * n - 1)\n",
    "    right = [False] * (2 * n - 1)\n",
    "    return backtrack(0)\n",
    "T = int(input())\n",
    "for test_case in range(1, T + 1):\n",
    "    N = int(input())\n",
    "    result = solve_n_queens(N)\n",
    "    print(f\"#{test_case} {result}\")"
   ]
  },
  {
   "cell_type": "code",
   "execution_count": 10,
   "metadata": {},
   "outputs": [
    {
     "name": "stdout",
     "output_type": "stream",
     "text": [
      "(100,)\n",
      "(300,)\n",
      "(400,)\n",
      "(500,)\n",
      "(250,)\n",
      "(100, 300)\n",
      "(100, 400)\n",
      "(100, 500)\n",
      "(100, 250)\n",
      "(300, 400)\n",
      "(300, 500)\n",
      "(300, 250)\n",
      "(400, 500)\n",
      "(400, 250)\n",
      "(500, 250)\n",
      "(100, 300, 400)\n",
      "(100, 300, 500)\n",
      "(100, 300, 250)\n",
      "(100, 400, 500)\n",
      "(100, 400, 250)\n",
      "(100, 500, 250)\n",
      "(300, 400, 500)\n",
      "(300, 400, 250)\n",
      "(300, 500, 250)\n",
      "(400, 500, 250)\n",
      "(100, 300, 400, 500)\n",
      "(100, 300, 400, 250)\n",
      "(100, 300, 500, 250)\n",
      "(100, 400, 500, 250)\n",
      "(300, 400, 500, 250)\n",
      "(100, 300, 400, 500, 250)\n",
      "#1 750\n"
     ]
    }
   ],
   "source": [
    "def dfs(index, current_score, current_time):\n",
    "    global max_score\n",
    "    # 현재까지의 시간이 제한 시간을 넘는 경우 탐색 종료\n",
    "    if current_time > L:\n",
    "        return\n",
    "    \n",
    "    # 최대 점수 갱신\n",
    "    max_score = max(max_score, current_score)\n",
    "    \n",
    "    # 모든 점수를 탐색한 경우 종료\n",
    "    if index == N:\n",
    "        return\n",
    "    \n",
    "    # 현재 점수를 선택하지 않는 경우\n",
    "    dfs(index + 1, current_score, current_time)\n",
    "    \n",
    "    # 현재 점수를 선택하는 경우\n",
    "    score, time = score_list[index]\n",
    "    dfs(index + 1, current_score + score, current_time + time)\n",
    "\n",
    "T = int(input())\n",
    "for test_case in range(1, T + 1):\n",
    "    N, L = map(int, input().split())\n",
    "    \n",
    "    # 점수와 시간 정보를 저장하는 리스트\n",
    "    score_list = []\n",
    "    for _ in range(N):\n",
    "        T, K = map(int, input().split())\n",
    "        score_list.append((T, K))\n",
    "    \n",
    "    max_score = 0\n",
    "    \n",
    "    # DFS 탐색 시작\n",
    "    dfs(0, 0, 0)\n",
    "    \n",
    "    print(f'#{test_case} {max_score}')\n"
   ]
  },
  {
   "cell_type": "code",
   "execution_count": 15,
   "metadata": {},
   "outputs": [
    {
     "ename": "ValueError",
     "evalue": "not enough values to unpack (expected 2, got 1)",
     "output_type": "error",
     "traceback": [
      "\u001b[1;31m---------------------------------------------------------------------------\u001b[0m",
      "\u001b[1;31mValueError\u001b[0m                                Traceback (most recent call last)",
      "Cell \u001b[1;32mIn[15], line 3\u001b[0m\n\u001b[0;32m      1\u001b[0m n \u001b[38;5;241m=\u001b[39m \u001b[38;5;28mint\u001b[39m(\u001b[38;5;28minput\u001b[39m())\n\u001b[0;32m      2\u001b[0m \u001b[38;5;28;01mfor\u001b[39;00m idx \u001b[38;5;129;01min\u001b[39;00m \u001b[38;5;28mrange\u001b[39m(n):\n\u001b[1;32m----> 3\u001b[0m     N,M \u001b[38;5;241m=\u001b[39m \u001b[38;5;28mmap\u001b[39m(\u001b[38;5;28mint\u001b[39m, \u001b[38;5;28minput\u001b[39m()\u001b[38;5;241m.\u001b[39msplit())\n\u001b[0;32m      4\u001b[0m     arr \u001b[38;5;241m=\u001b[39m [[\u001b[38;5;241m0\u001b[39m \u001b[38;5;28;01mfor\u001b[39;00m y \u001b[38;5;129;01min\u001b[39;00m \u001b[38;5;28mrange\u001b[39m(M\u001b[38;5;241m+\u001b[39m\u001b[38;5;241m1\u001b[39m)]\u001b[38;5;28;01mfor\u001b[39;00m x \u001b[38;5;129;01min\u001b[39;00m \u001b[38;5;28mrange\u001b[39m(N\u001b[38;5;241m+\u001b[39m\u001b[38;5;241m1\u001b[39m)]\n\u001b[0;32m      5\u001b[0m     scoreList \u001b[38;5;241m=\u001b[39m [\u001b[38;5;241m0\u001b[39m]\n",
      "\u001b[1;31mValueError\u001b[0m: not enough values to unpack (expected 2, got 1)"
     ]
    }
   ],
   "source": [
    "n = int(input())\n",
    "for idx in range(n):\n",
    "    N,M = map(int, input().split())\n",
    "    arr = [[0 for y in range(M+1)]for x in range(N+1)]\n",
    "    scoreList = [0]\n",
    "    calList = [0]\n",
    "    for i in range(N):\n",
    "        score,cal = map(int, input().split())\n",
    "        scoreList.append(score)\n",
    "        calList.append(cal)\n",
    "    for x in range(1,N+1): #햄버거 가치\n",
    "        for y in range(1,M+1): #칼로리 최대 용량\n",
    "            score = scoreList[x]\n",
    "            cal = calList[x]\n",
    "            if cal <= y:\n",
    "                arr[x][y] = max(arr[x-1][y],score+arr[x-1][y-cal])\n",
    "            else :\n",
    "                arr[x][y] = arr[x-1][y]\n",
    "    print(f'#{idx+1} {arr[N][M]}')"
   ]
  },
  {
   "cell_type": "code",
   "execution_count": 23,
   "metadata": {},
   "outputs": [
    {
     "name": "stdout",
     "output_type": "stream",
     "text": [
      "10\n"
     ]
    }
   ],
   "source": [
    "T = int(input())\n",
    "# 여러개의 테스트 케이스가 주어지므로, 각각을 처리합니다.\n",
    "for test_case in range(1, T + 1):\n",
    "    N = int(input())\n",
    "    farm = []\n",
    "    \n",
    "    for _ in range(N):\n",
    "        farm_list = list(input())\n",
    "        farm.append(farm_list)\n",
    "    mid_index = N // 2\n",
    "    score = 0\n",
    "    for i in range(1,mid_index + 1):\n",
    "        for j in range(i,N-i):\n",
    "            score += int(farm[mid_index-i][j])\n",
    "            score += int(farm[mid_index+i][j])\n",
    "    for i in range(N):\n",
    "        score += int(farm[mid_index][i])\n",
    "    print(f'#{test_case} {score}')\n",
    "    \n"
   ]
  },
  {
   "cell_type": "code",
   "execution_count": 20,
   "metadata": {},
   "outputs": [
    {
     "ename": "TypeError",
     "evalue": "unsupported operand type(s) for +: 'int' and 'str'",
     "output_type": "error",
     "traceback": [
      "\u001b[1;31m---------------------------------------------------------------------------\u001b[0m",
      "\u001b[1;31mTypeError\u001b[0m                                 Traceback (most recent call last)",
      "Cell \u001b[1;32mIn[20], line 1\u001b[0m\n\u001b[1;32m----> 1\u001b[0m score \u001b[38;5;241m=\u001b[39m \u001b[38;5;28;43msum\u001b[39;49m\u001b[43m(\u001b[49m\u001b[43mfarm\u001b[49m\u001b[43m[\u001b[49m\u001b[38;5;241;43m1\u001b[39;49m\u001b[43m]\u001b[49m\u001b[43m[\u001b[49m\u001b[43m:\u001b[49m\u001b[43m]\u001b[49m\u001b[43m)\u001b[49m\n",
      "\u001b[1;31mTypeError\u001b[0m: unsupported operand type(s) for +: 'int' and 'str'"
     ]
    }
   ],
   "source": [
    "score = sum(farm[1][:])"
   ]
  },
  {
   "cell_type": "code",
   "execution_count": 27,
   "metadata": {},
   "outputs": [
    {
     "name": "stdout",
     "output_type": "stream",
     "text": [
      "#1 111\n"
     ]
    }
   ],
   "source": [
    "T = int(input())\n",
    "# 여러개의 테스트 케이스가 주어지므로, 각각을 처리합니다.\n",
    "for test_case in range(1, T + 1):\n",
    "    N = int(input())\n",
    "    score = 0\n",
    "    building_list = list(map(int, input().split(\" \")))\n",
    "    i = 2\n",
    "    while i < N-2:\n",
    "        if building_list[i] == max(building_list[i-2:i+3]):\n",
    "            score += building_list[i] - max(max(building_list[i-2:i]), max(building_list[i+1:i+3]))\n",
    "            i += 2\n",
    "        else:\n",
    "            i += 1\n",
    "    print(f'#{test_case} {score}')"
   ]
  },
  {
   "cell_type": "code",
   "execution_count": 29,
   "metadata": {},
   "outputs": [
    {
     "name": "stdout",
     "output_type": "stream",
     "text": [
      "#1 88832\n"
     ]
    }
   ],
   "source": [
    "def dfs(num, count, memo):\n",
    "    num_str = ''.join(num)\n",
    "    if (num_str, count) in memo:\n",
    "        return memo[(num_str, count)]\n",
    "    if count == 0:\n",
    "        return int(num_str)\n",
    "    max_score = 0\n",
    "    for i in range(len(num)):\n",
    "        for j in range(i+1, len(num)):\n",
    "            num[i], num[j] = num[j], num[i]\n",
    "            max_score = max(max_score, dfs(num, count-1, memo))\n",
    "            num[i], num[j] = num[j], num[i]\n",
    "    memo[num_str, count] = max_score\n",
    "    return max_score\n",
    "T = int(input())\n",
    "# 여러개의 테스트 케이스가 주어지므로, 각각을 처리합니다.\n",
    "for test_case in range(1, T + 1):\n",
    "    num, count = input().split()\n",
    "    num = list(num)\n",
    "    count = int(count)\n",
    "    memo = {}\n",
    "    score = dfs(num, count, memo)\n",
    "    print(f'#{test_case} {score}')"
   ]
  },
  {
   "cell_type": "code",
   "execution_count": 15,
   "metadata": {},
   "outputs": [
    {
     "name": "stdout",
     "output_type": "stream",
     "text": [
      "[1, 2, 12, 6, 3, 19, 17, 7, 7, 4, 5, 25, 22, 17, 36, 27, 39, 13, 28, 24, 12, 9, 6, 30, 42, 45, 38, 24, 19, 62, 48, 43, 41, 43, 47, 43, 30, 51, 36, 30, 37, 55, 23, 32, 45, 27, 24, 39, 35, 69, 48, 83, 63, 58, 82, 60, 28, 42, 30, 79, 96, 79, 91, 59, 89, 72, 92, 96, 65, 49, 70, 68, 91, 68, 71, 63, 100, 42, 94, 49, 95, 65, 85, 92, 57, 41, 67, 77, 34, 74, 70, 40, 65, 42, 38, 46, 54, 83, 54, 93]\n",
      "[1, 2, 12, 6, 3, 19, 17, 7, 7, 4, 5, 25, 22, 17, 36, 27, 39, 13, 28, 24, 12, 9, 6, 30, 42, 45, 38, 24, 19, 62, 48, 43, 41, 43, 47, 43, 30, 51, 36, 30, 37, 55, 23, 32, 45, 27, 24, 39, 35, 69, 48, 83, 63, 58, 82, 60, 28, 42, 30, 79, 96, 79, 91, 59, 89, 72, 92, 96, 65, 49, 70, 68, 91, 68, 71, 63, 100, 42, 94, 49, 95, 65, 85, 92, 57, 41, 67, 77, 34, 74, 70, 40, 65, 42, 38, 46, 54, 83, 54, 93]\n",
      "[2, 2, 12, 6, 3, 19, 17, 7, 7, 4, 5, 25, 22, 17, 36, 27, 39, 13, 28, 24, 12, 9, 6, 30, 42, 45, 38, 24, 19, 62, 48, 43, 41, 43, 47, 43, 30, 51, 36, 30, 37, 55, 23, 32, 45, 27, 24, 39, 35, 69, 48, 83, 63, 58, 82, 60, 28, 42, 30, 79, 96, 79, 91, 59, 89, 72, 92, 96, 65, 49, 70, 68, 91, 68, 71, 63, 100, 42, 94, 49, 95, 65, 85, 92, 57, 41, 67, 77, 34, 74, 70, 40, 65, 42, 38, 46, 54, 83, 54, 92]\n",
      "[2, 3, 12, 6, 3, 19, 17, 7, 7, 4, 5, 25, 22, 17, 36, 27, 39, 13, 28, 24, 12, 9, 6, 30, 42, 45, 38, 24, 19, 62, 48, 43, 41, 43, 47, 43, 30, 51, 36, 30, 37, 55, 23, 32, 45, 27, 24, 39, 35, 69, 48, 83, 63, 58, 82, 60, 28, 42, 30, 79, 96, 79, 91, 59, 89, 72, 92, 96, 65, 49, 70, 68, 91, 68, 71, 63, 100, 42, 94, 49, 95, 65, 85, 92, 57, 41, 67, 77, 34, 74, 70, 40, 65, 42, 38, 46, 54, 83, 54, 91]\n",
      "[3, 3, 12, 6, 3, 19, 17, 7, 7, 4, 5, 25, 22, 17, 36, 27, 39, 13, 28, 24, 12, 9, 6, 30, 42, 45, 38, 24, 19, 62, 48, 43, 41, 43, 47, 43, 30, 51, 36, 30, 37, 55, 23, 32, 45, 27, 24, 39, 35, 69, 48, 83, 63, 58, 82, 60, 28, 42, 30, 79, 96, 79, 91, 59, 89, 72, 92, 96, 65, 49, 70, 68, 91, 68, 71, 63, 100, 42, 94, 49, 95, 65, 85, 92, 57, 41, 67, 77, 34, 74, 70, 40, 65, 42, 38, 46, 54, 83, 54, 90]\n",
      "[3, 3, 12, 6, 4, 19, 17, 7, 7, 4, 5, 25, 22, 17, 36, 27, 39, 13, 28, 24, 12, 9, 6, 30, 42, 45, 38, 24, 19, 62, 48, 43, 41, 43, 47, 43, 30, 51, 36, 30, 37, 55, 23, 32, 45, 27, 24, 39, 35, 69, 48, 83, 63, 58, 82, 60, 28, 42, 30, 79, 96, 79, 91, 59, 89, 72, 92, 96, 65, 49, 70, 68, 91, 68, 71, 63, 100, 42, 94, 49, 95, 65, 85, 92, 57, 41, 67, 77, 34, 74, 70, 40, 65, 42, 38, 46, 54, 83, 54, 89]\n",
      "[3, 4, 12, 6, 4, 19, 17, 7, 7, 4, 5, 25, 22, 17, 36, 27, 39, 13, 28, 24, 12, 9, 6, 30, 42, 45, 38, 24, 19, 62, 48, 43, 41, 43, 47, 43, 30, 51, 36, 30, 37, 55, 23, 32, 45, 27, 24, 39, 35, 69, 48, 83, 63, 58, 82, 60, 28, 42, 30, 79, 96, 79, 91, 59, 89, 72, 92, 96, 65, 49, 70, 68, 91, 68, 71, 63, 100, 42, 94, 49, 95, 65, 85, 92, 57, 41, 67, 77, 34, 74, 70, 40, 65, 42, 38, 46, 54, 83, 54, 88]\n",
      "[4, 4, 12, 6, 4, 19, 17, 7, 7, 4, 5, 25, 22, 17, 36, 27, 39, 13, 28, 24, 12, 9, 6, 30, 42, 45, 38, 24, 19, 62, 48, 43, 41, 43, 47, 43, 30, 51, 36, 30, 37, 55, 23, 32, 45, 27, 24, 39, 35, 69, 48, 83, 63, 58, 82, 60, 28, 42, 30, 79, 96, 79, 91, 59, 89, 72, 92, 96, 65, 49, 70, 68, 91, 68, 71, 63, 100, 42, 94, 49, 95, 65, 85, 92, 57, 41, 67, 77, 34, 74, 70, 40, 65, 42, 38, 46, 54, 83, 54, 87]\n",
      "[4, 4, 12, 6, 4, 19, 17, 7, 7, 5, 5, 25, 22, 17, 36, 27, 39, 13, 28, 24, 12, 9, 6, 30, 42, 45, 38, 24, 19, 62, 48, 43, 41, 43, 47, 43, 30, 51, 36, 30, 37, 55, 23, 32, 45, 27, 24, 39, 35, 69, 48, 83, 63, 58, 82, 60, 28, 42, 30, 79, 96, 79, 91, 59, 89, 72, 92, 96, 65, 49, 70, 68, 91, 68, 71, 63, 100, 42, 94, 49, 95, 65, 85, 92, 57, 41, 67, 77, 34, 74, 70, 40, 65, 42, 38, 46, 54, 83, 54, 86]\n",
      "[4, 4, 12, 6, 5, 19, 17, 7, 7, 5, 5, 25, 22, 17, 36, 27, 39, 13, 28, 24, 12, 9, 6, 30, 42, 45, 38, 24, 19, 62, 48, 43, 41, 43, 47, 43, 30, 51, 36, 30, 37, 55, 23, 32, 45, 27, 24, 39, 35, 69, 48, 83, 63, 58, 82, 60, 28, 42, 30, 79, 96, 79, 91, 59, 89, 72, 92, 96, 65, 49, 70, 68, 91, 68, 71, 63, 100, 42, 94, 49, 95, 65, 85, 92, 57, 41, 67, 77, 34, 74, 70, 40, 65, 42, 38, 46, 54, 83, 54, 85]\n",
      "[4, 5, 12, 6, 5, 19, 17, 7, 7, 5, 5, 25, 22, 17, 36, 27, 39, 13, 28, 24, 12, 9, 6, 30, 42, 45, 38, 24, 19, 62, 48, 43, 41, 43, 47, 43, 30, 51, 36, 30, 37, 55, 23, 32, 45, 27, 24, 39, 35, 69, 48, 83, 63, 58, 82, 60, 28, 42, 30, 79, 96, 79, 91, 59, 89, 72, 92, 96, 65, 49, 70, 68, 91, 68, 71, 63, 100, 42, 94, 49, 95, 65, 85, 92, 57, 41, 67, 77, 34, 74, 70, 40, 65, 42, 38, 46, 54, 83, 54, 84]\n",
      "[5, 5, 12, 6, 5, 19, 17, 7, 7, 5, 5, 25, 22, 17, 36, 27, 39, 13, 28, 24, 12, 9, 6, 30, 42, 45, 38, 24, 19, 62, 48, 43, 41, 43, 47, 43, 30, 51, 36, 30, 37, 55, 23, 32, 45, 27, 24, 39, 35, 69, 48, 83, 63, 58, 82, 60, 28, 42, 30, 79, 96, 79, 91, 59, 89, 72, 92, 96, 65, 49, 70, 68, 91, 68, 71, 63, 100, 42, 94, 49, 95, 65, 85, 92, 57, 41, 67, 77, 34, 74, 70, 40, 65, 42, 38, 46, 54, 83, 54, 83]\n",
      "[5, 5, 12, 6, 5, 19, 17, 7, 7, 5, 6, 25, 22, 17, 36, 27, 39, 13, 28, 24, 12, 9, 6, 30, 42, 45, 38, 24, 19, 62, 48, 43, 41, 43, 47, 43, 30, 51, 36, 30, 37, 55, 23, 32, 45, 27, 24, 39, 35, 69, 48, 83, 63, 58, 82, 60, 28, 42, 30, 79, 96, 79, 91, 59, 89, 72, 92, 96, 65, 49, 70, 68, 91, 68, 71, 63, 100, 42, 94, 49, 95, 65, 85, 92, 57, 41, 67, 77, 34, 74, 70, 40, 65, 42, 38, 46, 54, 83, 54, 82]\n",
      "[5, 5, 12, 6, 5, 19, 17, 7, 7, 6, 6, 25, 22, 17, 36, 27, 39, 13, 28, 24, 12, 9, 6, 30, 42, 45, 38, 24, 19, 62, 48, 43, 41, 43, 47, 43, 30, 51, 36, 30, 37, 55, 23, 32, 45, 27, 24, 39, 35, 69, 48, 83, 63, 58, 82, 60, 28, 42, 30, 79, 96, 79, 91, 59, 89, 72, 92, 96, 65, 49, 70, 68, 91, 68, 71, 63, 100, 42, 94, 49, 95, 65, 85, 92, 57, 41, 67, 77, 34, 74, 70, 40, 65, 42, 38, 46, 54, 83, 54, 81]\n",
      "[5, 5, 12, 6, 6, 19, 17, 7, 7, 6, 6, 25, 22, 17, 36, 27, 39, 13, 28, 24, 12, 9, 6, 30, 42, 45, 38, 24, 19, 62, 48, 43, 41, 43, 47, 43, 30, 51, 36, 30, 37, 55, 23, 32, 45, 27, 24, 39, 35, 69, 48, 83, 63, 58, 82, 60, 28, 42, 30, 79, 96, 79, 91, 59, 89, 72, 92, 96, 65, 49, 70, 68, 91, 68, 71, 63, 100, 42, 94, 49, 95, 65, 85, 92, 57, 41, 67, 77, 34, 74, 70, 40, 65, 42, 38, 46, 54, 83, 54, 80]\n",
      "[5, 6, 12, 6, 6, 19, 17, 7, 7, 6, 6, 25, 22, 17, 36, 27, 39, 13, 28, 24, 12, 9, 6, 30, 42, 45, 38, 24, 19, 62, 48, 43, 41, 43, 47, 43, 30, 51, 36, 30, 37, 55, 23, 32, 45, 27, 24, 39, 35, 69, 48, 83, 63, 58, 82, 60, 28, 42, 30, 79, 96, 79, 91, 59, 89, 72, 92, 96, 65, 49, 70, 68, 91, 68, 71, 63, 100, 42, 94, 49, 95, 65, 85, 92, 57, 41, 67, 77, 34, 74, 70, 40, 65, 42, 38, 46, 54, 83, 54, 79]\n",
      "[6, 6, 12, 6, 6, 19, 17, 7, 7, 6, 6, 25, 22, 17, 36, 27, 39, 13, 28, 24, 12, 9, 6, 30, 42, 45, 38, 24, 19, 62, 48, 43, 41, 43, 47, 43, 30, 51, 36, 30, 37, 55, 23, 32, 45, 27, 24, 39, 35, 69, 48, 83, 63, 58, 82, 60, 28, 42, 30, 79, 96, 79, 91, 59, 89, 72, 92, 96, 65, 49, 70, 68, 91, 68, 71, 63, 100, 42, 94, 49, 95, 65, 85, 92, 57, 41, 67, 77, 34, 74, 70, 40, 65, 42, 38, 46, 54, 83, 54, 78]\n",
      "[6, 6, 12, 6, 6, 19, 17, 7, 7, 6, 6, 25, 22, 17, 36, 27, 39, 13, 28, 24, 12, 9, 7, 30, 42, 45, 38, 24, 19, 62, 48, 43, 41, 43, 47, 43, 30, 51, 36, 30, 37, 55, 23, 32, 45, 27, 24, 39, 35, 69, 48, 83, 63, 58, 82, 60, 28, 42, 30, 79, 96, 79, 91, 59, 89, 72, 92, 96, 65, 49, 70, 68, 91, 68, 71, 63, 100, 42, 94, 49, 95, 65, 85, 92, 57, 41, 67, 77, 34, 74, 70, 40, 65, 42, 38, 46, 54, 83, 54, 77]\n",
      "[6, 6, 12, 6, 6, 19, 17, 7, 7, 6, 7, 25, 22, 17, 36, 27, 39, 13, 28, 24, 12, 9, 7, 30, 42, 45, 38, 24, 19, 62, 48, 43, 41, 43, 47, 43, 30, 51, 36, 30, 37, 55, 23, 32, 45, 27, 24, 39, 35, 69, 48, 83, 63, 58, 82, 60, 28, 42, 30, 79, 96, 79, 91, 59, 89, 72, 92, 96, 65, 49, 70, 68, 91, 68, 71, 63, 100, 42, 94, 49, 95, 65, 85, 92, 57, 41, 67, 77, 34, 74, 70, 40, 65, 42, 38, 46, 54, 83, 54, 76]\n",
      "[6, 6, 12, 6, 6, 19, 17, 7, 7, 7, 7, 25, 22, 17, 36, 27, 39, 13, 28, 24, 12, 9, 7, 30, 42, 45, 38, 24, 19, 62, 48, 43, 41, 43, 47, 43, 30, 51, 36, 30, 37, 55, 23, 32, 45, 27, 24, 39, 35, 69, 48, 83, 63, 58, 82, 60, 28, 42, 30, 79, 96, 79, 91, 59, 89, 72, 92, 96, 65, 49, 70, 68, 91, 68, 71, 63, 100, 42, 94, 49, 95, 65, 85, 92, 57, 41, 67, 77, 34, 74, 70, 40, 65, 42, 38, 46, 54, 83, 54, 75]\n",
      "[6, 6, 12, 6, 7, 19, 17, 7, 7, 7, 7, 25, 22, 17, 36, 27, 39, 13, 28, 24, 12, 9, 7, 30, 42, 45, 38, 24, 19, 62, 48, 43, 41, 43, 47, 43, 30, 51, 36, 30, 37, 55, 23, 32, 45, 27, 24, 39, 35, 69, 48, 83, 63, 58, 82, 60, 28, 42, 30, 79, 96, 79, 91, 59, 89, 72, 92, 96, 65, 49, 70, 68, 91, 68, 71, 63, 100, 42, 94, 49, 95, 65, 85, 92, 57, 41, 67, 77, 34, 74, 70, 40, 65, 42, 38, 46, 54, 83, 54, 74]\n",
      "[6, 6, 12, 7, 7, 19, 17, 7, 7, 7, 7, 25, 22, 17, 36, 27, 39, 13, 28, 24, 12, 9, 7, 30, 42, 45, 38, 24, 19, 62, 48, 43, 41, 43, 47, 43, 30, 51, 36, 30, 37, 55, 23, 32, 45, 27, 24, 39, 35, 69, 48, 83, 63, 58, 82, 60, 28, 42, 30, 79, 96, 79, 91, 59, 89, 72, 92, 96, 65, 49, 70, 68, 91, 68, 71, 63, 100, 42, 94, 49, 95, 65, 85, 92, 57, 41, 67, 77, 34, 74, 70, 40, 65, 42, 38, 46, 54, 83, 54, 73]\n",
      "[6, 7, 12, 7, 7, 19, 17, 7, 7, 7, 7, 25, 22, 17, 36, 27, 39, 13, 28, 24, 12, 9, 7, 30, 42, 45, 38, 24, 19, 62, 48, 43, 41, 43, 47, 43, 30, 51, 36, 30, 37, 55, 23, 32, 45, 27, 24, 39, 35, 69, 48, 83, 63, 58, 82, 60, 28, 42, 30, 79, 96, 79, 91, 59, 89, 72, 92, 96, 65, 49, 70, 68, 91, 68, 71, 63, 100, 42, 94, 49, 95, 65, 85, 92, 57, 41, 67, 77, 34, 74, 70, 40, 65, 42, 38, 46, 54, 83, 54, 72]\n",
      "[7, 7, 12, 7, 7, 19, 17, 7, 7, 7, 7, 25, 22, 17, 36, 27, 39, 13, 28, 24, 12, 9, 7, 30, 42, 45, 38, 24, 19, 62, 48, 43, 41, 43, 47, 43, 30, 51, 36, 30, 37, 55, 23, 32, 45, 27, 24, 39, 35, 69, 48, 83, 63, 58, 82, 60, 28, 42, 30, 79, 96, 79, 91, 59, 89, 72, 92, 96, 65, 49, 70, 68, 91, 68, 71, 63, 100, 42, 94, 49, 95, 65, 85, 92, 57, 41, 67, 77, 34, 74, 70, 40, 65, 42, 38, 46, 54, 83, 54, 71]\n",
      "[7, 7, 12, 7, 7, 19, 17, 7, 7, 7, 7, 25, 22, 17, 36, 27, 39, 13, 28, 24, 12, 9, 8, 30, 42, 45, 38, 24, 19, 62, 48, 43, 41, 43, 47, 43, 30, 51, 36, 30, 37, 55, 23, 32, 45, 27, 24, 39, 35, 69, 48, 83, 63, 58, 82, 60, 28, 42, 30, 79, 96, 79, 91, 59, 89, 72, 92, 96, 65, 49, 70, 68, 91, 68, 71, 63, 100, 42, 94, 49, 95, 65, 85, 92, 57, 41, 67, 77, 34, 74, 70, 40, 65, 42, 38, 46, 54, 83, 54, 70]\n",
      "[7, 7, 12, 7, 7, 19, 17, 7, 7, 7, 8, 25, 22, 17, 36, 27, 39, 13, 28, 24, 12, 9, 8, 30, 42, 45, 38, 24, 19, 62, 48, 43, 41, 43, 47, 43, 30, 51, 36, 30, 37, 55, 23, 32, 45, 27, 24, 39, 35, 69, 48, 83, 63, 58, 82, 60, 28, 42, 30, 79, 96, 79, 91, 59, 89, 72, 92, 96, 65, 49, 70, 68, 91, 68, 71, 63, 100, 42, 94, 49, 95, 65, 85, 92, 57, 41, 67, 77, 34, 74, 70, 40, 65, 42, 38, 46, 54, 83, 54, 69]\n",
      "[7, 7, 12, 7, 7, 19, 17, 7, 7, 8, 8, 25, 22, 17, 36, 27, 39, 13, 28, 24, 12, 9, 8, 30, 42, 45, 38, 24, 19, 62, 48, 43, 41, 43, 47, 43, 30, 51, 36, 30, 37, 55, 23, 32, 45, 27, 24, 39, 35, 68, 48, 83, 63, 58, 82, 60, 28, 42, 30, 79, 96, 79, 91, 59, 89, 72, 92, 96, 65, 49, 70, 68, 91, 68, 71, 63, 100, 42, 94, 49, 95, 65, 85, 92, 57, 41, 67, 77, 34, 74, 70, 40, 65, 42, 38, 46, 54, 83, 54, 69]\n",
      "[7, 7, 12, 7, 8, 19, 17, 7, 7, 8, 8, 25, 22, 17, 36, 27, 39, 13, 28, 24, 12, 9, 8, 30, 42, 45, 38, 24, 19, 62, 48, 43, 41, 43, 47, 43, 30, 51, 36, 30, 37, 55, 23, 32, 45, 27, 24, 39, 35, 68, 48, 83, 63, 58, 82, 60, 28, 42, 30, 79, 96, 79, 91, 59, 89, 72, 92, 96, 65, 49, 70, 68, 91, 68, 71, 63, 100, 42, 94, 49, 95, 65, 85, 92, 57, 41, 67, 77, 34, 74, 70, 40, 65, 42, 38, 46, 54, 83, 54, 68]\n",
      "[7, 7, 12, 7, 8, 19, 17, 7, 8, 8, 8, 25, 22, 17, 36, 27, 39, 13, 28, 24, 12, 9, 8, 30, 42, 45, 38, 24, 19, 62, 48, 43, 41, 43, 47, 43, 30, 51, 36, 30, 37, 55, 23, 32, 45, 27, 24, 39, 35, 67, 48, 83, 63, 58, 82, 60, 28, 42, 30, 79, 96, 79, 91, 59, 89, 72, 92, 96, 65, 49, 70, 68, 91, 68, 71, 63, 100, 42, 94, 49, 95, 65, 85, 92, 57, 41, 67, 77, 34, 74, 70, 40, 65, 42, 38, 46, 54, 83, 54, 68]\n",
      "[7, 7, 12, 7, 8, 19, 17, 8, 8, 8, 8, 25, 22, 17, 36, 27, 39, 13, 28, 24, 12, 9, 8, 30, 42, 45, 38, 24, 19, 62, 48, 43, 41, 43, 47, 43, 30, 51, 36, 30, 37, 55, 23, 32, 45, 27, 24, 39, 35, 67, 48, 83, 63, 58, 82, 60, 28, 42, 30, 79, 96, 79, 91, 59, 89, 72, 92, 96, 65, 49, 70, 68, 91, 68, 71, 63, 100, 42, 94, 49, 95, 65, 85, 92, 57, 41, 67, 77, 34, 74, 70, 40, 65, 42, 38, 46, 54, 83, 54, 67]\n",
      "[7, 7, 12, 8, 8, 19, 17, 8, 8, 8, 8, 25, 22, 17, 36, 27, 39, 13, 28, 24, 12, 9, 8, 30, 42, 45, 38, 24, 19, 62, 48, 43, 41, 43, 47, 43, 30, 51, 36, 30, 37, 55, 23, 32, 45, 27, 24, 39, 35, 66, 48, 83, 63, 58, 82, 60, 28, 42, 30, 79, 96, 79, 91, 59, 89, 72, 92, 96, 65, 49, 70, 68, 91, 68, 71, 63, 100, 42, 94, 49, 95, 65, 85, 92, 57, 41, 67, 77, 34, 74, 70, 40, 65, 42, 38, 46, 54, 83, 54, 67]\n",
      "[7, 8, 12, 8, 8, 19, 17, 8, 8, 8, 8, 25, 22, 17, 36, 27, 39, 13, 28, 24, 12, 9, 8, 30, 42, 45, 38, 24, 19, 62, 48, 43, 41, 43, 47, 43, 30, 51, 36, 30, 37, 55, 23, 32, 45, 27, 24, 39, 35, 66, 48, 83, 63, 58, 82, 60, 28, 42, 30, 79, 96, 79, 91, 59, 89, 72, 92, 96, 65, 49, 70, 68, 91, 68, 71, 63, 100, 42, 94, 49, 95, 65, 85, 92, 57, 41, 67, 77, 34, 74, 70, 40, 65, 42, 38, 46, 54, 83, 54, 66]\n",
      "[8, 8, 12, 8, 8, 19, 17, 8, 8, 8, 8, 25, 22, 17, 36, 27, 39, 13, 28, 24, 12, 9, 8, 30, 42, 45, 38, 24, 19, 62, 48, 43, 41, 43, 47, 43, 30, 51, 36, 30, 37, 55, 23, 32, 45, 27, 24, 39, 35, 65, 48, 83, 63, 58, 82, 60, 28, 42, 30, 79, 96, 79, 91, 59, 89, 72, 92, 96, 65, 49, 70, 68, 91, 68, 71, 63, 100, 42, 94, 49, 95, 65, 85, 92, 57, 41, 67, 77, 34, 74, 70, 40, 65, 42, 38, 46, 54, 83, 54, 66]\n",
      "[8, 8, 12, 8, 8, 19, 17, 8, 8, 8, 8, 25, 22, 17, 36, 27, 39, 13, 28, 24, 12, 9, 9, 30, 42, 45, 38, 24, 19, 62, 48, 43, 41, 43, 47, 43, 30, 51, 36, 30, 37, 55, 23, 32, 45, 27, 24, 39, 35, 65, 48, 83, 63, 58, 82, 60, 28, 42, 30, 79, 96, 79, 91, 59, 89, 72, 92, 96, 65, 49, 70, 68, 91, 68, 71, 63, 100, 42, 94, 49, 95, 65, 85, 92, 57, 41, 67, 77, 34, 74, 70, 40, 65, 42, 38, 46, 54, 83, 54, 65]\n",
      "[8, 8, 12, 8, 8, 19, 17, 8, 8, 8, 9, 25, 22, 17, 36, 27, 39, 13, 28, 24, 12, 9, 9, 30, 42, 45, 38, 24, 19, 62, 48, 43, 41, 43, 47, 43, 30, 51, 36, 30, 37, 55, 23, 32, 45, 27, 24, 39, 35, 64, 48, 83, 63, 58, 82, 60, 28, 42, 30, 79, 96, 79, 91, 59, 89, 72, 92, 96, 65, 49, 70, 68, 91, 68, 71, 63, 100, 42, 94, 49, 95, 65, 85, 92, 57, 41, 67, 77, 34, 74, 70, 40, 65, 42, 38, 46, 54, 83, 54, 65]\n",
      "[8, 8, 12, 8, 8, 19, 17, 8, 8, 9, 9, 25, 22, 17, 36, 27, 39, 13, 28, 24, 12, 9, 9, 30, 42, 45, 38, 24, 19, 62, 48, 43, 41, 43, 47, 43, 30, 51, 36, 30, 37, 55, 23, 32, 45, 27, 24, 39, 35, 64, 48, 83, 63, 58, 82, 60, 28, 42, 30, 79, 96, 79, 91, 59, 89, 72, 92, 96, 65, 49, 70, 68, 91, 68, 71, 63, 100, 42, 94, 49, 95, 65, 85, 92, 57, 41, 67, 77, 34, 74, 70, 40, 65, 42, 38, 46, 54, 83, 54, 64]\n",
      "[8, 8, 12, 8, 9, 19, 17, 8, 8, 9, 9, 25, 22, 17, 36, 27, 39, 13, 28, 24, 12, 9, 9, 30, 42, 45, 38, 24, 19, 62, 48, 43, 41, 43, 47, 43, 30, 51, 36, 30, 37, 55, 23, 32, 45, 27, 24, 39, 35, 63, 48, 83, 63, 58, 82, 60, 28, 42, 30, 79, 96, 79, 91, 59, 89, 72, 92, 96, 65, 49, 70, 68, 91, 68, 71, 63, 100, 42, 94, 49, 95, 65, 85, 92, 57, 41, 67, 77, 34, 74, 70, 40, 65, 42, 38, 46, 54, 83, 54, 64]\n",
      "[8, 8, 12, 8, 9, 19, 17, 8, 9, 9, 9, 25, 22, 17, 36, 27, 39, 13, 28, 24, 12, 9, 9, 30, 42, 45, 38, 24, 19, 62, 48, 43, 41, 43, 47, 43, 30, 51, 36, 30, 37, 55, 23, 32, 45, 27, 24, 39, 35, 63, 48, 83, 63, 58, 82, 60, 28, 42, 30, 79, 96, 79, 91, 59, 89, 72, 92, 96, 65, 49, 70, 68, 91, 68, 71, 63, 100, 42, 94, 49, 95, 65, 85, 92, 57, 41, 67, 77, 34, 74, 70, 40, 65, 42, 38, 46, 54, 83, 54, 63]\n",
      "[8, 8, 12, 8, 9, 19, 17, 9, 9, 9, 9, 25, 22, 17, 36, 27, 39, 13, 28, 24, 12, 9, 9, 30, 42, 45, 38, 24, 19, 62, 48, 43, 41, 43, 47, 43, 30, 51, 36, 30, 37, 55, 23, 32, 45, 27, 24, 39, 35, 62, 48, 83, 63, 58, 82, 60, 28, 42, 30, 79, 96, 79, 91, 59, 89, 72, 92, 96, 65, 49, 70, 68, 91, 68, 71, 63, 100, 42, 94, 49, 95, 65, 85, 92, 57, 41, 67, 77, 34, 74, 70, 40, 65, 42, 38, 46, 54, 83, 54, 63]\n",
      "[8, 8, 12, 9, 9, 19, 17, 9, 9, 9, 9, 25, 22, 17, 36, 27, 39, 13, 28, 24, 12, 9, 9, 30, 42, 45, 38, 24, 19, 62, 48, 43, 41, 43, 47, 43, 30, 51, 36, 30, 37, 55, 23, 32, 45, 27, 24, 39, 35, 62, 48, 83, 63, 58, 82, 60, 28, 42, 30, 79, 96, 79, 91, 59, 89, 72, 92, 96, 65, 49, 70, 68, 91, 68, 71, 63, 100, 42, 94, 49, 95, 65, 85, 92, 57, 41, 67, 77, 34, 74, 70, 40, 65, 42, 38, 46, 54, 83, 54, 62]\n",
      "[8, 9, 12, 9, 9, 19, 17, 9, 9, 9, 9, 25, 22, 17, 36, 27, 39, 13, 28, 24, 12, 9, 9, 30, 42, 45, 38, 24, 19, 62, 48, 43, 41, 43, 47, 43, 30, 51, 36, 30, 37, 55, 23, 32, 45, 27, 24, 39, 35, 61, 48, 83, 63, 58, 82, 60, 28, 42, 30, 79, 96, 79, 91, 59, 89, 72, 92, 96, 65, 49, 70, 68, 91, 68, 71, 63, 100, 42, 94, 49, 95, 65, 85, 92, 57, 41, 67, 77, 34, 74, 70, 40, 65, 42, 38, 46, 54, 83, 54, 62]\n",
      "[9, 9, 12, 9, 9, 19, 17, 9, 9, 9, 9, 25, 22, 17, 36, 27, 39, 13, 28, 24, 12, 9, 9, 30, 42, 45, 38, 24, 19, 62, 48, 43, 41, 43, 47, 43, 30, 51, 36, 30, 37, 55, 23, 32, 45, 27, 24, 39, 35, 61, 48, 83, 63, 58, 82, 60, 28, 42, 30, 79, 96, 79, 91, 59, 89, 72, 92, 96, 65, 49, 70, 68, 91, 68, 71, 63, 100, 42, 94, 49, 95, 65, 85, 92, 57, 41, 67, 77, 34, 74, 70, 40, 65, 42, 38, 46, 54, 83, 54, 61]\n",
      "[9, 9, 12, 9, 9, 19, 17, 9, 9, 9, 9, 25, 22, 17, 36, 27, 39, 13, 28, 24, 12, 9, 10, 30, 42, 45, 38, 24, 19, 62, 48, 43, 41, 43, 47, 43, 30, 51, 36, 30, 37, 55, 23, 32, 45, 27, 24, 39, 35, 60, 48, 83, 63, 58, 82, 60, 28, 42, 30, 79, 96, 79, 91, 59, 89, 72, 92, 96, 65, 49, 70, 68, 91, 68, 71, 63, 100, 42, 94, 49, 95, 65, 85, 92, 57, 41, 67, 77, 34, 74, 70, 40, 65, 42, 38, 46, 54, 83, 54, 61]\n",
      "[9, 9, 12, 9, 9, 19, 17, 9, 9, 9, 9, 25, 22, 17, 36, 27, 39, 13, 28, 24, 12, 10, 10, 30, 42, 45, 38, 24, 19, 62, 48, 43, 41, 43, 47, 43, 30, 51, 36, 30, 37, 55, 23, 32, 45, 27, 24, 39, 35, 60, 48, 83, 63, 58, 82, 60, 28, 42, 30, 79, 96, 79, 91, 59, 89, 72, 92, 96, 65, 49, 70, 68, 91, 68, 71, 63, 100, 42, 94, 49, 95, 65, 85, 92, 57, 41, 67, 77, 34, 74, 70, 40, 65, 42, 38, 46, 54, 83, 54, 60]\n",
      "[9, 9, 12, 9, 9, 19, 17, 9, 9, 9, 10, 25, 22, 17, 36, 27, 39, 13, 28, 24, 12, 10, 10, 30, 42, 45, 38, 24, 19, 62, 48, 43, 41, 43, 47, 43, 30, 51, 36, 30, 37, 55, 23, 32, 45, 27, 24, 39, 35, 59, 48, 83, 63, 58, 82, 60, 28, 42, 30, 79, 96, 79, 91, 59, 89, 72, 92, 96, 65, 49, 70, 68, 91, 68, 71, 63, 100, 42, 94, 49, 95, 65, 85, 92, 57, 41, 67, 77, 34, 74, 70, 40, 65, 42, 38, 46, 54, 83, 54, 60]\n",
      "[9, 9, 12, 9, 9, 19, 17, 9, 9, 10, 10, 25, 22, 17, 36, 27, 39, 13, 28, 24, 12, 10, 10, 30, 42, 45, 38, 24, 19, 62, 48, 43, 41, 43, 47, 43, 30, 51, 36, 30, 37, 55, 23, 32, 45, 27, 24, 39, 35, 59, 48, 83, 63, 58, 82, 60, 28, 42, 30, 79, 96, 79, 91, 59, 89, 72, 92, 96, 65, 49, 70, 68, 91, 68, 71, 63, 100, 42, 94, 49, 95, 65, 85, 92, 57, 41, 67, 77, 34, 74, 70, 40, 65, 42, 38, 46, 54, 83, 54, 59]\n",
      "[9, 9, 12, 9, 10, 19, 17, 9, 9, 10, 10, 25, 22, 17, 36, 27, 39, 13, 28, 24, 12, 10, 10, 30, 42, 45, 38, 24, 19, 62, 48, 43, 41, 43, 47, 43, 30, 51, 36, 30, 37, 55, 23, 32, 45, 27, 24, 39, 35, 58, 48, 83, 63, 58, 82, 60, 28, 42, 30, 79, 96, 79, 91, 59, 89, 72, 92, 96, 65, 49, 70, 68, 91, 68, 71, 63, 100, 42, 94, 49, 95, 65, 85, 92, 57, 41, 67, 77, 34, 74, 70, 40, 65, 42, 38, 46, 54, 83, 54, 59]\n",
      "[9, 9, 12, 9, 10, 19, 17, 9, 10, 10, 10, 25, 22, 17, 36, 27, 39, 13, 28, 24, 12, 10, 10, 30, 42, 45, 38, 24, 19, 62, 48, 43, 41, 43, 47, 43, 30, 51, 36, 30, 37, 55, 23, 32, 45, 27, 24, 39, 35, 58, 48, 83, 63, 58, 82, 60, 28, 42, 30, 79, 96, 79, 91, 59, 89, 72, 92, 96, 65, 49, 70, 68, 91, 68, 71, 63, 100, 42, 94, 49, 95, 65, 85, 92, 57, 41, 67, 77, 34, 74, 70, 40, 65, 42, 38, 46, 54, 83, 54, 58]\n",
      "[9, 9, 12, 9, 10, 19, 17, 10, 10, 10, 10, 25, 22, 17, 36, 27, 39, 13, 28, 24, 12, 10, 10, 30, 42, 45, 38, 24, 19, 62, 48, 43, 41, 43, 47, 43, 30, 51, 36, 30, 37, 55, 23, 32, 45, 27, 24, 39, 35, 57, 48, 83, 63, 58, 82, 60, 28, 42, 30, 79, 96, 79, 91, 59, 89, 72, 92, 96, 65, 49, 70, 68, 91, 68, 71, 63, 100, 42, 94, 49, 95, 65, 85, 92, 57, 41, 67, 77, 34, 74, 70, 40, 65, 42, 38, 46, 54, 83, 54, 58]\n",
      "[9, 9, 12, 10, 10, 19, 17, 10, 10, 10, 10, 25, 22, 17, 36, 27, 39, 13, 28, 24, 12, 10, 10, 30, 42, 45, 38, 24, 19, 62, 48, 43, 41, 43, 47, 43, 30, 51, 36, 30, 37, 55, 23, 32, 45, 27, 24, 39, 35, 57, 48, 83, 63, 58, 82, 60, 28, 42, 30, 79, 96, 79, 91, 59, 89, 72, 92, 96, 65, 49, 70, 68, 91, 68, 71, 63, 100, 42, 94, 49, 95, 65, 85, 92, 57, 41, 67, 77, 34, 74, 70, 40, 65, 42, 38, 46, 54, 83, 54, 57]\n",
      "[9, 10, 12, 10, 10, 19, 17, 10, 10, 10, 10, 25, 22, 17, 36, 27, 39, 13, 28, 24, 12, 10, 10, 30, 42, 45, 38, 24, 19, 62, 48, 43, 41, 43, 47, 43, 30, 51, 36, 30, 37, 55, 23, 32, 45, 27, 24, 39, 35, 56, 48, 83, 63, 58, 82, 60, 28, 42, 30, 79, 96, 79, 91, 59, 89, 72, 92, 96, 65, 49, 70, 68, 91, 68, 71, 63, 100, 42, 94, 49, 95, 65, 85, 92, 57, 41, 67, 77, 34, 74, 70, 40, 65, 42, 38, 46, 54, 83, 54, 57]\n",
      "[10, 10, 12, 10, 10, 19, 17, 10, 10, 10, 10, 25, 22, 17, 36, 27, 39, 13, 28, 24, 12, 10, 10, 30, 42, 45, 38, 24, 19, 62, 48, 43, 41, 43, 47, 43, 30, 51, 36, 30, 37, 55, 23, 32, 45, 27, 24, 39, 35, 56, 48, 83, 63, 58, 82, 60, 28, 42, 30, 79, 96, 79, 91, 59, 89, 72, 92, 96, 65, 49, 70, 68, 91, 68, 71, 63, 100, 42, 94, 49, 95, 65, 85, 92, 57, 41, 67, 77, 34, 74, 70, 40, 65, 42, 38, 46, 54, 83, 54, 56]\n",
      "[10, 10, 12, 10, 10, 19, 17, 10, 10, 10, 10, 25, 22, 17, 36, 27, 39, 13, 28, 24, 12, 10, 11, 30, 42, 45, 38, 24, 19, 62, 48, 43, 41, 43, 47, 43, 30, 51, 36, 30, 37, 55, 23, 32, 45, 27, 24, 39, 35, 55, 48, 83, 63, 58, 82, 60, 28, 42, 30, 79, 96, 79, 91, 59, 89, 72, 92, 96, 65, 49, 70, 68, 91, 68, 71, 63, 100, 42, 94, 49, 95, 65, 85, 92, 57, 41, 67, 77, 34, 74, 70, 40, 65, 42, 38, 46, 54, 83, 54, 56]\n",
      "[10, 10, 12, 10, 10, 19, 17, 10, 10, 10, 10, 25, 22, 17, 36, 27, 39, 13, 28, 24, 12, 11, 11, 30, 42, 45, 38, 24, 19, 62, 48, 43, 41, 43, 47, 43, 30, 51, 36, 30, 37, 55, 23, 32, 45, 27, 24, 39, 35, 55, 48, 83, 63, 58, 82, 60, 28, 42, 30, 79, 96, 79, 91, 59, 89, 72, 92, 96, 65, 49, 70, 68, 91, 68, 71, 63, 100, 42, 94, 49, 95, 65, 85, 92, 57, 41, 67, 77, 34, 74, 70, 40, 65, 42, 38, 46, 54, 83, 54, 55]\n",
      "[10, 10, 12, 10, 10, 19, 17, 10, 10, 10, 11, 25, 22, 17, 36, 27, 39, 13, 28, 24, 12, 11, 11, 30, 42, 45, 38, 24, 19, 62, 48, 43, 41, 43, 47, 43, 30, 51, 36, 30, 37, 55, 23, 32, 45, 27, 24, 39, 35, 54, 48, 83, 63, 58, 82, 60, 28, 42, 30, 79, 96, 79, 91, 59, 89, 72, 92, 96, 65, 49, 70, 68, 91, 68, 71, 63, 100, 42, 94, 49, 95, 65, 85, 92, 57, 41, 67, 77, 34, 74, 70, 40, 65, 42, 38, 46, 54, 83, 54, 55]\n",
      "[10, 10, 12, 10, 10, 19, 17, 10, 10, 11, 11, 25, 22, 17, 36, 27, 39, 13, 28, 24, 12, 11, 11, 30, 42, 45, 38, 24, 19, 62, 48, 43, 41, 43, 47, 43, 30, 51, 36, 30, 37, 55, 23, 32, 45, 27, 24, 39, 35, 54, 48, 83, 63, 58, 82, 60, 28, 42, 30, 79, 96, 79, 91, 59, 89, 72, 92, 96, 65, 49, 70, 68, 91, 68, 71, 63, 100, 42, 94, 49, 95, 65, 85, 92, 57, 41, 67, 77, 34, 74, 70, 40, 65, 42, 38, 46, 54, 83, 54, 54]\n",
      "[10, 10, 12, 10, 11, 19, 17, 10, 10, 11, 11, 25, 22, 17, 36, 27, 39, 13, 28, 24, 12, 11, 11, 30, 42, 45, 38, 24, 19, 62, 48, 43, 41, 43, 47, 43, 30, 51, 36, 30, 37, 55, 23, 32, 45, 27, 24, 39, 35, 53, 48, 83, 63, 58, 82, 60, 28, 42, 30, 79, 96, 79, 91, 59, 89, 72, 92, 96, 65, 49, 70, 68, 91, 68, 71, 63, 100, 42, 94, 49, 95, 65, 85, 92, 57, 41, 67, 77, 34, 74, 70, 40, 65, 42, 38, 46, 54, 83, 54, 54]\n",
      "[10, 10, 12, 10, 11, 19, 17, 10, 11, 11, 11, 25, 22, 17, 36, 27, 39, 13, 28, 24, 12, 11, 11, 30, 42, 45, 38, 24, 19, 62, 48, 43, 41, 43, 47, 43, 30, 51, 36, 30, 37, 55, 23, 32, 45, 27, 24, 39, 35, 53, 48, 83, 63, 58, 82, 60, 28, 42, 30, 79, 96, 79, 91, 59, 89, 72, 92, 96, 65, 49, 70, 68, 91, 68, 71, 63, 100, 42, 94, 49, 95, 65, 85, 92, 57, 41, 67, 77, 34, 74, 70, 40, 65, 42, 38, 46, 54, 83, 54, 53]\n",
      "[10, 10, 12, 10, 11, 19, 17, 11, 11, 11, 11, 25, 22, 17, 36, 27, 39, 13, 28, 24, 12, 11, 11, 30, 42, 45, 38, 24, 19, 62, 48, 43, 41, 43, 47, 43, 30, 51, 36, 30, 37, 55, 23, 32, 45, 27, 24, 39, 35, 52, 48, 83, 63, 58, 82, 60, 28, 42, 30, 79, 96, 79, 91, 59, 89, 72, 92, 96, 65, 49, 70, 68, 91, 68, 71, 63, 100, 42, 94, 49, 95, 65, 85, 92, 57, 41, 67, 77, 34, 74, 70, 40, 65, 42, 38, 46, 54, 83, 54, 53]\n",
      "[10, 10, 12, 11, 11, 19, 17, 11, 11, 11, 11, 25, 22, 17, 36, 27, 39, 13, 28, 24, 12, 11, 11, 30, 42, 45, 38, 24, 19, 62, 48, 43, 41, 43, 47, 43, 30, 51, 36, 30, 37, 55, 23, 32, 45, 27, 24, 39, 35, 52, 48, 83, 63, 58, 82, 60, 28, 42, 30, 79, 96, 79, 91, 59, 89, 72, 92, 96, 65, 49, 70, 68, 91, 68, 71, 63, 100, 42, 94, 49, 95, 65, 85, 92, 57, 41, 67, 77, 34, 74, 70, 40, 65, 42, 38, 46, 54, 83, 54, 52]\n",
      "[10, 11, 12, 11, 11, 19, 17, 11, 11, 11, 11, 25, 22, 17, 36, 27, 39, 13, 28, 24, 12, 11, 11, 30, 42, 45, 38, 24, 19, 62, 48, 43, 41, 43, 47, 43, 30, 51, 36, 30, 37, 55, 23, 32, 45, 27, 24, 39, 35, 51, 48, 83, 63, 58, 82, 60, 28, 42, 30, 79, 96, 79, 91, 59, 89, 72, 92, 96, 65, 49, 70, 68, 91, 68, 71, 63, 100, 42, 94, 49, 95, 65, 85, 92, 57, 41, 67, 77, 34, 74, 70, 40, 65, 42, 38, 46, 54, 83, 54, 52]\n",
      "[11, 11, 12, 11, 11, 19, 17, 11, 11, 11, 11, 25, 22, 17, 36, 27, 39, 13, 28, 24, 12, 11, 11, 30, 42, 45, 38, 24, 19, 62, 48, 43, 41, 43, 47, 43, 30, 51, 36, 30, 37, 55, 23, 32, 45, 27, 24, 39, 35, 51, 48, 83, 63, 58, 82, 60, 28, 42, 30, 79, 96, 79, 91, 59, 89, 72, 92, 96, 65, 49, 70, 68, 91, 68, 71, 63, 100, 42, 94, 49, 95, 65, 85, 92, 57, 41, 67, 77, 34, 74, 70, 40, 65, 42, 38, 46, 54, 83, 54, 51]\n",
      "[11, 11, 12, 11, 11, 19, 17, 11, 11, 11, 11, 25, 22, 17, 36, 27, 39, 13, 28, 24, 12, 11, 12, 30, 42, 45, 38, 24, 19, 62, 48, 43, 41, 43, 47, 43, 30, 51, 36, 30, 37, 55, 23, 32, 45, 27, 24, 39, 35, 50, 48, 83, 63, 58, 82, 60, 28, 42, 30, 79, 96, 79, 91, 59, 89, 72, 92, 96, 65, 49, 70, 68, 91, 68, 71, 63, 100, 42, 94, 49, 95, 65, 85, 92, 57, 41, 67, 77, 34, 74, 70, 40, 65, 42, 38, 46, 54, 83, 54, 51]\n",
      "[11, 11, 12, 11, 11, 19, 17, 11, 11, 11, 11, 25, 22, 17, 36, 27, 39, 13, 28, 24, 12, 12, 12, 30, 42, 45, 38, 24, 19, 62, 48, 43, 41, 43, 47, 43, 30, 51, 36, 30, 37, 55, 23, 32, 45, 27, 24, 39, 35, 50, 48, 83, 63, 58, 82, 60, 28, 42, 30, 79, 96, 79, 91, 59, 89, 72, 92, 96, 65, 49, 70, 68, 91, 68, 71, 63, 100, 42, 94, 49, 95, 65, 85, 92, 57, 41, 67, 77, 34, 74, 70, 40, 65, 42, 38, 46, 54, 83, 54, 50]\n",
      "[11, 11, 12, 11, 11, 19, 17, 11, 11, 11, 12, 25, 22, 17, 36, 27, 39, 13, 28, 24, 12, 12, 12, 30, 42, 45, 38, 24, 19, 62, 48, 43, 41, 43, 47, 43, 30, 51, 36, 30, 37, 55, 23, 32, 45, 27, 24, 39, 35, 49, 48, 83, 63, 58, 82, 60, 28, 42, 30, 79, 96, 79, 91, 59, 89, 72, 92, 96, 65, 49, 70, 68, 91, 68, 71, 63, 100, 42, 94, 49, 95, 65, 85, 92, 57, 41, 67, 77, 34, 74, 70, 40, 65, 42, 38, 46, 54, 83, 54, 50]\n",
      "[11, 11, 12, 11, 11, 19, 17, 11, 11, 12, 12, 25, 22, 17, 36, 27, 39, 13, 28, 24, 12, 12, 12, 30, 42, 45, 38, 24, 19, 62, 48, 43, 41, 43, 47, 43, 30, 51, 36, 30, 37, 55, 23, 32, 45, 27, 24, 39, 35, 49, 48, 83, 63, 58, 82, 60, 28, 42, 30, 79, 96, 79, 91, 59, 89, 72, 92, 96, 65, 49, 70, 68, 91, 68, 71, 63, 100, 42, 94, 49, 95, 65, 85, 92, 57, 41, 67, 77, 34, 74, 70, 40, 65, 42, 38, 46, 54, 83, 54, 49]\n",
      "[11, 11, 12, 11, 12, 19, 17, 11, 11, 12, 12, 25, 22, 17, 36, 27, 39, 13, 28, 24, 12, 12, 12, 30, 42, 45, 38, 24, 19, 62, 48, 43, 41, 43, 47, 43, 30, 51, 36, 30, 37, 55, 23, 32, 45, 27, 24, 39, 35, 48, 48, 83, 63, 58, 82, 60, 28, 42, 30, 79, 96, 79, 91, 59, 89, 72, 92, 96, 65, 49, 70, 68, 91, 68, 71, 63, 100, 42, 94, 49, 95, 65, 85, 92, 57, 41, 67, 77, 34, 74, 70, 40, 65, 42, 38, 46, 54, 83, 54, 49]\n",
      "[11, 11, 12, 11, 12, 19, 17, 11, 12, 12, 12, 25, 22, 17, 36, 27, 39, 13, 28, 24, 12, 12, 12, 30, 42, 45, 38, 24, 19, 62, 48, 43, 41, 43, 47, 43, 30, 51, 36, 30, 37, 55, 23, 32, 45, 27, 24, 39, 35, 48, 48, 83, 63, 58, 82, 60, 28, 42, 30, 79, 96, 79, 91, 59, 89, 72, 92, 96, 65, 49, 70, 68, 91, 68, 71, 63, 100, 42, 94, 49, 95, 65, 85, 92, 57, 41, 67, 77, 34, 74, 70, 40, 65, 42, 38, 46, 54, 83, 54, 48]\n",
      "[11, 11, 12, 11, 12, 19, 17, 12, 12, 12, 12, 25, 22, 17, 36, 27, 39, 13, 28, 24, 12, 12, 12, 30, 42, 45, 38, 24, 19, 62, 48, 43, 41, 43, 47, 43, 30, 51, 36, 30, 37, 55, 23, 32, 45, 27, 24, 39, 35, 47, 48, 83, 63, 58, 82, 60, 28, 42, 30, 79, 96, 79, 91, 59, 89, 72, 92, 96, 65, 49, 70, 68, 91, 68, 71, 63, 100, 42, 94, 49, 95, 65, 85, 92, 57, 41, 67, 77, 34, 74, 70, 40, 65, 42, 38, 46, 54, 83, 54, 48]\n",
      "[11, 11, 12, 12, 12, 19, 17, 12, 12, 12, 12, 25, 22, 17, 36, 27, 39, 13, 28, 24, 12, 12, 12, 30, 42, 45, 38, 24, 19, 62, 48, 43, 41, 43, 47, 43, 30, 51, 36, 30, 37, 55, 23, 32, 45, 27, 24, 39, 35, 47, 48, 83, 63, 58, 82, 60, 28, 42, 30, 79, 96, 79, 91, 59, 89, 72, 92, 96, 65, 49, 70, 68, 91, 68, 71, 63, 100, 42, 94, 49, 95, 65, 85, 92, 57, 41, 67, 77, 34, 74, 70, 40, 65, 42, 38, 46, 54, 83, 54, 47]\n",
      "[11, 12, 12, 12, 12, 19, 17, 12, 12, 12, 12, 25, 22, 17, 36, 27, 39, 13, 28, 24, 12, 12, 12, 30, 42, 45, 38, 24, 19, 62, 48, 43, 41, 43, 47, 43, 30, 51, 36, 30, 37, 55, 23, 32, 45, 27, 24, 39, 35, 46, 48, 83, 63, 58, 82, 60, 28, 42, 30, 79, 96, 79, 91, 59, 89, 72, 92, 96, 65, 49, 70, 68, 91, 68, 71, 63, 100, 42, 94, 49, 95, 65, 85, 92, 57, 41, 67, 77, 34, 74, 70, 40, 65, 42, 38, 46, 54, 83, 54, 47]\n",
      "[12, 12, 12, 12, 12, 19, 17, 12, 12, 12, 12, 25, 22, 17, 36, 27, 39, 13, 28, 24, 12, 12, 12, 30, 42, 45, 38, 24, 19, 62, 48, 43, 41, 43, 47, 43, 30, 51, 36, 30, 37, 55, 23, 32, 45, 27, 24, 39, 35, 46, 48, 83, 63, 58, 82, 60, 28, 42, 30, 79, 96, 79, 91, 59, 89, 72, 92, 96, 65, 49, 70, 68, 91, 68, 71, 63, 100, 42, 94, 49, 95, 65, 85, 92, 57, 41, 67, 77, 34, 74, 70, 40, 65, 42, 38, 46, 54, 83, 54, 46]\n",
      "[12, 12, 13, 12, 12, 19, 17, 12, 12, 12, 12, 25, 22, 17, 36, 27, 39, 13, 28, 24, 12, 12, 12, 30, 42, 45, 38, 24, 19, 62, 48, 43, 41, 43, 47, 43, 30, 51, 36, 30, 37, 55, 23, 32, 45, 27, 24, 39, 35, 45, 48, 83, 63, 58, 82, 60, 28, 42, 30, 79, 96, 79, 91, 59, 89, 72, 92, 96, 65, 49, 70, 68, 91, 68, 71, 63, 100, 42, 94, 49, 95, 65, 85, 92, 57, 41, 67, 77, 34, 74, 70, 40, 65, 42, 38, 46, 54, 83, 54, 46]\n",
      "[12, 12, 13, 12, 12, 19, 17, 12, 12, 12, 12, 25, 22, 17, 36, 27, 39, 13, 28, 24, 12, 12, 13, 30, 42, 45, 38, 24, 19, 62, 48, 43, 41, 43, 47, 43, 30, 51, 36, 30, 37, 55, 23, 32, 45, 27, 24, 39, 35, 45, 48, 83, 63, 58, 82, 60, 28, 42, 30, 79, 96, 79, 91, 59, 89, 72, 92, 96, 65, 49, 70, 68, 91, 68, 71, 63, 100, 42, 94, 49, 95, 65, 85, 92, 57, 41, 67, 77, 34, 74, 70, 40, 65, 42, 38, 46, 54, 83, 54, 45]\n",
      "[12, 12, 13, 12, 12, 19, 17, 12, 12, 12, 12, 25, 22, 17, 36, 27, 39, 13, 28, 24, 12, 13, 13, 30, 42, 45, 38, 24, 19, 62, 48, 43, 41, 43, 47, 43, 30, 51, 36, 30, 37, 55, 23, 32, 45, 27, 24, 39, 35, 44, 48, 83, 63, 58, 82, 60, 28, 42, 30, 79, 96, 79, 91, 59, 89, 72, 92, 96, 65, 49, 70, 68, 91, 68, 71, 63, 100, 42, 94, 49, 95, 65, 85, 92, 57, 41, 67, 77, 34, 74, 70, 40, 65, 42, 38, 46, 54, 83, 54, 45]\n",
      "[12, 12, 13, 12, 12, 19, 17, 12, 12, 12, 13, 25, 22, 17, 36, 27, 39, 13, 28, 24, 12, 13, 13, 30, 42, 45, 38, 24, 19, 62, 48, 43, 41, 43, 47, 43, 30, 51, 36, 30, 37, 55, 23, 32, 45, 27, 24, 39, 35, 44, 48, 83, 63, 58, 82, 60, 28, 42, 30, 79, 96, 79, 91, 59, 89, 72, 92, 96, 65, 49, 70, 68, 91, 68, 71, 63, 100, 42, 94, 49, 95, 65, 85, 92, 57, 41, 67, 77, 34, 74, 70, 40, 65, 42, 38, 46, 54, 83, 54, 44]\n",
      "[12, 12, 13, 12, 12, 19, 17, 12, 12, 12, 13, 25, 22, 17, 36, 27, 39, 13, 28, 24, 13, 13, 13, 30, 42, 45, 38, 24, 19, 62, 48, 43, 41, 43, 47, 43, 30, 51, 36, 30, 37, 55, 23, 32, 45, 27, 24, 39, 35, 43, 48, 83, 63, 58, 82, 60, 28, 42, 30, 79, 96, 79, 91, 59, 89, 72, 92, 96, 65, 49, 70, 68, 91, 68, 71, 63, 100, 42, 94, 49, 95, 65, 85, 92, 57, 41, 67, 77, 34, 74, 70, 40, 65, 42, 38, 46, 54, 83, 54, 44]\n",
      "[12, 12, 13, 12, 12, 19, 17, 12, 12, 13, 13, 25, 22, 17, 36, 27, 39, 13, 28, 24, 13, 13, 13, 30, 42, 45, 38, 24, 19, 62, 48, 43, 41, 43, 47, 43, 30, 51, 36, 30, 37, 55, 23, 32, 45, 27, 24, 39, 35, 43, 48, 83, 63, 58, 82, 60, 28, 42, 30, 79, 96, 79, 91, 59, 89, 72, 92, 96, 65, 49, 70, 68, 91, 68, 71, 63, 100, 42, 94, 49, 95, 65, 85, 92, 57, 41, 67, 77, 34, 74, 70, 40, 65, 42, 38, 46, 54, 83, 54, 43]\n",
      "[12, 12, 13, 12, 13, 19, 17, 12, 12, 13, 13, 25, 22, 17, 36, 27, 39, 13, 28, 24, 13, 13, 13, 30, 42, 45, 38, 24, 19, 62, 48, 43, 41, 43, 47, 43, 30, 51, 36, 30, 37, 55, 23, 32, 45, 27, 24, 39, 35, 42, 48, 83, 63, 58, 82, 60, 28, 42, 30, 79, 96, 79, 91, 59, 89, 72, 92, 96, 65, 49, 70, 68, 91, 68, 71, 63, 100, 42, 94, 49, 95, 65, 85, 92, 57, 41, 67, 77, 34, 74, 70, 40, 65, 42, 38, 46, 54, 83, 54, 43]\n",
      "[12, 12, 13, 12, 13, 19, 17, 12, 13, 13, 13, 25, 22, 17, 36, 27, 39, 13, 28, 24, 13, 13, 13, 30, 42, 45, 38, 24, 19, 62, 48, 43, 41, 43, 47, 43, 30, 51, 36, 30, 37, 55, 23, 32, 45, 27, 24, 39, 35, 42, 48, 83, 63, 58, 82, 60, 28, 42, 30, 79, 96, 79, 91, 59, 89, 72, 92, 96, 65, 49, 70, 68, 91, 68, 71, 63, 100, 42, 94, 49, 95, 65, 85, 92, 57, 41, 67, 77, 34, 74, 70, 40, 65, 42, 38, 46, 54, 83, 54, 42]\n",
      "[12, 12, 13, 12, 13, 19, 17, 13, 13, 13, 13, 25, 22, 17, 36, 27, 39, 13, 28, 24, 13, 13, 13, 30, 41, 45, 38, 24, 19, 62, 48, 43, 41, 43, 47, 43, 30, 51, 36, 30, 37, 55, 23, 32, 45, 27, 24, 39, 35, 42, 48, 83, 63, 58, 82, 60, 28, 42, 30, 79, 96, 79, 91, 59, 89, 72, 92, 96, 65, 49, 70, 68, 91, 68, 71, 63, 100, 42, 94, 49, 95, 65, 85, 92, 57, 41, 67, 77, 34, 74, 70, 40, 65, 42, 38, 46, 54, 83, 54, 42]\n",
      "[12, 12, 13, 13, 13, 19, 17, 13, 13, 13, 13, 25, 22, 17, 36, 27, 39, 13, 28, 24, 13, 13, 13, 30, 41, 45, 38, 24, 19, 62, 48, 43, 41, 43, 47, 43, 30, 51, 36, 30, 37, 55, 23, 32, 45, 27, 24, 39, 35, 41, 48, 83, 63, 58, 82, 60, 28, 42, 30, 79, 96, 79, 91, 59, 89, 72, 92, 96, 65, 49, 70, 68, 91, 68, 71, 63, 100, 42, 94, 49, 95, 65, 85, 92, 57, 41, 67, 77, 34, 74, 70, 40, 65, 42, 38, 46, 54, 83, 54, 42]\n",
      "[12, 13, 13, 13, 13, 19, 17, 13, 13, 13, 13, 25, 22, 17, 36, 27, 39, 13, 28, 24, 13, 13, 13, 30, 41, 45, 38, 24, 19, 62, 48, 43, 41, 43, 47, 43, 30, 51, 36, 30, 37, 55, 23, 32, 45, 27, 24, 39, 35, 41, 48, 83, 63, 58, 82, 60, 28, 42, 30, 79, 96, 79, 91, 59, 89, 72, 92, 96, 65, 49, 70, 68, 91, 68, 71, 63, 100, 42, 94, 49, 95, 65, 85, 92, 57, 41, 67, 77, 34, 74, 70, 40, 65, 42, 38, 46, 54, 83, 54, 41]\n",
      "[13, 13, 13, 13, 13, 19, 17, 13, 13, 13, 13, 25, 22, 17, 36, 27, 39, 13, 28, 24, 13, 13, 13, 30, 40, 45, 38, 24, 19, 62, 48, 43, 41, 43, 47, 43, 30, 51, 36, 30, 37, 55, 23, 32, 45, 27, 24, 39, 35, 41, 48, 83, 63, 58, 82, 60, 28, 42, 30, 79, 96, 79, 91, 59, 89, 72, 92, 96, 65, 49, 70, 68, 91, 68, 71, 63, 100, 42, 94, 49, 95, 65, 85, 92, 57, 41, 67, 77, 34, 74, 70, 40, 65, 42, 38, 46, 54, 83, 54, 41]\n",
      "[13, 13, 14, 13, 13, 19, 17, 13, 13, 13, 13, 25, 22, 17, 36, 27, 39, 13, 28, 24, 13, 13, 13, 30, 40, 45, 38, 24, 19, 62, 48, 43, 41, 43, 47, 43, 30, 51, 36, 30, 37, 55, 23, 32, 45, 27, 24, 39, 35, 40, 48, 83, 63, 58, 82, 60, 28, 42, 30, 79, 96, 79, 91, 59, 89, 72, 92, 96, 65, 49, 70, 68, 91, 68, 71, 63, 100, 42, 94, 49, 95, 65, 85, 92, 57, 41, 67, 77, 34, 74, 70, 40, 65, 42, 38, 46, 54, 83, 54, 41]\n",
      "[13, 13, 14, 13, 13, 19, 17, 13, 13, 13, 13, 25, 22, 17, 36, 27, 39, 13, 28, 24, 13, 13, 14, 30, 40, 45, 38, 24, 19, 62, 48, 43, 41, 43, 47, 43, 30, 51, 36, 30, 37, 55, 23, 32, 45, 27, 24, 39, 35, 40, 48, 83, 63, 58, 82, 60, 28, 42, 30, 79, 96, 79, 91, 59, 89, 72, 92, 96, 65, 49, 70, 68, 91, 68, 71, 63, 100, 42, 94, 49, 95, 65, 85, 92, 57, 41, 67, 77, 34, 74, 70, 40, 65, 42, 38, 46, 54, 83, 54, 40]\n",
      "[13, 13, 14, 13, 13, 19, 17, 13, 13, 13, 13, 25, 22, 17, 36, 27, 39, 13, 28, 24, 13, 14, 14, 30, 39, 45, 38, 24, 19, 62, 48, 43, 41, 43, 47, 43, 30, 51, 36, 30, 37, 55, 23, 32, 45, 27, 24, 39, 35, 40, 48, 83, 63, 58, 82, 60, 28, 42, 30, 79, 96, 79, 91, 59, 89, 72, 92, 96, 65, 49, 70, 68, 91, 68, 71, 63, 100, 42, 94, 49, 95, 65, 85, 92, 57, 41, 67, 77, 34, 74, 70, 40, 65, 42, 38, 46, 54, 83, 54, 40]\n",
      "[13, 13, 14, 13, 13, 19, 17, 13, 13, 13, 14, 25, 22, 17, 36, 27, 39, 13, 28, 24, 13, 14, 14, 30, 39, 45, 38, 24, 19, 62, 48, 43, 41, 43, 47, 43, 30, 51, 36, 30, 37, 55, 23, 32, 45, 27, 24, 39, 35, 39, 48, 83, 63, 58, 82, 60, 28, 42, 30, 79, 96, 79, 91, 59, 89, 72, 92, 96, 65, 49, 70, 68, 91, 68, 71, 63, 100, 42, 94, 49, 95, 65, 85, 92, 57, 41, 67, 77, 34, 74, 70, 40, 65, 42, 38, 46, 54, 83, 54, 40]\n",
      "[13, 13, 14, 13, 13, 19, 17, 13, 13, 13, 14, 25, 22, 17, 36, 27, 39, 13, 28, 24, 14, 14, 14, 30, 39, 45, 38, 24, 19, 62, 48, 43, 41, 43, 47, 43, 30, 51, 36, 30, 37, 55, 23, 32, 45, 27, 24, 39, 35, 39, 48, 83, 63, 58, 82, 60, 28, 42, 30, 79, 96, 79, 91, 59, 89, 72, 92, 96, 65, 49, 70, 68, 91, 68, 71, 63, 100, 42, 94, 49, 95, 65, 85, 92, 57, 41, 67, 77, 34, 74, 70, 40, 65, 42, 38, 46, 54, 83, 54, 39]\n",
      "[13, 13, 14, 13, 13, 19, 17, 13, 13, 14, 14, 25, 22, 17, 36, 27, 39, 13, 28, 24, 14, 14, 14, 30, 38, 45, 38, 24, 19, 62, 48, 43, 41, 43, 47, 43, 30, 51, 36, 30, 37, 55, 23, 32, 45, 27, 24, 39, 35, 39, 48, 83, 63, 58, 82, 60, 28, 42, 30, 79, 96, 79, 91, 59, 89, 72, 92, 96, 65, 49, 70, 68, 91, 68, 71, 63, 100, 42, 94, 49, 95, 65, 85, 92, 57, 41, 67, 77, 34, 74, 70, 40, 65, 42, 38, 46, 54, 83, 54, 39]\n",
      "[13, 13, 14, 13, 14, 19, 17, 13, 13, 14, 14, 25, 22, 17, 36, 27, 39, 13, 28, 24, 14, 14, 14, 30, 38, 45, 38, 24, 19, 62, 48, 43, 41, 43, 47, 43, 30, 51, 36, 30, 37, 55, 23, 32, 45, 27, 24, 39, 35, 38, 48, 83, 63, 58, 82, 60, 28, 42, 30, 79, 96, 79, 91, 59, 89, 72, 92, 96, 65, 49, 70, 68, 91, 68, 71, 63, 100, 42, 94, 49, 95, 65, 85, 92, 57, 41, 67, 77, 34, 74, 70, 40, 65, 42, 38, 46, 54, 83, 54, 39]\n",
      "[13, 13, 14, 13, 14, 19, 17, 13, 13, 14, 14, 25, 22, 17, 36, 27, 39, 14, 28, 24, 14, 14, 14, 30, 38, 45, 38, 24, 19, 62, 48, 43, 41, 43, 47, 43, 30, 51, 36, 30, 37, 55, 23, 32, 45, 27, 24, 39, 35, 38, 48, 83, 63, 58, 82, 60, 28, 42, 30, 79, 96, 79, 91, 59, 89, 72, 92, 96, 65, 49, 70, 68, 91, 68, 71, 63, 100, 42, 94, 49, 95, 65, 85, 92, 57, 41, 67, 77, 34, 74, 70, 40, 65, 42, 38, 46, 54, 83, 54, 38]\n",
      "[13, 13, 14, 13, 14, 19, 17, 13, 14, 14, 14, 25, 22, 17, 36, 27, 39, 14, 28, 24, 14, 14, 14, 30, 37, 45, 38, 24, 19, 62, 48, 43, 41, 43, 47, 43, 30, 51, 36, 30, 37, 55, 23, 32, 45, 27, 24, 39, 35, 38, 48, 83, 63, 58, 82, 60, 28, 42, 30, 79, 96, 79, 91, 59, 89, 72, 92, 96, 65, 49, 70, 68, 91, 68, 71, 63, 100, 42, 94, 49, 95, 65, 85, 92, 57, 41, 67, 77, 34, 74, 70, 40, 65, 42, 38, 46, 54, 83, 54, 38]\n",
      "[13, 13, 14, 13, 14, 19, 17, 14, 14, 14, 14, 25, 22, 17, 36, 27, 39, 14, 28, 24, 14, 14, 14, 30, 37, 45, 38, 24, 19, 62, 48, 43, 41, 43, 47, 43, 30, 51, 36, 30, 37, 55, 23, 32, 45, 27, 24, 39, 35, 37, 48, 83, 63, 58, 82, 60, 28, 42, 30, 79, 96, 79, 91, 59, 89, 72, 92, 96, 65, 49, 70, 68, 91, 68, 71, 63, 100, 42, 94, 49, 95, 65, 85, 92, 57, 41, 67, 77, 34, 74, 70, 40, 65, 42, 38, 46, 54, 83, 54, 38]\n",
      "[13, 13, 14, 14, 14, 19, 17, 14, 14, 14, 14, 25, 22, 17, 36, 27, 39, 14, 28, 24, 14, 14, 14, 30, 37, 45, 38, 24, 19, 62, 48, 43, 41, 43, 47, 43, 30, 51, 36, 30, 37, 55, 23, 32, 45, 27, 24, 39, 35, 37, 48, 83, 63, 58, 82, 60, 28, 42, 30, 79, 96, 79, 91, 59, 89, 72, 92, 96, 65, 49, 70, 68, 91, 68, 71, 63, 100, 42, 94, 49, 95, 65, 85, 92, 57, 41, 67, 77, 34, 74, 70, 40, 65, 42, 38, 46, 54, 83, 54, 37]\n",
      "[13, 14, 14, 14, 14, 19, 17, 14, 14, 14, 14, 25, 22, 17, 36, 27, 39, 14, 28, 24, 14, 14, 14, 30, 36, 45, 38, 24, 19, 62, 48, 43, 41, 43, 47, 43, 30, 51, 36, 30, 37, 55, 23, 32, 45, 27, 24, 39, 35, 37, 48, 83, 63, 58, 82, 60, 28, 42, 30, 79, 96, 79, 91, 59, 89, 72, 92, 96, 65, 49, 70, 68, 91, 68, 71, 63, 100, 42, 94, 49, 95, 65, 85, 92, 57, 41, 67, 77, 34, 74, 70, 40, 65, 42, 38, 46, 54, 83, 54, 37]\n",
      "[14, 14, 14, 14, 14, 19, 17, 14, 14, 14, 14, 25, 22, 17, 36, 27, 39, 14, 28, 24, 14, 14, 14, 30, 36, 45, 38, 24, 19, 62, 48, 43, 41, 43, 47, 43, 30, 51, 36, 30, 37, 55, 23, 32, 45, 27, 24, 39, 35, 36, 48, 83, 63, 58, 82, 60, 28, 42, 30, 79, 96, 79, 91, 59, 89, 72, 92, 96, 65, 49, 70, 68, 91, 68, 71, 63, 100, 42, 94, 49, 95, 65, 85, 92, 57, 41, 67, 77, 34, 74, 70, 40, 65, 42, 38, 46, 54, 83, 54, 37]\n",
      "[14, 14, 15, 14, 14, 19, 17, 14, 14, 14, 14, 25, 22, 17, 36, 27, 39, 14, 28, 24, 14, 14, 14, 30, 36, 45, 38, 24, 19, 62, 48, 43, 41, 43, 47, 43, 30, 51, 36, 30, 37, 55, 23, 32, 45, 27, 24, 39, 35, 36, 48, 83, 63, 58, 82, 60, 28, 42, 30, 79, 96, 79, 91, 59, 89, 72, 92, 96, 65, 49, 70, 68, 91, 68, 71, 63, 100, 42, 94, 49, 95, 65, 85, 92, 57, 41, 67, 77, 34, 74, 70, 40, 65, 42, 38, 46, 54, 83, 54, 36]\n",
      "[14, 14, 15, 14, 14, 19, 17, 14, 14, 14, 14, 25, 22, 17, 36, 27, 39, 14, 28, 24, 14, 14, 15, 30, 35, 45, 38, 24, 19, 62, 48, 43, 41, 43, 47, 43, 30, 51, 36, 30, 37, 55, 23, 32, 45, 27, 24, 39, 35, 36, 48, 83, 63, 58, 82, 60, 28, 42, 30, 79, 96, 79, 91, 59, 89, 72, 92, 96, 65, 49, 70, 68, 91, 68, 71, 63, 100, 42, 94, 49, 95, 65, 85, 92, 57, 41, 67, 77, 34, 74, 70, 40, 65, 42, 38, 46, 54, 83, 54, 36]\n",
      "[14, 14, 15, 14, 14, 19, 17, 14, 14, 14, 14, 25, 22, 17, 36, 27, 39, 14, 28, 24, 14, 15, 15, 30, 35, 45, 38, 24, 19, 62, 48, 43, 41, 43, 47, 43, 30, 51, 36, 30, 37, 55, 23, 32, 45, 27, 24, 39, 35, 35, 48, 83, 63, 58, 82, 60, 28, 42, 30, 79, 96, 79, 91, 59, 89, 72, 92, 96, 65, 49, 70, 68, 91, 68, 71, 63, 100, 42, 94, 49, 95, 65, 85, 92, 57, 41, 67, 77, 34, 74, 70, 40, 65, 42, 38, 46, 54, 83, 54, 36]\n",
      "[14, 14, 15, 14, 14, 19, 17, 14, 14, 14, 15, 25, 22, 17, 36, 27, 39, 14, 28, 24, 14, 15, 15, 30, 35, 45, 38, 24, 19, 62, 48, 43, 41, 43, 47, 43, 30, 51, 36, 30, 37, 55, 23, 32, 45, 27, 24, 39, 35, 35, 48, 83, 63, 58, 82, 60, 28, 42, 30, 79, 96, 79, 91, 59, 89, 72, 92, 96, 65, 49, 70, 68, 91, 68, 71, 63, 100, 42, 94, 49, 95, 65, 85, 92, 57, 41, 67, 77, 34, 74, 70, 40, 65, 42, 38, 46, 54, 83, 54, 35]\n",
      "[14, 14, 15, 14, 14, 19, 17, 14, 14, 14, 15, 25, 22, 17, 36, 27, 39, 14, 28, 24, 15, 15, 15, 30, 34, 45, 38, 24, 19, 62, 48, 43, 41, 43, 47, 43, 30, 51, 36, 30, 37, 55, 23, 32, 45, 27, 24, 39, 35, 35, 48, 83, 63, 58, 82, 60, 28, 42, 30, 79, 96, 79, 91, 59, 89, 72, 92, 96, 65, 49, 70, 68, 91, 68, 71, 63, 100, 42, 94, 49, 95, 65, 85, 92, 57, 41, 67, 77, 34, 74, 70, 40, 65, 42, 38, 46, 54, 83, 54, 35]\n",
      "[14, 14, 15, 14, 14, 19, 17, 14, 14, 15, 15, 25, 22, 17, 36, 27, 39, 14, 28, 24, 15, 15, 15, 30, 34, 45, 38, 24, 19, 62, 48, 43, 41, 43, 47, 43, 30, 51, 36, 30, 37, 55, 23, 32, 45, 27, 24, 39, 35, 34, 48, 83, 63, 58, 82, 60, 28, 42, 30, 79, 96, 79, 91, 59, 89, 72, 92, 96, 65, 49, 70, 68, 91, 68, 71, 63, 100, 42, 94, 49, 95, 65, 85, 92, 57, 41, 67, 77, 34, 74, 70, 40, 65, 42, 38, 46, 54, 83, 54, 35]\n",
      "[14, 14, 15, 14, 15, 19, 17, 14, 14, 15, 15, 25, 22, 17, 36, 27, 39, 14, 28, 24, 15, 15, 15, 30, 34, 45, 38, 24, 19, 62, 48, 43, 41, 43, 47, 43, 30, 51, 36, 30, 37, 55, 23, 32, 45, 27, 24, 39, 35, 34, 48, 83, 63, 58, 82, 60, 28, 42, 30, 79, 96, 79, 91, 59, 89, 72, 92, 96, 65, 49, 70, 68, 91, 68, 71, 63, 100, 42, 94, 49, 95, 65, 85, 92, 57, 41, 67, 77, 34, 74, 70, 40, 65, 42, 38, 46, 54, 83, 54, 34]\n",
      "[14, 14, 15, 14, 15, 19, 17, 14, 14, 15, 15, 25, 22, 17, 36, 27, 39, 15, 28, 24, 15, 15, 15, 30, 33, 45, 38, 24, 19, 62, 48, 43, 41, 43, 47, 43, 30, 51, 36, 30, 37, 55, 23, 32, 45, 27, 24, 39, 35, 34, 48, 83, 63, 58, 82, 60, 28, 42, 30, 79, 96, 79, 91, 59, 89, 72, 92, 96, 65, 49, 70, 68, 91, 68, 71, 63, 100, 42, 94, 49, 95, 65, 85, 92, 57, 41, 67, 77, 34, 74, 70, 40, 65, 42, 38, 46, 54, 83, 54, 34]\n",
      "[14, 14, 15, 14, 15, 19, 17, 14, 15, 15, 15, 25, 22, 17, 36, 27, 39, 15, 28, 24, 15, 15, 15, 30, 33, 45, 38, 24, 19, 62, 48, 43, 41, 43, 47, 43, 30, 51, 36, 30, 37, 55, 23, 32, 45, 27, 24, 39, 35, 33, 48, 83, 63, 58, 82, 60, 28, 42, 30, 79, 96, 79, 91, 59, 89, 72, 92, 96, 65, 49, 70, 68, 91, 68, 71, 63, 100, 42, 94, 49, 95, 65, 85, 92, 57, 41, 67, 77, 34, 74, 70, 40, 65, 42, 38, 46, 54, 83, 54, 34]\n",
      "[14, 14, 15, 14, 15, 19, 17, 15, 15, 15, 15, 25, 22, 17, 36, 27, 39, 15, 28, 24, 15, 15, 15, 30, 33, 45, 38, 24, 19, 62, 48, 43, 41, 43, 47, 43, 30, 51, 36, 30, 37, 55, 23, 32, 45, 27, 24, 39, 35, 33, 48, 83, 63, 58, 82, 60, 28, 42, 30, 79, 96, 79, 91, 59, 89, 72, 92, 96, 65, 49, 70, 68, 91, 68, 71, 63, 100, 42, 94, 49, 95, 65, 85, 92, 57, 41, 67, 77, 34, 74, 70, 40, 65, 42, 38, 46, 54, 83, 54, 33]\n",
      "[14, 14, 15, 15, 15, 19, 17, 15, 15, 15, 15, 25, 22, 17, 36, 27, 39, 15, 28, 24, 15, 15, 15, 30, 32, 45, 38, 24, 19, 62, 48, 43, 41, 43, 47, 43, 30, 51, 36, 30, 37, 55, 23, 32, 45, 27, 24, 39, 35, 33, 48, 83, 63, 58, 82, 60, 28, 42, 30, 79, 96, 79, 91, 59, 89, 72, 92, 96, 65, 49, 70, 68, 91, 68, 71, 63, 100, 42, 94, 49, 95, 65, 85, 92, 57, 41, 67, 77, 34, 74, 70, 40, 65, 42, 38, 46, 54, 83, 54, 33]\n",
      "[14, 15, 15, 15, 15, 19, 17, 15, 15, 15, 15, 25, 22, 17, 36, 27, 39, 15, 28, 24, 15, 15, 15, 30, 32, 45, 38, 24, 19, 62, 48, 43, 41, 43, 47, 43, 30, 51, 36, 30, 37, 55, 23, 32, 45, 27, 24, 39, 35, 32, 48, 83, 63, 58, 82, 60, 28, 42, 30, 79, 96, 79, 91, 59, 89, 72, 92, 96, 65, 49, 70, 68, 91, 68, 71, 63, 100, 42, 94, 49, 95, 65, 85, 92, 57, 41, 67, 77, 34, 74, 70, 40, 65, 42, 38, 46, 54, 83, 54, 33]\n",
      "[15, 15, 15, 15, 15, 19, 17, 15, 15, 15, 15, 25, 22, 17, 36, 27, 39, 15, 28, 24, 15, 15, 15, 30, 32, 45, 38, 24, 19, 62, 48, 43, 41, 43, 47, 43, 30, 51, 36, 30, 37, 55, 23, 32, 45, 27, 24, 39, 35, 32, 48, 83, 63, 58, 82, 60, 28, 42, 30, 79, 96, 79, 91, 59, 89, 72, 92, 96, 65, 49, 70, 68, 91, 68, 71, 63, 100, 42, 94, 49, 95, 65, 85, 92, 57, 41, 67, 77, 34, 74, 70, 40, 65, 42, 38, 46, 54, 83, 54, 32]\n",
      "[15, 15, 16, 15, 15, 19, 17, 15, 15, 15, 15, 25, 22, 17, 36, 27, 39, 15, 28, 24, 15, 15, 15, 30, 31, 45, 38, 24, 19, 62, 48, 43, 41, 43, 47, 43, 30, 51, 36, 30, 37, 55, 23, 32, 45, 27, 24, 39, 35, 32, 48, 83, 63, 58, 82, 60, 28, 42, 30, 79, 96, 79, 91, 59, 89, 72, 92, 96, 65, 49, 70, 68, 91, 68, 71, 63, 100, 42, 94, 49, 95, 65, 85, 92, 57, 41, 67, 77, 34, 74, 70, 40, 65, 42, 38, 46, 54, 83, 54, 32]\n",
      "[15, 15, 16, 15, 15, 19, 17, 15, 15, 15, 15, 25, 22, 17, 36, 27, 39, 15, 28, 24, 15, 15, 16, 30, 31, 45, 38, 24, 19, 62, 48, 43, 41, 43, 47, 43, 30, 51, 36, 30, 37, 55, 23, 32, 45, 27, 24, 39, 35, 31, 48, 83, 63, 58, 82, 60, 28, 42, 30, 79, 96, 79, 91, 59, 89, 72, 92, 96, 65, 49, 70, 68, 91, 68, 71, 63, 100, 42, 94, 49, 95, 65, 85, 92, 57, 41, 67, 77, 34, 74, 70, 40, 65, 42, 38, 46, 54, 83, 54, 32]\n",
      "[15, 15, 16, 15, 15, 19, 17, 15, 15, 15, 15, 25, 22, 17, 36, 27, 39, 15, 28, 24, 15, 16, 16, 30, 31, 45, 38, 24, 19, 62, 48, 43, 41, 43, 47, 43, 30, 51, 36, 30, 37, 55, 23, 32, 45, 27, 24, 39, 35, 31, 48, 83, 63, 58, 82, 60, 28, 42, 30, 79, 96, 79, 91, 59, 89, 72, 92, 96, 65, 49, 70, 68, 91, 68, 71, 63, 100, 42, 94, 49, 95, 65, 85, 92, 57, 41, 67, 77, 34, 74, 70, 40, 65, 42, 38, 46, 54, 83, 54, 31]\n",
      "[15, 15, 16, 15, 15, 19, 17, 15, 15, 15, 16, 25, 22, 17, 36, 27, 39, 15, 28, 24, 15, 16, 16, 30, 30, 45, 38, 24, 19, 62, 48, 43, 41, 43, 47, 43, 30, 51, 36, 30, 37, 55, 23, 32, 45, 27, 24, 39, 35, 31, 48, 83, 63, 58, 82, 60, 28, 42, 30, 79, 96, 79, 91, 59, 89, 72, 92, 96, 65, 49, 70, 68, 91, 68, 71, 63, 100, 42, 94, 49, 95, 65, 85, 92, 57, 41, 67, 77, 34, 74, 70, 40, 65, 42, 38, 46, 54, 83, 54, 31]\n",
      "[15, 15, 16, 15, 15, 19, 17, 15, 15, 15, 16, 25, 22, 17, 36, 27, 39, 15, 28, 24, 16, 16, 16, 30, 30, 45, 38, 24, 19, 62, 48, 43, 41, 43, 47, 43, 30, 51, 36, 30, 37, 55, 23, 32, 45, 27, 24, 39, 35, 30, 48, 83, 63, 58, 82, 60, 28, 42, 30, 79, 96, 79, 91, 59, 89, 72, 92, 96, 65, 49, 70, 68, 91, 68, 71, 63, 100, 42, 94, 49, 95, 65, 85, 92, 57, 41, 67, 77, 34, 74, 70, 40, 65, 42, 38, 46, 54, 83, 54, 31]\n",
      "[15, 15, 16, 15, 15, 19, 17, 15, 15, 16, 16, 25, 22, 17, 36, 27, 39, 15, 28, 24, 16, 16, 16, 30, 30, 45, 38, 24, 19, 62, 48, 43, 41, 43, 47, 43, 30, 51, 36, 30, 37, 55, 23, 32, 45, 27, 24, 39, 35, 30, 48, 83, 63, 58, 82, 60, 28, 42, 30, 79, 96, 79, 91, 59, 89, 72, 92, 96, 65, 49, 70, 68, 91, 68, 71, 63, 100, 42, 94, 49, 95, 65, 85, 92, 57, 41, 67, 77, 34, 74, 70, 40, 65, 42, 38, 46, 54, 83, 54, 30]\n",
      "[15, 15, 16, 15, 16, 19, 17, 15, 15, 16, 16, 25, 22, 17, 36, 27, 39, 15, 28, 24, 16, 16, 16, 30, 29, 45, 38, 24, 19, 62, 48, 43, 41, 43, 47, 43, 30, 51, 36, 30, 37, 55, 23, 32, 45, 27, 24, 39, 35, 30, 48, 83, 63, 58, 82, 60, 28, 42, 30, 79, 96, 79, 91, 59, 89, 72, 92, 96, 65, 49, 70, 68, 91, 68, 71, 63, 100, 42, 94, 49, 95, 65, 85, 92, 57, 41, 67, 77, 34, 74, 70, 40, 65, 42, 38, 46, 54, 83, 54, 30]\n",
      "[15, 15, 16, 15, 16, 19, 17, 15, 15, 16, 16, 25, 22, 17, 36, 27, 39, 16, 28, 24, 16, 16, 16, 30, 29, 45, 38, 24, 19, 62, 48, 43, 41, 43, 47, 43, 30, 51, 36, 30, 37, 55, 23, 32, 45, 27, 24, 39, 35, 29, 48, 83, 63, 58, 82, 60, 28, 42, 30, 79, 96, 79, 91, 59, 89, 72, 92, 96, 65, 49, 70, 68, 91, 68, 71, 63, 100, 42, 94, 49, 95, 65, 85, 92, 57, 41, 67, 77, 34, 74, 70, 40, 65, 42, 38, 46, 54, 83, 54, 30]\n",
      "[15, 15, 16, 15, 16, 19, 17, 15, 16, 16, 16, 25, 22, 17, 36, 27, 39, 16, 28, 24, 16, 16, 16, 30, 29, 45, 38, 24, 19, 62, 48, 43, 41, 43, 47, 43, 30, 51, 36, 30, 37, 55, 23, 32, 45, 27, 24, 39, 35, 29, 48, 83, 63, 58, 82, 60, 28, 42, 30, 79, 96, 79, 91, 59, 89, 72, 92, 96, 65, 49, 70, 68, 91, 68, 71, 63, 100, 42, 94, 49, 95, 65, 85, 92, 57, 41, 67, 77, 34, 74, 70, 40, 65, 42, 38, 46, 54, 83, 54, 29]\n",
      "[15, 15, 16, 15, 16, 19, 17, 16, 16, 16, 16, 25, 22, 17, 36, 27, 39, 16, 28, 24, 16, 16, 16, 30, 28, 45, 38, 24, 19, 62, 48, 43, 41, 43, 47, 43, 30, 51, 36, 30, 37, 55, 23, 32, 45, 27, 24, 39, 35, 29, 48, 83, 63, 58, 82, 60, 28, 42, 30, 79, 96, 79, 91, 59, 89, 72, 92, 96, 65, 49, 70, 68, 91, 68, 71, 63, 100, 42, 94, 49, 95, 65, 85, 92, 57, 41, 67, 77, 34, 74, 70, 40, 65, 42, 38, 46, 54, 83, 54, 29]\n",
      "[15, 15, 16, 16, 16, 19, 17, 16, 16, 16, 16, 25, 22, 17, 36, 27, 39, 16, 28, 24, 16, 16, 16, 30, 28, 45, 38, 24, 19, 62, 48, 43, 41, 43, 47, 43, 30, 51, 36, 30, 37, 55, 23, 32, 45, 27, 24, 39, 35, 28, 48, 83, 63, 58, 82, 60, 28, 42, 30, 79, 96, 79, 91, 59, 89, 72, 92, 96, 65, 49, 70, 68, 91, 68, 71, 63, 100, 42, 94, 49, 95, 65, 85, 92, 57, 41, 67, 77, 34, 74, 70, 40, 65, 42, 38, 46, 54, 83, 54, 29]\n",
      "[15, 16, 16, 16, 16, 19, 17, 16, 16, 16, 16, 25, 22, 17, 36, 27, 39, 16, 28, 24, 16, 16, 16, 30, 28, 45, 38, 24, 19, 62, 48, 43, 41, 43, 47, 43, 30, 51, 36, 30, 37, 55, 23, 32, 45, 27, 24, 39, 35, 28, 48, 83, 63, 58, 82, 60, 28, 42, 30, 79, 96, 79, 91, 59, 89, 72, 92, 96, 65, 49, 70, 68, 91, 68, 71, 63, 100, 42, 94, 49, 95, 65, 85, 92, 57, 41, 67, 77, 34, 74, 70, 40, 65, 42, 38, 46, 54, 83, 54, 28]\n",
      "[16, 16, 16, 16, 16, 19, 17, 16, 16, 16, 16, 25, 22, 17, 36, 27, 39, 16, 28, 24, 16, 16, 16, 30, 27, 45, 38, 24, 19, 62, 48, 43, 41, 43, 47, 43, 30, 51, 36, 30, 37, 55, 23, 32, 45, 27, 24, 39, 35, 28, 48, 83, 63, 58, 82, 60, 28, 42, 30, 79, 96, 79, 91, 59, 89, 72, 92, 96, 65, 49, 70, 68, 91, 68, 71, 63, 100, 42, 94, 49, 95, 65, 85, 92, 57, 41, 67, 77, 34, 74, 70, 40, 65, 42, 38, 46, 54, 83, 54, 28]\n",
      "[16, 16, 17, 16, 16, 19, 17, 16, 16, 16, 16, 25, 22, 17, 36, 27, 39, 16, 28, 24, 16, 16, 16, 30, 27, 45, 38, 24, 19, 62, 48, 43, 41, 43, 47, 43, 30, 51, 36, 30, 37, 55, 23, 32, 45, 27, 24, 39, 35, 27, 48, 83, 63, 58, 82, 60, 28, 42, 30, 79, 96, 79, 91, 59, 89, 72, 92, 96, 65, 49, 70, 68, 91, 68, 71, 63, 100, 42, 94, 49, 95, 65, 85, 92, 57, 41, 67, 77, 34, 74, 70, 40, 65, 42, 38, 46, 54, 83, 54, 28]\n",
      "[16, 16, 17, 16, 16, 19, 17, 16, 16, 16, 16, 25, 22, 17, 36, 27, 39, 16, 28, 24, 16, 16, 17, 30, 27, 45, 38, 24, 19, 62, 48, 43, 41, 43, 47, 43, 30, 51, 36, 30, 37, 55, 23, 32, 45, 27, 24, 39, 35, 27, 48, 83, 63, 58, 82, 60, 28, 42, 30, 79, 96, 79, 91, 59, 89, 72, 92, 96, 65, 49, 70, 68, 91, 68, 71, 63, 100, 42, 94, 49, 95, 65, 85, 92, 57, 41, 67, 77, 34, 74, 70, 40, 65, 42, 38, 46, 54, 83, 54, 27]\n",
      "[16, 16, 17, 16, 16, 19, 17, 16, 16, 16, 16, 25, 22, 17, 36, 27, 39, 16, 28, 24, 16, 17, 17, 30, 26, 45, 38, 24, 19, 62, 48, 43, 41, 43, 47, 43, 30, 51, 36, 30, 37, 55, 23, 32, 45, 27, 24, 39, 35, 27, 48, 83, 63, 58, 82, 60, 28, 42, 30, 79, 96, 79, 91, 59, 89, 72, 92, 96, 65, 49, 70, 68, 91, 68, 71, 63, 100, 42, 94, 49, 95, 65, 85, 92, 57, 41, 67, 77, 34, 74, 70, 40, 65, 42, 38, 46, 54, 83, 54, 27]\n",
      "[16, 16, 17, 16, 16, 19, 17, 16, 16, 16, 17, 25, 22, 17, 36, 27, 39, 16, 28, 24, 16, 17, 17, 30, 26, 45, 38, 24, 19, 62, 48, 43, 41, 43, 47, 43, 30, 51, 36, 30, 37, 55, 23, 32, 45, 27, 24, 39, 35, 26, 48, 83, 63, 58, 82, 60, 28, 42, 30, 79, 96, 79, 91, 59, 89, 72, 92, 96, 65, 49, 70, 68, 91, 68, 71, 63, 100, 42, 94, 49, 95, 65, 85, 92, 57, 41, 67, 77, 34, 74, 70, 40, 65, 42, 38, 46, 54, 83, 54, 27]\n",
      "[16, 16, 17, 16, 16, 19, 17, 16, 16, 16, 17, 25, 22, 17, 36, 27, 39, 16, 28, 24, 17, 17, 17, 30, 26, 45, 38, 24, 19, 62, 48, 43, 41, 43, 47, 43, 30, 51, 36, 30, 37, 55, 23, 32, 45, 27, 24, 39, 35, 26, 48, 83, 63, 58, 82, 60, 28, 42, 30, 79, 96, 79, 91, 59, 89, 72, 92, 96, 65, 49, 70, 68, 91, 68, 71, 63, 100, 42, 94, 49, 95, 65, 85, 92, 57, 41, 67, 77, 34, 74, 70, 40, 65, 42, 38, 46, 54, 83, 54, 26]\n",
      "[16, 16, 17, 16, 16, 19, 17, 16, 16, 17, 17, 25, 22, 17, 36, 27, 39, 16, 28, 24, 17, 17, 17, 30, 25, 45, 38, 24, 19, 62, 48, 43, 41, 43, 47, 43, 30, 51, 36, 30, 37, 55, 23, 32, 45, 27, 24, 39, 35, 26, 48, 83, 63, 58, 82, 60, 28, 42, 30, 79, 96, 79, 91, 59, 89, 72, 92, 96, 65, 49, 70, 68, 91, 68, 71, 63, 100, 42, 94, 49, 95, 65, 85, 92, 57, 41, 67, 77, 34, 74, 70, 40, 65, 42, 38, 46, 54, 83, 54, 26]\n",
      "[16, 16, 17, 16, 17, 19, 17, 16, 16, 17, 17, 25, 22, 17, 36, 27, 39, 16, 28, 24, 17, 17, 17, 30, 25, 45, 38, 24, 19, 62, 48, 43, 41, 43, 47, 43, 30, 51, 36, 30, 37, 55, 23, 32, 45, 27, 24, 39, 35, 25, 48, 83, 63, 58, 82, 60, 28, 42, 30, 79, 96, 79, 91, 59, 89, 72, 92, 96, 65, 49, 70, 68, 91, 68, 71, 63, 100, 42, 94, 49, 95, 65, 85, 92, 57, 41, 67, 77, 34, 74, 70, 40, 65, 42, 38, 46, 54, 83, 54, 26]\n",
      "[16, 16, 17, 16, 17, 19, 17, 16, 16, 17, 17, 25, 22, 17, 36, 27, 39, 17, 28, 24, 17, 17, 17, 30, 25, 45, 38, 24, 19, 62, 48, 43, 41, 43, 47, 43, 30, 51, 36, 30, 37, 55, 23, 32, 45, 27, 24, 39, 35, 25, 48, 83, 63, 58, 82, 60, 28, 42, 30, 79, 96, 79, 91, 59, 89, 72, 92, 96, 65, 49, 70, 68, 91, 68, 71, 63, 100, 42, 94, 49, 95, 65, 85, 92, 57, 41, 67, 77, 34, 74, 70, 40, 65, 42, 38, 46, 54, 83, 54, 25]\n",
      "[16, 16, 17, 16, 17, 19, 17, 16, 17, 17, 17, 24, 22, 17, 36, 27, 39, 17, 28, 24, 17, 17, 17, 30, 25, 45, 38, 24, 19, 62, 48, 43, 41, 43, 47, 43, 30, 51, 36, 30, 37, 55, 23, 32, 45, 27, 24, 39, 35, 25, 48, 83, 63, 58, 82, 60, 28, 42, 30, 79, 96, 79, 91, 59, 89, 72, 92, 96, 65, 49, 70, 68, 91, 68, 71, 63, 100, 42, 94, 49, 95, 65, 85, 92, 57, 41, 67, 77, 34, 74, 70, 40, 65, 42, 38, 46, 54, 83, 54, 25]\n",
      "[16, 16, 17, 16, 17, 19, 17, 17, 17, 17, 17, 24, 22, 17, 36, 27, 39, 17, 28, 24, 17, 17, 17, 30, 24, 45, 38, 24, 19, 62, 48, 43, 41, 43, 47, 43, 30, 51, 36, 30, 37, 55, 23, 32, 45, 27, 24, 39, 35, 25, 48, 83, 63, 58, 82, 60, 28, 42, 30, 79, 96, 79, 91, 59, 89, 72, 92, 96, 65, 49, 70, 68, 91, 68, 71, 63, 100, 42, 94, 49, 95, 65, 85, 92, 57, 41, 67, 77, 34, 74, 70, 40, 65, 42, 38, 46, 54, 83, 54, 25]\n",
      "[16, 16, 17, 17, 17, 19, 17, 17, 17, 17, 17, 24, 22, 17, 36, 27, 39, 17, 28, 24, 17, 17, 17, 30, 24, 45, 38, 24, 19, 62, 48, 43, 41, 43, 47, 43, 30, 51, 36, 30, 37, 55, 23, 32, 45, 27, 24, 39, 35, 24, 48, 83, 63, 58, 82, 60, 28, 42, 30, 79, 96, 79, 91, 59, 89, 72, 92, 96, 65, 49, 70, 68, 91, 68, 71, 63, 100, 42, 94, 49, 95, 65, 85, 92, 57, 41, 67, 77, 34, 74, 70, 40, 65, 42, 38, 46, 54, 83, 54, 25]\n",
      "[16, 17, 17, 17, 17, 19, 17, 17, 17, 17, 17, 24, 22, 17, 36, 27, 39, 17, 28, 24, 17, 17, 17, 30, 24, 45, 38, 24, 19, 62, 48, 43, 41, 43, 47, 43, 30, 51, 36, 30, 37, 55, 23, 32, 45, 27, 24, 39, 35, 24, 48, 83, 63, 58, 82, 60, 28, 42, 30, 79, 96, 79, 91, 59, 89, 72, 92, 96, 65, 49, 70, 68, 91, 68, 71, 63, 100, 42, 94, 49, 95, 65, 85, 92, 57, 41, 67, 77, 34, 74, 70, 40, 65, 42, 38, 46, 54, 83, 54, 24]\n",
      "[17, 17, 17, 17, 17, 19, 17, 17, 17, 17, 17, 23, 22, 17, 36, 27, 39, 17, 28, 24, 17, 17, 17, 30, 24, 45, 38, 24, 19, 62, 48, 43, 41, 43, 47, 43, 30, 51, 36, 30, 37, 55, 23, 32, 45, 27, 24, 39, 35, 24, 48, 83, 63, 58, 82, 60, 28, 42, 30, 79, 96, 79, 91, 59, 89, 72, 92, 96, 65, 49, 70, 68, 91, 68, 71, 63, 100, 42, 94, 49, 95, 65, 85, 92, 57, 41, 67, 77, 34, 74, 70, 40, 65, 42, 38, 46, 54, 83, 54, 24]\n",
      "[17, 17, 17, 17, 17, 19, 17, 17, 17, 17, 17, 23, 22, 18, 36, 27, 39, 17, 28, 24, 17, 17, 17, 30, 23, 45, 38, 24, 19, 62, 48, 43, 41, 43, 47, 43, 30, 51, 36, 30, 37, 55, 23, 32, 45, 27, 24, 39, 35, 24, 48, 83, 63, 58, 82, 60, 28, 42, 30, 79, 96, 79, 91, 59, 89, 72, 92, 96, 65, 49, 70, 68, 91, 68, 71, 63, 100, 42, 94, 49, 95, 65, 85, 92, 57, 41, 67, 77, 34, 74, 70, 40, 65, 42, 38, 46, 54, 83, 54, 24]\n",
      "[17, 17, 17, 17, 17, 19, 18, 17, 17, 17, 17, 23, 22, 18, 36, 27, 39, 17, 28, 24, 17, 17, 17, 30, 23, 45, 38, 24, 19, 62, 48, 43, 41, 43, 47, 43, 30, 51, 36, 30, 37, 55, 23, 32, 45, 27, 24, 39, 35, 23, 48, 83, 63, 58, 82, 60, 28, 42, 30, 79, 96, 79, 91, 59, 89, 72, 92, 96, 65, 49, 70, 68, 91, 68, 71, 63, 100, 42, 94, 49, 95, 65, 85, 92, 57, 41, 67, 77, 34, 74, 70, 40, 65, 42, 38, 46, 54, 83, 54, 24]\n",
      "[17, 17, 18, 17, 17, 19, 18, 17, 17, 17, 17, 23, 22, 18, 36, 27, 39, 17, 28, 24, 17, 17, 17, 30, 23, 45, 38, 24, 19, 62, 48, 43, 41, 43, 47, 43, 30, 51, 36, 30, 37, 55, 23, 32, 45, 27, 24, 39, 35, 23, 48, 83, 63, 58, 82, 60, 28, 42, 30, 79, 96, 79, 91, 59, 89, 72, 92, 96, 65, 49, 70, 68, 91, 68, 71, 63, 100, 42, 94, 49, 95, 65, 85, 92, 57, 41, 67, 77, 34, 74, 70, 40, 65, 42, 38, 46, 54, 83, 54, 23]\n",
      "[17, 17, 18, 17, 17, 19, 18, 17, 17, 17, 17, 22, 22, 18, 36, 27, 39, 17, 28, 24, 17, 17, 18, 30, 23, 45, 38, 24, 19, 62, 48, 43, 41, 43, 47, 43, 30, 51, 36, 30, 37, 55, 23, 32, 45, 27, 24, 39, 35, 23, 48, 83, 63, 58, 82, 60, 28, 42, 30, 79, 96, 79, 91, 59, 89, 72, 92, 96, 65, 49, 70, 68, 91, 68, 71, 63, 100, 42, 94, 49, 95, 65, 85, 92, 57, 41, 67, 77, 34, 74, 70, 40, 65, 42, 38, 46, 54, 83, 54, 23]\n",
      "[17, 17, 18, 17, 17, 19, 18, 17, 17, 17, 17, 22, 22, 18, 36, 27, 39, 17, 28, 24, 17, 18, 18, 30, 22, 45, 38, 24, 19, 62, 48, 43, 41, 43, 47, 43, 30, 51, 36, 30, 37, 55, 23, 32, 45, 27, 24, 39, 35, 23, 48, 83, 63, 58, 82, 60, 28, 42, 30, 79, 96, 79, 91, 59, 89, 72, 92, 96, 65, 49, 70, 68, 91, 68, 71, 63, 100, 42, 94, 49, 95, 65, 85, 92, 57, 41, 67, 77, 34, 74, 70, 40, 65, 42, 38, 46, 54, 83, 54, 23]\n",
      "[17, 17, 18, 17, 17, 19, 18, 17, 17, 17, 18, 22, 22, 18, 36, 27, 39, 17, 28, 24, 17, 18, 18, 30, 22, 45, 38, 24, 19, 62, 48, 43, 41, 43, 47, 43, 30, 51, 36, 30, 37, 55, 23, 32, 45, 27, 24, 39, 35, 22, 48, 83, 63, 58, 82, 60, 28, 42, 30, 79, 96, 79, 91, 59, 89, 72, 92, 96, 65, 49, 70, 68, 91, 68, 71, 63, 100, 42, 94, 49, 95, 65, 85, 92, 57, 41, 67, 77, 34, 74, 70, 40, 65, 42, 38, 46, 54, 83, 54, 23]\n",
      "[17, 17, 18, 17, 17, 19, 18, 17, 17, 17, 18, 22, 22, 18, 36, 27, 39, 17, 28, 24, 18, 18, 18, 30, 22, 45, 38, 24, 19, 62, 48, 43, 41, 43, 47, 43, 30, 51, 36, 30, 37, 55, 23, 32, 45, 27, 24, 39, 35, 22, 48, 83, 63, 58, 82, 60, 28, 42, 30, 79, 96, 79, 91, 59, 89, 72, 92, 96, 65, 49, 70, 68, 91, 68, 71, 63, 100, 42, 94, 49, 95, 65, 85, 92, 57, 41, 67, 77, 34, 74, 70, 40, 65, 42, 38, 46, 54, 83, 54, 22]\n",
      "[17, 17, 18, 17, 17, 19, 18, 17, 17, 18, 18, 21, 22, 18, 36, 27, 39, 17, 28, 24, 18, 18, 18, 30, 22, 45, 38, 24, 19, 62, 48, 43, 41, 43, 47, 43, 30, 51, 36, 30, 37, 55, 23, 32, 45, 27, 24, 39, 35, 22, 48, 83, 63, 58, 82, 60, 28, 42, 30, 79, 96, 79, 91, 59, 89, 72, 92, 96, 65, 49, 70, 68, 91, 68, 71, 63, 100, 42, 94, 49, 95, 65, 85, 92, 57, 41, 67, 77, 34, 74, 70, 40, 65, 42, 38, 46, 54, 83, 54, 22]\n",
      "[17, 17, 18, 17, 18, 19, 18, 17, 17, 18, 18, 21, 22, 18, 36, 27, 39, 17, 28, 24, 18, 18, 18, 30, 21, 45, 38, 24, 19, 62, 48, 43, 41, 43, 47, 43, 30, 51, 36, 30, 37, 55, 23, 32, 45, 27, 24, 39, 35, 22, 48, 83, 63, 58, 82, 60, 28, 42, 30, 79, 96, 79, 91, 59, 89, 72, 92, 96, 65, 49, 70, 68, 91, 68, 71, 63, 100, 42, 94, 49, 95, 65, 85, 92, 57, 41, 67, 77, 34, 74, 70, 40, 65, 42, 38, 46, 54, 83, 54, 22]\n",
      "[17, 17, 18, 17, 18, 19, 18, 17, 17, 18, 18, 21, 22, 18, 36, 27, 39, 18, 28, 24, 18, 18, 18, 30, 21, 45, 38, 24, 19, 62, 48, 43, 41, 43, 47, 43, 30, 51, 36, 30, 37, 55, 23, 32, 45, 27, 24, 39, 35, 21, 48, 83, 63, 58, 82, 60, 28, 42, 30, 79, 96, 79, 91, 59, 89, 72, 92, 96, 65, 49, 70, 68, 91, 68, 71, 63, 100, 42, 94, 49, 95, 65, 85, 92, 57, 41, 67, 77, 34, 74, 70, 40, 65, 42, 38, 46, 54, 83, 54, 22]\n",
      "[17, 17, 18, 17, 18, 19, 18, 17, 18, 18, 18, 21, 22, 18, 36, 27, 39, 18, 28, 24, 18, 18, 18, 30, 21, 45, 38, 24, 19, 62, 48, 43, 41, 43, 47, 43, 30, 51, 36, 30, 37, 55, 23, 32, 45, 27, 24, 39, 35, 21, 48, 83, 63, 58, 82, 60, 28, 42, 30, 79, 96, 79, 91, 59, 89, 72, 92, 96, 65, 49, 70, 68, 91, 68, 71, 63, 100, 42, 94, 49, 95, 65, 85, 92, 57, 41, 67, 77, 34, 74, 70, 40, 65, 42, 38, 46, 54, 83, 54, 21]\n",
      "[17, 17, 18, 17, 18, 19, 18, 18, 18, 18, 18, 20, 22, 18, 36, 27, 39, 18, 28, 24, 18, 18, 18, 30, 21, 45, 38, 24, 19, 62, 48, 43, 41, 43, 47, 43, 30, 51, 36, 30, 37, 55, 23, 32, 45, 27, 24, 39, 35, 21, 48, 83, 63, 58, 82, 60, 28, 42, 30, 79, 96, 79, 91, 59, 89, 72, 92, 96, 65, 49, 70, 68, 91, 68, 71, 63, 100, 42, 94, 49, 95, 65, 85, 92, 57, 41, 67, 77, 34, 74, 70, 40, 65, 42, 38, 46, 54, 83, 54, 21]\n",
      "[17, 17, 18, 18, 18, 19, 18, 18, 18, 18, 18, 20, 22, 18, 36, 27, 39, 18, 28, 24, 18, 18, 18, 30, 20, 45, 38, 24, 19, 62, 48, 43, 41, 43, 47, 43, 30, 51, 36, 30, 37, 55, 23, 32, 45, 27, 24, 39, 35, 21, 48, 83, 63, 58, 82, 60, 28, 42, 30, 79, 96, 79, 91, 59, 89, 72, 92, 96, 65, 49, 70, 68, 91, 68, 71, 63, 100, 42, 94, 49, 95, 65, 85, 92, 57, 41, 67, 77, 34, 74, 70, 40, 65, 42, 38, 46, 54, 83, 54, 21]\n",
      "[17, 18, 18, 18, 18, 19, 18, 18, 18, 18, 18, 20, 22, 18, 36, 27, 39, 18, 28, 24, 18, 18, 18, 30, 20, 45, 38, 24, 19, 62, 48, 43, 41, 43, 47, 43, 30, 51, 36, 30, 37, 55, 23, 32, 45, 27, 24, 39, 35, 20, 48, 83, 63, 58, 82, 60, 28, 42, 30, 79, 96, 79, 91, 59, 89, 72, 92, 96, 65, 49, 70, 68, 91, 68, 71, 63, 100, 42, 94, 49, 95, 65, 85, 92, 57, 41, 67, 77, 34, 74, 70, 40, 65, 42, 38, 46, 54, 83, 54, 21]\n",
      "[18, 18, 18, 18, 18, 19, 18, 18, 18, 18, 18, 20, 22, 18, 36, 27, 39, 18, 28, 24, 18, 18, 18, 30, 20, 45, 38, 24, 19, 62, 48, 43, 41, 43, 47, 43, 30, 51, 36, 30, 37, 55, 23, 32, 45, 27, 24, 39, 35, 20, 48, 83, 63, 58, 82, 60, 28, 42, 30, 79, 96, 79, 91, 59, 89, 72, 92, 96, 65, 49, 70, 68, 91, 68, 71, 63, 100, 42, 94, 49, 95, 65, 85, 92, 57, 41, 67, 77, 34, 74, 70, 40, 65, 42, 38, 46, 54, 83, 54, 20]\n",
      "[18, 18, 18, 18, 18, 19, 18, 18, 18, 18, 18, 19, 22, 19, 36, 27, 39, 18, 28, 24, 18, 18, 18, 30, 20, 45, 38, 24, 19, 62, 48, 43, 41, 43, 47, 43, 30, 51, 36, 30, 37, 55, 23, 32, 45, 27, 24, 39, 35, 20, 48, 83, 63, 58, 82, 60, 28, 42, 30, 79, 96, 79, 91, 59, 89, 72, 92, 96, 65, 49, 70, 68, 91, 68, 71, 63, 100, 42, 94, 49, 95, 65, 85, 92, 57, 41, 67, 77, 34, 74, 70, 40, 65, 42, 38, 46, 54, 83, 54, 20]\n",
      "[18, 18, 18, 18, 18, 19, 19, 18, 18, 18, 18, 19, 22, 19, 36, 27, 39, 18, 28, 24, 18, 18, 18, 30, 19, 45, 38, 24, 19, 62, 48, 43, 41, 43, 47, 43, 30, 51, 36, 30, 37, 55, 23, 32, 45, 27, 24, 39, 35, 20, 48, 83, 63, 58, 82, 60, 28, 42, 30, 79, 96, 79, 91, 59, 89, 72, 92, 96, 65, 49, 70, 68, 91, 68, 71, 63, 100, 42, 94, 49, 95, 65, 85, 92, 57, 41, 67, 77, 34, 74, 70, 40, 65, 42, 38, 46, 54, 83, 54, 20]\n",
      "[18, 18, 19, 18, 18, 19, 19, 18, 18, 18, 18, 19, 22, 19, 36, 27, 39, 18, 28, 24, 18, 18, 18, 30, 19, 45, 38, 24, 19, 62, 48, 43, 41, 43, 47, 43, 30, 51, 36, 30, 37, 55, 23, 32, 45, 27, 24, 39, 35, 19, 48, 83, 63, 58, 82, 60, 28, 42, 30, 79, 96, 79, 91, 59, 89, 72, 92, 96, 65, 49, 70, 68, 91, 68, 71, 63, 100, 42, 94, 49, 95, 65, 85, 92, 57, 41, 67, 77, 34, 74, 70, 40, 65, 42, 38, 46, 54, 83, 54, 20]\n",
      "[18, 18, 19, 18, 18, 19, 19, 18, 18, 18, 18, 19, 22, 19, 36, 27, 39, 18, 28, 24, 18, 18, 19, 30, 19, 45, 38, 24, 19, 62, 48, 43, 41, 43, 47, 43, 30, 51, 36, 30, 37, 55, 23, 32, 45, 27, 24, 39, 35, 19, 48, 83, 63, 58, 82, 60, 28, 42, 30, 79, 96, 79, 91, 59, 89, 72, 92, 96, 65, 49, 70, 68, 91, 68, 71, 63, 100, 42, 94, 49, 95, 65, 85, 92, 57, 41, 67, 77, 34, 74, 70, 40, 65, 42, 38, 46, 54, 83, 54, 19]\n",
      "[18, 18, 19, 18, 18, 19, 19, 18, 18, 18, 18, 19, 22, 19, 36, 27, 39, 18, 28, 24, 18, 18, 19, 30, 19, 45, 38, 24, 19, 62, 48, 43, 41, 43, 47, 43, 30, 51, 36, 30, 37, 55, 23, 32, 45, 27, 24, 39, 35, 19, 48, 83, 63, 58, 82, 60, 28, 42, 30, 79, 96, 79, 91, 59, 89, 72, 92, 96, 65, 49, 70, 68, 91, 68, 71, 63, 100, 42, 94, 49, 95, 65, 85, 92, 57, 41, 67, 77, 34, 74, 70, 40, 65, 42, 38, 46, 54, 83, 54, 19]\n",
      "[18, 18, 19, 18, 18, 19, 19, 18, 18, 18, 18, 19, 22, 19, 36, 27, 39, 18, 28, 24, 18, 18, 19, 30, 19, 45, 38, 24, 19, 62, 48, 43, 41, 43, 47, 43, 30, 51, 36, 30, 37, 55, 23, 32, 45, 27, 24, 39, 35, 19, 48, 83, 63, 58, 82, 60, 28, 42, 30, 79, 96, 79, 91, 59, 89, 72, 92, 96, 65, 49, 70, 68, 91, 68, 71, 63, 100, 42, 94, 49, 95, 65, 85, 92, 57, 41, 67, 77, 34, 74, 70, 40, 65, 42, 38, 46, 54, 83, 54, 19]\n",
      "[18, 18, 19, 18, 18, 19, 19, 18, 18, 18, 18, 19, 22, 19, 36, 27, 39, 18, 28, 24, 18, 18, 19, 30, 19, 45, 38, 24, 19, 62, 48, 43, 41, 43, 47, 43, 30, 51, 36, 30, 37, 55, 23, 32, 45, 27, 24, 39, 35, 19, 48, 83, 63, 58, 82, 60, 28, 42, 30, 79, 96, 79, 91, 59, 89, 72, 92, 96, 65, 49, 70, 68, 91, 68, 71, 63, 100, 42, 94, 49, 95, 65, 85, 92, 57, 41, 67, 77, 34, 74, 70, 40, 65, 42, 38, 46, 54, 83, 54, 19]\n",
      "[18, 18, 19, 18, 18, 19, 19, 18, 18, 18, 18, 19, 22, 19, 36, 27, 39, 18, 28, 24, 18, 18, 19, 30, 19, 45, 38, 24, 19, 62, 48, 43, 41, 43, 47, 43, 30, 51, 36, 30, 37, 55, 23, 32, 45, 27, 24, 39, 35, 19, 48, 83, 63, 58, 82, 60, 28, 42, 30, 79, 96, 79, 91, 59, 89, 72, 92, 96, 65, 49, 70, 68, 91, 68, 71, 63, 100, 42, 94, 49, 95, 65, 85, 92, 57, 41, 67, 77, 34, 74, 70, 40, 65, 42, 38, 46, 54, 83, 54, 19]\n",
      "[18, 18, 19, 18, 18, 19, 19, 18, 18, 18, 18, 19, 22, 19, 36, 27, 39, 18, 28, 24, 18, 18, 19, 30, 19, 45, 38, 24, 19, 62, 48, 43, 41, 43, 47, 43, 30, 51, 36, 30, 37, 55, 23, 32, 45, 27, 24, 39, 35, 19, 48, 83, 63, 58, 82, 60, 28, 42, 30, 79, 96, 79, 91, 59, 89, 72, 92, 96, 65, 49, 70, 68, 91, 68, 71, 63, 100, 42, 94, 49, 95, 65, 85, 92, 57, 41, 67, 77, 34, 74, 70, 40, 65, 42, 38, 46, 54, 83, 54, 19]\n",
      "[18, 18, 19, 18, 18, 19, 19, 18, 18, 18, 18, 19, 22, 19, 36, 27, 39, 18, 28, 24, 18, 18, 19, 30, 19, 45, 38, 24, 19, 62, 48, 43, 41, 43, 47, 43, 30, 51, 36, 30, 37, 55, 23, 32, 45, 27, 24, 39, 35, 19, 48, 83, 63, 58, 82, 60, 28, 42, 30, 79, 96, 79, 91, 59, 89, 72, 92, 96, 65, 49, 70, 68, 91, 68, 71, 63, 100, 42, 94, 49, 95, 65, 85, 92, 57, 41, 67, 77, 34, 74, 70, 40, 65, 42, 38, 46, 54, 83, 54, 19]\n",
      "[18, 18, 19, 18, 18, 19, 19, 18, 18, 18, 18, 19, 22, 19, 36, 27, 39, 18, 28, 24, 18, 18, 19, 30, 19, 45, 38, 24, 19, 62, 48, 43, 41, 43, 47, 43, 30, 51, 36, 30, 37, 55, 23, 32, 45, 27, 24, 39, 35, 19, 48, 83, 63, 58, 82, 60, 28, 42, 30, 79, 96, 79, 91, 59, 89, 72, 92, 96, 65, 49, 70, 68, 91, 68, 71, 63, 100, 42, 94, 49, 95, 65, 85, 92, 57, 41, 67, 77, 34, 74, 70, 40, 65, 42, 38, 46, 54, 83, 54, 19]\n",
      "[18, 18, 19, 18, 18, 19, 19, 18, 18, 18, 18, 19, 22, 19, 36, 27, 39, 18, 28, 24, 18, 18, 19, 30, 19, 45, 38, 24, 19, 62, 48, 43, 41, 43, 47, 43, 30, 51, 36, 30, 37, 55, 23, 32, 45, 27, 24, 39, 35, 19, 48, 83, 63, 58, 82, 60, 28, 42, 30, 79, 96, 79, 91, 59, 89, 72, 92, 96, 65, 49, 70, 68, 91, 68, 71, 63, 100, 42, 94, 49, 95, 65, 85, 92, 57, 41, 67, 77, 34, 74, 70, 40, 65, 42, 38, 46, 54, 83, 54, 19]\n",
      "[18, 18, 19, 18, 18, 19, 19, 18, 18, 18, 18, 19, 22, 19, 36, 27, 39, 18, 28, 24, 18, 18, 19, 30, 19, 45, 38, 24, 19, 62, 48, 43, 41, 43, 47, 43, 30, 51, 36, 30, 37, 55, 23, 32, 45, 27, 24, 39, 35, 19, 48, 83, 63, 58, 82, 60, 28, 42, 30, 79, 96, 79, 91, 59, 89, 72, 92, 96, 65, 49, 70, 68, 91, 68, 71, 63, 100, 42, 94, 49, 95, 65, 85, 92, 57, 41, 67, 77, 34, 74, 70, 40, 65, 42, 38, 46, 54, 83, 54, 19]\n",
      "[18, 18, 19, 18, 18, 19, 19, 18, 18, 18, 18, 19, 22, 19, 36, 27, 39, 18, 28, 24, 18, 18, 19, 30, 19, 45, 38, 24, 19, 62, 48, 43, 41, 43, 47, 43, 30, 51, 36, 30, 37, 55, 23, 32, 45, 27, 24, 39, 35, 19, 48, 83, 63, 58, 82, 60, 28, 42, 30, 79, 96, 79, 91, 59, 89, 72, 92, 96, 65, 49, 70, 68, 91, 68, 71, 63, 100, 42, 94, 49, 95, 65, 85, 92, 57, 41, 67, 77, 34, 74, 70, 40, 65, 42, 38, 46, 54, 83, 54, 19]\n",
      "[18, 18, 19, 18, 18, 19, 19, 18, 18, 18, 18, 19, 22, 19, 36, 27, 39, 18, 28, 24, 18, 18, 19, 30, 19, 45, 38, 24, 19, 62, 48, 43, 41, 43, 47, 43, 30, 51, 36, 30, 37, 55, 23, 32, 45, 27, 24, 39, 35, 19, 48, 83, 63, 58, 82, 60, 28, 42, 30, 79, 96, 79, 91, 59, 89, 72, 92, 96, 65, 49, 70, 68, 91, 68, 71, 63, 100, 42, 94, 49, 95, 65, 85, 92, 57, 41, 67, 77, 34, 74, 70, 40, 65, 42, 38, 46, 54, 83, 54, 19]\n",
      "[18, 18, 19, 18, 18, 19, 19, 18, 18, 18, 18, 19, 22, 19, 36, 27, 39, 18, 28, 24, 18, 18, 19, 30, 19, 45, 38, 24, 19, 62, 48, 43, 41, 43, 47, 43, 30, 51, 36, 30, 37, 55, 23, 32, 45, 27, 24, 39, 35, 19, 48, 83, 63, 58, 82, 60, 28, 42, 30, 79, 96, 79, 91, 59, 89, 72, 92, 96, 65, 49, 70, 68, 91, 68, 71, 63, 100, 42, 94, 49, 95, 65, 85, 92, 57, 41, 67, 77, 34, 74, 70, 40, 65, 42, 38, 46, 54, 83, 54, 19]\n",
      "[18, 18, 19, 18, 18, 19, 19, 18, 18, 18, 18, 19, 22, 19, 36, 27, 39, 18, 28, 24, 18, 18, 19, 30, 19, 45, 38, 24, 19, 62, 48, 43, 41, 43, 47, 43, 30, 51, 36, 30, 37, 55, 23, 32, 45, 27, 24, 39, 35, 19, 48, 83, 63, 58, 82, 60, 28, 42, 30, 79, 96, 79, 91, 59, 89, 72, 92, 96, 65, 49, 70, 68, 91, 68, 71, 63, 100, 42, 94, 49, 95, 65, 85, 92, 57, 41, 67, 77, 34, 74, 70, 40, 65, 42, 38, 46, 54, 83, 54, 19]\n",
      "[18, 18, 19, 18, 18, 19, 19, 18, 18, 18, 18, 19, 22, 19, 36, 27, 39, 18, 28, 24, 18, 18, 19, 30, 19, 45, 38, 24, 19, 62, 48, 43, 41, 43, 47, 43, 30, 51, 36, 30, 37, 55, 23, 32, 45, 27, 24, 39, 35, 19, 48, 83, 63, 58, 82, 60, 28, 42, 30, 79, 96, 79, 91, 59, 89, 72, 92, 96, 65, 49, 70, 68, 91, 68, 71, 63, 100, 42, 94, 49, 95, 65, 85, 92, 57, 41, 67, 77, 34, 74, 70, 40, 65, 42, 38, 46, 54, 83, 54, 19]\n",
      "[18, 18, 19, 18, 18, 19, 19, 18, 18, 18, 18, 19, 22, 19, 36, 27, 39, 18, 28, 24, 18, 18, 19, 30, 19, 45, 38, 24, 19, 62, 48, 43, 41, 43, 47, 43, 30, 51, 36, 30, 37, 55, 23, 32, 45, 27, 24, 39, 35, 19, 48, 83, 63, 58, 82, 60, 28, 42, 30, 79, 96, 79, 91, 59, 89, 72, 92, 96, 65, 49, 70, 68, 91, 68, 71, 63, 100, 42, 94, 49, 95, 65, 85, 92, 57, 41, 67, 77, 34, 74, 70, 40, 65, 42, 38, 46, 54, 83, 54, 19]\n",
      "[18, 18, 19, 18, 18, 19, 19, 18, 18, 18, 18, 19, 22, 19, 36, 27, 39, 18, 28, 24, 18, 18, 19, 30, 19, 45, 38, 24, 19, 62, 48, 43, 41, 43, 47, 43, 30, 51, 36, 30, 37, 55, 23, 32, 45, 27, 24, 39, 35, 19, 48, 83, 63, 58, 82, 60, 28, 42, 30, 79, 96, 79, 91, 59, 89, 72, 92, 96, 65, 49, 70, 68, 91, 68, 71, 63, 100, 42, 94, 49, 95, 65, 85, 92, 57, 41, 67, 77, 34, 74, 70, 40, 65, 42, 38, 46, 54, 83, 54, 19]\n",
      "[18, 18, 19, 18, 18, 19, 19, 18, 18, 18, 18, 19, 22, 19, 36, 27, 39, 18, 28, 24, 18, 18, 19, 30, 19, 45, 38, 24, 19, 62, 48, 43, 41, 43, 47, 43, 30, 51, 36, 30, 37, 55, 23, 32, 45, 27, 24, 39, 35, 19, 48, 83, 63, 58, 82, 60, 28, 42, 30, 79, 96, 79, 91, 59, 89, 72, 92, 96, 65, 49, 70, 68, 91, 68, 71, 63, 100, 42, 94, 49, 95, 65, 85, 92, 57, 41, 67, 77, 34, 74, 70, 40, 65, 42, 38, 46, 54, 83, 54, 19]\n",
      "[18, 18, 19, 18, 18, 19, 19, 18, 18, 18, 18, 19, 22, 19, 36, 27, 39, 18, 28, 24, 18, 18, 19, 30, 19, 45, 38, 24, 19, 62, 48, 43, 41, 43, 47, 43, 30, 51, 36, 30, 37, 55, 23, 32, 45, 27, 24, 39, 35, 19, 48, 83, 63, 58, 82, 60, 28, 42, 30, 79, 96, 79, 91, 59, 89, 72, 92, 96, 65, 49, 70, 68, 91, 68, 71, 63, 100, 42, 94, 49, 95, 65, 85, 92, 57, 41, 67, 77, 34, 74, 70, 40, 65, 42, 38, 46, 54, 83, 54, 19]\n",
      "[18, 18, 19, 18, 18, 19, 19, 18, 18, 18, 18, 19, 22, 19, 36, 27, 39, 18, 28, 24, 18, 18, 19, 30, 19, 45, 38, 24, 19, 62, 48, 43, 41, 43, 47, 43, 30, 51, 36, 30, 37, 55, 23, 32, 45, 27, 24, 39, 35, 19, 48, 83, 63, 58, 82, 60, 28, 42, 30, 79, 96, 79, 91, 59, 89, 72, 92, 96, 65, 49, 70, 68, 91, 68, 71, 63, 100, 42, 94, 49, 95, 65, 85, 92, 57, 41, 67, 77, 34, 74, 70, 40, 65, 42, 38, 46, 54, 83, 54, 19]\n",
      "[18, 18, 19, 18, 18, 19, 19, 18, 18, 18, 18, 19, 22, 19, 36, 27, 39, 18, 28, 24, 18, 18, 19, 30, 19, 45, 38, 24, 19, 62, 48, 43, 41, 43, 47, 43, 30, 51, 36, 30, 37, 55, 23, 32, 45, 27, 24, 39, 35, 19, 48, 83, 63, 58, 82, 60, 28, 42, 30, 79, 96, 79, 91, 59, 89, 72, 92, 96, 65, 49, 70, 68, 91, 68, 71, 63, 100, 42, 94, 49, 95, 65, 85, 92, 57, 41, 67, 77, 34, 74, 70, 40, 65, 42, 38, 46, 54, 83, 54, 19]\n",
      "[18, 18, 19, 18, 18, 19, 19, 18, 18, 18, 18, 19, 22, 19, 36, 27, 39, 18, 28, 24, 18, 18, 19, 30, 19, 45, 38, 24, 19, 62, 48, 43, 41, 43, 47, 43, 30, 51, 36, 30, 37, 55, 23, 32, 45, 27, 24, 39, 35, 19, 48, 83, 63, 58, 82, 60, 28, 42, 30, 79, 96, 79, 91, 59, 89, 72, 92, 96, 65, 49, 70, 68, 91, 68, 71, 63, 100, 42, 94, 49, 95, 65, 85, 92, 57, 41, 67, 77, 34, 74, 70, 40, 65, 42, 38, 46, 54, 83, 54, 19]\n",
      "[18, 18, 19, 18, 18, 19, 19, 18, 18, 18, 18, 19, 22, 19, 36, 27, 39, 18, 28, 24, 18, 18, 19, 30, 19, 45, 38, 24, 19, 62, 48, 43, 41, 43, 47, 43, 30, 51, 36, 30, 37, 55, 23, 32, 45, 27, 24, 39, 35, 19, 48, 83, 63, 58, 82, 60, 28, 42, 30, 79, 96, 79, 91, 59, 89, 72, 92, 96, 65, 49, 70, 68, 91, 68, 71, 63, 100, 42, 94, 49, 95, 65, 85, 92, 57, 41, 67, 77, 34, 74, 70, 40, 65, 42, 38, 46, 54, 83, 54, 19]\n",
      "[18, 18, 19, 18, 18, 19, 19, 18, 18, 18, 18, 19, 22, 19, 36, 27, 39, 18, 28, 24, 18, 18, 19, 30, 19, 45, 38, 24, 19, 62, 48, 43, 41, 43, 47, 43, 30, 51, 36, 30, 37, 55, 23, 32, 45, 27, 24, 39, 35, 19, 48, 83, 63, 58, 82, 60, 28, 42, 30, 79, 96, 79, 91, 59, 89, 72, 92, 96, 65, 49, 70, 68, 91, 68, 71, 63, 100, 42, 94, 49, 95, 65, 85, 92, 57, 41, 67, 77, 34, 74, 70, 40, 65, 42, 38, 46, 54, 83, 54, 19]\n",
      "[18, 18, 19, 18, 18, 19, 19, 18, 18, 18, 18, 19, 22, 19, 36, 27, 39, 18, 28, 24, 18, 18, 19, 30, 19, 45, 38, 24, 19, 62, 48, 43, 41, 43, 47, 43, 30, 51, 36, 30, 37, 55, 23, 32, 45, 27, 24, 39, 35, 19, 48, 83, 63, 58, 82, 60, 28, 42, 30, 79, 96, 79, 91, 59, 89, 72, 92, 96, 65, 49, 70, 68, 91, 68, 71, 63, 100, 42, 94, 49, 95, 65, 85, 92, 57, 41, 67, 77, 34, 74, 70, 40, 65, 42, 38, 46, 54, 83, 54, 19]\n",
      "[18, 18, 19, 18, 18, 19, 19, 18, 18, 18, 18, 19, 22, 19, 36, 27, 39, 18, 28, 24, 18, 18, 19, 30, 19, 45, 38, 24, 19, 62, 48, 43, 41, 43, 47, 43, 30, 51, 36, 30, 37, 55, 23, 32, 45, 27, 24, 39, 35, 19, 48, 83, 63, 58, 82, 60, 28, 42, 30, 79, 96, 79, 91, 59, 89, 72, 92, 96, 65, 49, 70, 68, 91, 68, 71, 63, 100, 42, 94, 49, 95, 65, 85, 92, 57, 41, 67, 77, 34, 74, 70, 40, 65, 42, 38, 46, 54, 83, 54, 19]\n",
      "[18, 18, 19, 18, 18, 19, 19, 18, 18, 18, 18, 19, 22, 19, 36, 27, 39, 18, 28, 24, 18, 18, 19, 30, 19, 45, 38, 24, 19, 62, 48, 43, 41, 43, 47, 43, 30, 51, 36, 30, 37, 55, 23, 32, 45, 27, 24, 39, 35, 19, 48, 83, 63, 58, 82, 60, 28, 42, 30, 79, 96, 79, 91, 59, 89, 72, 92, 96, 65, 49, 70, 68, 91, 68, 71, 63, 100, 42, 94, 49, 95, 65, 85, 92, 57, 41, 67, 77, 34, 74, 70, 40, 65, 42, 38, 46, 54, 83, 54, 19]\n",
      "[18, 18, 19, 18, 18, 19, 19, 18, 18, 18, 18, 19, 22, 19, 36, 27, 39, 18, 28, 24, 18, 18, 19, 30, 19, 45, 38, 24, 19, 62, 48, 43, 41, 43, 47, 43, 30, 51, 36, 30, 37, 55, 23, 32, 45, 27, 24, 39, 35, 19, 48, 83, 63, 58, 82, 60, 28, 42, 30, 79, 96, 79, 91, 59, 89, 72, 92, 96, 65, 49, 70, 68, 91, 68, 71, 63, 100, 42, 94, 49, 95, 65, 85, 92, 57, 41, 67, 77, 34, 74, 70, 40, 65, 42, 38, 46, 54, 83, 54, 19]\n",
      "[18, 18, 19, 18, 18, 19, 19, 18, 18, 18, 18, 19, 22, 19, 36, 27, 39, 18, 28, 24, 18, 18, 19, 30, 19, 45, 38, 24, 19, 62, 48, 43, 41, 43, 47, 43, 30, 51, 36, 30, 37, 55, 23, 32, 45, 27, 24, 39, 35, 19, 48, 83, 63, 58, 82, 60, 28, 42, 30, 79, 96, 79, 91, 59, 89, 72, 92, 96, 65, 49, 70, 68, 91, 68, 71, 63, 100, 42, 94, 49, 95, 65, 85, 92, 57, 41, 67, 77, 34, 74, 70, 40, 65, 42, 38, 46, 54, 83, 54, 19]\n",
      "[18, 18, 19, 18, 18, 19, 19, 18, 18, 18, 18, 19, 22, 19, 36, 27, 39, 18, 28, 24, 18, 18, 19, 30, 19, 45, 38, 24, 19, 62, 48, 43, 41, 43, 47, 43, 30, 51, 36, 30, 37, 55, 23, 32, 45, 27, 24, 39, 35, 19, 48, 83, 63, 58, 82, 60, 28, 42, 30, 79, 96, 79, 91, 59, 89, 72, 92, 96, 65, 49, 70, 68, 91, 68, 71, 63, 100, 42, 94, 49, 95, 65, 85, 92, 57, 41, 67, 77, 34, 74, 70, 40, 65, 42, 38, 46, 54, 83, 54, 19]\n",
      "[18, 18, 19, 18, 18, 19, 19, 18, 18, 18, 18, 19, 22, 19, 36, 27, 39, 18, 28, 24, 18, 18, 19, 30, 19, 45, 38, 24, 19, 62, 48, 43, 41, 43, 47, 43, 30, 51, 36, 30, 37, 55, 23, 32, 45, 27, 24, 39, 35, 19, 48, 83, 63, 58, 82, 60, 28, 42, 30, 79, 96, 79, 91, 59, 89, 72, 92, 96, 65, 49, 70, 68, 91, 68, 71, 63, 100, 42, 94, 49, 95, 65, 85, 92, 57, 41, 67, 77, 34, 74, 70, 40, 65, 42, 38, 46, 54, 83, 54, 19]\n",
      "[18, 18, 19, 18, 18, 19, 19, 18, 18, 18, 18, 19, 22, 19, 36, 27, 39, 18, 28, 24, 18, 18, 19, 30, 19, 45, 38, 24, 19, 62, 48, 43, 41, 43, 47, 43, 30, 51, 36, 30, 37, 55, 23, 32, 45, 27, 24, 39, 35, 19, 48, 83, 63, 58, 82, 60, 28, 42, 30, 79, 96, 79, 91, 59, 89, 72, 92, 96, 65, 49, 70, 68, 91, 68, 71, 63, 100, 42, 94, 49, 95, 65, 85, 92, 57, 41, 67, 77, 34, 74, 70, 40, 65, 42, 38, 46, 54, 83, 54, 19]\n",
      "[18, 18, 19, 18, 18, 19, 19, 18, 18, 18, 18, 19, 22, 19, 36, 27, 39, 18, 28, 24, 18, 18, 19, 30, 19, 45, 38, 24, 19, 62, 48, 43, 41, 43, 47, 43, 30, 51, 36, 30, 37, 55, 23, 32, 45, 27, 24, 39, 35, 19, 48, 83, 63, 58, 82, 60, 28, 42, 30, 79, 96, 79, 91, 59, 89, 72, 92, 96, 65, 49, 70, 68, 91, 68, 71, 63, 100, 42, 94, 49, 95, 65, 85, 92, 57, 41, 67, 77, 34, 74, 70, 40, 65, 42, 38, 46, 54, 83, 54, 19]\n",
      "[18, 18, 19, 18, 18, 19, 19, 18, 18, 18, 18, 19, 22, 19, 36, 27, 39, 18, 28, 24, 18, 18, 19, 30, 19, 45, 38, 24, 19, 62, 48, 43, 41, 43, 47, 43, 30, 51, 36, 30, 37, 55, 23, 32, 45, 27, 24, 39, 35, 19, 48, 83, 63, 58, 82, 60, 28, 42, 30, 79, 96, 79, 91, 59, 89, 72, 92, 96, 65, 49, 70, 68, 91, 68, 71, 63, 100, 42, 94, 49, 95, 65, 85, 92, 57, 41, 67, 77, 34, 74, 70, 40, 65, 42, 38, 46, 54, 83, 54, 19]\n",
      "[18, 18, 19, 18, 18, 19, 19, 18, 18, 18, 18, 19, 22, 19, 36, 27, 39, 18, 28, 24, 18, 18, 19, 30, 19, 45, 38, 24, 19, 62, 48, 43, 41, 43, 47, 43, 30, 51, 36, 30, 37, 55, 23, 32, 45, 27, 24, 39, 35, 19, 48, 83, 63, 58, 82, 60, 28, 42, 30, 79, 96, 79, 91, 59, 89, 72, 92, 96, 65, 49, 70, 68, 91, 68, 71, 63, 100, 42, 94, 49, 95, 65, 85, 92, 57, 41, 67, 77, 34, 74, 70, 40, 65, 42, 38, 46, 54, 83, 54, 19]\n",
      "[18, 18, 19, 18, 18, 19, 19, 18, 18, 18, 18, 19, 22, 19, 36, 27, 39, 18, 28, 24, 18, 18, 19, 30, 19, 45, 38, 24, 19, 62, 48, 43, 41, 43, 47, 43, 30, 51, 36, 30, 37, 55, 23, 32, 45, 27, 24, 39, 35, 19, 48, 83, 63, 58, 82, 60, 28, 42, 30, 79, 96, 79, 91, 59, 89, 72, 92, 96, 65, 49, 70, 68, 91, 68, 71, 63, 100, 42, 94, 49, 95, 65, 85, 92, 57, 41, 67, 77, 34, 74, 70, 40, 65, 42, 38, 46, 54, 83, 54, 19]\n",
      "[18, 18, 19, 18, 18, 19, 19, 18, 18, 18, 18, 19, 22, 19, 36, 27, 39, 18, 28, 24, 18, 18, 19, 30, 19, 45, 38, 24, 19, 62, 48, 43, 41, 43, 47, 43, 30, 51, 36, 30, 37, 55, 23, 32, 45, 27, 24, 39, 35, 19, 48, 83, 63, 58, 82, 60, 28, 42, 30, 79, 96, 79, 91, 59, 89, 72, 92, 96, 65, 49, 70, 68, 91, 68, 71, 63, 100, 42, 94, 49, 95, 65, 85, 92, 57, 41, 67, 77, 34, 74, 70, 40, 65, 42, 38, 46, 54, 83, 54, 19]\n",
      "[18, 18, 19, 18, 18, 19, 19, 18, 18, 18, 18, 19, 22, 19, 36, 27, 39, 18, 28, 24, 18, 18, 19, 30, 19, 45, 38, 24, 19, 62, 48, 43, 41, 43, 47, 43, 30, 51, 36, 30, 37, 55, 23, 32, 45, 27, 24, 39, 35, 19, 48, 83, 63, 58, 82, 60, 28, 42, 30, 79, 96, 79, 91, 59, 89, 72, 92, 96, 65, 49, 70, 68, 91, 68, 71, 63, 100, 42, 94, 49, 95, 65, 85, 92, 57, 41, 67, 77, 34, 74, 70, 40, 65, 42, 38, 46, 54, 83, 54, 19]\n",
      "[18, 18, 19, 18, 18, 19, 19, 18, 18, 18, 18, 19, 22, 19, 36, 27, 39, 18, 28, 24, 18, 18, 19, 30, 19, 45, 38, 24, 19, 62, 48, 43, 41, 43, 47, 43, 30, 51, 36, 30, 37, 55, 23, 32, 45, 27, 24, 39, 35, 19, 48, 83, 63, 58, 82, 60, 28, 42, 30, 79, 96, 79, 91, 59, 89, 72, 92, 96, 65, 49, 70, 68, 91, 68, 71, 63, 100, 42, 94, 49, 95, 65, 85, 92, 57, 41, 67, 77, 34, 74, 70, 40, 65, 42, 38, 46, 54, 83, 54, 19]\n",
      "[18, 18, 19, 18, 18, 19, 19, 18, 18, 18, 18, 19, 22, 19, 36, 27, 39, 18, 28, 24, 18, 18, 19, 30, 19, 45, 38, 24, 19, 62, 48, 43, 41, 43, 47, 43, 30, 51, 36, 30, 37, 55, 23, 32, 45, 27, 24, 39, 35, 19, 48, 83, 63, 58, 82, 60, 28, 42, 30, 79, 96, 79, 91, 59, 89, 72, 92, 96, 65, 49, 70, 68, 91, 68, 71, 63, 100, 42, 94, 49, 95, 65, 85, 92, 57, 41, 67, 77, 34, 74, 70, 40, 65, 42, 38, 46, 54, 83, 54, 19]\n",
      "[18, 18, 19, 18, 18, 19, 19, 18, 18, 18, 18, 19, 22, 19, 36, 27, 39, 18, 28, 24, 18, 18, 19, 30, 19, 45, 38, 24, 19, 62, 48, 43, 41, 43, 47, 43, 30, 51, 36, 30, 37, 55, 23, 32, 45, 27, 24, 39, 35, 19, 48, 83, 63, 58, 82, 60, 28, 42, 30, 79, 96, 79, 91, 59, 89, 72, 92, 96, 65, 49, 70, 68, 91, 68, 71, 63, 100, 42, 94, 49, 95, 65, 85, 92, 57, 41, 67, 77, 34, 74, 70, 40, 65, 42, 38, 46, 54, 83, 54, 19]\n",
      "[18, 18, 19, 18, 18, 19, 19, 18, 18, 18, 18, 19, 22, 19, 36, 27, 39, 18, 28, 24, 18, 18, 19, 30, 19, 45, 38, 24, 19, 62, 48, 43, 41, 43, 47, 43, 30, 51, 36, 30, 37, 55, 23, 32, 45, 27, 24, 39, 35, 19, 48, 83, 63, 58, 82, 60, 28, 42, 30, 79, 96, 79, 91, 59, 89, 72, 92, 96, 65, 49, 70, 68, 91, 68, 71, 63, 100, 42, 94, 49, 95, 65, 85, 92, 57, 41, 67, 77, 34, 74, 70, 40, 65, 42, 38, 46, 54, 83, 54, 19]\n",
      "[18, 18, 19, 18, 18, 19, 19, 18, 18, 18, 18, 19, 22, 19, 36, 27, 39, 18, 28, 24, 18, 18, 19, 30, 19, 45, 38, 24, 19, 62, 48, 43, 41, 43, 47, 43, 30, 51, 36, 30, 37, 55, 23, 32, 45, 27, 24, 39, 35, 19, 48, 83, 63, 58, 82, 60, 28, 42, 30, 79, 96, 79, 91, 59, 89, 72, 92, 96, 65, 49, 70, 68, 91, 68, 71, 63, 100, 42, 94, 49, 95, 65, 85, 92, 57, 41, 67, 77, 34, 74, 70, 40, 65, 42, 38, 46, 54, 83, 54, 19]\n",
      "[18, 18, 19, 18, 18, 19, 19, 18, 18, 18, 18, 19, 22, 19, 36, 27, 39, 18, 28, 24, 18, 18, 19, 30, 19, 45, 38, 24, 19, 62, 48, 43, 41, 43, 47, 43, 30, 51, 36, 30, 37, 55, 23, 32, 45, 27, 24, 39, 35, 19, 48, 83, 63, 58, 82, 60, 28, 42, 30, 79, 96, 79, 91, 59, 89, 72, 92, 96, 65, 49, 70, 68, 91, 68, 71, 63, 100, 42, 94, 49, 95, 65, 85, 92, 57, 41, 67, 77, 34, 74, 70, 40, 65, 42, 38, 46, 54, 83, 54, 19]\n",
      "[18, 18, 19, 18, 18, 19, 19, 18, 18, 18, 18, 19, 22, 19, 36, 27, 39, 18, 28, 24, 18, 18, 19, 30, 19, 45, 38, 24, 19, 62, 48, 43, 41, 43, 47, 43, 30, 51, 36, 30, 37, 55, 23, 32, 45, 27, 24, 39, 35, 19, 48, 83, 63, 58, 82, 60, 28, 42, 30, 79, 96, 79, 91, 59, 89, 72, 92, 96, 65, 49, 70, 68, 91, 68, 71, 63, 100, 42, 94, 49, 95, 65, 85, 92, 57, 41, 67, 77, 34, 74, 70, 40, 65, 42, 38, 46, 54, 83, 54, 19]\n",
      "[18, 18, 19, 18, 18, 19, 19, 18, 18, 18, 18, 19, 22, 19, 36, 27, 39, 18, 28, 24, 18, 18, 19, 30, 19, 45, 38, 24, 19, 62, 48, 43, 41, 43, 47, 43, 30, 51, 36, 30, 37, 55, 23, 32, 45, 27, 24, 39, 35, 19, 48, 83, 63, 58, 82, 60, 28, 42, 30, 79, 96, 79, 91, 59, 89, 72, 92, 96, 65, 49, 70, 68, 91, 68, 71, 63, 100, 42, 94, 49, 95, 65, 85, 92, 57, 41, 67, 77, 34, 74, 70, 40, 65, 42, 38, 46, 54, 83, 54, 19]\n",
      "[18, 18, 19, 18, 18, 19, 19, 18, 18, 18, 18, 19, 22, 19, 36, 27, 39, 18, 28, 24, 18, 18, 19, 30, 19, 45, 38, 24, 19, 62, 48, 43, 41, 43, 47, 43, 30, 51, 36, 30, 37, 55, 23, 32, 45, 27, 24, 39, 35, 19, 48, 83, 63, 58, 82, 60, 28, 42, 30, 79, 96, 79, 91, 59, 89, 72, 92, 96, 65, 49, 70, 68, 91, 68, 71, 63, 100, 42, 94, 49, 95, 65, 85, 92, 57, 41, 67, 77, 34, 74, 70, 40, 65, 42, 38, 46, 54, 83, 54, 19]\n",
      "[18, 18, 19, 18, 18, 19, 19, 18, 18, 18, 18, 19, 22, 19, 36, 27, 39, 18, 28, 24, 18, 18, 19, 30, 19, 45, 38, 24, 19, 62, 48, 43, 41, 43, 47, 43, 30, 51, 36, 30, 37, 55, 23, 32, 45, 27, 24, 39, 35, 19, 48, 83, 63, 58, 82, 60, 28, 42, 30, 79, 96, 79, 91, 59, 89, 72, 92, 96, 65, 49, 70, 68, 91, 68, 71, 63, 100, 42, 94, 49, 95, 65, 85, 92, 57, 41, 67, 77, 34, 74, 70, 40, 65, 42, 38, 46, 54, 83, 54, 19]\n",
      "[18, 18, 19, 18, 18, 19, 19, 18, 18, 18, 18, 19, 22, 19, 36, 27, 39, 18, 28, 24, 18, 18, 19, 30, 19, 45, 38, 24, 19, 62, 48, 43, 41, 43, 47, 43, 30, 51, 36, 30, 37, 55, 23, 32, 45, 27, 24, 39, 35, 19, 48, 83, 63, 58, 82, 60, 28, 42, 30, 79, 96, 79, 91, 59, 89, 72, 92, 96, 65, 49, 70, 68, 91, 68, 71, 63, 100, 42, 94, 49, 95, 65, 85, 92, 57, 41, 67, 77, 34, 74, 70, 40, 65, 42, 38, 46, 54, 83, 54, 19]\n",
      "[18, 18, 19, 18, 18, 19, 19, 18, 18, 18, 18, 19, 22, 19, 36, 27, 39, 18, 28, 24, 18, 18, 19, 30, 19, 45, 38, 24, 19, 62, 48, 43, 41, 43, 47, 43, 30, 51, 36, 30, 37, 55, 23, 32, 45, 27, 24, 39, 35, 19, 48, 83, 63, 58, 82, 60, 28, 42, 30, 79, 96, 79, 91, 59, 89, 72, 92, 96, 65, 49, 70, 68, 91, 68, 71, 63, 100, 42, 94, 49, 95, 65, 85, 92, 57, 41, 67, 77, 34, 74, 70, 40, 65, 42, 38, 46, 54, 83, 54, 19]\n",
      "[18, 18, 19, 18, 18, 19, 19, 18, 18, 18, 18, 19, 22, 19, 36, 27, 39, 18, 28, 24, 18, 18, 19, 30, 19, 45, 38, 24, 19, 62, 48, 43, 41, 43, 47, 43, 30, 51, 36, 30, 37, 55, 23, 32, 45, 27, 24, 39, 35, 19, 48, 83, 63, 58, 82, 60, 28, 42, 30, 79, 96, 79, 91, 59, 89, 72, 92, 96, 65, 49, 70, 68, 91, 68, 71, 63, 100, 42, 94, 49, 95, 65, 85, 92, 57, 41, 67, 77, 34, 74, 70, 40, 65, 42, 38, 46, 54, 83, 54, 19]\n",
      "[18, 18, 19, 18, 18, 19, 19, 18, 18, 18, 18, 19, 22, 19, 36, 27, 39, 18, 28, 24, 18, 18, 19, 30, 19, 45, 38, 24, 19, 62, 48, 43, 41, 43, 47, 43, 30, 51, 36, 30, 37, 55, 23, 32, 45, 27, 24, 39, 35, 19, 48, 83, 63, 58, 82, 60, 28, 42, 30, 79, 96, 79, 91, 59, 89, 72, 92, 96, 65, 49, 70, 68, 91, 68, 71, 63, 100, 42, 94, 49, 95, 65, 85, 92, 57, 41, 67, 77, 34, 74, 70, 40, 65, 42, 38, 46, 54, 83, 54, 19]\n",
      "[18, 18, 19, 18, 18, 19, 19, 18, 18, 18, 18, 19, 22, 19, 36, 27, 39, 18, 28, 24, 18, 18, 19, 30, 19, 45, 38, 24, 19, 62, 48, 43, 41, 43, 47, 43, 30, 51, 36, 30, 37, 55, 23, 32, 45, 27, 24, 39, 35, 19, 48, 83, 63, 58, 82, 60, 28, 42, 30, 79, 96, 79, 91, 59, 89, 72, 92, 96, 65, 49, 70, 68, 91, 68, 71, 63, 100, 42, 94, 49, 95, 65, 85, 92, 57, 41, 67, 77, 34, 74, 70, 40, 65, 42, 38, 46, 54, 83, 54, 19]\n",
      "[18, 18, 19, 18, 18, 19, 19, 18, 18, 18, 18, 19, 22, 19, 36, 27, 39, 18, 28, 24, 18, 18, 19, 30, 19, 45, 38, 24, 19, 62, 48, 43, 41, 43, 47, 43, 30, 51, 36, 30, 37, 55, 23, 32, 45, 27, 24, 39, 35, 19, 48, 83, 63, 58, 82, 60, 28, 42, 30, 79, 96, 79, 91, 59, 89, 72, 92, 96, 65, 49, 70, 68, 91, 68, 71, 63, 100, 42, 94, 49, 95, 65, 85, 92, 57, 41, 67, 77, 34, 74, 70, 40, 65, 42, 38, 46, 54, 83, 54, 19]\n",
      "[18, 18, 19, 18, 18, 19, 19, 18, 18, 18, 18, 19, 22, 19, 36, 27, 39, 18, 28, 24, 18, 18, 19, 30, 19, 45, 38, 24, 19, 62, 48, 43, 41, 43, 47, 43, 30, 51, 36, 30, 37, 55, 23, 32, 45, 27, 24, 39, 35, 19, 48, 83, 63, 58, 82, 60, 28, 42, 30, 79, 96, 79, 91, 59, 89, 72, 92, 96, 65, 49, 70, 68, 91, 68, 71, 63, 100, 42, 94, 49, 95, 65, 85, 92, 57, 41, 67, 77, 34, 74, 70, 40, 65, 42, 38, 46, 54, 83, 54, 19]\n",
      "[18, 18, 19, 18, 18, 19, 19, 18, 18, 18, 18, 19, 22, 19, 36, 27, 39, 18, 28, 24, 18, 18, 19, 30, 19, 45, 38, 24, 19, 62, 48, 43, 41, 43, 47, 43, 30, 51, 36, 30, 37, 55, 23, 32, 45, 27, 24, 39, 35, 19, 48, 83, 63, 58, 82, 60, 28, 42, 30, 79, 96, 79, 91, 59, 89, 72, 92, 96, 65, 49, 70, 68, 91, 68, 71, 63, 100, 42, 94, 49, 95, 65, 85, 92, 57, 41, 67, 77, 34, 74, 70, 40, 65, 42, 38, 46, 54, 83, 54, 19]\n",
      "[18, 18, 19, 18, 18, 19, 19, 18, 18, 18, 18, 19, 22, 19, 36, 27, 39, 18, 28, 24, 18, 18, 19, 30, 19, 45, 38, 24, 19, 62, 48, 43, 41, 43, 47, 43, 30, 51, 36, 30, 37, 55, 23, 32, 45, 27, 24, 39, 35, 19, 48, 83, 63, 58, 82, 60, 28, 42, 30, 79, 96, 79, 91, 59, 89, 72, 92, 96, 65, 49, 70, 68, 91, 68, 71, 63, 100, 42, 94, 49, 95, 65, 85, 92, 57, 41, 67, 77, 34, 74, 70, 40, 65, 42, 38, 46, 54, 83, 54, 19]\n",
      "[18, 18, 19, 18, 18, 19, 19, 18, 18, 18, 18, 19, 22, 19, 36, 27, 39, 18, 28, 24, 18, 18, 19, 30, 19, 45, 38, 24, 19, 62, 48, 43, 41, 43, 47, 43, 30, 51, 36, 30, 37, 55, 23, 32, 45, 27, 24, 39, 35, 19, 48, 83, 63, 58, 82, 60, 28, 42, 30, 79, 96, 79, 91, 59, 89, 72, 92, 96, 65, 49, 70, 68, 91, 68, 71, 63, 100, 42, 94, 49, 95, 65, 85, 92, 57, 41, 67, 77, 34, 74, 70, 40, 65, 42, 38, 46, 54, 83, 54, 19]\n",
      "[18, 18, 19, 18, 18, 19, 19, 18, 18, 18, 18, 19, 22, 19, 36, 27, 39, 18, 28, 24, 18, 18, 19, 30, 19, 45, 38, 24, 19, 62, 48, 43, 41, 43, 47, 43, 30, 51, 36, 30, 37, 55, 23, 32, 45, 27, 24, 39, 35, 19, 48, 83, 63, 58, 82, 60, 28, 42, 30, 79, 96, 79, 91, 59, 89, 72, 92, 96, 65, 49, 70, 68, 91, 68, 71, 63, 100, 42, 94, 49, 95, 65, 85, 92, 57, 41, 67, 77, 34, 74, 70, 40, 65, 42, 38, 46, 54, 83, 54, 19]\n",
      "[18, 18, 19, 18, 18, 19, 19, 18, 18, 18, 18, 19, 22, 19, 36, 27, 39, 18, 28, 24, 18, 18, 19, 30, 19, 45, 38, 24, 19, 62, 48, 43, 41, 43, 47, 43, 30, 51, 36, 30, 37, 55, 23, 32, 45, 27, 24, 39, 35, 19, 48, 83, 63, 58, 82, 60, 28, 42, 30, 79, 96, 79, 91, 59, 89, 72, 92, 96, 65, 49, 70, 68, 91, 68, 71, 63, 100, 42, 94, 49, 95, 65, 85, 92, 57, 41, 67, 77, 34, 74, 70, 40, 65, 42, 38, 46, 54, 83, 54, 19]\n",
      "[18, 18, 19, 18, 18, 19, 19, 18, 18, 18, 18, 19, 22, 19, 36, 27, 39, 18, 28, 24, 18, 18, 19, 30, 19, 45, 38, 24, 19, 62, 48, 43, 41, 43, 47, 43, 30, 51, 36, 30, 37, 55, 23, 32, 45, 27, 24, 39, 35, 19, 48, 83, 63, 58, 82, 60, 28, 42, 30, 79, 96, 79, 91, 59, 89, 72, 92, 96, 65, 49, 70, 68, 91, 68, 71, 63, 100, 42, 94, 49, 95, 65, 85, 92, 57, 41, 67, 77, 34, 74, 70, 40, 65, 42, 38, 46, 54, 83, 54, 19]\n",
      "[18, 18, 19, 18, 18, 19, 19, 18, 18, 18, 18, 19, 22, 19, 36, 27, 39, 18, 28, 24, 18, 18, 19, 30, 19, 45, 38, 24, 19, 62, 48, 43, 41, 43, 47, 43, 30, 51, 36, 30, 37, 55, 23, 32, 45, 27, 24, 39, 35, 19, 48, 83, 63, 58, 82, 60, 28, 42, 30, 79, 96, 79, 91, 59, 89, 72, 92, 96, 65, 49, 70, 68, 91, 68, 71, 63, 100, 42, 94, 49, 95, 65, 85, 92, 57, 41, 67, 77, 34, 74, 70, 40, 65, 42, 38, 46, 54, 83, 54, 19]\n",
      "[18, 18, 19, 18, 18, 19, 19, 18, 18, 18, 18, 19, 22, 19, 36, 27, 39, 18, 28, 24, 18, 18, 19, 30, 19, 45, 38, 24, 19, 62, 48, 43, 41, 43, 47, 43, 30, 51, 36, 30, 37, 55, 23, 32, 45, 27, 24, 39, 35, 19, 48, 83, 63, 58, 82, 60, 28, 42, 30, 79, 96, 79, 91, 59, 89, 72, 92, 96, 65, 49, 70, 68, 91, 68, 71, 63, 100, 42, 94, 49, 95, 65, 85, 92, 57, 41, 67, 77, 34, 74, 70, 40, 65, 42, 38, 46, 54, 83, 54, 19]\n",
      "[18, 18, 19, 18, 18, 19, 19, 18, 18, 18, 18, 19, 22, 19, 36, 27, 39, 18, 28, 24, 18, 18, 19, 30, 19, 45, 38, 24, 19, 62, 48, 43, 41, 43, 47, 43, 30, 51, 36, 30, 37, 55, 23, 32, 45, 27, 24, 39, 35, 19, 48, 83, 63, 58, 82, 60, 28, 42, 30, 79, 96, 79, 91, 59, 89, 72, 92, 96, 65, 49, 70, 68, 91, 68, 71, 63, 100, 42, 94, 49, 95, 65, 85, 92, 57, 41, 67, 77, 34, 74, 70, 40, 65, 42, 38, 46, 54, 83, 54, 19]\n",
      "[18, 18, 19, 18, 18, 19, 19, 18, 18, 18, 18, 19, 22, 19, 36, 27, 39, 18, 28, 24, 18, 18, 19, 30, 19, 45, 38, 24, 19, 62, 48, 43, 41, 43, 47, 43, 30, 51, 36, 30, 37, 55, 23, 32, 45, 27, 24, 39, 35, 19, 48, 83, 63, 58, 82, 60, 28, 42, 30, 79, 96, 79, 91, 59, 89, 72, 92, 96, 65, 49, 70, 68, 91, 68, 71, 63, 100, 42, 94, 49, 95, 65, 85, 92, 57, 41, 67, 77, 34, 74, 70, 40, 65, 42, 38, 46, 54, 83, 54, 19]\n",
      "[18, 18, 19, 18, 18, 19, 19, 18, 18, 18, 18, 19, 22, 19, 36, 27, 39, 18, 28, 24, 18, 18, 19, 30, 19, 45, 38, 24, 19, 62, 48, 43, 41, 43, 47, 43, 30, 51, 36, 30, 37, 55, 23, 32, 45, 27, 24, 39, 35, 19, 48, 83, 63, 58, 82, 60, 28, 42, 30, 79, 96, 79, 91, 59, 89, 72, 92, 96, 65, 49, 70, 68, 91, 68, 71, 63, 100, 42, 94, 49, 95, 65, 85, 92, 57, 41, 67, 77, 34, 74, 70, 40, 65, 42, 38, 46, 54, 83, 54, 19]\n",
      "[18, 18, 19, 18, 18, 19, 19, 18, 18, 18, 18, 19, 22, 19, 36, 27, 39, 18, 28, 24, 18, 18, 19, 30, 19, 45, 38, 24, 19, 62, 48, 43, 41, 43, 47, 43, 30, 51, 36, 30, 37, 55, 23, 32, 45, 27, 24, 39, 35, 19, 48, 83, 63, 58, 82, 60, 28, 42, 30, 79, 96, 79, 91, 59, 89, 72, 92, 96, 65, 49, 70, 68, 91, 68, 71, 63, 100, 42, 94, 49, 95, 65, 85, 92, 57, 41, 67, 77, 34, 74, 70, 40, 65, 42, 38, 46, 54, 83, 54, 19]\n",
      "[18, 18, 19, 18, 18, 19, 19, 18, 18, 18, 18, 19, 22, 19, 36, 27, 39, 18, 28, 24, 18, 18, 19, 30, 19, 45, 38, 24, 19, 62, 48, 43, 41, 43, 47, 43, 30, 51, 36, 30, 37, 55, 23, 32, 45, 27, 24, 39, 35, 19, 48, 83, 63, 58, 82, 60, 28, 42, 30, 79, 96, 79, 91, 59, 89, 72, 92, 96, 65, 49, 70, 68, 91, 68, 71, 63, 100, 42, 94, 49, 95, 65, 85, 92, 57, 41, 67, 77, 34, 74, 70, 40, 65, 42, 38, 46, 54, 83, 54, 19]\n",
      "[18, 18, 19, 18, 18, 19, 19, 18, 18, 18, 18, 19, 22, 19, 36, 27, 39, 18, 28, 24, 18, 18, 19, 30, 19, 45, 38, 24, 19, 62, 48, 43, 41, 43, 47, 43, 30, 51, 36, 30, 37, 55, 23, 32, 45, 27, 24, 39, 35, 19, 48, 83, 63, 58, 82, 60, 28, 42, 30, 79, 96, 79, 91, 59, 89, 72, 92, 96, 65, 49, 70, 68, 91, 68, 71, 63, 100, 42, 94, 49, 95, 65, 85, 92, 57, 41, 67, 77, 34, 74, 70, 40, 65, 42, 38, 46, 54, 83, 54, 19]\n",
      "[18, 18, 19, 18, 18, 19, 19, 18, 18, 18, 18, 19, 22, 19, 36, 27, 39, 18, 28, 24, 18, 18, 19, 30, 19, 45, 38, 24, 19, 62, 48, 43, 41, 43, 47, 43, 30, 51, 36, 30, 37, 55, 23, 32, 45, 27, 24, 39, 35, 19, 48, 83, 63, 58, 82, 60, 28, 42, 30, 79, 96, 79, 91, 59, 89, 72, 92, 96, 65, 49, 70, 68, 91, 68, 71, 63, 100, 42, 94, 49, 95, 65, 85, 92, 57, 41, 67, 77, 34, 74, 70, 40, 65, 42, 38, 46, 54, 83, 54, 19]\n",
      "[18, 18, 19, 18, 18, 19, 19, 18, 18, 18, 18, 19, 22, 19, 36, 27, 39, 18, 28, 24, 18, 18, 19, 30, 19, 45, 38, 24, 19, 62, 48, 43, 41, 43, 47, 43, 30, 51, 36, 30, 37, 55, 23, 32, 45, 27, 24, 39, 35, 19, 48, 83, 63, 58, 82, 60, 28, 42, 30, 79, 96, 79, 91, 59, 89, 72, 92, 96, 65, 49, 70, 68, 91, 68, 71, 63, 100, 42, 94, 49, 95, 65, 85, 92, 57, 41, 67, 77, 34, 74, 70, 40, 65, 42, 38, 46, 54, 83, 54, 19]\n",
      "[18, 18, 19, 18, 18, 19, 19, 18, 18, 18, 18, 19, 22, 19, 36, 27, 39, 18, 28, 24, 18, 18, 19, 30, 19, 45, 38, 24, 19, 62, 48, 43, 41, 43, 47, 43, 30, 51, 36, 30, 37, 55, 23, 32, 45, 27, 24, 39, 35, 19, 48, 83, 63, 58, 82, 60, 28, 42, 30, 79, 96, 79, 91, 59, 89, 72, 92, 96, 65, 49, 70, 68, 91, 68, 71, 63, 100, 42, 94, 49, 95, 65, 85, 92, 57, 41, 67, 77, 34, 74, 70, 40, 65, 42, 38, 46, 54, 83, 54, 19]\n",
      "[18, 18, 19, 18, 18, 19, 19, 18, 18, 18, 18, 19, 22, 19, 36, 27, 39, 18, 28, 24, 18, 18, 19, 30, 19, 45, 38, 24, 19, 62, 48, 43, 41, 43, 47, 43, 30, 51, 36, 30, 37, 55, 23, 32, 45, 27, 24, 39, 35, 19, 48, 83, 63, 58, 82, 60, 28, 42, 30, 79, 96, 79, 91, 59, 89, 72, 92, 96, 65, 49, 70, 68, 91, 68, 71, 63, 100, 42, 94, 49, 95, 65, 85, 92, 57, 41, 67, 77, 34, 74, 70, 40, 65, 42, 38, 46, 54, 83, 54, 19]\n",
      "[18, 18, 19, 18, 18, 19, 19, 18, 18, 18, 18, 19, 22, 19, 36, 27, 39, 18, 28, 24, 18, 18, 19, 30, 19, 45, 38, 24, 19, 62, 48, 43, 41, 43, 47, 43, 30, 51, 36, 30, 37, 55, 23, 32, 45, 27, 24, 39, 35, 19, 48, 83, 63, 58, 82, 60, 28, 42, 30, 79, 96, 79, 91, 59, 89, 72, 92, 96, 65, 49, 70, 68, 91, 68, 71, 63, 100, 42, 94, 49, 95, 65, 85, 92, 57, 41, 67, 77, 34, 74, 70, 40, 65, 42, 38, 46, 54, 83, 54, 19]\n",
      "[18, 18, 19, 18, 18, 19, 19, 18, 18, 18, 18, 19, 22, 19, 36, 27, 39, 18, 28, 24, 18, 18, 19, 30, 19, 45, 38, 24, 19, 62, 48, 43, 41, 43, 47, 43, 30, 51, 36, 30, 37, 55, 23, 32, 45, 27, 24, 39, 35, 19, 48, 83, 63, 58, 82, 60, 28, 42, 30, 79, 96, 79, 91, 59, 89, 72, 92, 96, 65, 49, 70, 68, 91, 68, 71, 63, 100, 42, 94, 49, 95, 65, 85, 92, 57, 41, 67, 77, 34, 74, 70, 40, 65, 42, 38, 46, 54, 83, 54, 19]\n",
      "[18, 18, 19, 18, 18, 19, 19, 18, 18, 18, 18, 19, 22, 19, 36, 27, 39, 18, 28, 24, 18, 18, 19, 30, 19, 45, 38, 24, 19, 62, 48, 43, 41, 43, 47, 43, 30, 51, 36, 30, 37, 55, 23, 32, 45, 27, 24, 39, 35, 19, 48, 83, 63, 58, 82, 60, 28, 42, 30, 79, 96, 79, 91, 59, 89, 72, 92, 96, 65, 49, 70, 68, 91, 68, 71, 63, 100, 42, 94, 49, 95, 65, 85, 92, 57, 41, 67, 77, 34, 74, 70, 40, 65, 42, 38, 46, 54, 83, 54, 19]\n",
      "[18, 18, 19, 18, 18, 19, 19, 18, 18, 18, 18, 19, 22, 19, 36, 27, 39, 18, 28, 24, 18, 18, 19, 30, 19, 45, 38, 24, 19, 62, 48, 43, 41, 43, 47, 43, 30, 51, 36, 30, 37, 55, 23, 32, 45, 27, 24, 39, 35, 19, 48, 83, 63, 58, 82, 60, 28, 42, 30, 79, 96, 79, 91, 59, 89, 72, 92, 96, 65, 49, 70, 68, 91, 68, 71, 63, 100, 42, 94, 49, 95, 65, 85, 92, 57, 41, 67, 77, 34, 74, 70, 40, 65, 42, 38, 46, 54, 83, 54, 19]\n",
      "[18, 18, 19, 18, 18, 19, 19, 18, 18, 18, 18, 19, 22, 19, 36, 27, 39, 18, 28, 24, 18, 18, 19, 30, 19, 45, 38, 24, 19, 62, 48, 43, 41, 43, 47, 43, 30, 51, 36, 30, 37, 55, 23, 32, 45, 27, 24, 39, 35, 19, 48, 83, 63, 58, 82, 60, 28, 42, 30, 79, 96, 79, 91, 59, 89, 72, 92, 96, 65, 49, 70, 68, 91, 68, 71, 63, 100, 42, 94, 49, 95, 65, 85, 92, 57, 41, 67, 77, 34, 74, 70, 40, 65, 42, 38, 46, 54, 83, 54, 19]\n",
      "[18, 18, 19, 18, 18, 19, 19, 18, 18, 18, 18, 19, 22, 19, 36, 27, 39, 18, 28, 24, 18, 18, 19, 30, 19, 45, 38, 24, 19, 62, 48, 43, 41, 43, 47, 43, 30, 51, 36, 30, 37, 55, 23, 32, 45, 27, 24, 39, 35, 19, 48, 83, 63, 58, 82, 60, 28, 42, 30, 79, 96, 79, 91, 59, 89, 72, 92, 96, 65, 49, 70, 68, 91, 68, 71, 63, 100, 42, 94, 49, 95, 65, 85, 92, 57, 41, 67, 77, 34, 74, 70, 40, 65, 42, 38, 46, 54, 83, 54, 19]\n",
      "[18, 18, 19, 18, 18, 19, 19, 18, 18, 18, 18, 19, 22, 19, 36, 27, 39, 18, 28, 24, 18, 18, 19, 30, 19, 45, 38, 24, 19, 62, 48, 43, 41, 43, 47, 43, 30, 51, 36, 30, 37, 55, 23, 32, 45, 27, 24, 39, 35, 19, 48, 83, 63, 58, 82, 60, 28, 42, 30, 79, 96, 79, 91, 59, 89, 72, 92, 96, 65, 49, 70, 68, 91, 68, 71, 63, 100, 42, 94, 49, 95, 65, 85, 92, 57, 41, 67, 77, 34, 74, 70, 40, 65, 42, 38, 46, 54, 83, 54, 19]\n",
      "[18, 18, 19, 18, 18, 19, 19, 18, 18, 18, 18, 19, 22, 19, 36, 27, 39, 18, 28, 24, 18, 18, 19, 30, 19, 45, 38, 24, 19, 62, 48, 43, 41, 43, 47, 43, 30, 51, 36, 30, 37, 55, 23, 32, 45, 27, 24, 39, 35, 19, 48, 83, 63, 58, 82, 60, 28, 42, 30, 79, 96, 79, 91, 59, 89, 72, 92, 96, 65, 49, 70, 68, 91, 68, 71, 63, 100, 42, 94, 49, 95, 65, 85, 92, 57, 41, 67, 77, 34, 74, 70, 40, 65, 42, 38, 46, 54, 83, 54, 19]\n",
      "[18, 18, 19, 18, 18, 19, 19, 18, 18, 18, 18, 19, 22, 19, 36, 27, 39, 18, 28, 24, 18, 18, 19, 30, 19, 45, 38, 24, 19, 62, 48, 43, 41, 43, 47, 43, 30, 51, 36, 30, 37, 55, 23, 32, 45, 27, 24, 39, 35, 19, 48, 83, 63, 58, 82, 60, 28, 42, 30, 79, 96, 79, 91, 59, 89, 72, 92, 96, 65, 49, 70, 68, 91, 68, 71, 63, 100, 42, 94, 49, 95, 65, 85, 92, 57, 41, 67, 77, 34, 74, 70, 40, 65, 42, 38, 46, 54, 83, 54, 19]\n",
      "[18, 18, 19, 18, 18, 19, 19, 18, 18, 18, 18, 19, 22, 19, 36, 27, 39, 18, 28, 24, 18, 18, 19, 30, 19, 45, 38, 24, 19, 62, 48, 43, 41, 43, 47, 43, 30, 51, 36, 30, 37, 55, 23, 32, 45, 27, 24, 39, 35, 19, 48, 83, 63, 58, 82, 60, 28, 42, 30, 79, 96, 79, 91, 59, 89, 72, 92, 96, 65, 49, 70, 68, 91, 68, 71, 63, 100, 42, 94, 49, 95, 65, 85, 92, 57, 41, 67, 77, 34, 74, 70, 40, 65, 42, 38, 46, 54, 83, 54, 19]\n",
      "[18, 18, 19, 18, 18, 19, 19, 18, 18, 18, 18, 19, 22, 19, 36, 27, 39, 18, 28, 24, 18, 18, 19, 30, 19, 45, 38, 24, 19, 62, 48, 43, 41, 43, 47, 43, 30, 51, 36, 30, 37, 55, 23, 32, 45, 27, 24, 39, 35, 19, 48, 83, 63, 58, 82, 60, 28, 42, 30, 79, 96, 79, 91, 59, 89, 72, 92, 96, 65, 49, 70, 68, 91, 68, 71, 63, 100, 42, 94, 49, 95, 65, 85, 92, 57, 41, 67, 77, 34, 74, 70, 40, 65, 42, 38, 46, 54, 83, 54, 19]\n",
      "[18, 18, 19, 18, 18, 19, 19, 18, 18, 18, 18, 19, 22, 19, 36, 27, 39, 18, 28, 24, 18, 18, 19, 30, 19, 45, 38, 24, 19, 62, 48, 43, 41, 43, 47, 43, 30, 51, 36, 30, 37, 55, 23, 32, 45, 27, 24, 39, 35, 19, 48, 83, 63, 58, 82, 60, 28, 42, 30, 79, 96, 79, 91, 59, 89, 72, 92, 96, 65, 49, 70, 68, 91, 68, 71, 63, 100, 42, 94, 49, 95, 65, 85, 92, 57, 41, 67, 77, 34, 74, 70, 40, 65, 42, 38, 46, 54, 83, 54, 19]\n",
      "[18, 18, 19, 18, 18, 19, 19, 18, 18, 18, 18, 19, 22, 19, 36, 27, 39, 18, 28, 24, 18, 18, 19, 30, 19, 45, 38, 24, 19, 62, 48, 43, 41, 43, 47, 43, 30, 51, 36, 30, 37, 55, 23, 32, 45, 27, 24, 39, 35, 19, 48, 83, 63, 58, 82, 60, 28, 42, 30, 79, 96, 79, 91, 59, 89, 72, 92, 96, 65, 49, 70, 68, 91, 68, 71, 63, 100, 42, 94, 49, 95, 65, 85, 92, 57, 41, 67, 77, 34, 74, 70, 40, 65, 42, 38, 46, 54, 83, 54, 19]\n",
      "[18, 18, 19, 18, 18, 19, 19, 18, 18, 18, 18, 19, 22, 19, 36, 27, 39, 18, 28, 24, 18, 18, 19, 30, 19, 45, 38, 24, 19, 62, 48, 43, 41, 43, 47, 43, 30, 51, 36, 30, 37, 55, 23, 32, 45, 27, 24, 39, 35, 19, 48, 83, 63, 58, 82, 60, 28, 42, 30, 79, 96, 79, 91, 59, 89, 72, 92, 96, 65, 49, 70, 68, 91, 68, 71, 63, 100, 42, 94, 49, 95, 65, 85, 92, 57, 41, 67, 77, 34, 74, 70, 40, 65, 42, 38, 46, 54, 83, 54, 19]\n",
      "[18, 18, 19, 18, 18, 19, 19, 18, 18, 18, 18, 19, 22, 19, 36, 27, 39, 18, 28, 24, 18, 18, 19, 30, 19, 45, 38, 24, 19, 62, 48, 43, 41, 43, 47, 43, 30, 51, 36, 30, 37, 55, 23, 32, 45, 27, 24, 39, 35, 19, 48, 83, 63, 58, 82, 60, 28, 42, 30, 79, 96, 79, 91, 59, 89, 72, 92, 96, 65, 49, 70, 68, 91, 68, 71, 63, 100, 42, 94, 49, 95, 65, 85, 92, 57, 41, 67, 77, 34, 74, 70, 40, 65, 42, 38, 46, 54, 83, 54, 19]\n",
      "[18, 18, 19, 18, 18, 19, 19, 18, 18, 18, 18, 19, 22, 19, 36, 27, 39, 18, 28, 24, 18, 18, 19, 30, 19, 45, 38, 24, 19, 62, 48, 43, 41, 43, 47, 43, 30, 51, 36, 30, 37, 55, 23, 32, 45, 27, 24, 39, 35, 19, 48, 83, 63, 58, 82, 60, 28, 42, 30, 79, 96, 79, 91, 59, 89, 72, 92, 96, 65, 49, 70, 68, 91, 68, 71, 63, 100, 42, 94, 49, 95, 65, 85, 92, 57, 41, 67, 77, 34, 74, 70, 40, 65, 42, 38, 46, 54, 83, 54, 19]\n",
      "[18, 18, 19, 18, 18, 19, 19, 18, 18, 18, 18, 19, 22, 19, 36, 27, 39, 18, 28, 24, 18, 18, 19, 30, 19, 45, 38, 24, 19, 62, 48, 43, 41, 43, 47, 43, 30, 51, 36, 30, 37, 55, 23, 32, 45, 27, 24, 39, 35, 19, 48, 83, 63, 58, 82, 60, 28, 42, 30, 79, 96, 79, 91, 59, 89, 72, 92, 96, 65, 49, 70, 68, 91, 68, 71, 63, 100, 42, 94, 49, 95, 65, 85, 92, 57, 41, 67, 77, 34, 74, 70, 40, 65, 42, 38, 46, 54, 83, 54, 19]\n",
      "[18, 18, 19, 18, 18, 19, 19, 18, 18, 18, 18, 19, 22, 19, 36, 27, 39, 18, 28, 24, 18, 18, 19, 30, 19, 45, 38, 24, 19, 62, 48, 43, 41, 43, 47, 43, 30, 51, 36, 30, 37, 55, 23, 32, 45, 27, 24, 39, 35, 19, 48, 83, 63, 58, 82, 60, 28, 42, 30, 79, 96, 79, 91, 59, 89, 72, 92, 96, 65, 49, 70, 68, 91, 68, 71, 63, 100, 42, 94, 49, 95, 65, 85, 92, 57, 41, 67, 77, 34, 74, 70, 40, 65, 42, 38, 46, 54, 83, 54, 19]\n",
      "[18, 18, 19, 18, 18, 19, 19, 18, 18, 18, 18, 19, 22, 19, 36, 27, 39, 18, 28, 24, 18, 18, 19, 30, 19, 45, 38, 24, 19, 62, 48, 43, 41, 43, 47, 43, 30, 51, 36, 30, 37, 55, 23, 32, 45, 27, 24, 39, 35, 19, 48, 83, 63, 58, 82, 60, 28, 42, 30, 79, 96, 79, 91, 59, 89, 72, 92, 96, 65, 49, 70, 68, 91, 68, 71, 63, 100, 42, 94, 49, 95, 65, 85, 92, 57, 41, 67, 77, 34, 74, 70, 40, 65, 42, 38, 46, 54, 83, 54, 19]\n",
      "[18, 18, 19, 18, 18, 19, 19, 18, 18, 18, 18, 19, 22, 19, 36, 27, 39, 18, 28, 24, 18, 18, 19, 30, 19, 45, 38, 24, 19, 62, 48, 43, 41, 43, 47, 43, 30, 51, 36, 30, 37, 55, 23, 32, 45, 27, 24, 39, 35, 19, 48, 83, 63, 58, 82, 60, 28, 42, 30, 79, 96, 79, 91, 59, 89, 72, 92, 96, 65, 49, 70, 68, 91, 68, 71, 63, 100, 42, 94, 49, 95, 65, 85, 92, 57, 41, 67, 77, 34, 74, 70, 40, 65, 42, 38, 46, 54, 83, 54, 19]\n",
      "[18, 18, 19, 18, 18, 19, 19, 18, 18, 18, 18, 19, 22, 19, 36, 27, 39, 18, 28, 24, 18, 18, 19, 30, 19, 45, 38, 24, 19, 62, 48, 43, 41, 43, 47, 43, 30, 51, 36, 30, 37, 55, 23, 32, 45, 27, 24, 39, 35, 19, 48, 83, 63, 58, 82, 60, 28, 42, 30, 79, 96, 79, 91, 59, 89, 72, 92, 96, 65, 49, 70, 68, 91, 68, 71, 63, 100, 42, 94, 49, 95, 65, 85, 92, 57, 41, 67, 77, 34, 74, 70, 40, 65, 42, 38, 46, 54, 83, 54, 19]\n",
      "[18, 18, 19, 18, 18, 19, 19, 18, 18, 18, 18, 19, 22, 19, 36, 27, 39, 18, 28, 24, 18, 18, 19, 30, 19, 45, 38, 24, 19, 62, 48, 43, 41, 43, 47, 43, 30, 51, 36, 30, 37, 55, 23, 32, 45, 27, 24, 39, 35, 19, 48, 83, 63, 58, 82, 60, 28, 42, 30, 79, 96, 79, 91, 59, 89, 72, 92, 96, 65, 49, 70, 68, 91, 68, 71, 63, 100, 42, 94, 49, 95, 65, 85, 92, 57, 41, 67, 77, 34, 74, 70, 40, 65, 42, 38, 46, 54, 83, 54, 19]\n",
      "[18, 18, 19, 18, 18, 19, 19, 18, 18, 18, 18, 19, 22, 19, 36, 27, 39, 18, 28, 24, 18, 18, 19, 30, 19, 45, 38, 24, 19, 62, 48, 43, 41, 43, 47, 43, 30, 51, 36, 30, 37, 55, 23, 32, 45, 27, 24, 39, 35, 19, 48, 83, 63, 58, 82, 60, 28, 42, 30, 79, 96, 79, 91, 59, 89, 72, 92, 96, 65, 49, 70, 68, 91, 68, 71, 63, 100, 42, 94, 49, 95, 65, 85, 92, 57, 41, 67, 77, 34, 74, 70, 40, 65, 42, 38, 46, 54, 83, 54, 19]\n",
      "[18, 18, 19, 18, 18, 19, 19, 18, 18, 18, 18, 19, 22, 19, 36, 27, 39, 18, 28, 24, 18, 18, 19, 30, 19, 45, 38, 24, 19, 62, 48, 43, 41, 43, 47, 43, 30, 51, 36, 30, 37, 55, 23, 32, 45, 27, 24, 39, 35, 19, 48, 83, 63, 58, 82, 60, 28, 42, 30, 79, 96, 79, 91, 59, 89, 72, 92, 96, 65, 49, 70, 68, 91, 68, 71, 63, 100, 42, 94, 49, 95, 65, 85, 92, 57, 41, 67, 77, 34, 74, 70, 40, 65, 42, 38, 46, 54, 83, 54, 19]\n",
      "[18, 18, 19, 18, 18, 19, 19, 18, 18, 18, 18, 19, 22, 19, 36, 27, 39, 18, 28, 24, 18, 18, 19, 30, 19, 45, 38, 24, 19, 62, 48, 43, 41, 43, 47, 43, 30, 51, 36, 30, 37, 55, 23, 32, 45, 27, 24, 39, 35, 19, 48, 83, 63, 58, 82, 60, 28, 42, 30, 79, 96, 79, 91, 59, 89, 72, 92, 96, 65, 49, 70, 68, 91, 68, 71, 63, 100, 42, 94, 49, 95, 65, 85, 92, 57, 41, 67, 77, 34, 74, 70, 40, 65, 42, 38, 46, 54, 83, 54, 19]\n",
      "[18, 18, 19, 18, 18, 19, 19, 18, 18, 18, 18, 19, 22, 19, 36, 27, 39, 18, 28, 24, 18, 18, 19, 30, 19, 45, 38, 24, 19, 62, 48, 43, 41, 43, 47, 43, 30, 51, 36, 30, 37, 55, 23, 32, 45, 27, 24, 39, 35, 19, 48, 83, 63, 58, 82, 60, 28, 42, 30, 79, 96, 79, 91, 59, 89, 72, 92, 96, 65, 49, 70, 68, 91, 68, 71, 63, 100, 42, 94, 49, 95, 65, 85, 92, 57, 41, 67, 77, 34, 74, 70, 40, 65, 42, 38, 46, 54, 83, 54, 19]\n",
      "[18, 18, 19, 18, 18, 19, 19, 18, 18, 18, 18, 19, 22, 19, 36, 27, 39, 18, 28, 24, 18, 18, 19, 30, 19, 45, 38, 24, 19, 62, 48, 43, 41, 43, 47, 43, 30, 51, 36, 30, 37, 55, 23, 32, 45, 27, 24, 39, 35, 19, 48, 83, 63, 58, 82, 60, 28, 42, 30, 79, 96, 79, 91, 59, 89, 72, 92, 96, 65, 49, 70, 68, 91, 68, 71, 63, 100, 42, 94, 49, 95, 65, 85, 92, 57, 41, 67, 77, 34, 74, 70, 40, 65, 42, 38, 46, 54, 83, 54, 19]\n",
      "[18, 18, 19, 18, 18, 19, 19, 18, 18, 18, 18, 19, 22, 19, 36, 27, 39, 18, 28, 24, 18, 18, 19, 30, 19, 45, 38, 24, 19, 62, 48, 43, 41, 43, 47, 43, 30, 51, 36, 30, 37, 55, 23, 32, 45, 27, 24, 39, 35, 19, 48, 83, 63, 58, 82, 60, 28, 42, 30, 79, 96, 79, 91, 59, 89, 72, 92, 96, 65, 49, 70, 68, 91, 68, 71, 63, 100, 42, 94, 49, 95, 65, 85, 92, 57, 41, 67, 77, 34, 74, 70, 40, 65, 42, 38, 46, 54, 83, 54, 19]\n",
      "[18, 18, 19, 18, 18, 19, 19, 18, 18, 18, 18, 19, 22, 19, 36, 27, 39, 18, 28, 24, 18, 18, 19, 30, 19, 45, 38, 24, 19, 62, 48, 43, 41, 43, 47, 43, 30, 51, 36, 30, 37, 55, 23, 32, 45, 27, 24, 39, 35, 19, 48, 83, 63, 58, 82, 60, 28, 42, 30, 79, 96, 79, 91, 59, 89, 72, 92, 96, 65, 49, 70, 68, 91, 68, 71, 63, 100, 42, 94, 49, 95, 65, 85, 92, 57, 41, 67, 77, 34, 74, 70, 40, 65, 42, 38, 46, 54, 83, 54, 19]\n",
      "[18, 18, 19, 18, 18, 19, 19, 18, 18, 18, 18, 19, 22, 19, 36, 27, 39, 18, 28, 24, 18, 18, 19, 30, 19, 45, 38, 24, 19, 62, 48, 43, 41, 43, 47, 43, 30, 51, 36, 30, 37, 55, 23, 32, 45, 27, 24, 39, 35, 19, 48, 83, 63, 58, 82, 60, 28, 42, 30, 79, 96, 79, 91, 59, 89, 72, 92, 96, 65, 49, 70, 68, 91, 68, 71, 63, 100, 42, 94, 49, 95, 65, 85, 92, 57, 41, 67, 77, 34, 74, 70, 40, 65, 42, 38, 46, 54, 83, 54, 19]\n",
      "[18, 18, 19, 18, 18, 19, 19, 18, 18, 18, 18, 19, 22, 19, 36, 27, 39, 18, 28, 24, 18, 18, 19, 30, 19, 45, 38, 24, 19, 62, 48, 43, 41, 43, 47, 43, 30, 51, 36, 30, 37, 55, 23, 32, 45, 27, 24, 39, 35, 19, 48, 83, 63, 58, 82, 60, 28, 42, 30, 79, 96, 79, 91, 59, 89, 72, 92, 96, 65, 49, 70, 68, 91, 68, 71, 63, 100, 42, 94, 49, 95, 65, 85, 92, 57, 41, 67, 77, 34, 74, 70, 40, 65, 42, 38, 46, 54, 83, 54, 19]\n",
      "[18, 18, 19, 18, 18, 19, 19, 18, 18, 18, 18, 19, 22, 19, 36, 27, 39, 18, 28, 24, 18, 18, 19, 30, 19, 45, 38, 24, 19, 62, 48, 43, 41, 43, 47, 43, 30, 51, 36, 30, 37, 55, 23, 32, 45, 27, 24, 39, 35, 19, 48, 83, 63, 58, 82, 60, 28, 42, 30, 79, 96, 79, 91, 59, 89, 72, 92, 96, 65, 49, 70, 68, 91, 68, 71, 63, 100, 42, 94, 49, 95, 65, 85, 92, 57, 41, 67, 77, 34, 74, 70, 40, 65, 42, 38, 46, 54, 83, 54, 19]\n",
      "[18, 18, 19, 18, 18, 19, 19, 18, 18, 18, 18, 19, 22, 19, 36, 27, 39, 18, 28, 24, 18, 18, 19, 30, 19, 45, 38, 24, 19, 62, 48, 43, 41, 43, 47, 43, 30, 51, 36, 30, 37, 55, 23, 32, 45, 27, 24, 39, 35, 19, 48, 83, 63, 58, 82, 60, 28, 42, 30, 79, 96, 79, 91, 59, 89, 72, 92, 96, 65, 49, 70, 68, 91, 68, 71, 63, 100, 42, 94, 49, 95, 65, 85, 92, 57, 41, 67, 77, 34, 74, 70, 40, 65, 42, 38, 46, 54, 83, 54, 19]\n",
      "[18, 18, 19, 18, 18, 19, 19, 18, 18, 18, 18, 19, 22, 19, 36, 27, 39, 18, 28, 24, 18, 18, 19, 30, 19, 45, 38, 24, 19, 62, 48, 43, 41, 43, 47, 43, 30, 51, 36, 30, 37, 55, 23, 32, 45, 27, 24, 39, 35, 19, 48, 83, 63, 58, 82, 60, 28, 42, 30, 79, 96, 79, 91, 59, 89, 72, 92, 96, 65, 49, 70, 68, 91, 68, 71, 63, 100, 42, 94, 49, 95, 65, 85, 92, 57, 41, 67, 77, 34, 74, 70, 40, 65, 42, 38, 46, 54, 83, 54, 19]\n",
      "[18, 18, 19, 18, 18, 19, 19, 18, 18, 18, 18, 19, 22, 19, 36, 27, 39, 18, 28, 24, 18, 18, 19, 30, 19, 45, 38, 24, 19, 62, 48, 43, 41, 43, 47, 43, 30, 51, 36, 30, 37, 55, 23, 32, 45, 27, 24, 39, 35, 19, 48, 83, 63, 58, 82, 60, 28, 42, 30, 79, 96, 79, 91, 59, 89, 72, 92, 96, 65, 49, 70, 68, 91, 68, 71, 63, 100, 42, 94, 49, 95, 65, 85, 92, 57, 41, 67, 77, 34, 74, 70, 40, 65, 42, 38, 46, 54, 83, 54, 19]\n",
      "[18, 18, 19, 18, 18, 19, 19, 18, 18, 18, 18, 19, 22, 19, 36, 27, 39, 18, 28, 24, 18, 18, 19, 30, 19, 45, 38, 24, 19, 62, 48, 43, 41, 43, 47, 43, 30, 51, 36, 30, 37, 55, 23, 32, 45, 27, 24, 39, 35, 19, 48, 83, 63, 58, 82, 60, 28, 42, 30, 79, 96, 79, 91, 59, 89, 72, 92, 96, 65, 49, 70, 68, 91, 68, 71, 63, 100, 42, 94, 49, 95, 65, 85, 92, 57, 41, 67, 77, 34, 74, 70, 40, 65, 42, 38, 46, 54, 83, 54, 19]\n",
      "[18, 18, 19, 18, 18, 19, 19, 18, 18, 18, 18, 19, 22, 19, 36, 27, 39, 18, 28, 24, 18, 18, 19, 30, 19, 45, 38, 24, 19, 62, 48, 43, 41, 43, 47, 43, 30, 51, 36, 30, 37, 55, 23, 32, 45, 27, 24, 39, 35, 19, 48, 83, 63, 58, 82, 60, 28, 42, 30, 79, 96, 79, 91, 59, 89, 72, 92, 96, 65, 49, 70, 68, 91, 68, 71, 63, 100, 42, 94, 49, 95, 65, 85, 92, 57, 41, 67, 77, 34, 74, 70, 40, 65, 42, 38, 46, 54, 83, 54, 19]\n",
      "[18, 18, 19, 18, 18, 19, 19, 18, 18, 18, 18, 19, 22, 19, 36, 27, 39, 18, 28, 24, 18, 18, 19, 30, 19, 45, 38, 24, 19, 62, 48, 43, 41, 43, 47, 43, 30, 51, 36, 30, 37, 55, 23, 32, 45, 27, 24, 39, 35, 19, 48, 83, 63, 58, 82, 60, 28, 42, 30, 79, 96, 79, 91, 59, 89, 72, 92, 96, 65, 49, 70, 68, 91, 68, 71, 63, 100, 42, 94, 49, 95, 65, 85, 92, 57, 41, 67, 77, 34, 74, 70, 40, 65, 42, 38, 46, 54, 83, 54, 19]\n",
      "[18, 18, 19, 18, 18, 19, 19, 18, 18, 18, 18, 19, 22, 19, 36, 27, 39, 18, 28, 24, 18, 18, 19, 30, 19, 45, 38, 24, 19, 62, 48, 43, 41, 43, 47, 43, 30, 51, 36, 30, 37, 55, 23, 32, 45, 27, 24, 39, 35, 19, 48, 83, 63, 58, 82, 60, 28, 42, 30, 79, 96, 79, 91, 59, 89, 72, 92, 96, 65, 49, 70, 68, 91, 68, 71, 63, 100, 42, 94, 49, 95, 65, 85, 92, 57, 41, 67, 77, 34, 74, 70, 40, 65, 42, 38, 46, 54, 83, 54, 19]\n",
      "[18, 18, 19, 18, 18, 19, 19, 18, 18, 18, 18, 19, 22, 19, 36, 27, 39, 18, 28, 24, 18, 18, 19, 30, 19, 45, 38, 24, 19, 62, 48, 43, 41, 43, 47, 43, 30, 51, 36, 30, 37, 55, 23, 32, 45, 27, 24, 39, 35, 19, 48, 83, 63, 58, 82, 60, 28, 42, 30, 79, 96, 79, 91, 59, 89, 72, 92, 96, 65, 49, 70, 68, 91, 68, 71, 63, 100, 42, 94, 49, 95, 65, 85, 92, 57, 41, 67, 77, 34, 74, 70, 40, 65, 42, 38, 46, 54, 83, 54, 19]\n",
      "[18, 18, 19, 18, 18, 19, 19, 18, 18, 18, 18, 19, 22, 19, 36, 27, 39, 18, 28, 24, 18, 18, 19, 30, 19, 45, 38, 24, 19, 62, 48, 43, 41, 43, 47, 43, 30, 51, 36, 30, 37, 55, 23, 32, 45, 27, 24, 39, 35, 19, 48, 83, 63, 58, 82, 60, 28, 42, 30, 79, 96, 79, 91, 59, 89, 72, 92, 96, 65, 49, 70, 68, 91, 68, 71, 63, 100, 42, 94, 49, 95, 65, 85, 92, 57, 41, 67, 77, 34, 74, 70, 40, 65, 42, 38, 46, 54, 83, 54, 19]\n",
      "[18, 18, 19, 18, 18, 19, 19, 18, 18, 18, 18, 19, 22, 19, 36, 27, 39, 18, 28, 24, 18, 18, 19, 30, 19, 45, 38, 24, 19, 62, 48, 43, 41, 43, 47, 43, 30, 51, 36, 30, 37, 55, 23, 32, 45, 27, 24, 39, 35, 19, 48, 83, 63, 58, 82, 60, 28, 42, 30, 79, 96, 79, 91, 59, 89, 72, 92, 96, 65, 49, 70, 68, 91, 68, 71, 63, 100, 42, 94, 49, 95, 65, 85, 92, 57, 41, 67, 77, 34, 74, 70, 40, 65, 42, 38, 46, 54, 83, 54, 19]\n",
      "[18, 18, 19, 18, 18, 19, 19, 18, 18, 18, 18, 19, 22, 19, 36, 27, 39, 18, 28, 24, 18, 18, 19, 30, 19, 45, 38, 24, 19, 62, 48, 43, 41, 43, 47, 43, 30, 51, 36, 30, 37, 55, 23, 32, 45, 27, 24, 39, 35, 19, 48, 83, 63, 58, 82, 60, 28, 42, 30, 79, 96, 79, 91, 59, 89, 72, 92, 96, 65, 49, 70, 68, 91, 68, 71, 63, 100, 42, 94, 49, 95, 65, 85, 92, 57, 41, 67, 77, 34, 74, 70, 40, 65, 42, 38, 46, 54, 83, 54, 19]\n",
      "[18, 18, 19, 18, 18, 19, 19, 18, 18, 18, 18, 19, 22, 19, 36, 27, 39, 18, 28, 24, 18, 18, 19, 30, 19, 45, 38, 24, 19, 62, 48, 43, 41, 43, 47, 43, 30, 51, 36, 30, 37, 55, 23, 32, 45, 27, 24, 39, 35, 19, 48, 83, 63, 58, 82, 60, 28, 42, 30, 79, 96, 79, 91, 59, 89, 72, 92, 96, 65, 49, 70, 68, 91, 68, 71, 63, 100, 42, 94, 49, 95, 65, 85, 92, 57, 41, 67, 77, 34, 74, 70, 40, 65, 42, 38, 46, 54, 83, 54, 19]\n",
      "[18, 18, 19, 18, 18, 19, 19, 18, 18, 18, 18, 19, 22, 19, 36, 27, 39, 18, 28, 24, 18, 18, 19, 30, 19, 45, 38, 24, 19, 62, 48, 43, 41, 43, 47, 43, 30, 51, 36, 30, 37, 55, 23, 32, 45, 27, 24, 39, 35, 19, 48, 83, 63, 58, 82, 60, 28, 42, 30, 79, 96, 79, 91, 59, 89, 72, 92, 96, 65, 49, 70, 68, 91, 68, 71, 63, 100, 42, 94, 49, 95, 65, 85, 92, 57, 41, 67, 77, 34, 74, 70, 40, 65, 42, 38, 46, 54, 83, 54, 19]\n",
      "[18, 18, 19, 18, 18, 19, 19, 18, 18, 18, 18, 19, 22, 19, 36, 27, 39, 18, 28, 24, 18, 18, 19, 30, 19, 45, 38, 24, 19, 62, 48, 43, 41, 43, 47, 43, 30, 51, 36, 30, 37, 55, 23, 32, 45, 27, 24, 39, 35, 19, 48, 83, 63, 58, 82, 60, 28, 42, 30, 79, 96, 79, 91, 59, 89, 72, 92, 96, 65, 49, 70, 68, 91, 68, 71, 63, 100, 42, 94, 49, 95, 65, 85, 92, 57, 41, 67, 77, 34, 74, 70, 40, 65, 42, 38, 46, 54, 83, 54, 19]\n",
      "[18, 18, 19, 18, 18, 19, 19, 18, 18, 18, 18, 19, 22, 19, 36, 27, 39, 18, 28, 24, 18, 18, 19, 30, 19, 45, 38, 24, 19, 62, 48, 43, 41, 43, 47, 43, 30, 51, 36, 30, 37, 55, 23, 32, 45, 27, 24, 39, 35, 19, 48, 83, 63, 58, 82, 60, 28, 42, 30, 79, 96, 79, 91, 59, 89, 72, 92, 96, 65, 49, 70, 68, 91, 68, 71, 63, 100, 42, 94, 49, 95, 65, 85, 92, 57, 41, 67, 77, 34, 74, 70, 40, 65, 42, 38, 46, 54, 83, 54, 19]\n",
      "[18, 18, 19, 18, 18, 19, 19, 18, 18, 18, 18, 19, 22, 19, 36, 27, 39, 18, 28, 24, 18, 18, 19, 30, 19, 45, 38, 24, 19, 62, 48, 43, 41, 43, 47, 43, 30, 51, 36, 30, 37, 55, 23, 32, 45, 27, 24, 39, 35, 19, 48, 83, 63, 58, 82, 60, 28, 42, 30, 79, 96, 79, 91, 59, 89, 72, 92, 96, 65, 49, 70, 68, 91, 68, 71, 63, 100, 42, 94, 49, 95, 65, 85, 92, 57, 41, 67, 77, 34, 74, 70, 40, 65, 42, 38, 46, 54, 83, 54, 19]\n",
      "[18, 18, 19, 18, 18, 19, 19, 18, 18, 18, 18, 19, 22, 19, 36, 27, 39, 18, 28, 24, 18, 18, 19, 30, 19, 45, 38, 24, 19, 62, 48, 43, 41, 43, 47, 43, 30, 51, 36, 30, 37, 55, 23, 32, 45, 27, 24, 39, 35, 19, 48, 83, 63, 58, 82, 60, 28, 42, 30, 79, 96, 79, 91, 59, 89, 72, 92, 96, 65, 49, 70, 68, 91, 68, 71, 63, 100, 42, 94, 49, 95, 65, 85, 92, 57, 41, 67, 77, 34, 74, 70, 40, 65, 42, 38, 46, 54, 83, 54, 19]\n",
      "[18, 18, 19, 18, 18, 19, 19, 18, 18, 18, 18, 19, 22, 19, 36, 27, 39, 18, 28, 24, 18, 18, 19, 30, 19, 45, 38, 24, 19, 62, 48, 43, 41, 43, 47, 43, 30, 51, 36, 30, 37, 55, 23, 32, 45, 27, 24, 39, 35, 19, 48, 83, 63, 58, 82, 60, 28, 42, 30, 79, 96, 79, 91, 59, 89, 72, 92, 96, 65, 49, 70, 68, 91, 68, 71, 63, 100, 42, 94, 49, 95, 65, 85, 92, 57, 41, 67, 77, 34, 74, 70, 40, 65, 42, 38, 46, 54, 83, 54, 19]\n",
      "[18, 18, 19, 18, 18, 19, 19, 18, 18, 18, 18, 19, 22, 19, 36, 27, 39, 18, 28, 24, 18, 18, 19, 30, 19, 45, 38, 24, 19, 62, 48, 43, 41, 43, 47, 43, 30, 51, 36, 30, 37, 55, 23, 32, 45, 27, 24, 39, 35, 19, 48, 83, 63, 58, 82, 60, 28, 42, 30, 79, 96, 79, 91, 59, 89, 72, 92, 96, 65, 49, 70, 68, 91, 68, 71, 63, 100, 42, 94, 49, 95, 65, 85, 92, 57, 41, 67, 77, 34, 74, 70, 40, 65, 42, 38, 46, 54, 83, 54, 19]\n",
      "[18, 18, 19, 18, 18, 19, 19, 18, 18, 18, 18, 19, 22, 19, 36, 27, 39, 18, 28, 24, 18, 18, 19, 30, 19, 45, 38, 24, 19, 62, 48, 43, 41, 43, 47, 43, 30, 51, 36, 30, 37, 55, 23, 32, 45, 27, 24, 39, 35, 19, 48, 83, 63, 58, 82, 60, 28, 42, 30, 79, 96, 79, 91, 59, 89, 72, 92, 96, 65, 49, 70, 68, 91, 68, 71, 63, 100, 42, 94, 49, 95, 65, 85, 92, 57, 41, 67, 77, 34, 74, 70, 40, 65, 42, 38, 46, 54, 83, 54, 19]\n",
      "[18, 18, 19, 18, 18, 19, 19, 18, 18, 18, 18, 19, 22, 19, 36, 27, 39, 18, 28, 24, 18, 18, 19, 30, 19, 45, 38, 24, 19, 62, 48, 43, 41, 43, 47, 43, 30, 51, 36, 30, 37, 55, 23, 32, 45, 27, 24, 39, 35, 19, 48, 83, 63, 58, 82, 60, 28, 42, 30, 79, 96, 79, 91, 59, 89, 72, 92, 96, 65, 49, 70, 68, 91, 68, 71, 63, 100, 42, 94, 49, 95, 65, 85, 92, 57, 41, 67, 77, 34, 74, 70, 40, 65, 42, 38, 46, 54, 83, 54, 19]\n",
      "[18, 18, 19, 18, 18, 19, 19, 18, 18, 18, 18, 19, 22, 19, 36, 27, 39, 18, 28, 24, 18, 18, 19, 30, 19, 45, 38, 24, 19, 62, 48, 43, 41, 43, 47, 43, 30, 51, 36, 30, 37, 55, 23, 32, 45, 27, 24, 39, 35, 19, 48, 83, 63, 58, 82, 60, 28, 42, 30, 79, 96, 79, 91, 59, 89, 72, 92, 96, 65, 49, 70, 68, 91, 68, 71, 63, 100, 42, 94, 49, 95, 65, 85, 92, 57, 41, 67, 77, 34, 74, 70, 40, 65, 42, 38, 46, 54, 83, 54, 19]\n",
      "[18, 18, 19, 18, 18, 19, 19, 18, 18, 18, 18, 19, 22, 19, 36, 27, 39, 18, 28, 24, 18, 18, 19, 30, 19, 45, 38, 24, 19, 62, 48, 43, 41, 43, 47, 43, 30, 51, 36, 30, 37, 55, 23, 32, 45, 27, 24, 39, 35, 19, 48, 83, 63, 58, 82, 60, 28, 42, 30, 79, 96, 79, 91, 59, 89, 72, 92, 96, 65, 49, 70, 68, 91, 68, 71, 63, 100, 42, 94, 49, 95, 65, 85, 92, 57, 41, 67, 77, 34, 74, 70, 40, 65, 42, 38, 46, 54, 83, 54, 19]\n",
      "[18, 18, 19, 18, 18, 19, 19, 18, 18, 18, 18, 19, 22, 19, 36, 27, 39, 18, 28, 24, 18, 18, 19, 30, 19, 45, 38, 24, 19, 62, 48, 43, 41, 43, 47, 43, 30, 51, 36, 30, 37, 55, 23, 32, 45, 27, 24, 39, 35, 19, 48, 83, 63, 58, 82, 60, 28, 42, 30, 79, 96, 79, 91, 59, 89, 72, 92, 96, 65, 49, 70, 68, 91, 68, 71, 63, 100, 42, 94, 49, 95, 65, 85, 92, 57, 41, 67, 77, 34, 74, 70, 40, 65, 42, 38, 46, 54, 83, 54, 19]\n",
      "[18, 18, 19, 18, 18, 19, 19, 18, 18, 18, 18, 19, 22, 19, 36, 27, 39, 18, 28, 24, 18, 18, 19, 30, 19, 45, 38, 24, 19, 62, 48, 43, 41, 43, 47, 43, 30, 51, 36, 30, 37, 55, 23, 32, 45, 27, 24, 39, 35, 19, 48, 83, 63, 58, 82, 60, 28, 42, 30, 79, 96, 79, 91, 59, 89, 72, 92, 96, 65, 49, 70, 68, 91, 68, 71, 63, 100, 42, 94, 49, 95, 65, 85, 92, 57, 41, 67, 77, 34, 74, 70, 40, 65, 42, 38, 46, 54, 83, 54, 19]\n",
      "[18, 18, 19, 18, 18, 19, 19, 18, 18, 18, 18, 19, 22, 19, 36, 27, 39, 18, 28, 24, 18, 18, 19, 30, 19, 45, 38, 24, 19, 62, 48, 43, 41, 43, 47, 43, 30, 51, 36, 30, 37, 55, 23, 32, 45, 27, 24, 39, 35, 19, 48, 83, 63, 58, 82, 60, 28, 42, 30, 79, 96, 79, 91, 59, 89, 72, 92, 96, 65, 49, 70, 68, 91, 68, 71, 63, 100, 42, 94, 49, 95, 65, 85, 92, 57, 41, 67, 77, 34, 74, 70, 40, 65, 42, 38, 46, 54, 83, 54, 19]\n",
      "[18, 18, 19, 18, 18, 19, 19, 18, 18, 18, 18, 19, 22, 19, 36, 27, 39, 18, 28, 24, 18, 18, 19, 30, 19, 45, 38, 24, 19, 62, 48, 43, 41, 43, 47, 43, 30, 51, 36, 30, 37, 55, 23, 32, 45, 27, 24, 39, 35, 19, 48, 83, 63, 58, 82, 60, 28, 42, 30, 79, 96, 79, 91, 59, 89, 72, 92, 96, 65, 49, 70, 68, 91, 68, 71, 63, 100, 42, 94, 49, 95, 65, 85, 92, 57, 41, 67, 77, 34, 74, 70, 40, 65, 42, 38, 46, 54, 83, 54, 19]\n",
      "[18, 18, 19, 18, 18, 19, 19, 18, 18, 18, 18, 19, 22, 19, 36, 27, 39, 18, 28, 24, 18, 18, 19, 30, 19, 45, 38, 24, 19, 62, 48, 43, 41, 43, 47, 43, 30, 51, 36, 30, 37, 55, 23, 32, 45, 27, 24, 39, 35, 19, 48, 83, 63, 58, 82, 60, 28, 42, 30, 79, 96, 79, 91, 59, 89, 72, 92, 96, 65, 49, 70, 68, 91, 68, 71, 63, 100, 42, 94, 49, 95, 65, 85, 92, 57, 41, 67, 77, 34, 74, 70, 40, 65, 42, 38, 46, 54, 83, 54, 19]\n",
      "[18, 18, 19, 18, 18, 19, 19, 18, 18, 18, 18, 19, 22, 19, 36, 27, 39, 18, 28, 24, 18, 18, 19, 30, 19, 45, 38, 24, 19, 62, 48, 43, 41, 43, 47, 43, 30, 51, 36, 30, 37, 55, 23, 32, 45, 27, 24, 39, 35, 19, 48, 83, 63, 58, 82, 60, 28, 42, 30, 79, 96, 79, 91, 59, 89, 72, 92, 96, 65, 49, 70, 68, 91, 68, 71, 63, 100, 42, 94, 49, 95, 65, 85, 92, 57, 41, 67, 77, 34, 74, 70, 40, 65, 42, 38, 46, 54, 83, 54, 19]\n",
      "[18, 18, 19, 18, 18, 19, 19, 18, 18, 18, 18, 19, 22, 19, 36, 27, 39, 18, 28, 24, 18, 18, 19, 30, 19, 45, 38, 24, 19, 62, 48, 43, 41, 43, 47, 43, 30, 51, 36, 30, 37, 55, 23, 32, 45, 27, 24, 39, 35, 19, 48, 83, 63, 58, 82, 60, 28, 42, 30, 79, 96, 79, 91, 59, 89, 72, 92, 96, 65, 49, 70, 68, 91, 68, 71, 63, 100, 42, 94, 49, 95, 65, 85, 92, 57, 41, 67, 77, 34, 74, 70, 40, 65, 42, 38, 46, 54, 83, 54, 19]\n",
      "[18, 18, 19, 18, 18, 19, 19, 18, 18, 18, 18, 19, 22, 19, 36, 27, 39, 18, 28, 24, 18, 18, 19, 30, 19, 45, 38, 24, 19, 62, 48, 43, 41, 43, 47, 43, 30, 51, 36, 30, 37, 55, 23, 32, 45, 27, 24, 39, 35, 19, 48, 83, 63, 58, 82, 60, 28, 42, 30, 79, 96, 79, 91, 59, 89, 72, 92, 96, 65, 49, 70, 68, 91, 68, 71, 63, 100, 42, 94, 49, 95, 65, 85, 92, 57, 41, 67, 77, 34, 74, 70, 40, 65, 42, 38, 46, 54, 83, 54, 19]\n",
      "[18, 18, 19, 18, 18, 19, 19, 18, 18, 18, 18, 19, 22, 19, 36, 27, 39, 18, 28, 24, 18, 18, 19, 30, 19, 45, 38, 24, 19, 62, 48, 43, 41, 43, 47, 43, 30, 51, 36, 30, 37, 55, 23, 32, 45, 27, 24, 39, 35, 19, 48, 83, 63, 58, 82, 60, 28, 42, 30, 79, 96, 79, 91, 59, 89, 72, 92, 96, 65, 49, 70, 68, 91, 68, 71, 63, 100, 42, 94, 49, 95, 65, 85, 92, 57, 41, 67, 77, 34, 74, 70, 40, 65, 42, 38, 46, 54, 83, 54, 19]\n",
      "[18, 18, 19, 18, 18, 19, 19, 18, 18, 18, 18, 19, 22, 19, 36, 27, 39, 18, 28, 24, 18, 18, 19, 30, 19, 45, 38, 24, 19, 62, 48, 43, 41, 43, 47, 43, 30, 51, 36, 30, 37, 55, 23, 32, 45, 27, 24, 39, 35, 19, 48, 83, 63, 58, 82, 60, 28, 42, 30, 79, 96, 79, 91, 59, 89, 72, 92, 96, 65, 49, 70, 68, 91, 68, 71, 63, 100, 42, 94, 49, 95, 65, 85, 92, 57, 41, 67, 77, 34, 74, 70, 40, 65, 42, 38, 46, 54, 83, 54, 19]\n",
      "[18, 18, 19, 18, 18, 19, 19, 18, 18, 18, 18, 19, 22, 19, 36, 27, 39, 18, 28, 24, 18, 18, 19, 30, 19, 45, 38, 24, 19, 62, 48, 43, 41, 43, 47, 43, 30, 51, 36, 30, 37, 55, 23, 32, 45, 27, 24, 39, 35, 19, 48, 83, 63, 58, 82, 60, 28, 42, 30, 79, 96, 79, 91, 59, 89, 72, 92, 96, 65, 49, 70, 68, 91, 68, 71, 63, 100, 42, 94, 49, 95, 65, 85, 92, 57, 41, 67, 77, 34, 74, 70, 40, 65, 42, 38, 46, 54, 83, 54, 19]\n",
      "[18, 18, 19, 18, 18, 19, 19, 18, 18, 18, 18, 19, 22, 19, 36, 27, 39, 18, 28, 24, 18, 18, 19, 30, 19, 45, 38, 24, 19, 62, 48, 43, 41, 43, 47, 43, 30, 51, 36, 30, 37, 55, 23, 32, 45, 27, 24, 39, 35, 19, 48, 83, 63, 58, 82, 60, 28, 42, 30, 79, 96, 79, 91, 59, 89, 72, 92, 96, 65, 49, 70, 68, 91, 68, 71, 63, 100, 42, 94, 49, 95, 65, 85, 92, 57, 41, 67, 77, 34, 74, 70, 40, 65, 42, 38, 46, 54, 83, 54, 19]\n",
      "[18, 18, 19, 18, 18, 19, 19, 18, 18, 18, 18, 19, 22, 19, 36, 27, 39, 18, 28, 24, 18, 18, 19, 30, 19, 45, 38, 24, 19, 62, 48, 43, 41, 43, 47, 43, 30, 51, 36, 30, 37, 55, 23, 32, 45, 27, 24, 39, 35, 19, 48, 83, 63, 58, 82, 60, 28, 42, 30, 79, 96, 79, 91, 59, 89, 72, 92, 96, 65, 49, 70, 68, 91, 68, 71, 63, 100, 42, 94, 49, 95, 65, 85, 92, 57, 41, 67, 77, 34, 74, 70, 40, 65, 42, 38, 46, 54, 83, 54, 19]\n",
      "[18, 18, 19, 18, 18, 19, 19, 18, 18, 18, 18, 19, 22, 19, 36, 27, 39, 18, 28, 24, 18, 18, 19, 30, 19, 45, 38, 24, 19, 62, 48, 43, 41, 43, 47, 43, 30, 51, 36, 30, 37, 55, 23, 32, 45, 27, 24, 39, 35, 19, 48, 83, 63, 58, 82, 60, 28, 42, 30, 79, 96, 79, 91, 59, 89, 72, 92, 96, 65, 49, 70, 68, 91, 68, 71, 63, 100, 42, 94, 49, 95, 65, 85, 92, 57, 41, 67, 77, 34, 74, 70, 40, 65, 42, 38, 46, 54, 83, 54, 19]\n",
      "[18, 18, 19, 18, 18, 19, 19, 18, 18, 18, 18, 19, 22, 19, 36, 27, 39, 18, 28, 24, 18, 18, 19, 30, 19, 45, 38, 24, 19, 62, 48, 43, 41, 43, 47, 43, 30, 51, 36, 30, 37, 55, 23, 32, 45, 27, 24, 39, 35, 19, 48, 83, 63, 58, 82, 60, 28, 42, 30, 79, 96, 79, 91, 59, 89, 72, 92, 96, 65, 49, 70, 68, 91, 68, 71, 63, 100, 42, 94, 49, 95, 65, 85, 92, 57, 41, 67, 77, 34, 74, 70, 40, 65, 42, 38, 46, 54, 83, 54, 19]\n",
      "[18, 18, 19, 18, 18, 19, 19, 18, 18, 18, 18, 19, 22, 19, 36, 27, 39, 18, 28, 24, 18, 18, 19, 30, 19, 45, 38, 24, 19, 62, 48, 43, 41, 43, 47, 43, 30, 51, 36, 30, 37, 55, 23, 32, 45, 27, 24, 39, 35, 19, 48, 83, 63, 58, 82, 60, 28, 42, 30, 79, 96, 79, 91, 59, 89, 72, 92, 96, 65, 49, 70, 68, 91, 68, 71, 63, 100, 42, 94, 49, 95, 65, 85, 92, 57, 41, 67, 77, 34, 74, 70, 40, 65, 42, 38, 46, 54, 83, 54, 19]\n",
      "[18, 18, 19, 18, 18, 19, 19, 18, 18, 18, 18, 19, 22, 19, 36, 27, 39, 18, 28, 24, 18, 18, 19, 30, 19, 45, 38, 24, 19, 62, 48, 43, 41, 43, 47, 43, 30, 51, 36, 30, 37, 55, 23, 32, 45, 27, 24, 39, 35, 19, 48, 83, 63, 58, 82, 60, 28, 42, 30, 79, 96, 79, 91, 59, 89, 72, 92, 96, 65, 49, 70, 68, 91, 68, 71, 63, 100, 42, 94, 49, 95, 65, 85, 92, 57, 41, 67, 77, 34, 74, 70, 40, 65, 42, 38, 46, 54, 83, 54, 19]\n",
      "[18, 18, 19, 18, 18, 19, 19, 18, 18, 18, 18, 19, 22, 19, 36, 27, 39, 18, 28, 24, 18, 18, 19, 30, 19, 45, 38, 24, 19, 62, 48, 43, 41, 43, 47, 43, 30, 51, 36, 30, 37, 55, 23, 32, 45, 27, 24, 39, 35, 19, 48, 83, 63, 58, 82, 60, 28, 42, 30, 79, 96, 79, 91, 59, 89, 72, 92, 96, 65, 49, 70, 68, 91, 68, 71, 63, 100, 42, 94, 49, 95, 65, 85, 92, 57, 41, 67, 77, 34, 74, 70, 40, 65, 42, 38, 46, 54, 83, 54, 19]\n",
      "[18, 18, 19, 18, 18, 19, 19, 18, 18, 18, 18, 19, 22, 19, 36, 27, 39, 18, 28, 24, 18, 18, 19, 30, 19, 45, 38, 24, 19, 62, 48, 43, 41, 43, 47, 43, 30, 51, 36, 30, 37, 55, 23, 32, 45, 27, 24, 39, 35, 19, 48, 83, 63, 58, 82, 60, 28, 42, 30, 79, 96, 79, 91, 59, 89, 72, 92, 96, 65, 49, 70, 68, 91, 68, 71, 63, 100, 42, 94, 49, 95, 65, 85, 92, 57, 41, 67, 77, 34, 74, 70, 40, 65, 42, 38, 46, 54, 83, 54, 19]\n",
      "[18, 18, 19, 18, 18, 19, 19, 18, 18, 18, 18, 19, 22, 19, 36, 27, 39, 18, 28, 24, 18, 18, 19, 30, 19, 45, 38, 24, 19, 62, 48, 43, 41, 43, 47, 43, 30, 51, 36, 30, 37, 55, 23, 32, 45, 27, 24, 39, 35, 19, 48, 83, 63, 58, 82, 60, 28, 42, 30, 79, 96, 79, 91, 59, 89, 72, 92, 96, 65, 49, 70, 68, 91, 68, 71, 63, 100, 42, 94, 49, 95, 65, 85, 92, 57, 41, 67, 77, 34, 74, 70, 40, 65, 42, 38, 46, 54, 83, 54, 19]\n",
      "[18, 18, 19, 18, 18, 19, 19, 18, 18, 18, 18, 19, 22, 19, 36, 27, 39, 18, 28, 24, 18, 18, 19, 30, 19, 45, 38, 24, 19, 62, 48, 43, 41, 43, 47, 43, 30, 51, 36, 30, 37, 55, 23, 32, 45, 27, 24, 39, 35, 19, 48, 83, 63, 58, 82, 60, 28, 42, 30, 79, 96, 79, 91, 59, 89, 72, 92, 96, 65, 49, 70, 68, 91, 68, 71, 63, 100, 42, 94, 49, 95, 65, 85, 92, 57, 41, 67, 77, 34, 74, 70, 40, 65, 42, 38, 46, 54, 83, 54, 19]\n",
      "[18, 18, 19, 18, 18, 19, 19, 18, 18, 18, 18, 19, 22, 19, 36, 27, 39, 18, 28, 24, 18, 18, 19, 30, 19, 45, 38, 24, 19, 62, 48, 43, 41, 43, 47, 43, 30, 51, 36, 30, 37, 55, 23, 32, 45, 27, 24, 39, 35, 19, 48, 83, 63, 58, 82, 60, 28, 42, 30, 79, 96, 79, 91, 59, 89, 72, 92, 96, 65, 49, 70, 68, 91, 68, 71, 63, 100, 42, 94, 49, 95, 65, 85, 92, 57, 41, 67, 77, 34, 74, 70, 40, 65, 42, 38, 46, 54, 83, 54, 19]\n",
      "[18, 18, 19, 18, 18, 19, 19, 18, 18, 18, 18, 19, 22, 19, 36, 27, 39, 18, 28, 24, 18, 18, 19, 30, 19, 45, 38, 24, 19, 62, 48, 43, 41, 43, 47, 43, 30, 51, 36, 30, 37, 55, 23, 32, 45, 27, 24, 39, 35, 19, 48, 83, 63, 58, 82, 60, 28, 42, 30, 79, 96, 79, 91, 59, 89, 72, 92, 96, 65, 49, 70, 68, 91, 68, 71, 63, 100, 42, 94, 49, 95, 65, 85, 92, 57, 41, 67, 77, 34, 74, 70, 40, 65, 42, 38, 46, 54, 83, 54, 19]\n",
      "[18, 18, 19, 18, 18, 19, 19, 18, 18, 18, 18, 19, 22, 19, 36, 27, 39, 18, 28, 24, 18, 18, 19, 30, 19, 45, 38, 24, 19, 62, 48, 43, 41, 43, 47, 43, 30, 51, 36, 30, 37, 55, 23, 32, 45, 27, 24, 39, 35, 19, 48, 83, 63, 58, 82, 60, 28, 42, 30, 79, 96, 79, 91, 59, 89, 72, 92, 96, 65, 49, 70, 68, 91, 68, 71, 63, 100, 42, 94, 49, 95, 65, 85, 92, 57, 41, 67, 77, 34, 74, 70, 40, 65, 42, 38, 46, 54, 83, 54, 19]\n",
      "[18, 18, 19, 18, 18, 19, 19, 18, 18, 18, 18, 19, 22, 19, 36, 27, 39, 18, 28, 24, 18, 18, 19, 30, 19, 45, 38, 24, 19, 62, 48, 43, 41, 43, 47, 43, 30, 51, 36, 30, 37, 55, 23, 32, 45, 27, 24, 39, 35, 19, 48, 83, 63, 58, 82, 60, 28, 42, 30, 79, 96, 79, 91, 59, 89, 72, 92, 96, 65, 49, 70, 68, 91, 68, 71, 63, 100, 42, 94, 49, 95, 65, 85, 92, 57, 41, 67, 77, 34, 74, 70, 40, 65, 42, 38, 46, 54, 83, 54, 19]\n",
      "[18, 18, 19, 18, 18, 19, 19, 18, 18, 18, 18, 19, 22, 19, 36, 27, 39, 18, 28, 24, 18, 18, 19, 30, 19, 45, 38, 24, 19, 62, 48, 43, 41, 43, 47, 43, 30, 51, 36, 30, 37, 55, 23, 32, 45, 27, 24, 39, 35, 19, 48, 83, 63, 58, 82, 60, 28, 42, 30, 79, 96, 79, 91, 59, 89, 72, 92, 96, 65, 49, 70, 68, 91, 68, 71, 63, 100, 42, 94, 49, 95, 65, 85, 92, 57, 41, 67, 77, 34, 74, 70, 40, 65, 42, 38, 46, 54, 83, 54, 19]\n",
      "[18, 18, 19, 18, 18, 19, 19, 18, 18, 18, 18, 19, 22, 19, 36, 27, 39, 18, 28, 24, 18, 18, 19, 30, 19, 45, 38, 24, 19, 62, 48, 43, 41, 43, 47, 43, 30, 51, 36, 30, 37, 55, 23, 32, 45, 27, 24, 39, 35, 19, 48, 83, 63, 58, 82, 60, 28, 42, 30, 79, 96, 79, 91, 59, 89, 72, 92, 96, 65, 49, 70, 68, 91, 68, 71, 63, 100, 42, 94, 49, 95, 65, 85, 92, 57, 41, 67, 77, 34, 74, 70, 40, 65, 42, 38, 46, 54, 83, 54, 19]\n",
      "[18, 18, 19, 18, 18, 19, 19, 18, 18, 18, 18, 19, 22, 19, 36, 27, 39, 18, 28, 24, 18, 18, 19, 30, 19, 45, 38, 24, 19, 62, 48, 43, 41, 43, 47, 43, 30, 51, 36, 30, 37, 55, 23, 32, 45, 27, 24, 39, 35, 19, 48, 83, 63, 58, 82, 60, 28, 42, 30, 79, 96, 79, 91, 59, 89, 72, 92, 96, 65, 49, 70, 68, 91, 68, 71, 63, 100, 42, 94, 49, 95, 65, 85, 92, 57, 41, 67, 77, 34, 74, 70, 40, 65, 42, 38, 46, 54, 83, 54, 19]\n",
      "[18, 18, 19, 18, 18, 19, 19, 18, 18, 18, 18, 19, 22, 19, 36, 27, 39, 18, 28, 24, 18, 18, 19, 30, 19, 45, 38, 24, 19, 62, 48, 43, 41, 43, 47, 43, 30, 51, 36, 30, 37, 55, 23, 32, 45, 27, 24, 39, 35, 19, 48, 83, 63, 58, 82, 60, 28, 42, 30, 79, 96, 79, 91, 59, 89, 72, 92, 96, 65, 49, 70, 68, 91, 68, 71, 63, 100, 42, 94, 49, 95, 65, 85, 92, 57, 41, 67, 77, 34, 74, 70, 40, 65, 42, 38, 46, 54, 83, 54, 19]\n",
      "[18, 18, 19, 18, 18, 19, 19, 18, 18, 18, 18, 19, 22, 19, 36, 27, 39, 18, 28, 24, 18, 18, 19, 30, 19, 45, 38, 24, 19, 62, 48, 43, 41, 43, 47, 43, 30, 51, 36, 30, 37, 55, 23, 32, 45, 27, 24, 39, 35, 19, 48, 83, 63, 58, 82, 60, 28, 42, 30, 79, 96, 79, 91, 59, 89, 72, 92, 96, 65, 49, 70, 68, 91, 68, 71, 63, 100, 42, 94, 49, 95, 65, 85, 92, 57, 41, 67, 77, 34, 74, 70, 40, 65, 42, 38, 46, 54, 83, 54, 19]\n",
      "[18, 18, 19, 18, 18, 19, 19, 18, 18, 18, 18, 19, 22, 19, 36, 27, 39, 18, 28, 24, 18, 18, 19, 30, 19, 45, 38, 24, 19, 62, 48, 43, 41, 43, 47, 43, 30, 51, 36, 30, 37, 55, 23, 32, 45, 27, 24, 39, 35, 19, 48, 83, 63, 58, 82, 60, 28, 42, 30, 79, 96, 79, 91, 59, 89, 72, 92, 96, 65, 49, 70, 68, 91, 68, 71, 63, 100, 42, 94, 49, 95, 65, 85, 92, 57, 41, 67, 77, 34, 74, 70, 40, 65, 42, 38, 46, 54, 83, 54, 19]\n",
      "[18, 18, 19, 18, 18, 19, 19, 18, 18, 18, 18, 19, 22, 19, 36, 27, 39, 18, 28, 24, 18, 18, 19, 30, 19, 45, 38, 24, 19, 62, 48, 43, 41, 43, 47, 43, 30, 51, 36, 30, 37, 55, 23, 32, 45, 27, 24, 39, 35, 19, 48, 83, 63, 58, 82, 60, 28, 42, 30, 79, 96, 79, 91, 59, 89, 72, 92, 96, 65, 49, 70, 68, 91, 68, 71, 63, 100, 42, 94, 49, 95, 65, 85, 92, 57, 41, 67, 77, 34, 74, 70, 40, 65, 42, 38, 46, 54, 83, 54, 19]\n",
      "[18, 18, 19, 18, 18, 19, 19, 18, 18, 18, 18, 19, 22, 19, 36, 27, 39, 18, 28, 24, 18, 18, 19, 30, 19, 45, 38, 24, 19, 62, 48, 43, 41, 43, 47, 43, 30, 51, 36, 30, 37, 55, 23, 32, 45, 27, 24, 39, 35, 19, 48, 83, 63, 58, 82, 60, 28, 42, 30, 79, 96, 79, 91, 59, 89, 72, 92, 96, 65, 49, 70, 68, 91, 68, 71, 63, 100, 42, 94, 49, 95, 65, 85, 92, 57, 41, 67, 77, 34, 74, 70, 40, 65, 42, 38, 46, 54, 83, 54, 19]\n",
      "[18, 18, 19, 18, 18, 19, 19, 18, 18, 18, 18, 19, 22, 19, 36, 27, 39, 18, 28, 24, 18, 18, 19, 30, 19, 45, 38, 24, 19, 62, 48, 43, 41, 43, 47, 43, 30, 51, 36, 30, 37, 55, 23, 32, 45, 27, 24, 39, 35, 19, 48, 83, 63, 58, 82, 60, 28, 42, 30, 79, 96, 79, 91, 59, 89, 72, 92, 96, 65, 49, 70, 68, 91, 68, 71, 63, 100, 42, 94, 49, 95, 65, 85, 92, 57, 41, 67, 77, 34, 74, 70, 40, 65, 42, 38, 46, 54, 83, 54, 19]\n",
      "[18, 18, 19, 18, 18, 19, 19, 18, 18, 18, 18, 19, 22, 19, 36, 27, 39, 18, 28, 24, 18, 18, 19, 30, 19, 45, 38, 24, 19, 62, 48, 43, 41, 43, 47, 43, 30, 51, 36, 30, 37, 55, 23, 32, 45, 27, 24, 39, 35, 19, 48, 83, 63, 58, 82, 60, 28, 42, 30, 79, 96, 79, 91, 59, 89, 72, 92, 96, 65, 49, 70, 68, 91, 68, 71, 63, 100, 42, 94, 49, 95, 65, 85, 92, 57, 41, 67, 77, 34, 74, 70, 40, 65, 42, 38, 46, 54, 83, 54, 19]\n",
      "[18, 18, 19, 18, 18, 19, 19, 18, 18, 18, 18, 19, 22, 19, 36, 27, 39, 18, 28, 24, 18, 18, 19, 30, 19, 45, 38, 24, 19, 62, 48, 43, 41, 43, 47, 43, 30, 51, 36, 30, 37, 55, 23, 32, 45, 27, 24, 39, 35, 19, 48, 83, 63, 58, 82, 60, 28, 42, 30, 79, 96, 79, 91, 59, 89, 72, 92, 96, 65, 49, 70, 68, 91, 68, 71, 63, 100, 42, 94, 49, 95, 65, 85, 92, 57, 41, 67, 77, 34, 74, 70, 40, 65, 42, 38, 46, 54, 83, 54, 19]\n",
      "[18, 18, 19, 18, 18, 19, 19, 18, 18, 18, 18, 19, 22, 19, 36, 27, 39, 18, 28, 24, 18, 18, 19, 30, 19, 45, 38, 24, 19, 62, 48, 43, 41, 43, 47, 43, 30, 51, 36, 30, 37, 55, 23, 32, 45, 27, 24, 39, 35, 19, 48, 83, 63, 58, 82, 60, 28, 42, 30, 79, 96, 79, 91, 59, 89, 72, 92, 96, 65, 49, 70, 68, 91, 68, 71, 63, 100, 42, 94, 49, 95, 65, 85, 92, 57, 41, 67, 77, 34, 74, 70, 40, 65, 42, 38, 46, 54, 83, 54, 19]\n",
      "[18, 18, 19, 18, 18, 19, 19, 18, 18, 18, 18, 19, 22, 19, 36, 27, 39, 18, 28, 24, 18, 18, 19, 30, 19, 45, 38, 24, 19, 62, 48, 43, 41, 43, 47, 43, 30, 51, 36, 30, 37, 55, 23, 32, 45, 27, 24, 39, 35, 19, 48, 83, 63, 58, 82, 60, 28, 42, 30, 79, 96, 79, 91, 59, 89, 72, 92, 96, 65, 49, 70, 68, 91, 68, 71, 63, 100, 42, 94, 49, 95, 65, 85, 92, 57, 41, 67, 77, 34, 74, 70, 40, 65, 42, 38, 46, 54, 83, 54, 19]\n",
      "[18, 18, 19, 18, 18, 19, 19, 18, 18, 18, 18, 19, 22, 19, 36, 27, 39, 18, 28, 24, 18, 18, 19, 30, 19, 45, 38, 24, 19, 62, 48, 43, 41, 43, 47, 43, 30, 51, 36, 30, 37, 55, 23, 32, 45, 27, 24, 39, 35, 19, 48, 83, 63, 58, 82, 60, 28, 42, 30, 79, 96, 79, 91, 59, 89, 72, 92, 96, 65, 49, 70, 68, 91, 68, 71, 63, 100, 42, 94, 49, 95, 65, 85, 92, 57, 41, 67, 77, 34, 74, 70, 40, 65, 42, 38, 46, 54, 83, 54, 19]\n",
      "[18, 18, 19, 18, 18, 19, 19, 18, 18, 18, 18, 19, 22, 19, 36, 27, 39, 18, 28, 24, 18, 18, 19, 30, 19, 45, 38, 24, 19, 62, 48, 43, 41, 43, 47, 43, 30, 51, 36, 30, 37, 55, 23, 32, 45, 27, 24, 39, 35, 19, 48, 83, 63, 58, 82, 60, 28, 42, 30, 79, 96, 79, 91, 59, 89, 72, 92, 96, 65, 49, 70, 68, 91, 68, 71, 63, 100, 42, 94, 49, 95, 65, 85, 92, 57, 41, 67, 77, 34, 74, 70, 40, 65, 42, 38, 46, 54, 83, 54, 19]\n",
      "[18, 18, 19, 18, 18, 19, 19, 18, 18, 18, 18, 19, 22, 19, 36, 27, 39, 18, 28, 24, 18, 18, 19, 30, 19, 45, 38, 24, 19, 62, 48, 43, 41, 43, 47, 43, 30, 51, 36, 30, 37, 55, 23, 32, 45, 27, 24, 39, 35, 19, 48, 83, 63, 58, 82, 60, 28, 42, 30, 79, 96, 79, 91, 59, 89, 72, 92, 96, 65, 49, 70, 68, 91, 68, 71, 63, 100, 42, 94, 49, 95, 65, 85, 92, 57, 41, 67, 77, 34, 74, 70, 40, 65, 42, 38, 46, 54, 83, 54, 19]\n",
      "[18, 18, 19, 18, 18, 19, 19, 18, 18, 18, 18, 19, 22, 19, 36, 27, 39, 18, 28, 24, 18, 18, 19, 30, 19, 45, 38, 24, 19, 62, 48, 43, 41, 43, 47, 43, 30, 51, 36, 30, 37, 55, 23, 32, 45, 27, 24, 39, 35, 19, 48, 83, 63, 58, 82, 60, 28, 42, 30, 79, 96, 79, 91, 59, 89, 72, 92, 96, 65, 49, 70, 68, 91, 68, 71, 63, 100, 42, 94, 49, 95, 65, 85, 92, 57, 41, 67, 77, 34, 74, 70, 40, 65, 42, 38, 46, 54, 83, 54, 19]\n",
      "[18, 18, 19, 18, 18, 19, 19, 18, 18, 18, 18, 19, 22, 19, 36, 27, 39, 18, 28, 24, 18, 18, 19, 30, 19, 45, 38, 24, 19, 62, 48, 43, 41, 43, 47, 43, 30, 51, 36, 30, 37, 55, 23, 32, 45, 27, 24, 39, 35, 19, 48, 83, 63, 58, 82, 60, 28, 42, 30, 79, 96, 79, 91, 59, 89, 72, 92, 96, 65, 49, 70, 68, 91, 68, 71, 63, 100, 42, 94, 49, 95, 65, 85, 92, 57, 41, 67, 77, 34, 74, 70, 40, 65, 42, 38, 46, 54, 83, 54, 19]\n",
      "[18, 18, 19, 18, 18, 19, 19, 18, 18, 18, 18, 19, 22, 19, 36, 27, 39, 18, 28, 24, 18, 18, 19, 30, 19, 45, 38, 24, 19, 62, 48, 43, 41, 43, 47, 43, 30, 51, 36, 30, 37, 55, 23, 32, 45, 27, 24, 39, 35, 19, 48, 83, 63, 58, 82, 60, 28, 42, 30, 79, 96, 79, 91, 59, 89, 72, 92, 96, 65, 49, 70, 68, 91, 68, 71, 63, 100, 42, 94, 49, 95, 65, 85, 92, 57, 41, 67, 77, 34, 74, 70, 40, 65, 42, 38, 46, 54, 83, 54, 19]\n",
      "[18, 18, 19, 18, 18, 19, 19, 18, 18, 18, 18, 19, 22, 19, 36, 27, 39, 18, 28, 24, 18, 18, 19, 30, 19, 45, 38, 24, 19, 62, 48, 43, 41, 43, 47, 43, 30, 51, 36, 30, 37, 55, 23, 32, 45, 27, 24, 39, 35, 19, 48, 83, 63, 58, 82, 60, 28, 42, 30, 79, 96, 79, 91, 59, 89, 72, 92, 96, 65, 49, 70, 68, 91, 68, 71, 63, 100, 42, 94, 49, 95, 65, 85, 92, 57, 41, 67, 77, 34, 74, 70, 40, 65, 42, 38, 46, 54, 83, 54, 19]\n",
      "[18, 18, 19, 18, 18, 19, 19, 18, 18, 18, 18, 19, 22, 19, 36, 27, 39, 18, 28, 24, 18, 18, 19, 30, 19, 45, 38, 24, 19, 62, 48, 43, 41, 43, 47, 43, 30, 51, 36, 30, 37, 55, 23, 32, 45, 27, 24, 39, 35, 19, 48, 83, 63, 58, 82, 60, 28, 42, 30, 79, 96, 79, 91, 59, 89, 72, 92, 96, 65, 49, 70, 68, 91, 68, 71, 63, 100, 42, 94, 49, 95, 65, 85, 92, 57, 41, 67, 77, 34, 74, 70, 40, 65, 42, 38, 46, 54, 83, 54, 19]\n",
      "[18, 18, 19, 18, 18, 19, 19, 18, 18, 18, 18, 19, 22, 19, 36, 27, 39, 18, 28, 24, 18, 18, 19, 30, 19, 45, 38, 24, 19, 62, 48, 43, 41, 43, 47, 43, 30, 51, 36, 30, 37, 55, 23, 32, 45, 27, 24, 39, 35, 19, 48, 83, 63, 58, 82, 60, 28, 42, 30, 79, 96, 79, 91, 59, 89, 72, 92, 96, 65, 49, 70, 68, 91, 68, 71, 63, 100, 42, 94, 49, 95, 65, 85, 92, 57, 41, 67, 77, 34, 74, 70, 40, 65, 42, 38, 46, 54, 83, 54, 19]\n",
      "[18, 18, 19, 18, 18, 19, 19, 18, 18, 18, 18, 19, 22, 19, 36, 27, 39, 18, 28, 24, 18, 18, 19, 30, 19, 45, 38, 24, 19, 62, 48, 43, 41, 43, 47, 43, 30, 51, 36, 30, 37, 55, 23, 32, 45, 27, 24, 39, 35, 19, 48, 83, 63, 58, 82, 60, 28, 42, 30, 79, 96, 79, 91, 59, 89, 72, 92, 96, 65, 49, 70, 68, 91, 68, 71, 63, 100, 42, 94, 49, 95, 65, 85, 92, 57, 41, 67, 77, 34, 74, 70, 40, 65, 42, 38, 46, 54, 83, 54, 19]\n",
      "[18, 18, 19, 18, 18, 19, 19, 18, 18, 18, 18, 19, 22, 19, 36, 27, 39, 18, 28, 24, 18, 18, 19, 30, 19, 45, 38, 24, 19, 62, 48, 43, 41, 43, 47, 43, 30, 51, 36, 30, 37, 55, 23, 32, 45, 27, 24, 39, 35, 19, 48, 83, 63, 58, 82, 60, 28, 42, 30, 79, 96, 79, 91, 59, 89, 72, 92, 96, 65, 49, 70, 68, 91, 68, 71, 63, 100, 42, 94, 49, 95, 65, 85, 92, 57, 41, 67, 77, 34, 74, 70, 40, 65, 42, 38, 46, 54, 83, 54, 19]\n",
      "[18, 18, 19, 18, 18, 19, 19, 18, 18, 18, 18, 19, 22, 19, 36, 27, 39, 18, 28, 24, 18, 18, 19, 30, 19, 45, 38, 24, 19, 62, 48, 43, 41, 43, 47, 43, 30, 51, 36, 30, 37, 55, 23, 32, 45, 27, 24, 39, 35, 19, 48, 83, 63, 58, 82, 60, 28, 42, 30, 79, 96, 79, 91, 59, 89, 72, 92, 96, 65, 49, 70, 68, 91, 68, 71, 63, 100, 42, 94, 49, 95, 65, 85, 92, 57, 41, 67, 77, 34, 74, 70, 40, 65, 42, 38, 46, 54, 83, 54, 19]\n",
      "[18, 18, 19, 18, 18, 19, 19, 18, 18, 18, 18, 19, 22, 19, 36, 27, 39, 18, 28, 24, 18, 18, 19, 30, 19, 45, 38, 24, 19, 62, 48, 43, 41, 43, 47, 43, 30, 51, 36, 30, 37, 55, 23, 32, 45, 27, 24, 39, 35, 19, 48, 83, 63, 58, 82, 60, 28, 42, 30, 79, 96, 79, 91, 59, 89, 72, 92, 96, 65, 49, 70, 68, 91, 68, 71, 63, 100, 42, 94, 49, 95, 65, 85, 92, 57, 41, 67, 77, 34, 74, 70, 40, 65, 42, 38, 46, 54, 83, 54, 19]\n",
      "[18, 18, 19, 18, 18, 19, 19, 18, 18, 18, 18, 19, 22, 19, 36, 27, 39, 18, 28, 24, 18, 18, 19, 30, 19, 45, 38, 24, 19, 62, 48, 43, 41, 43, 47, 43, 30, 51, 36, 30, 37, 55, 23, 32, 45, 27, 24, 39, 35, 19, 48, 83, 63, 58, 82, 60, 28, 42, 30, 79, 96, 79, 91, 59, 89, 72, 92, 96, 65, 49, 70, 68, 91, 68, 71, 63, 100, 42, 94, 49, 95, 65, 85, 92, 57, 41, 67, 77, 34, 74, 70, 40, 65, 42, 38, 46, 54, 83, 54, 19]\n",
      "[18, 18, 19, 18, 18, 19, 19, 18, 18, 18, 18, 19, 22, 19, 36, 27, 39, 18, 28, 24, 18, 18, 19, 30, 19, 45, 38, 24, 19, 62, 48, 43, 41, 43, 47, 43, 30, 51, 36, 30, 37, 55, 23, 32, 45, 27, 24, 39, 35, 19, 48, 83, 63, 58, 82, 60, 28, 42, 30, 79, 96, 79, 91, 59, 89, 72, 92, 96, 65, 49, 70, 68, 91, 68, 71, 63, 100, 42, 94, 49, 95, 65, 85, 92, 57, 41, 67, 77, 34, 74, 70, 40, 65, 42, 38, 46, 54, 83, 54, 19]\n",
      "[18, 18, 19, 18, 18, 19, 19, 18, 18, 18, 18, 19, 22, 19, 36, 27, 39, 18, 28, 24, 18, 18, 19, 30, 19, 45, 38, 24, 19, 62, 48, 43, 41, 43, 47, 43, 30, 51, 36, 30, 37, 55, 23, 32, 45, 27, 24, 39, 35, 19, 48, 83, 63, 58, 82, 60, 28, 42, 30, 79, 96, 79, 91, 59, 89, 72, 92, 96, 65, 49, 70, 68, 91, 68, 71, 63, 100, 42, 94, 49, 95, 65, 85, 92, 57, 41, 67, 77, 34, 74, 70, 40, 65, 42, 38, 46, 54, 83, 54, 19]\n",
      "[18, 18, 19, 18, 18, 19, 19, 18, 18, 18, 18, 19, 22, 19, 36, 27, 39, 18, 28, 24, 18, 18, 19, 30, 19, 45, 38, 24, 19, 62, 48, 43, 41, 43, 47, 43, 30, 51, 36, 30, 37, 55, 23, 32, 45, 27, 24, 39, 35, 19, 48, 83, 63, 58, 82, 60, 28, 42, 30, 79, 96, 79, 91, 59, 89, 72, 92, 96, 65, 49, 70, 68, 91, 68, 71, 63, 100, 42, 94, 49, 95, 65, 85, 92, 57, 41, 67, 77, 34, 74, 70, 40, 65, 42, 38, 46, 54, 83, 54, 19]\n",
      "[18, 18, 19, 18, 18, 19, 19, 18, 18, 18, 18, 19, 22, 19, 36, 27, 39, 18, 28, 24, 18, 18, 19, 30, 19, 45, 38, 24, 19, 62, 48, 43, 41, 43, 47, 43, 30, 51, 36, 30, 37, 55, 23, 32, 45, 27, 24, 39, 35, 19, 48, 83, 63, 58, 82, 60, 28, 42, 30, 79, 96, 79, 91, 59, 89, 72, 92, 96, 65, 49, 70, 68, 91, 68, 71, 63, 100, 42, 94, 49, 95, 65, 85, 92, 57, 41, 67, 77, 34, 74, 70, 40, 65, 42, 38, 46, 54, 83, 54, 19]\n",
      "[18, 18, 19, 18, 18, 19, 19, 18, 18, 18, 18, 19, 22, 19, 36, 27, 39, 18, 28, 24, 18, 18, 19, 30, 19, 45, 38, 24, 19, 62, 48, 43, 41, 43, 47, 43, 30, 51, 36, 30, 37, 55, 23, 32, 45, 27, 24, 39, 35, 19, 48, 83, 63, 58, 82, 60, 28, 42, 30, 79, 96, 79, 91, 59, 89, 72, 92, 96, 65, 49, 70, 68, 91, 68, 71, 63, 100, 42, 94, 49, 95, 65, 85, 92, 57, 41, 67, 77, 34, 74, 70, 40, 65, 42, 38, 46, 54, 83, 54, 19]\n",
      "[18, 18, 19, 18, 18, 19, 19, 18, 18, 18, 18, 19, 22, 19, 36, 27, 39, 18, 28, 24, 18, 18, 19, 30, 19, 45, 38, 24, 19, 62, 48, 43, 41, 43, 47, 43, 30, 51, 36, 30, 37, 55, 23, 32, 45, 27, 24, 39, 35, 19, 48, 83, 63, 58, 82, 60, 28, 42, 30, 79, 96, 79, 91, 59, 89, 72, 92, 96, 65, 49, 70, 68, 91, 68, 71, 63, 100, 42, 94, 49, 95, 65, 85, 92, 57, 41, 67, 77, 34, 74, 70, 40, 65, 42, 38, 46, 54, 83, 54, 19]\n",
      "[18, 18, 19, 18, 18, 19, 19, 18, 18, 18, 18, 19, 22, 19, 36, 27, 39, 18, 28, 24, 18, 18, 19, 30, 19, 45, 38, 24, 19, 62, 48, 43, 41, 43, 47, 43, 30, 51, 36, 30, 37, 55, 23, 32, 45, 27, 24, 39, 35, 19, 48, 83, 63, 58, 82, 60, 28, 42, 30, 79, 96, 79, 91, 59, 89, 72, 92, 96, 65, 49, 70, 68, 91, 68, 71, 63, 100, 42, 94, 49, 95, 65, 85, 92, 57, 41, 67, 77, 34, 74, 70, 40, 65, 42, 38, 46, 54, 83, 54, 19]\n",
      "[18, 18, 19, 18, 18, 19, 19, 18, 18, 18, 18, 19, 22, 19, 36, 27, 39, 18, 28, 24, 18, 18, 19, 30, 19, 45, 38, 24, 19, 62, 48, 43, 41, 43, 47, 43, 30, 51, 36, 30, 37, 55, 23, 32, 45, 27, 24, 39, 35, 19, 48, 83, 63, 58, 82, 60, 28, 42, 30, 79, 96, 79, 91, 59, 89, 72, 92, 96, 65, 49, 70, 68, 91, 68, 71, 63, 100, 42, 94, 49, 95, 65, 85, 92, 57, 41, 67, 77, 34, 74, 70, 40, 65, 42, 38, 46, 54, 83, 54, 19]\n",
      "[18, 18, 19, 18, 18, 19, 19, 18, 18, 18, 18, 19, 22, 19, 36, 27, 39, 18, 28, 24, 18, 18, 19, 30, 19, 45, 38, 24, 19, 62, 48, 43, 41, 43, 47, 43, 30, 51, 36, 30, 37, 55, 23, 32, 45, 27, 24, 39, 35, 19, 48, 83, 63, 58, 82, 60, 28, 42, 30, 79, 96, 79, 91, 59, 89, 72, 92, 96, 65, 49, 70, 68, 91, 68, 71, 63, 100, 42, 94, 49, 95, 65, 85, 92, 57, 41, 67, 77, 34, 74, 70, 40, 65, 42, 38, 46, 54, 83, 54, 19]\n",
      "[18, 18, 19, 18, 18, 19, 19, 18, 18, 18, 18, 19, 22, 19, 36, 27, 39, 18, 28, 24, 18, 18, 19, 30, 19, 45, 38, 24, 19, 62, 48, 43, 41, 43, 47, 43, 30, 51, 36, 30, 37, 55, 23, 32, 45, 27, 24, 39, 35, 19, 48, 83, 63, 58, 82, 60, 28, 42, 30, 79, 96, 79, 91, 59, 89, 72, 92, 96, 65, 49, 70, 68, 91, 68, 71, 63, 100, 42, 94, 49, 95, 65, 85, 92, 57, 41, 67, 77, 34, 74, 70, 40, 65, 42, 38, 46, 54, 83, 54, 19]\n",
      "[18, 18, 19, 18, 18, 19, 19, 18, 18, 18, 18, 19, 22, 19, 36, 27, 39, 18, 28, 24, 18, 18, 19, 30, 19, 45, 38, 24, 19, 62, 48, 43, 41, 43, 47, 43, 30, 51, 36, 30, 37, 55, 23, 32, 45, 27, 24, 39, 35, 19, 48, 83, 63, 58, 82, 60, 28, 42, 30, 79, 96, 79, 91, 59, 89, 72, 92, 96, 65, 49, 70, 68, 91, 68, 71, 63, 100, 42, 94, 49, 95, 65, 85, 92, 57, 41, 67, 77, 34, 74, 70, 40, 65, 42, 38, 46, 54, 83, 54, 19]\n",
      "[18, 18, 19, 18, 18, 19, 19, 18, 18, 18, 18, 19, 22, 19, 36, 27, 39, 18, 28, 24, 18, 18, 19, 30, 19, 45, 38, 24, 19, 62, 48, 43, 41, 43, 47, 43, 30, 51, 36, 30, 37, 55, 23, 32, 45, 27, 24, 39, 35, 19, 48, 83, 63, 58, 82, 60, 28, 42, 30, 79, 96, 79, 91, 59, 89, 72, 92, 96, 65, 49, 70, 68, 91, 68, 71, 63, 100, 42, 94, 49, 95, 65, 85, 92, 57, 41, 67, 77, 34, 74, 70, 40, 65, 42, 38, 46, 54, 83, 54, 19]\n",
      "[18, 18, 19, 18, 18, 19, 19, 18, 18, 18, 18, 19, 22, 19, 36, 27, 39, 18, 28, 24, 18, 18, 19, 30, 19, 45, 38, 24, 19, 62, 48, 43, 41, 43, 47, 43, 30, 51, 36, 30, 37, 55, 23, 32, 45, 27, 24, 39, 35, 19, 48, 83, 63, 58, 82, 60, 28, 42, 30, 79, 96, 79, 91, 59, 89, 72, 92, 96, 65, 49, 70, 68, 91, 68, 71, 63, 100, 42, 94, 49, 95, 65, 85, 92, 57, 41, 67, 77, 34, 74, 70, 40, 65, 42, 38, 46, 54, 83, 54, 19]\n",
      "[18, 18, 19, 18, 18, 19, 19, 18, 18, 18, 18, 19, 22, 19, 36, 27, 39, 18, 28, 24, 18, 18, 19, 30, 19, 45, 38, 24, 19, 62, 48, 43, 41, 43, 47, 43, 30, 51, 36, 30, 37, 55, 23, 32, 45, 27, 24, 39, 35, 19, 48, 83, 63, 58, 82, 60, 28, 42, 30, 79, 96, 79, 91, 59, 89, 72, 92, 96, 65, 49, 70, 68, 91, 68, 71, 63, 100, 42, 94, 49, 95, 65, 85, 92, 57, 41, 67, 77, 34, 74, 70, 40, 65, 42, 38, 46, 54, 83, 54, 19]\n",
      "[18, 18, 19, 18, 18, 19, 19, 18, 18, 18, 18, 19, 22, 19, 36, 27, 39, 18, 28, 24, 18, 18, 19, 30, 19, 45, 38, 24, 19, 62, 48, 43, 41, 43, 47, 43, 30, 51, 36, 30, 37, 55, 23, 32, 45, 27, 24, 39, 35, 19, 48, 83, 63, 58, 82, 60, 28, 42, 30, 79, 96, 79, 91, 59, 89, 72, 92, 96, 65, 49, 70, 68, 91, 68, 71, 63, 100, 42, 94, 49, 95, 65, 85, 92, 57, 41, 67, 77, 34, 74, 70, 40, 65, 42, 38, 46, 54, 83, 54, 19]\n",
      "[18, 18, 19, 18, 18, 19, 19, 18, 18, 18, 18, 19, 22, 19, 36, 27, 39, 18, 28, 24, 18, 18, 19, 30, 19, 45, 38, 24, 19, 62, 48, 43, 41, 43, 47, 43, 30, 51, 36, 30, 37, 55, 23, 32, 45, 27, 24, 39, 35, 19, 48, 83, 63, 58, 82, 60, 28, 42, 30, 79, 96, 79, 91, 59, 89, 72, 92, 96, 65, 49, 70, 68, 91, 68, 71, 63, 100, 42, 94, 49, 95, 65, 85, 92, 57, 41, 67, 77, 34, 74, 70, 40, 65, 42, 38, 46, 54, 83, 54, 19]\n",
      "[18, 18, 19, 18, 18, 19, 19, 18, 18, 18, 18, 19, 22, 19, 36, 27, 39, 18, 28, 24, 18, 18, 19, 30, 19, 45, 38, 24, 19, 62, 48, 43, 41, 43, 47, 43, 30, 51, 36, 30, 37, 55, 23, 32, 45, 27, 24, 39, 35, 19, 48, 83, 63, 58, 82, 60, 28, 42, 30, 79, 96, 79, 91, 59, 89, 72, 92, 96, 65, 49, 70, 68, 91, 68, 71, 63, 100, 42, 94, 49, 95, 65, 85, 92, 57, 41, 67, 77, 34, 74, 70, 40, 65, 42, 38, 46, 54, 83, 54, 19]\n",
      "[18, 18, 19, 18, 18, 19, 19, 18, 18, 18, 18, 19, 22, 19, 36, 27, 39, 18, 28, 24, 18, 18, 19, 30, 19, 45, 38, 24, 19, 62, 48, 43, 41, 43, 47, 43, 30, 51, 36, 30, 37, 55, 23, 32, 45, 27, 24, 39, 35, 19, 48, 83, 63, 58, 82, 60, 28, 42, 30, 79, 96, 79, 91, 59, 89, 72, 92, 96, 65, 49, 70, 68, 91, 68, 71, 63, 100, 42, 94, 49, 95, 65, 85, 92, 57, 41, 67, 77, 34, 74, 70, 40, 65, 42, 38, 46, 54, 83, 54, 19]\n",
      "[18, 18, 19, 18, 18, 19, 19, 18, 18, 18, 18, 19, 22, 19, 36, 27, 39, 18, 28, 24, 18, 18, 19, 30, 19, 45, 38, 24, 19, 62, 48, 43, 41, 43, 47, 43, 30, 51, 36, 30, 37, 55, 23, 32, 45, 27, 24, 39, 35, 19, 48, 83, 63, 58, 82, 60, 28, 42, 30, 79, 96, 79, 91, 59, 89, 72, 92, 96, 65, 49, 70, 68, 91, 68, 71, 63, 100, 42, 94, 49, 95, 65, 85, 92, 57, 41, 67, 77, 34, 74, 70, 40, 65, 42, 38, 46, 54, 83, 54, 19]\n",
      "[18, 18, 19, 18, 18, 19, 19, 18, 18, 18, 18, 19, 22, 19, 36, 27, 39, 18, 28, 24, 18, 18, 19, 30, 19, 45, 38, 24, 19, 62, 48, 43, 41, 43, 47, 43, 30, 51, 36, 30, 37, 55, 23, 32, 45, 27, 24, 39, 35, 19, 48, 83, 63, 58, 82, 60, 28, 42, 30, 79, 96, 79, 91, 59, 89, 72, 92, 96, 65, 49, 70, 68, 91, 68, 71, 63, 100, 42, 94, 49, 95, 65, 85, 92, 57, 41, 67, 77, 34, 74, 70, 40, 65, 42, 38, 46, 54, 83, 54, 19]\n",
      "[18, 18, 19, 18, 18, 19, 19, 18, 18, 18, 18, 19, 22, 19, 36, 27, 39, 18, 28, 24, 18, 18, 19, 30, 19, 45, 38, 24, 19, 62, 48, 43, 41, 43, 47, 43, 30, 51, 36, 30, 37, 55, 23, 32, 45, 27, 24, 39, 35, 19, 48, 83, 63, 58, 82, 60, 28, 42, 30, 79, 96, 79, 91, 59, 89, 72, 92, 96, 65, 49, 70, 68, 91, 68, 71, 63, 100, 42, 94, 49, 95, 65, 85, 92, 57, 41, 67, 77, 34, 74, 70, 40, 65, 42, 38, 46, 54, 83, 54, 19]\n",
      "[18, 18, 19, 18, 18, 19, 19, 18, 18, 18, 18, 19, 22, 19, 36, 27, 39, 18, 28, 24, 18, 18, 19, 30, 19, 45, 38, 24, 19, 62, 48, 43, 41, 43, 47, 43, 30, 51, 36, 30, 37, 55, 23, 32, 45, 27, 24, 39, 35, 19, 48, 83, 63, 58, 82, 60, 28, 42, 30, 79, 96, 79, 91, 59, 89, 72, 92, 96, 65, 49, 70, 68, 91, 68, 71, 63, 100, 42, 94, 49, 95, 65, 85, 92, 57, 41, 67, 77, 34, 74, 70, 40, 65, 42, 38, 46, 54, 83, 54, 19]\n",
      "[18, 18, 19, 18, 18, 19, 19, 18, 18, 18, 18, 19, 22, 19, 36, 27, 39, 18, 28, 24, 18, 18, 19, 30, 19, 45, 38, 24, 19, 62, 48, 43, 41, 43, 47, 43, 30, 51, 36, 30, 37, 55, 23, 32, 45, 27, 24, 39, 35, 19, 48, 83, 63, 58, 82, 60, 28, 42, 30, 79, 96, 79, 91, 59, 89, 72, 92, 96, 65, 49, 70, 68, 91, 68, 71, 63, 100, 42, 94, 49, 95, 65, 85, 92, 57, 41, 67, 77, 34, 74, 70, 40, 65, 42, 38, 46, 54, 83, 54, 19]\n",
      "[18, 18, 19, 18, 18, 19, 19, 18, 18, 18, 18, 19, 22, 19, 36, 27, 39, 18, 28, 24, 18, 18, 19, 30, 19, 45, 38, 24, 19, 62, 48, 43, 41, 43, 47, 43, 30, 51, 36, 30, 37, 55, 23, 32, 45, 27, 24, 39, 35, 19, 48, 83, 63, 58, 82, 60, 28, 42, 30, 79, 96, 79, 91, 59, 89, 72, 92, 96, 65, 49, 70, 68, 91, 68, 71, 63, 100, 42, 94, 49, 95, 65, 85, 92, 57, 41, 67, 77, 34, 74, 70, 40, 65, 42, 38, 46, 54, 83, 54, 19]\n",
      "[18, 18, 19, 18, 18, 19, 19, 18, 18, 18, 18, 19, 22, 19, 36, 27, 39, 18, 28, 24, 18, 18, 19, 30, 19, 45, 38, 24, 19, 62, 48, 43, 41, 43, 47, 43, 30, 51, 36, 30, 37, 55, 23, 32, 45, 27, 24, 39, 35, 19, 48, 83, 63, 58, 82, 60, 28, 42, 30, 79, 96, 79, 91, 59, 89, 72, 92, 96, 65, 49, 70, 68, 91, 68, 71, 63, 100, 42, 94, 49, 95, 65, 85, 92, 57, 41, 67, 77, 34, 74, 70, 40, 65, 42, 38, 46, 54, 83, 54, 19]\n",
      "[18, 18, 19, 18, 18, 19, 19, 18, 18, 18, 18, 19, 22, 19, 36, 27, 39, 18, 28, 24, 18, 18, 19, 30, 19, 45, 38, 24, 19, 62, 48, 43, 41, 43, 47, 43, 30, 51, 36, 30, 37, 55, 23, 32, 45, 27, 24, 39, 35, 19, 48, 83, 63, 58, 82, 60, 28, 42, 30, 79, 96, 79, 91, 59, 89, 72, 92, 96, 65, 49, 70, 68, 91, 68, 71, 63, 100, 42, 94, 49, 95, 65, 85, 92, 57, 41, 67, 77, 34, 74, 70, 40, 65, 42, 38, 46, 54, 83, 54, 19]\n",
      "[18, 18, 19, 18, 18, 19, 19, 18, 18, 18, 18, 19, 22, 19, 36, 27, 39, 18, 28, 24, 18, 18, 19, 30, 19, 45, 38, 24, 19, 62, 48, 43, 41, 43, 47, 43, 30, 51, 36, 30, 37, 55, 23, 32, 45, 27, 24, 39, 35, 19, 48, 83, 63, 58, 82, 60, 28, 42, 30, 79, 96, 79, 91, 59, 89, 72, 92, 96, 65, 49, 70, 68, 91, 68, 71, 63, 100, 42, 94, 49, 95, 65, 85, 92, 57, 41, 67, 77, 34, 74, 70, 40, 65, 42, 38, 46, 54, 83, 54, 19]\n",
      "[18, 18, 19, 18, 18, 19, 19, 18, 18, 18, 18, 19, 22, 19, 36, 27, 39, 18, 28, 24, 18, 18, 19, 30, 19, 45, 38, 24, 19, 62, 48, 43, 41, 43, 47, 43, 30, 51, 36, 30, 37, 55, 23, 32, 45, 27, 24, 39, 35, 19, 48, 83, 63, 58, 82, 60, 28, 42, 30, 79, 96, 79, 91, 59, 89, 72, 92, 96, 65, 49, 70, 68, 91, 68, 71, 63, 100, 42, 94, 49, 95, 65, 85, 92, 57, 41, 67, 77, 34, 74, 70, 40, 65, 42, 38, 46, 54, 83, 54, 19]\n",
      "[18, 18, 19, 18, 18, 19, 19, 18, 18, 18, 18, 19, 22, 19, 36, 27, 39, 18, 28, 24, 18, 18, 19, 30, 19, 45, 38, 24, 19, 62, 48, 43, 41, 43, 47, 43, 30, 51, 36, 30, 37, 55, 23, 32, 45, 27, 24, 39, 35, 19, 48, 83, 63, 58, 82, 60, 28, 42, 30, 79, 96, 79, 91, 59, 89, 72, 92, 96, 65, 49, 70, 68, 91, 68, 71, 63, 100, 42, 94, 49, 95, 65, 85, 92, 57, 41, 67, 77, 34, 74, 70, 40, 65, 42, 38, 46, 54, 83, 54, 19]\n",
      "[18, 18, 19, 18, 18, 19, 19, 18, 18, 18, 18, 19, 22, 19, 36, 27, 39, 18, 28, 24, 18, 18, 19, 30, 19, 45, 38, 24, 19, 62, 48, 43, 41, 43, 47, 43, 30, 51, 36, 30, 37, 55, 23, 32, 45, 27, 24, 39, 35, 19, 48, 83, 63, 58, 82, 60, 28, 42, 30, 79, 96, 79, 91, 59, 89, 72, 92, 96, 65, 49, 70, 68, 91, 68, 71, 63, 100, 42, 94, 49, 95, 65, 85, 92, 57, 41, 67, 77, 34, 74, 70, 40, 65, 42, 38, 46, 54, 83, 54, 19]\n",
      "[18, 18, 19, 18, 18, 19, 19, 18, 18, 18, 18, 19, 22, 19, 36, 27, 39, 18, 28, 24, 18, 18, 19, 30, 19, 45, 38, 24, 19, 62, 48, 43, 41, 43, 47, 43, 30, 51, 36, 30, 37, 55, 23, 32, 45, 27, 24, 39, 35, 19, 48, 83, 63, 58, 82, 60, 28, 42, 30, 79, 96, 79, 91, 59, 89, 72, 92, 96, 65, 49, 70, 68, 91, 68, 71, 63, 100, 42, 94, 49, 95, 65, 85, 92, 57, 41, 67, 77, 34, 74, 70, 40, 65, 42, 38, 46, 54, 83, 54, 19]\n",
      "[18, 18, 19, 18, 18, 19, 19, 18, 18, 18, 18, 19, 22, 19, 36, 27, 39, 18, 28, 24, 18, 18, 19, 30, 19, 45, 38, 24, 19, 62, 48, 43, 41, 43, 47, 43, 30, 51, 36, 30, 37, 55, 23, 32, 45, 27, 24, 39, 35, 19, 48, 83, 63, 58, 82, 60, 28, 42, 30, 79, 96, 79, 91, 59, 89, 72, 92, 96, 65, 49, 70, 68, 91, 68, 71, 63, 100, 42, 94, 49, 95, 65, 85, 92, 57, 41, 67, 77, 34, 74, 70, 40, 65, 42, 38, 46, 54, 83, 54, 19]\n",
      "[18, 18, 19, 18, 18, 19, 19, 18, 18, 18, 18, 19, 22, 19, 36, 27, 39, 18, 28, 24, 18, 18, 19, 30, 19, 45, 38, 24, 19, 62, 48, 43, 41, 43, 47, 43, 30, 51, 36, 30, 37, 55, 23, 32, 45, 27, 24, 39, 35, 19, 48, 83, 63, 58, 82, 60, 28, 42, 30, 79, 96, 79, 91, 59, 89, 72, 92, 96, 65, 49, 70, 68, 91, 68, 71, 63, 100, 42, 94, 49, 95, 65, 85, 92, 57, 41, 67, 77, 34, 74, 70, 40, 65, 42, 38, 46, 54, 83, 54, 19]\n",
      "[18, 18, 19, 18, 18, 19, 19, 18, 18, 18, 18, 19, 22, 19, 36, 27, 39, 18, 28, 24, 18, 18, 19, 30, 19, 45, 38, 24, 19, 62, 48, 43, 41, 43, 47, 43, 30, 51, 36, 30, 37, 55, 23, 32, 45, 27, 24, 39, 35, 19, 48, 83, 63, 58, 82, 60, 28, 42, 30, 79, 96, 79, 91, 59, 89, 72, 92, 96, 65, 49, 70, 68, 91, 68, 71, 63, 100, 42, 94, 49, 95, 65, 85, 92, 57, 41, 67, 77, 34, 74, 70, 40, 65, 42, 38, 46, 54, 83, 54, 19]\n",
      "[18, 18, 19, 18, 18, 19, 19, 18, 18, 18, 18, 19, 22, 19, 36, 27, 39, 18, 28, 24, 18, 18, 19, 30, 19, 45, 38, 24, 19, 62, 48, 43, 41, 43, 47, 43, 30, 51, 36, 30, 37, 55, 23, 32, 45, 27, 24, 39, 35, 19, 48, 83, 63, 58, 82, 60, 28, 42, 30, 79, 96, 79, 91, 59, 89, 72, 92, 96, 65, 49, 70, 68, 91, 68, 71, 63, 100, 42, 94, 49, 95, 65, 85, 92, 57, 41, 67, 77, 34, 74, 70, 40, 65, 42, 38, 46, 54, 83, 54, 19]\n",
      "[18, 18, 19, 18, 18, 19, 19, 18, 18, 18, 18, 19, 22, 19, 36, 27, 39, 18, 28, 24, 18, 18, 19, 30, 19, 45, 38, 24, 19, 62, 48, 43, 41, 43, 47, 43, 30, 51, 36, 30, 37, 55, 23, 32, 45, 27, 24, 39, 35, 19, 48, 83, 63, 58, 82, 60, 28, 42, 30, 79, 96, 79, 91, 59, 89, 72, 92, 96, 65, 49, 70, 68, 91, 68, 71, 63, 100, 42, 94, 49, 95, 65, 85, 92, 57, 41, 67, 77, 34, 74, 70, 40, 65, 42, 38, 46, 54, 83, 54, 19]\n",
      "[18, 18, 19, 18, 18, 19, 19, 18, 18, 18, 18, 19, 22, 19, 36, 27, 39, 18, 28, 24, 18, 18, 19, 30, 19, 45, 38, 24, 19, 62, 48, 43, 41, 43, 47, 43, 30, 51, 36, 30, 37, 55, 23, 32, 45, 27, 24, 39, 35, 19, 48, 83, 63, 58, 82, 60, 28, 42, 30, 79, 96, 79, 91, 59, 89, 72, 92, 96, 65, 49, 70, 68, 91, 68, 71, 63, 100, 42, 94, 49, 95, 65, 85, 92, 57, 41, 67, 77, 34, 74, 70, 40, 65, 42, 38, 46, 54, 83, 54, 19]\n",
      "[18, 18, 19, 18, 18, 19, 19, 18, 18, 18, 18, 19, 22, 19, 36, 27, 39, 18, 28, 24, 18, 18, 19, 30, 19, 45, 38, 24, 19, 62, 48, 43, 41, 43, 47, 43, 30, 51, 36, 30, 37, 55, 23, 32, 45, 27, 24, 39, 35, 19, 48, 83, 63, 58, 82, 60, 28, 42, 30, 79, 96, 79, 91, 59, 89, 72, 92, 96, 65, 49, 70, 68, 91, 68, 71, 63, 100, 42, 94, 49, 95, 65, 85, 92, 57, 41, 67, 77, 34, 74, 70, 40, 65, 42, 38, 46, 54, 83, 54, 19]\n",
      "[18, 18, 19, 18, 18, 19, 19, 18, 18, 18, 18, 19, 22, 19, 36, 27, 39, 18, 28, 24, 18, 18, 19, 30, 19, 45, 38, 24, 19, 62, 48, 43, 41, 43, 47, 43, 30, 51, 36, 30, 37, 55, 23, 32, 45, 27, 24, 39, 35, 19, 48, 83, 63, 58, 82, 60, 28, 42, 30, 79, 96, 79, 91, 59, 89, 72, 92, 96, 65, 49, 70, 68, 91, 68, 71, 63, 100, 42, 94, 49, 95, 65, 85, 92, 57, 41, 67, 77, 34, 74, 70, 40, 65, 42, 38, 46, 54, 83, 54, 19]\n",
      "[18, 18, 19, 18, 18, 19, 19, 18, 18, 18, 18, 19, 22, 19, 36, 27, 39, 18, 28, 24, 18, 18, 19, 30, 19, 45, 38, 24, 19, 62, 48, 43, 41, 43, 47, 43, 30, 51, 36, 30, 37, 55, 23, 32, 45, 27, 24, 39, 35, 19, 48, 83, 63, 58, 82, 60, 28, 42, 30, 79, 96, 79, 91, 59, 89, 72, 92, 96, 65, 49, 70, 68, 91, 68, 71, 63, 100, 42, 94, 49, 95, 65, 85, 92, 57, 41, 67, 77, 34, 74, 70, 40, 65, 42, 38, 46, 54, 83, 54, 19]\n",
      "[18, 18, 19, 18, 18, 19, 19, 18, 18, 18, 18, 19, 22, 19, 36, 27, 39, 18, 28, 24, 18, 18, 19, 30, 19, 45, 38, 24, 19, 62, 48, 43, 41, 43, 47, 43, 30, 51, 36, 30, 37, 55, 23, 32, 45, 27, 24, 39, 35, 19, 48, 83, 63, 58, 82, 60, 28, 42, 30, 79, 96, 79, 91, 59, 89, 72, 92, 96, 65, 49, 70, 68, 91, 68, 71, 63, 100, 42, 94, 49, 95, 65, 85, 92, 57, 41, 67, 77, 34, 74, 70, 40, 65, 42, 38, 46, 54, 83, 54, 19]\n",
      "[18, 18, 19, 18, 18, 19, 19, 18, 18, 18, 18, 19, 22, 19, 36, 27, 39, 18, 28, 24, 18, 18, 19, 30, 19, 45, 38, 24, 19, 62, 48, 43, 41, 43, 47, 43, 30, 51, 36, 30, 37, 55, 23, 32, 45, 27, 24, 39, 35, 19, 48, 83, 63, 58, 82, 60, 28, 42, 30, 79, 96, 79, 91, 59, 89, 72, 92, 96, 65, 49, 70, 68, 91, 68, 71, 63, 100, 42, 94, 49, 95, 65, 85, 92, 57, 41, 67, 77, 34, 74, 70, 40, 65, 42, 38, 46, 54, 83, 54, 19]\n",
      "[18, 18, 19, 18, 18, 19, 19, 18, 18, 18, 18, 19, 22, 19, 36, 27, 39, 18, 28, 24, 18, 18, 19, 30, 19, 45, 38, 24, 19, 62, 48, 43, 41, 43, 47, 43, 30, 51, 36, 30, 37, 55, 23, 32, 45, 27, 24, 39, 35, 19, 48, 83, 63, 58, 82, 60, 28, 42, 30, 79, 96, 79, 91, 59, 89, 72, 92, 96, 65, 49, 70, 68, 91, 68, 71, 63, 100, 42, 94, 49, 95, 65, 85, 92, 57, 41, 67, 77, 34, 74, 70, 40, 65, 42, 38, 46, 54, 83, 54, 19]\n",
      "[18, 18, 19, 18, 18, 19, 19, 18, 18, 18, 18, 19, 22, 19, 36, 27, 39, 18, 28, 24, 18, 18, 19, 30, 19, 45, 38, 24, 19, 62, 48, 43, 41, 43, 47, 43, 30, 51, 36, 30, 37, 55, 23, 32, 45, 27, 24, 39, 35, 19, 48, 83, 63, 58, 82, 60, 28, 42, 30, 79, 96, 79, 91, 59, 89, 72, 92, 96, 65, 49, 70, 68, 91, 68, 71, 63, 100, 42, 94, 49, 95, 65, 85, 92, 57, 41, 67, 77, 34, 74, 70, 40, 65, 42, 38, 46, 54, 83, 54, 19]\n",
      "[18, 18, 19, 18, 18, 19, 19, 18, 18, 18, 18, 19, 22, 19, 36, 27, 39, 18, 28, 24, 18, 18, 19, 30, 19, 45, 38, 24, 19, 62, 48, 43, 41, 43, 47, 43, 30, 51, 36, 30, 37, 55, 23, 32, 45, 27, 24, 39, 35, 19, 48, 83, 63, 58, 82, 60, 28, 42, 30, 79, 96, 79, 91, 59, 89, 72, 92, 96, 65, 49, 70, 68, 91, 68, 71, 63, 100, 42, 94, 49, 95, 65, 85, 92, 57, 41, 67, 77, 34, 74, 70, 40, 65, 42, 38, 46, 54, 83, 54, 19]\n",
      "[18, 18, 19, 18, 18, 19, 19, 18, 18, 18, 18, 19, 22, 19, 36, 27, 39, 18, 28, 24, 18, 18, 19, 30, 19, 45, 38, 24, 19, 62, 48, 43, 41, 43, 47, 43, 30, 51, 36, 30, 37, 55, 23, 32, 45, 27, 24, 39, 35, 19, 48, 83, 63, 58, 82, 60, 28, 42, 30, 79, 96, 79, 91, 59, 89, 72, 92, 96, 65, 49, 70, 68, 91, 68, 71, 63, 100, 42, 94, 49, 95, 65, 85, 92, 57, 41, 67, 77, 34, 74, 70, 40, 65, 42, 38, 46, 54, 83, 54, 19]\n",
      "[18, 18, 19, 18, 18, 19, 19, 18, 18, 18, 18, 19, 22, 19, 36, 27, 39, 18, 28, 24, 18, 18, 19, 30, 19, 45, 38, 24, 19, 62, 48, 43, 41, 43, 47, 43, 30, 51, 36, 30, 37, 55, 23, 32, 45, 27, 24, 39, 35, 19, 48, 83, 63, 58, 82, 60, 28, 42, 30, 79, 96, 79, 91, 59, 89, 72, 92, 96, 65, 49, 70, 68, 91, 68, 71, 63, 100, 42, 94, 49, 95, 65, 85, 92, 57, 41, 67, 77, 34, 74, 70, 40, 65, 42, 38, 46, 54, 83, 54, 19]\n",
      "[18, 18, 19, 18, 18, 19, 19, 18, 18, 18, 18, 19, 22, 19, 36, 27, 39, 18, 28, 24, 18, 18, 19, 30, 19, 45, 38, 24, 19, 62, 48, 43, 41, 43, 47, 43, 30, 51, 36, 30, 37, 55, 23, 32, 45, 27, 24, 39, 35, 19, 48, 83, 63, 58, 82, 60, 28, 42, 30, 79, 96, 79, 91, 59, 89, 72, 92, 96, 65, 49, 70, 68, 91, 68, 71, 63, 100, 42, 94, 49, 95, 65, 85, 92, 57, 41, 67, 77, 34, 74, 70, 40, 65, 42, 38, 46, 54, 83, 54, 19]\n",
      "[18, 18, 19, 18, 18, 19, 19, 18, 18, 18, 18, 19, 22, 19, 36, 27, 39, 18, 28, 24, 18, 18, 19, 30, 19, 45, 38, 24, 19, 62, 48, 43, 41, 43, 47, 43, 30, 51, 36, 30, 37, 55, 23, 32, 45, 27, 24, 39, 35, 19, 48, 83, 63, 58, 82, 60, 28, 42, 30, 79, 96, 79, 91, 59, 89, 72, 92, 96, 65, 49, 70, 68, 91, 68, 71, 63, 100, 42, 94, 49, 95, 65, 85, 92, 57, 41, 67, 77, 34, 74, 70, 40, 65, 42, 38, 46, 54, 83, 54, 19]\n",
      "[18, 18, 19, 18, 18, 19, 19, 18, 18, 18, 18, 19, 22, 19, 36, 27, 39, 18, 28, 24, 18, 18, 19, 30, 19, 45, 38, 24, 19, 62, 48, 43, 41, 43, 47, 43, 30, 51, 36, 30, 37, 55, 23, 32, 45, 27, 24, 39, 35, 19, 48, 83, 63, 58, 82, 60, 28, 42, 30, 79, 96, 79, 91, 59, 89, 72, 92, 96, 65, 49, 70, 68, 91, 68, 71, 63, 100, 42, 94, 49, 95, 65, 85, 92, 57, 41, 67, 77, 34, 74, 70, 40, 65, 42, 38, 46, 54, 83, 54, 19]\n",
      "[18, 18, 19, 18, 18, 19, 19, 18, 18, 18, 18, 19, 22, 19, 36, 27, 39, 18, 28, 24, 18, 18, 19, 30, 19, 45, 38, 24, 19, 62, 48, 43, 41, 43, 47, 43, 30, 51, 36, 30, 37, 55, 23, 32, 45, 27, 24, 39, 35, 19, 48, 83, 63, 58, 82, 60, 28, 42, 30, 79, 96, 79, 91, 59, 89, 72, 92, 96, 65, 49, 70, 68, 91, 68, 71, 63, 100, 42, 94, 49, 95, 65, 85, 92, 57, 41, 67, 77, 34, 74, 70, 40, 65, 42, 38, 46, 54, 83, 54, 19]\n",
      "[18, 18, 19, 18, 18, 19, 19, 18, 18, 18, 18, 19, 22, 19, 36, 27, 39, 18, 28, 24, 18, 18, 19, 30, 19, 45, 38, 24, 19, 62, 48, 43, 41, 43, 47, 43, 30, 51, 36, 30, 37, 55, 23, 32, 45, 27, 24, 39, 35, 19, 48, 83, 63, 58, 82, 60, 28, 42, 30, 79, 96, 79, 91, 59, 89, 72, 92, 96, 65, 49, 70, 68, 91, 68, 71, 63, 100, 42, 94, 49, 95, 65, 85, 92, 57, 41, 67, 77, 34, 74, 70, 40, 65, 42, 38, 46, 54, 83, 54, 19]\n",
      "[18, 18, 19, 18, 18, 19, 19, 18, 18, 18, 18, 19, 22, 19, 36, 27, 39, 18, 28, 24, 18, 18, 19, 30, 19, 45, 38, 24, 19, 62, 48, 43, 41, 43, 47, 43, 30, 51, 36, 30, 37, 55, 23, 32, 45, 27, 24, 39, 35, 19, 48, 83, 63, 58, 82, 60, 28, 42, 30, 79, 96, 79, 91, 59, 89, 72, 92, 96, 65, 49, 70, 68, 91, 68, 71, 63, 100, 42, 94, 49, 95, 65, 85, 92, 57, 41, 67, 77, 34, 74, 70, 40, 65, 42, 38, 46, 54, 83, 54, 19]\n",
      "[18, 18, 19, 18, 18, 19, 19, 18, 18, 18, 18, 19, 22, 19, 36, 27, 39, 18, 28, 24, 18, 18, 19, 30, 19, 45, 38, 24, 19, 62, 48, 43, 41, 43, 47, 43, 30, 51, 36, 30, 37, 55, 23, 32, 45, 27, 24, 39, 35, 19, 48, 83, 63, 58, 82, 60, 28, 42, 30, 79, 96, 79, 91, 59, 89, 72, 92, 96, 65, 49, 70, 68, 91, 68, 71, 63, 100, 42, 94, 49, 95, 65, 85, 92, 57, 41, 67, 77, 34, 74, 70, 40, 65, 42, 38, 46, 54, 83, 54, 19]\n",
      "[18, 18, 19, 18, 18, 19, 19, 18, 18, 18, 18, 19, 22, 19, 36, 27, 39, 18, 28, 24, 18, 18, 19, 30, 19, 45, 38, 24, 19, 62, 48, 43, 41, 43, 47, 43, 30, 51, 36, 30, 37, 55, 23, 32, 45, 27, 24, 39, 35, 19, 48, 83, 63, 58, 82, 60, 28, 42, 30, 79, 96, 79, 91, 59, 89, 72, 92, 96, 65, 49, 70, 68, 91, 68, 71, 63, 100, 42, 94, 49, 95, 65, 85, 92, 57, 41, 67, 77, 34, 74, 70, 40, 65, 42, 38, 46, 54, 83, 54, 19]\n",
      "[18, 18, 19, 18, 18, 19, 19, 18, 18, 18, 18, 19, 22, 19, 36, 27, 39, 18, 28, 24, 18, 18, 19, 30, 19, 45, 38, 24, 19, 62, 48, 43, 41, 43, 47, 43, 30, 51, 36, 30, 37, 55, 23, 32, 45, 27, 24, 39, 35, 19, 48, 83, 63, 58, 82, 60, 28, 42, 30, 79, 96, 79, 91, 59, 89, 72, 92, 96, 65, 49, 70, 68, 91, 68, 71, 63, 100, 42, 94, 49, 95, 65, 85, 92, 57, 41, 67, 77, 34, 74, 70, 40, 65, 42, 38, 46, 54, 83, 54, 19]\n",
      "[18, 18, 19, 18, 18, 19, 19, 18, 18, 18, 18, 19, 22, 19, 36, 27, 39, 18, 28, 24, 18, 18, 19, 30, 19, 45, 38, 24, 19, 62, 48, 43, 41, 43, 47, 43, 30, 51, 36, 30, 37, 55, 23, 32, 45, 27, 24, 39, 35, 19, 48, 83, 63, 58, 82, 60, 28, 42, 30, 79, 96, 79, 91, 59, 89, 72, 92, 96, 65, 49, 70, 68, 91, 68, 71, 63, 100, 42, 94, 49, 95, 65, 85, 92, 57, 41, 67, 77, 34, 74, 70, 40, 65, 42, 38, 46, 54, 83, 54, 19]\n",
      "[18, 18, 19, 18, 18, 19, 19, 18, 18, 18, 18, 19, 22, 19, 36, 27, 39, 18, 28, 24, 18, 18, 19, 30, 19, 45, 38, 24, 19, 62, 48, 43, 41, 43, 47, 43, 30, 51, 36, 30, 37, 55, 23, 32, 45, 27, 24, 39, 35, 19, 48, 83, 63, 58, 82, 60, 28, 42, 30, 79, 96, 79, 91, 59, 89, 72, 92, 96, 65, 49, 70, 68, 91, 68, 71, 63, 100, 42, 94, 49, 95, 65, 85, 92, 57, 41, 67, 77, 34, 74, 70, 40, 65, 42, 38, 46, 54, 83, 54, 19]\n",
      "[18, 18, 19, 18, 18, 19, 19, 18, 18, 18, 18, 19, 22, 19, 36, 27, 39, 18, 28, 24, 18, 18, 19, 30, 19, 45, 38, 24, 19, 62, 48, 43, 41, 43, 47, 43, 30, 51, 36, 30, 37, 55, 23, 32, 45, 27, 24, 39, 35, 19, 48, 83, 63, 58, 82, 60, 28, 42, 30, 79, 96, 79, 91, 59, 89, 72, 92, 96, 65, 49, 70, 68, 91, 68, 71, 63, 100, 42, 94, 49, 95, 65, 85, 92, 57, 41, 67, 77, 34, 74, 70, 40, 65, 42, 38, 46, 54, 83, 54, 19]\n",
      "[18, 18, 19, 18, 18, 19, 19, 18, 18, 18, 18, 19, 22, 19, 36, 27, 39, 18, 28, 24, 18, 18, 19, 30, 19, 45, 38, 24, 19, 62, 48, 43, 41, 43, 47, 43, 30, 51, 36, 30, 37, 55, 23, 32, 45, 27, 24, 39, 35, 19, 48, 83, 63, 58, 82, 60, 28, 42, 30, 79, 96, 79, 91, 59, 89, 72, 92, 96, 65, 49, 70, 68, 91, 68, 71, 63, 100, 42, 94, 49, 95, 65, 85, 92, 57, 41, 67, 77, 34, 74, 70, 40, 65, 42, 38, 46, 54, 83, 54, 19]\n",
      "[18, 18, 19, 18, 18, 19, 19, 18, 18, 18, 18, 19, 22, 19, 36, 27, 39, 18, 28, 24, 18, 18, 19, 30, 19, 45, 38, 24, 19, 62, 48, 43, 41, 43, 47, 43, 30, 51, 36, 30, 37, 55, 23, 32, 45, 27, 24, 39, 35, 19, 48, 83, 63, 58, 82, 60, 28, 42, 30, 79, 96, 79, 91, 59, 89, 72, 92, 96, 65, 49, 70, 68, 91, 68, 71, 63, 100, 42, 94, 49, 95, 65, 85, 92, 57, 41, 67, 77, 34, 74, 70, 40, 65, 42, 38, 46, 54, 83, 54, 19]\n",
      "[18, 18, 19, 18, 18, 19, 19, 18, 18, 18, 18, 19, 22, 19, 36, 27, 39, 18, 28, 24, 18, 18, 19, 30, 19, 45, 38, 24, 19, 62, 48, 43, 41, 43, 47, 43, 30, 51, 36, 30, 37, 55, 23, 32, 45, 27, 24, 39, 35, 19, 48, 83, 63, 58, 82, 60, 28, 42, 30, 79, 96, 79, 91, 59, 89, 72, 92, 96, 65, 49, 70, 68, 91, 68, 71, 63, 100, 42, 94, 49, 95, 65, 85, 92, 57, 41, 67, 77, 34, 74, 70, 40, 65, 42, 38, 46, 54, 83, 54, 19]\n",
      "[18, 18, 19, 18, 18, 19, 19, 18, 18, 18, 18, 19, 22, 19, 36, 27, 39, 18, 28, 24, 18, 18, 19, 30, 19, 45, 38, 24, 19, 62, 48, 43, 41, 43, 47, 43, 30, 51, 36, 30, 37, 55, 23, 32, 45, 27, 24, 39, 35, 19, 48, 83, 63, 58, 82, 60, 28, 42, 30, 79, 96, 79, 91, 59, 89, 72, 92, 96, 65, 49, 70, 68, 91, 68, 71, 63, 100, 42, 94, 49, 95, 65, 85, 92, 57, 41, 67, 77, 34, 74, 70, 40, 65, 42, 38, 46, 54, 83, 54, 19]\n",
      "[18, 18, 19, 18, 18, 19, 19, 18, 18, 18, 18, 19, 22, 19, 36, 27, 39, 18, 28, 24, 18, 18, 19, 30, 19, 45, 38, 24, 19, 62, 48, 43, 41, 43, 47, 43, 30, 51, 36, 30, 37, 55, 23, 32, 45, 27, 24, 39, 35, 19, 48, 83, 63, 58, 82, 60, 28, 42, 30, 79, 96, 79, 91, 59, 89, 72, 92, 96, 65, 49, 70, 68, 91, 68, 71, 63, 100, 42, 94, 49, 95, 65, 85, 92, 57, 41, 67, 77, 34, 74, 70, 40, 65, 42, 38, 46, 54, 83, 54, 19]\n",
      "[18, 18, 19, 18, 18, 19, 19, 18, 18, 18, 18, 19, 22, 19, 36, 27, 39, 18, 28, 24, 18, 18, 19, 30, 19, 45, 38, 24, 19, 62, 48, 43, 41, 43, 47, 43, 30, 51, 36, 30, 37, 55, 23, 32, 45, 27, 24, 39, 35, 19, 48, 83, 63, 58, 82, 60, 28, 42, 30, 79, 96, 79, 91, 59, 89, 72, 92, 96, 65, 49, 70, 68, 91, 68, 71, 63, 100, 42, 94, 49, 95, 65, 85, 92, 57, 41, 67, 77, 34, 74, 70, 40, 65, 42, 38, 46, 54, 83, 54, 19]\n",
      "[18, 18, 19, 18, 18, 19, 19, 18, 18, 18, 18, 19, 22, 19, 36, 27, 39, 18, 28, 24, 18, 18, 19, 30, 19, 45, 38, 24, 19, 62, 48, 43, 41, 43, 47, 43, 30, 51, 36, 30, 37, 55, 23, 32, 45, 27, 24, 39, 35, 19, 48, 83, 63, 58, 82, 60, 28, 42, 30, 79, 96, 79, 91, 59, 89, 72, 92, 96, 65, 49, 70, 68, 91, 68, 71, 63, 100, 42, 94, 49, 95, 65, 85, 92, 57, 41, 67, 77, 34, 74, 70, 40, 65, 42, 38, 46, 54, 83, 54, 19]\n",
      "[18, 18, 19, 18, 18, 19, 19, 18, 18, 18, 18, 19, 22, 19, 36, 27, 39, 18, 28, 24, 18, 18, 19, 30, 19, 45, 38, 24, 19, 62, 48, 43, 41, 43, 47, 43, 30, 51, 36, 30, 37, 55, 23, 32, 45, 27, 24, 39, 35, 19, 48, 83, 63, 58, 82, 60, 28, 42, 30, 79, 96, 79, 91, 59, 89, 72, 92, 96, 65, 49, 70, 68, 91, 68, 71, 63, 100, 42, 94, 49, 95, 65, 85, 92, 57, 41, 67, 77, 34, 74, 70, 40, 65, 42, 38, 46, 54, 83, 54, 19]\n",
      "[18, 18, 19, 18, 18, 19, 19, 18, 18, 18, 18, 19, 22, 19, 36, 27, 39, 18, 28, 24, 18, 18, 19, 30, 19, 45, 38, 24, 19, 62, 48, 43, 41, 43, 47, 43, 30, 51, 36, 30, 37, 55, 23, 32, 45, 27, 24, 39, 35, 19, 48, 83, 63, 58, 82, 60, 28, 42, 30, 79, 96, 79, 91, 59, 89, 72, 92, 96, 65, 49, 70, 68, 91, 68, 71, 63, 100, 42, 94, 49, 95, 65, 85, 92, 57, 41, 67, 77, 34, 74, 70, 40, 65, 42, 38, 46, 54, 83, 54, 19]\n",
      "[18, 18, 19, 18, 18, 19, 19, 18, 18, 18, 18, 19, 22, 19, 36, 27, 39, 18, 28, 24, 18, 18, 19, 30, 19, 45, 38, 24, 19, 62, 48, 43, 41, 43, 47, 43, 30, 51, 36, 30, 37, 55, 23, 32, 45, 27, 24, 39, 35, 19, 48, 83, 63, 58, 82, 60, 28, 42, 30, 79, 96, 79, 91, 59, 89, 72, 92, 96, 65, 49, 70, 68, 91, 68, 71, 63, 100, 42, 94, 49, 95, 65, 85, 92, 57, 41, 67, 77, 34, 74, 70, 40, 65, 42, 38, 46, 54, 83, 54, 19]\n",
      "[18, 18, 19, 18, 18, 19, 19, 18, 18, 18, 18, 19, 22, 19, 36, 27, 39, 18, 28, 24, 18, 18, 19, 30, 19, 45, 38, 24, 19, 62, 48, 43, 41, 43, 47, 43, 30, 51, 36, 30, 37, 55, 23, 32, 45, 27, 24, 39, 35, 19, 48, 83, 63, 58, 82, 60, 28, 42, 30, 79, 96, 79, 91, 59, 89, 72, 92, 96, 65, 49, 70, 68, 91, 68, 71, 63, 100, 42, 94, 49, 95, 65, 85, 92, 57, 41, 67, 77, 34, 74, 70, 40, 65, 42, 38, 46, 54, 83, 54, 19]\n",
      "[18, 18, 19, 18, 18, 19, 19, 18, 18, 18, 18, 19, 22, 19, 36, 27, 39, 18, 28, 24, 18, 18, 19, 30, 19, 45, 38, 24, 19, 62, 48, 43, 41, 43, 47, 43, 30, 51, 36, 30, 37, 55, 23, 32, 45, 27, 24, 39, 35, 19, 48, 83, 63, 58, 82, 60, 28, 42, 30, 79, 96, 79, 91, 59, 89, 72, 92, 96, 65, 49, 70, 68, 91, 68, 71, 63, 100, 42, 94, 49, 95, 65, 85, 92, 57, 41, 67, 77, 34, 74, 70, 40, 65, 42, 38, 46, 54, 83, 54, 19]\n",
      "[18, 18, 19, 18, 18, 19, 19, 18, 18, 18, 18, 19, 22, 19, 36, 27, 39, 18, 28, 24, 18, 18, 19, 30, 19, 45, 38, 24, 19, 62, 48, 43, 41, 43, 47, 43, 30, 51, 36, 30, 37, 55, 23, 32, 45, 27, 24, 39, 35, 19, 48, 83, 63, 58, 82, 60, 28, 42, 30, 79, 96, 79, 91, 59, 89, 72, 92, 96, 65, 49, 70, 68, 91, 68, 71, 63, 100, 42, 94, 49, 95, 65, 85, 92, 57, 41, 67, 77, 34, 74, 70, 40, 65, 42, 38, 46, 54, 83, 54, 19]\n",
      "[18, 18, 19, 18, 18, 19, 19, 18, 18, 18, 18, 19, 22, 19, 36, 27, 39, 18, 28, 24, 18, 18, 19, 30, 19, 45, 38, 24, 19, 62, 48, 43, 41, 43, 47, 43, 30, 51, 36, 30, 37, 55, 23, 32, 45, 27, 24, 39, 35, 19, 48, 83, 63, 58, 82, 60, 28, 42, 30, 79, 96, 79, 91, 59, 89, 72, 92, 96, 65, 49, 70, 68, 91, 68, 71, 63, 100, 42, 94, 49, 95, 65, 85, 92, 57, 41, 67, 77, 34, 74, 70, 40, 65, 42, 38, 46, 54, 83, 54, 19]\n",
      "[18, 18, 19, 18, 18, 19, 19, 18, 18, 18, 18, 19, 22, 19, 36, 27, 39, 18, 28, 24, 18, 18, 19, 30, 19, 45, 38, 24, 19, 62, 48, 43, 41, 43, 47, 43, 30, 51, 36, 30, 37, 55, 23, 32, 45, 27, 24, 39, 35, 19, 48, 83, 63, 58, 82, 60, 28, 42, 30, 79, 96, 79, 91, 59, 89, 72, 92, 96, 65, 49, 70, 68, 91, 68, 71, 63, 100, 42, 94, 49, 95, 65, 85, 92, 57, 41, 67, 77, 34, 74, 70, 40, 65, 42, 38, 46, 54, 83, 54, 19]\n",
      "[18, 18, 19, 18, 18, 19, 19, 18, 18, 18, 18, 19, 22, 19, 36, 27, 39, 18, 28, 24, 18, 18, 19, 30, 19, 45, 38, 24, 19, 62, 48, 43, 41, 43, 47, 43, 30, 51, 36, 30, 37, 55, 23, 32, 45, 27, 24, 39, 35, 19, 48, 83, 63, 58, 82, 60, 28, 42, 30, 79, 96, 79, 91, 59, 89, 72, 92, 96, 65, 49, 70, 68, 91, 68, 71, 63, 100, 42, 94, 49, 95, 65, 85, 92, 57, 41, 67, 77, 34, 74, 70, 40, 65, 42, 38, 46, 54, 83, 54, 19]\n",
      "[18, 18, 19, 18, 18, 19, 19, 18, 18, 18, 18, 19, 22, 19, 36, 27, 39, 18, 28, 24, 18, 18, 19, 30, 19, 45, 38, 24, 19, 62, 48, 43, 41, 43, 47, 43, 30, 51, 36, 30, 37, 55, 23, 32, 45, 27, 24, 39, 35, 19, 48, 83, 63, 58, 82, 60, 28, 42, 30, 79, 96, 79, 91, 59, 89, 72, 92, 96, 65, 49, 70, 68, 91, 68, 71, 63, 100, 42, 94, 49, 95, 65, 85, 92, 57, 41, 67, 77, 34, 74, 70, 40, 65, 42, 38, 46, 54, 83, 54, 19]\n",
      "[18, 18, 19, 18, 18, 19, 19, 18, 18, 18, 18, 19, 22, 19, 36, 27, 39, 18, 28, 24, 18, 18, 19, 30, 19, 45, 38, 24, 19, 62, 48, 43, 41, 43, 47, 43, 30, 51, 36, 30, 37, 55, 23, 32, 45, 27, 24, 39, 35, 19, 48, 83, 63, 58, 82, 60, 28, 42, 30, 79, 96, 79, 91, 59, 89, 72, 92, 96, 65, 49, 70, 68, 91, 68, 71, 63, 100, 42, 94, 49, 95, 65, 85, 92, 57, 41, 67, 77, 34, 74, 70, 40, 65, 42, 38, 46, 54, 83, 54, 19]\n",
      "[18, 18, 19, 18, 18, 19, 19, 18, 18, 18, 18, 19, 22, 19, 36, 27, 39, 18, 28, 24, 18, 18, 19, 30, 19, 45, 38, 24, 19, 62, 48, 43, 41, 43, 47, 43, 30, 51, 36, 30, 37, 55, 23, 32, 45, 27, 24, 39, 35, 19, 48, 83, 63, 58, 82, 60, 28, 42, 30, 79, 96, 79, 91, 59, 89, 72, 92, 96, 65, 49, 70, 68, 91, 68, 71, 63, 100, 42, 94, 49, 95, 65, 85, 92, 57, 41, 67, 77, 34, 74, 70, 40, 65, 42, 38, 46, 54, 83, 54, 19]\n",
      "[18, 18, 19, 18, 18, 19, 19, 18, 18, 18, 18, 19, 22, 19, 36, 27, 39, 18, 28, 24, 18, 18, 19, 30, 19, 45, 38, 24, 19, 62, 48, 43, 41, 43, 47, 43, 30, 51, 36, 30, 37, 55, 23, 32, 45, 27, 24, 39, 35, 19, 48, 83, 63, 58, 82, 60, 28, 42, 30, 79, 96, 79, 91, 59, 89, 72, 92, 96, 65, 49, 70, 68, 91, 68, 71, 63, 100, 42, 94, 49, 95, 65, 85, 92, 57, 41, 67, 77, 34, 74, 70, 40, 65, 42, 38, 46, 54, 83, 54, 19]\n",
      "[18, 18, 19, 18, 18, 19, 19, 18, 18, 18, 18, 19, 22, 19, 36, 27, 39, 18, 28, 24, 18, 18, 19, 30, 19, 45, 38, 24, 19, 62, 48, 43, 41, 43, 47, 43, 30, 51, 36, 30, 37, 55, 23, 32, 45, 27, 24, 39, 35, 19, 48, 83, 63, 58, 82, 60, 28, 42, 30, 79, 96, 79, 91, 59, 89, 72, 92, 96, 65, 49, 70, 68, 91, 68, 71, 63, 100, 42, 94, 49, 95, 65, 85, 92, 57, 41, 67, 77, 34, 74, 70, 40, 65, 42, 38, 46, 54, 83, 54, 19]\n",
      "[18, 18, 19, 18, 18, 19, 19, 18, 18, 18, 18, 19, 22, 19, 36, 27, 39, 18, 28, 24, 18, 18, 19, 30, 19, 45, 38, 24, 19, 62, 48, 43, 41, 43, 47, 43, 30, 51, 36, 30, 37, 55, 23, 32, 45, 27, 24, 39, 35, 19, 48, 83, 63, 58, 82, 60, 28, 42, 30, 79, 96, 79, 91, 59, 89, 72, 92, 96, 65, 49, 70, 68, 91, 68, 71, 63, 100, 42, 94, 49, 95, 65, 85, 92, 57, 41, 67, 77, 34, 74, 70, 40, 65, 42, 38, 46, 54, 83, 54, 19]\n",
      "[18, 18, 19, 18, 18, 19, 19, 18, 18, 18, 18, 19, 22, 19, 36, 27, 39, 18, 28, 24, 18, 18, 19, 30, 19, 45, 38, 24, 19, 62, 48, 43, 41, 43, 47, 43, 30, 51, 36, 30, 37, 55, 23, 32, 45, 27, 24, 39, 35, 19, 48, 83, 63, 58, 82, 60, 28, 42, 30, 79, 96, 79, 91, 59, 89, 72, 92, 96, 65, 49, 70, 68, 91, 68, 71, 63, 100, 42, 94, 49, 95, 65, 85, 92, 57, 41, 67, 77, 34, 74, 70, 40, 65, 42, 38, 46, 54, 83, 54, 19]\n",
      "[18, 18, 19, 18, 18, 19, 19, 18, 18, 18, 18, 19, 22, 19, 36, 27, 39, 18, 28, 24, 18, 18, 19, 30, 19, 45, 38, 24, 19, 62, 48, 43, 41, 43, 47, 43, 30, 51, 36, 30, 37, 55, 23, 32, 45, 27, 24, 39, 35, 19, 48, 83, 63, 58, 82, 60, 28, 42, 30, 79, 96, 79, 91, 59, 89, 72, 92, 96, 65, 49, 70, 68, 91, 68, 71, 63, 100, 42, 94, 49, 95, 65, 85, 92, 57, 41, 67, 77, 34, 74, 70, 40, 65, 42, 38, 46, 54, 83, 54, 19]\n",
      "[18, 18, 19, 18, 18, 19, 19, 18, 18, 18, 18, 19, 22, 19, 36, 27, 39, 18, 28, 24, 18, 18, 19, 30, 19, 45, 38, 24, 19, 62, 48, 43, 41, 43, 47, 43, 30, 51, 36, 30, 37, 55, 23, 32, 45, 27, 24, 39, 35, 19, 48, 83, 63, 58, 82, 60, 28, 42, 30, 79, 96, 79, 91, 59, 89, 72, 92, 96, 65, 49, 70, 68, 91, 68, 71, 63, 100, 42, 94, 49, 95, 65, 85, 92, 57, 41, 67, 77, 34, 74, 70, 40, 65, 42, 38, 46, 54, 83, 54, 19]\n",
      "[18, 18, 19, 18, 18, 19, 19, 18, 18, 18, 18, 19, 22, 19, 36, 27, 39, 18, 28, 24, 18, 18, 19, 30, 19, 45, 38, 24, 19, 62, 48, 43, 41, 43, 47, 43, 30, 51, 36, 30, 37, 55, 23, 32, 45, 27, 24, 39, 35, 19, 48, 83, 63, 58, 82, 60, 28, 42, 30, 79, 96, 79, 91, 59, 89, 72, 92, 96, 65, 49, 70, 68, 91, 68, 71, 63, 100, 42, 94, 49, 95, 65, 85, 92, 57, 41, 67, 77, 34, 74, 70, 40, 65, 42, 38, 46, 54, 83, 54, 19]\n",
      "[18, 18, 19, 18, 18, 19, 19, 18, 18, 18, 18, 19, 22, 19, 36, 27, 39, 18, 28, 24, 18, 18, 19, 30, 19, 45, 38, 24, 19, 62, 48, 43, 41, 43, 47, 43, 30, 51, 36, 30, 37, 55, 23, 32, 45, 27, 24, 39, 35, 19, 48, 83, 63, 58, 82, 60, 28, 42, 30, 79, 96, 79, 91, 59, 89, 72, 92, 96, 65, 49, 70, 68, 91, 68, 71, 63, 100, 42, 94, 49, 95, 65, 85, 92, 57, 41, 67, 77, 34, 74, 70, 40, 65, 42, 38, 46, 54, 83, 54, 19]\n",
      "[18, 18, 19, 18, 18, 19, 19, 18, 18, 18, 18, 19, 22, 19, 36, 27, 39, 18, 28, 24, 18, 18, 19, 30, 19, 45, 38, 24, 19, 62, 48, 43, 41, 43, 47, 43, 30, 51, 36, 30, 37, 55, 23, 32, 45, 27, 24, 39, 35, 19, 48, 83, 63, 58, 82, 60, 28, 42, 30, 79, 96, 79, 91, 59, 89, 72, 92, 96, 65, 49, 70, 68, 91, 68, 71, 63, 100, 42, 94, 49, 95, 65, 85, 92, 57, 41, 67, 77, 34, 74, 70, 40, 65, 42, 38, 46, 54, 83, 54, 19]\n",
      "[18, 18, 19, 18, 18, 19, 19, 18, 18, 18, 18, 19, 22, 19, 36, 27, 39, 18, 28, 24, 18, 18, 19, 30, 19, 45, 38, 24, 19, 62, 48, 43, 41, 43, 47, 43, 30, 51, 36, 30, 37, 55, 23, 32, 45, 27, 24, 39, 35, 19, 48, 83, 63, 58, 82, 60, 28, 42, 30, 79, 96, 79, 91, 59, 89, 72, 92, 96, 65, 49, 70, 68, 91, 68, 71, 63, 100, 42, 94, 49, 95, 65, 85, 92, 57, 41, 67, 77, 34, 74, 70, 40, 65, 42, 38, 46, 54, 83, 54, 19]\n",
      "[18, 18, 19, 18, 18, 19, 19, 18, 18, 18, 18, 19, 22, 19, 36, 27, 39, 18, 28, 24, 18, 18, 19, 30, 19, 45, 38, 24, 19, 62, 48, 43, 41, 43, 47, 43, 30, 51, 36, 30, 37, 55, 23, 32, 45, 27, 24, 39, 35, 19, 48, 83, 63, 58, 82, 60, 28, 42, 30, 79, 96, 79, 91, 59, 89, 72, 92, 96, 65, 49, 70, 68, 91, 68, 71, 63, 100, 42, 94, 49, 95, 65, 85, 92, 57, 41, 67, 77, 34, 74, 70, 40, 65, 42, 38, 46, 54, 83, 54, 19]\n",
      "[18, 18, 19, 18, 18, 19, 19, 18, 18, 18, 18, 19, 22, 19, 36, 27, 39, 18, 28, 24, 18, 18, 19, 30, 19, 45, 38, 24, 19, 62, 48, 43, 41, 43, 47, 43, 30, 51, 36, 30, 37, 55, 23, 32, 45, 27, 24, 39, 35, 19, 48, 83, 63, 58, 82, 60, 28, 42, 30, 79, 96, 79, 91, 59, 89, 72, 92, 96, 65, 49, 70, 68, 91, 68, 71, 63, 100, 42, 94, 49, 95, 65, 85, 92, 57, 41, 67, 77, 34, 74, 70, 40, 65, 42, 38, 46, 54, 83, 54, 19]\n",
      "[18, 18, 19, 18, 18, 19, 19, 18, 18, 18, 18, 19, 22, 19, 36, 27, 39, 18, 28, 24, 18, 18, 19, 30, 19, 45, 38, 24, 19, 62, 48, 43, 41, 43, 47, 43, 30, 51, 36, 30, 37, 55, 23, 32, 45, 27, 24, 39, 35, 19, 48, 83, 63, 58, 82, 60, 28, 42, 30, 79, 96, 79, 91, 59, 89, 72, 92, 96, 65, 49, 70, 68, 91, 68, 71, 63, 100, 42, 94, 49, 95, 65, 85, 92, 57, 41, 67, 77, 34, 74, 70, 40, 65, 42, 38, 46, 54, 83, 54, 19]\n",
      "[18, 18, 19, 18, 18, 19, 19, 18, 18, 18, 18, 19, 22, 19, 36, 27, 39, 18, 28, 24, 18, 18, 19, 30, 19, 45, 38, 24, 19, 62, 48, 43, 41, 43, 47, 43, 30, 51, 36, 30, 37, 55, 23, 32, 45, 27, 24, 39, 35, 19, 48, 83, 63, 58, 82, 60, 28, 42, 30, 79, 96, 79, 91, 59, 89, 72, 92, 96, 65, 49, 70, 68, 91, 68, 71, 63, 100, 42, 94, 49, 95, 65, 85, 92, 57, 41, 67, 77, 34, 74, 70, 40, 65, 42, 38, 46, 54, 83, 54, 19]\n",
      "[18, 18, 19, 18, 18, 19, 19, 18, 18, 18, 18, 19, 22, 19, 36, 27, 39, 18, 28, 24, 18, 18, 19, 30, 19, 45, 38, 24, 19, 62, 48, 43, 41, 43, 47, 43, 30, 51, 36, 30, 37, 55, 23, 32, 45, 27, 24, 39, 35, 19, 48, 83, 63, 58, 82, 60, 28, 42, 30, 79, 96, 79, 91, 59, 89, 72, 92, 96, 65, 49, 70, 68, 91, 68, 71, 63, 100, 42, 94, 49, 95, 65, 85, 92, 57, 41, 67, 77, 34, 74, 70, 40, 65, 42, 38, 46, 54, 83, 54, 19]\n",
      "[18, 18, 19, 18, 18, 19, 19, 18, 18, 18, 18, 19, 22, 19, 36, 27, 39, 18, 28, 24, 18, 18, 19, 30, 19, 45, 38, 24, 19, 62, 48, 43, 41, 43, 47, 43, 30, 51, 36, 30, 37, 55, 23, 32, 45, 27, 24, 39, 35, 19, 48, 83, 63, 58, 82, 60, 28, 42, 30, 79, 96, 79, 91, 59, 89, 72, 92, 96, 65, 49, 70, 68, 91, 68, 71, 63, 100, 42, 94, 49, 95, 65, 85, 92, 57, 41, 67, 77, 34, 74, 70, 40, 65, 42, 38, 46, 54, 83, 54, 19]\n",
      "[18, 18, 19, 18, 18, 19, 19, 18, 18, 18, 18, 19, 22, 19, 36, 27, 39, 18, 28, 24, 18, 18, 19, 30, 19, 45, 38, 24, 19, 62, 48, 43, 41, 43, 47, 43, 30, 51, 36, 30, 37, 55, 23, 32, 45, 27, 24, 39, 35, 19, 48, 83, 63, 58, 82, 60, 28, 42, 30, 79, 96, 79, 91, 59, 89, 72, 92, 96, 65, 49, 70, 68, 91, 68, 71, 63, 100, 42, 94, 49, 95, 65, 85, 92, 57, 41, 67, 77, 34, 74, 70, 40, 65, 42, 38, 46, 54, 83, 54, 19]\n",
      "[18, 18, 19, 18, 18, 19, 19, 18, 18, 18, 18, 19, 22, 19, 36, 27, 39, 18, 28, 24, 18, 18, 19, 30, 19, 45, 38, 24, 19, 62, 48, 43, 41, 43, 47, 43, 30, 51, 36, 30, 37, 55, 23, 32, 45, 27, 24, 39, 35, 19, 48, 83, 63, 58, 82, 60, 28, 42, 30, 79, 96, 79, 91, 59, 89, 72, 92, 96, 65, 49, 70, 68, 91, 68, 71, 63, 100, 42, 94, 49, 95, 65, 85, 92, 57, 41, 67, 77, 34, 74, 70, 40, 65, 42, 38, 46, 54, 83, 54, 19]\n",
      "[18, 18, 19, 18, 18, 19, 19, 18, 18, 18, 18, 19, 22, 19, 36, 27, 39, 18, 28, 24, 18, 18, 19, 30, 19, 45, 38, 24, 19, 62, 48, 43, 41, 43, 47, 43, 30, 51, 36, 30, 37, 55, 23, 32, 45, 27, 24, 39, 35, 19, 48, 83, 63, 58, 82, 60, 28, 42, 30, 79, 96, 79, 91, 59, 89, 72, 92, 96, 65, 49, 70, 68, 91, 68, 71, 63, 100, 42, 94, 49, 95, 65, 85, 92, 57, 41, 67, 77, 34, 74, 70, 40, 65, 42, 38, 46, 54, 83, 54, 19]\n",
      "[18, 18, 19, 18, 18, 19, 19, 18, 18, 18, 18, 19, 22, 19, 36, 27, 39, 18, 28, 24, 18, 18, 19, 30, 19, 45, 38, 24, 19, 62, 48, 43, 41, 43, 47, 43, 30, 51, 36, 30, 37, 55, 23, 32, 45, 27, 24, 39, 35, 19, 48, 83, 63, 58, 82, 60, 28, 42, 30, 79, 96, 79, 91, 59, 89, 72, 92, 96, 65, 49, 70, 68, 91, 68, 71, 63, 100, 42, 94, 49, 95, 65, 85, 92, 57, 41, 67, 77, 34, 74, 70, 40, 65, 42, 38, 46, 54, 83, 54, 19]\n",
      "[18, 18, 19, 18, 18, 19, 19, 18, 18, 18, 18, 19, 22, 19, 36, 27, 39, 18, 28, 24, 18, 18, 19, 30, 19, 45, 38, 24, 19, 62, 48, 43, 41, 43, 47, 43, 30, 51, 36, 30, 37, 55, 23, 32, 45, 27, 24, 39, 35, 19, 48, 83, 63, 58, 82, 60, 28, 42, 30, 79, 96, 79, 91, 59, 89, 72, 92, 96, 65, 49, 70, 68, 91, 68, 71, 63, 100, 42, 94, 49, 95, 65, 85, 92, 57, 41, 67, 77, 34, 74, 70, 40, 65, 42, 38, 46, 54, 83, 54, 19]\n",
      "[18, 18, 19, 18, 18, 19, 19, 18, 18, 18, 18, 19, 22, 19, 36, 27, 39, 18, 28, 24, 18, 18, 19, 30, 19, 45, 38, 24, 19, 62, 48, 43, 41, 43, 47, 43, 30, 51, 36, 30, 37, 55, 23, 32, 45, 27, 24, 39, 35, 19, 48, 83, 63, 58, 82, 60, 28, 42, 30, 79, 96, 79, 91, 59, 89, 72, 92, 96, 65, 49, 70, 68, 91, 68, 71, 63, 100, 42, 94, 49, 95, 65, 85, 92, 57, 41, 67, 77, 34, 74, 70, 40, 65, 42, 38, 46, 54, 83, 54, 19]\n",
      "[18, 18, 19, 18, 18, 19, 19, 18, 18, 18, 18, 19, 22, 19, 36, 27, 39, 18, 28, 24, 18, 18, 19, 30, 19, 45, 38, 24, 19, 62, 48, 43, 41, 43, 47, 43, 30, 51, 36, 30, 37, 55, 23, 32, 45, 27, 24, 39, 35, 19, 48, 83, 63, 58, 82, 60, 28, 42, 30, 79, 96, 79, 91, 59, 89, 72, 92, 96, 65, 49, 70, 68, 91, 68, 71, 63, 100, 42, 94, 49, 95, 65, 85, 92, 57, 41, 67, 77, 34, 74, 70, 40, 65, 42, 38, 46, 54, 83, 54, 19]\n",
      "[18, 18, 19, 18, 18, 19, 19, 18, 18, 18, 18, 19, 22, 19, 36, 27, 39, 18, 28, 24, 18, 18, 19, 30, 19, 45, 38, 24, 19, 62, 48, 43, 41, 43, 47, 43, 30, 51, 36, 30, 37, 55, 23, 32, 45, 27, 24, 39, 35, 19, 48, 83, 63, 58, 82, 60, 28, 42, 30, 79, 96, 79, 91, 59, 89, 72, 92, 96, 65, 49, 70, 68, 91, 68, 71, 63, 100, 42, 94, 49, 95, 65, 85, 92, 57, 41, 67, 77, 34, 74, 70, 40, 65, 42, 38, 46, 54, 83, 54, 19]\n",
      "[18, 18, 19, 18, 18, 19, 19, 18, 18, 18, 18, 19, 22, 19, 36, 27, 39, 18, 28, 24, 18, 18, 19, 30, 19, 45, 38, 24, 19, 62, 48, 43, 41, 43, 47, 43, 30, 51, 36, 30, 37, 55, 23, 32, 45, 27, 24, 39, 35, 19, 48, 83, 63, 58, 82, 60, 28, 42, 30, 79, 96, 79, 91, 59, 89, 72, 92, 96, 65, 49, 70, 68, 91, 68, 71, 63, 100, 42, 94, 49, 95, 65, 85, 92, 57, 41, 67, 77, 34, 74, 70, 40, 65, 42, 38, 46, 54, 83, 54, 19]\n",
      "[18, 18, 19, 18, 18, 19, 19, 18, 18, 18, 18, 19, 22, 19, 36, 27, 39, 18, 28, 24, 18, 18, 19, 30, 19, 45, 38, 24, 19, 62, 48, 43, 41, 43, 47, 43, 30, 51, 36, 30, 37, 55, 23, 32, 45, 27, 24, 39, 35, 19, 48, 83, 63, 58, 82, 60, 28, 42, 30, 79, 96, 79, 91, 59, 89, 72, 92, 96, 65, 49, 70, 68, 91, 68, 71, 63, 100, 42, 94, 49, 95, 65, 85, 92, 57, 41, 67, 77, 34, 74, 70, 40, 65, 42, 38, 46, 54, 83, 54, 19]\n",
      "[18, 18, 19, 18, 18, 19, 19, 18, 18, 18, 18, 19, 22, 19, 36, 27, 39, 18, 28, 24, 18, 18, 19, 30, 19, 45, 38, 24, 19, 62, 48, 43, 41, 43, 47, 43, 30, 51, 36, 30, 37, 55, 23, 32, 45, 27, 24, 39, 35, 19, 48, 83, 63, 58, 82, 60, 28, 42, 30, 79, 96, 79, 91, 59, 89, 72, 92, 96, 65, 49, 70, 68, 91, 68, 71, 63, 100, 42, 94, 49, 95, 65, 85, 92, 57, 41, 67, 77, 34, 74, 70, 40, 65, 42, 38, 46, 54, 83, 54, 19]\n",
      "[18, 18, 19, 18, 18, 19, 19, 18, 18, 18, 18, 19, 22, 19, 36, 27, 39, 18, 28, 24, 18, 18, 19, 30, 19, 45, 38, 24, 19, 62, 48, 43, 41, 43, 47, 43, 30, 51, 36, 30, 37, 55, 23, 32, 45, 27, 24, 39, 35, 19, 48, 83, 63, 58, 82, 60, 28, 42, 30, 79, 96, 79, 91, 59, 89, 72, 92, 96, 65, 49, 70, 68, 91, 68, 71, 63, 100, 42, 94, 49, 95, 65, 85, 92, 57, 41, 67, 77, 34, 74, 70, 40, 65, 42, 38, 46, 54, 83, 54, 19]\n",
      "[18, 18, 19, 18, 18, 19, 19, 18, 18, 18, 18, 19, 22, 19, 36, 27, 39, 18, 28, 24, 18, 18, 19, 30, 19, 45, 38, 24, 19, 62, 48, 43, 41, 43, 47, 43, 30, 51, 36, 30, 37, 55, 23, 32, 45, 27, 24, 39, 35, 19, 48, 83, 63, 58, 82, 60, 28, 42, 30, 79, 96, 79, 91, 59, 89, 72, 92, 96, 65, 49, 70, 68, 91, 68, 71, 63, 100, 42, 94, 49, 95, 65, 85, 92, 57, 41, 67, 77, 34, 74, 70, 40, 65, 42, 38, 46, 54, 83, 54, 19]\n",
      "[18, 18, 19, 18, 18, 19, 19, 18, 18, 18, 18, 19, 22, 19, 36, 27, 39, 18, 28, 24, 18, 18, 19, 30, 19, 45, 38, 24, 19, 62, 48, 43, 41, 43, 47, 43, 30, 51, 36, 30, 37, 55, 23, 32, 45, 27, 24, 39, 35, 19, 48, 83, 63, 58, 82, 60, 28, 42, 30, 79, 96, 79, 91, 59, 89, 72, 92, 96, 65, 49, 70, 68, 91, 68, 71, 63, 100, 42, 94, 49, 95, 65, 85, 92, 57, 41, 67, 77, 34, 74, 70, 40, 65, 42, 38, 46, 54, 83, 54, 19]\n",
      "[18, 18, 19, 18, 18, 19, 19, 18, 18, 18, 18, 19, 22, 19, 36, 27, 39, 18, 28, 24, 18, 18, 19, 30, 19, 45, 38, 24, 19, 62, 48, 43, 41, 43, 47, 43, 30, 51, 36, 30, 37, 55, 23, 32, 45, 27, 24, 39, 35, 19, 48, 83, 63, 58, 82, 60, 28, 42, 30, 79, 96, 79, 91, 59, 89, 72, 92, 96, 65, 49, 70, 68, 91, 68, 71, 63, 100, 42, 94, 49, 95, 65, 85, 92, 57, 41, 67, 77, 34, 74, 70, 40, 65, 42, 38, 46, 54, 83, 54, 19]\n",
      "[18, 18, 19, 18, 18, 19, 19, 18, 18, 18, 18, 19, 22, 19, 36, 27, 39, 18, 28, 24, 18, 18, 19, 30, 19, 45, 38, 24, 19, 62, 48, 43, 41, 43, 47, 43, 30, 51, 36, 30, 37, 55, 23, 32, 45, 27, 24, 39, 35, 19, 48, 83, 63, 58, 82, 60, 28, 42, 30, 79, 96, 79, 91, 59, 89, 72, 92, 96, 65, 49, 70, 68, 91, 68, 71, 63, 100, 42, 94, 49, 95, 65, 85, 92, 57, 41, 67, 77, 34, 74, 70, 40, 65, 42, 38, 46, 54, 83, 54, 19]\n",
      "[18, 18, 19, 18, 18, 19, 19, 18, 18, 18, 18, 19, 22, 19, 36, 27, 39, 18, 28, 24, 18, 18, 19, 30, 19, 45, 38, 24, 19, 62, 48, 43, 41, 43, 47, 43, 30, 51, 36, 30, 37, 55, 23, 32, 45, 27, 24, 39, 35, 19, 48, 83, 63, 58, 82, 60, 28, 42, 30, 79, 96, 79, 91, 59, 89, 72, 92, 96, 65, 49, 70, 68, 91, 68, 71, 63, 100, 42, 94, 49, 95, 65, 85, 92, 57, 41, 67, 77, 34, 74, 70, 40, 65, 42, 38, 46, 54, 83, 54, 19]\n",
      "[18, 18, 19, 18, 18, 19, 19, 18, 18, 18, 18, 19, 22, 19, 36, 27, 39, 18, 28, 24, 18, 18, 19, 30, 19, 45, 38, 24, 19, 62, 48, 43, 41, 43, 47, 43, 30, 51, 36, 30, 37, 55, 23, 32, 45, 27, 24, 39, 35, 19, 48, 83, 63, 58, 82, 60, 28, 42, 30, 79, 96, 79, 91, 59, 89, 72, 92, 96, 65, 49, 70, 68, 91, 68, 71, 63, 100, 42, 94, 49, 95, 65, 85, 92, 57, 41, 67, 77, 34, 74, 70, 40, 65, 42, 38, 46, 54, 83, 54, 19]\n",
      "[18, 18, 19, 18, 18, 19, 19, 18, 18, 18, 18, 19, 22, 19, 36, 27, 39, 18, 28, 24, 18, 18, 19, 30, 19, 45, 38, 24, 19, 62, 48, 43, 41, 43, 47, 43, 30, 51, 36, 30, 37, 55, 23, 32, 45, 27, 24, 39, 35, 19, 48, 83, 63, 58, 82, 60, 28, 42, 30, 79, 96, 79, 91, 59, 89, 72, 92, 96, 65, 49, 70, 68, 91, 68, 71, 63, 100, 42, 94, 49, 95, 65, 85, 92, 57, 41, 67, 77, 34, 74, 70, 40, 65, 42, 38, 46, 54, 83, 54, 19]\n",
      "[18, 18, 19, 18, 18, 19, 19, 18, 18, 18, 18, 19, 22, 19, 36, 27, 39, 18, 28, 24, 18, 18, 19, 30, 19, 45, 38, 24, 19, 62, 48, 43, 41, 43, 47, 43, 30, 51, 36, 30, 37, 55, 23, 32, 45, 27, 24, 39, 35, 19, 48, 83, 63, 58, 82, 60, 28, 42, 30, 79, 96, 79, 91, 59, 89, 72, 92, 96, 65, 49, 70, 68, 91, 68, 71, 63, 100, 42, 94, 49, 95, 65, 85, 92, 57, 41, 67, 77, 34, 74, 70, 40, 65, 42, 38, 46, 54, 83, 54, 19]\n",
      "[18, 18, 19, 18, 18, 19, 19, 18, 18, 18, 18, 19, 22, 19, 36, 27, 39, 18, 28, 24, 18, 18, 19, 30, 19, 45, 38, 24, 19, 62, 48, 43, 41, 43, 47, 43, 30, 51, 36, 30, 37, 55, 23, 32, 45, 27, 24, 39, 35, 19, 48, 83, 63, 58, 82, 60, 28, 42, 30, 79, 96, 79, 91, 59, 89, 72, 92, 96, 65, 49, 70, 68, 91, 68, 71, 63, 100, 42, 94, 49, 95, 65, 85, 92, 57, 41, 67, 77, 34, 74, 70, 40, 65, 42, 38, 46, 54, 83, 54, 19]\n",
      "[18, 18, 19, 18, 18, 19, 19, 18, 18, 18, 18, 19, 22, 19, 36, 27, 39, 18, 28, 24, 18, 18, 19, 30, 19, 45, 38, 24, 19, 62, 48, 43, 41, 43, 47, 43, 30, 51, 36, 30, 37, 55, 23, 32, 45, 27, 24, 39, 35, 19, 48, 83, 63, 58, 82, 60, 28, 42, 30, 79, 96, 79, 91, 59, 89, 72, 92, 96, 65, 49, 70, 68, 91, 68, 71, 63, 100, 42, 94, 49, 95, 65, 85, 92, 57, 41, 67, 77, 34, 74, 70, 40, 65, 42, 38, 46, 54, 83, 54, 19]\n",
      "[18, 18, 19, 18, 18, 19, 19, 18, 18, 18, 18, 19, 22, 19, 36, 27, 39, 18, 28, 24, 18, 18, 19, 30, 19, 45, 38, 24, 19, 62, 48, 43, 41, 43, 47, 43, 30, 51, 36, 30, 37, 55, 23, 32, 45, 27, 24, 39, 35, 19, 48, 83, 63, 58, 82, 60, 28, 42, 30, 79, 96, 79, 91, 59, 89, 72, 92, 96, 65, 49, 70, 68, 91, 68, 71, 63, 100, 42, 94, 49, 95, 65, 85, 92, 57, 41, 67, 77, 34, 74, 70, 40, 65, 42, 38, 46, 54, 83, 54, 19]\n",
      "[18, 18, 19, 18, 18, 19, 19, 18, 18, 18, 18, 19, 22, 19, 36, 27, 39, 18, 28, 24, 18, 18, 19, 30, 19, 45, 38, 24, 19, 62, 48, 43, 41, 43, 47, 43, 30, 51, 36, 30, 37, 55, 23, 32, 45, 27, 24, 39, 35, 19, 48, 83, 63, 58, 82, 60, 28, 42, 30, 79, 96, 79, 91, 59, 89, 72, 92, 96, 65, 49, 70, 68, 91, 68, 71, 63, 100, 42, 94, 49, 95, 65, 85, 92, 57, 41, 67, 77, 34, 74, 70, 40, 65, 42, 38, 46, 54, 83, 54, 19]\n",
      "[18, 18, 19, 18, 18, 19, 19, 18, 18, 18, 18, 19, 22, 19, 36, 27, 39, 18, 28, 24, 18, 18, 19, 30, 19, 45, 38, 24, 19, 62, 48, 43, 41, 43, 47, 43, 30, 51, 36, 30, 37, 55, 23, 32, 45, 27, 24, 39, 35, 19, 48, 83, 63, 58, 82, 60, 28, 42, 30, 79, 96, 79, 91, 59, 89, 72, 92, 96, 65, 49, 70, 68, 91, 68, 71, 63, 100, 42, 94, 49, 95, 65, 85, 92, 57, 41, 67, 77, 34, 74, 70, 40, 65, 42, 38, 46, 54, 83, 54, 19]\n",
      "[18, 18, 19, 18, 18, 19, 19, 18, 18, 18, 18, 19, 22, 19, 36, 27, 39, 18, 28, 24, 18, 18, 19, 30, 19, 45, 38, 24, 19, 62, 48, 43, 41, 43, 47, 43, 30, 51, 36, 30, 37, 55, 23, 32, 45, 27, 24, 39, 35, 19, 48, 83, 63, 58, 82, 60, 28, 42, 30, 79, 96, 79, 91, 59, 89, 72, 92, 96, 65, 49, 70, 68, 91, 68, 71, 63, 100, 42, 94, 49, 95, 65, 85, 92, 57, 41, 67, 77, 34, 74, 70, 40, 65, 42, 38, 46, 54, 83, 54, 19]\n",
      "[18, 18, 19, 18, 18, 19, 19, 18, 18, 18, 18, 19, 22, 19, 36, 27, 39, 18, 28, 24, 18, 18, 19, 30, 19, 45, 38, 24, 19, 62, 48, 43, 41, 43, 47, 43, 30, 51, 36, 30, 37, 55, 23, 32, 45, 27, 24, 39, 35, 19, 48, 83, 63, 58, 82, 60, 28, 42, 30, 79, 96, 79, 91, 59, 89, 72, 92, 96, 65, 49, 70, 68, 91, 68, 71, 63, 100, 42, 94, 49, 95, 65, 85, 92, 57, 41, 67, 77, 34, 74, 70, 40, 65, 42, 38, 46, 54, 83, 54, 19]\n",
      "[18, 18, 19, 18, 18, 19, 19, 18, 18, 18, 18, 19, 22, 19, 36, 27, 39, 18, 28, 24, 18, 18, 19, 30, 19, 45, 38, 24, 19, 62, 48, 43, 41, 43, 47, 43, 30, 51, 36, 30, 37, 55, 23, 32, 45, 27, 24, 39, 35, 19, 48, 83, 63, 58, 82, 60, 28, 42, 30, 79, 96, 79, 91, 59, 89, 72, 92, 96, 65, 49, 70, 68, 91, 68, 71, 63, 100, 42, 94, 49, 95, 65, 85, 92, 57, 41, 67, 77, 34, 74, 70, 40, 65, 42, 38, 46, 54, 83, 54, 19]\n",
      "[18, 18, 19, 18, 18, 19, 19, 18, 18, 18, 18, 19, 22, 19, 36, 27, 39, 18, 28, 24, 18, 18, 19, 30, 19, 45, 38, 24, 19, 62, 48, 43, 41, 43, 47, 43, 30, 51, 36, 30, 37, 55, 23, 32, 45, 27, 24, 39, 35, 19, 48, 83, 63, 58, 82, 60, 28, 42, 30, 79, 96, 79, 91, 59, 89, 72, 92, 96, 65, 49, 70, 68, 91, 68, 71, 63, 100, 42, 94, 49, 95, 65, 85, 92, 57, 41, 67, 77, 34, 74, 70, 40, 65, 42, 38, 46, 54, 83, 54, 19]\n",
      "[18, 18, 19, 18, 18, 19, 19, 18, 18, 18, 18, 19, 22, 19, 36, 27, 39, 18, 28, 24, 18, 18, 19, 30, 19, 45, 38, 24, 19, 62, 48, 43, 41, 43, 47, 43, 30, 51, 36, 30, 37, 55, 23, 32, 45, 27, 24, 39, 35, 19, 48, 83, 63, 58, 82, 60, 28, 42, 30, 79, 96, 79, 91, 59, 89, 72, 92, 96, 65, 49, 70, 68, 91, 68, 71, 63, 100, 42, 94, 49, 95, 65, 85, 92, 57, 41, 67, 77, 34, 74, 70, 40, 65, 42, 38, 46, 54, 83, 54, 19]\n",
      "[18, 18, 19, 18, 18, 19, 19, 18, 18, 18, 18, 19, 22, 19, 36, 27, 39, 18, 28, 24, 18, 18, 19, 30, 19, 45, 38, 24, 19, 62, 48, 43, 41, 43, 47, 43, 30, 51, 36, 30, 37, 55, 23, 32, 45, 27, 24, 39, 35, 19, 48, 83, 63, 58, 82, 60, 28, 42, 30, 79, 96, 79, 91, 59, 89, 72, 92, 96, 65, 49, 70, 68, 91, 68, 71, 63, 100, 42, 94, 49, 95, 65, 85, 92, 57, 41, 67, 77, 34, 74, 70, 40, 65, 42, 38, 46, 54, 83, 54, 19]\n",
      "[18, 18, 19, 18, 18, 19, 19, 18, 18, 18, 18, 19, 22, 19, 36, 27, 39, 18, 28, 24, 18, 18, 19, 30, 19, 45, 38, 24, 19, 62, 48, 43, 41, 43, 47, 43, 30, 51, 36, 30, 37, 55, 23, 32, 45, 27, 24, 39, 35, 19, 48, 83, 63, 58, 82, 60, 28, 42, 30, 79, 96, 79, 91, 59, 89, 72, 92, 96, 65, 49, 70, 68, 91, 68, 71, 63, 100, 42, 94, 49, 95, 65, 85, 92, 57, 41, 67, 77, 34, 74, 70, 40, 65, 42, 38, 46, 54, 83, 54, 19]\n",
      "[18, 18, 19, 18, 18, 19, 19, 18, 18, 18, 18, 19, 22, 19, 36, 27, 39, 18, 28, 24, 18, 18, 19, 30, 19, 45, 38, 24, 19, 62, 48, 43, 41, 43, 47, 43, 30, 51, 36, 30, 37, 55, 23, 32, 45, 27, 24, 39, 35, 19, 48, 83, 63, 58, 82, 60, 28, 42, 30, 79, 96, 79, 91, 59, 89, 72, 92, 96, 65, 49, 70, 68, 91, 68, 71, 63, 100, 42, 94, 49, 95, 65, 85, 92, 57, 41, 67, 77, 34, 74, 70, 40, 65, 42, 38, 46, 54, 83, 54, 19]\n",
      "[18, 18, 19, 18, 18, 19, 19, 18, 18, 18, 18, 19, 22, 19, 36, 27, 39, 18, 28, 24, 18, 18, 19, 30, 19, 45, 38, 24, 19, 62, 48, 43, 41, 43, 47, 43, 30, 51, 36, 30, 37, 55, 23, 32, 45, 27, 24, 39, 35, 19, 48, 83, 63, 58, 82, 60, 28, 42, 30, 79, 96, 79, 91, 59, 89, 72, 92, 96, 65, 49, 70, 68, 91, 68, 71, 63, 100, 42, 94, 49, 95, 65, 85, 92, 57, 41, 67, 77, 34, 74, 70, 40, 65, 42, 38, 46, 54, 83, 54, 19]\n",
      "[18, 18, 19, 18, 18, 19, 19, 18, 18, 18, 18, 19, 22, 19, 36, 27, 39, 18, 28, 24, 18, 18, 19, 30, 19, 45, 38, 24, 19, 62, 48, 43, 41, 43, 47, 43, 30, 51, 36, 30, 37, 55, 23, 32, 45, 27, 24, 39, 35, 19, 48, 83, 63, 58, 82, 60, 28, 42, 30, 79, 96, 79, 91, 59, 89, 72, 92, 96, 65, 49, 70, 68, 91, 68, 71, 63, 100, 42, 94, 49, 95, 65, 85, 92, 57, 41, 67, 77, 34, 74, 70, 40, 65, 42, 38, 46, 54, 83, 54, 19]\n",
      "[18, 18, 19, 18, 18, 19, 19, 18, 18, 18, 18, 19, 22, 19, 36, 27, 39, 18, 28, 24, 18, 18, 19, 30, 19, 45, 38, 24, 19, 62, 48, 43, 41, 43, 47, 43, 30, 51, 36, 30, 37, 55, 23, 32, 45, 27, 24, 39, 35, 19, 48, 83, 63, 58, 82, 60, 28, 42, 30, 79, 96, 79, 91, 59, 89, 72, 92, 96, 65, 49, 70, 68, 91, 68, 71, 63, 100, 42, 94, 49, 95, 65, 85, 92, 57, 41, 67, 77, 34, 74, 70, 40, 65, 42, 38, 46, 54, 83, 54, 19]\n",
      "[18, 18, 19, 18, 18, 19, 19, 18, 18, 18, 18, 19, 22, 19, 36, 27, 39, 18, 28, 24, 18, 18, 19, 30, 19, 45, 38, 24, 19, 62, 48, 43, 41, 43, 47, 43, 30, 51, 36, 30, 37, 55, 23, 32, 45, 27, 24, 39, 35, 19, 48, 83, 63, 58, 82, 60, 28, 42, 30, 79, 96, 79, 91, 59, 89, 72, 92, 96, 65, 49, 70, 68, 91, 68, 71, 63, 100, 42, 94, 49, 95, 65, 85, 92, 57, 41, 67, 77, 34, 74, 70, 40, 65, 42, 38, 46, 54, 83, 54, 19]\n",
      "[18, 18, 19, 18, 18, 19, 19, 18, 18, 18, 18, 19, 22, 19, 36, 27, 39, 18, 28, 24, 18, 18, 19, 30, 19, 45, 38, 24, 19, 62, 48, 43, 41, 43, 47, 43, 30, 51, 36, 30, 37, 55, 23, 32, 45, 27, 24, 39, 35, 19, 48, 83, 63, 58, 82, 60, 28, 42, 30, 79, 96, 79, 91, 59, 89, 72, 92, 96, 65, 49, 70, 68, 91, 68, 71, 63, 100, 42, 94, 49, 95, 65, 85, 92, 57, 41, 67, 77, 34, 74, 70, 40, 65, 42, 38, 46, 54, 83, 54, 19]\n",
      "[18, 18, 19, 18, 18, 19, 19, 18, 18, 18, 18, 19, 22, 19, 36, 27, 39, 18, 28, 24, 18, 18, 19, 30, 19, 45, 38, 24, 19, 62, 48, 43, 41, 43, 47, 43, 30, 51, 36, 30, 37, 55, 23, 32, 45, 27, 24, 39, 35, 19, 48, 83, 63, 58, 82, 60, 28, 42, 30, 79, 96, 79, 91, 59, 89, 72, 92, 96, 65, 49, 70, 68, 91, 68, 71, 63, 100, 42, 94, 49, 95, 65, 85, 92, 57, 41, 67, 77, 34, 74, 70, 40, 65, 42, 38, 46, 54, 83, 54, 19]\n",
      "[18, 18, 19, 18, 18, 19, 19, 18, 18, 18, 18, 19, 22, 19, 36, 27, 39, 18, 28, 24, 18, 18, 19, 30, 19, 45, 38, 24, 19, 62, 48, 43, 41, 43, 47, 43, 30, 51, 36, 30, 37, 55, 23, 32, 45, 27, 24, 39, 35, 19, 48, 83, 63, 58, 82, 60, 28, 42, 30, 79, 96, 79, 91, 59, 89, 72, 92, 96, 65, 49, 70, 68, 91, 68, 71, 63, 100, 42, 94, 49, 95, 65, 85, 92, 57, 41, 67, 77, 34, 74, 70, 40, 65, 42, 38, 46, 54, 83, 54, 19]\n",
      "[18, 18, 19, 18, 18, 19, 19, 18, 18, 18, 18, 19, 22, 19, 36, 27, 39, 18, 28, 24, 18, 18, 19, 30, 19, 45, 38, 24, 19, 62, 48, 43, 41, 43, 47, 43, 30, 51, 36, 30, 37, 55, 23, 32, 45, 27, 24, 39, 35, 19, 48, 83, 63, 58, 82, 60, 28, 42, 30, 79, 96, 79, 91, 59, 89, 72, 92, 96, 65, 49, 70, 68, 91, 68, 71, 63, 100, 42, 94, 49, 95, 65, 85, 92, 57, 41, 67, 77, 34, 74, 70, 40, 65, 42, 38, 46, 54, 83, 54, 19]\n",
      "[18, 18, 19, 18, 18, 19, 19, 18, 18, 18, 18, 19, 22, 19, 36, 27, 39, 18, 28, 24, 18, 18, 19, 30, 19, 45, 38, 24, 19, 62, 48, 43, 41, 43, 47, 43, 30, 51, 36, 30, 37, 55, 23, 32, 45, 27, 24, 39, 35, 19, 48, 83, 63, 58, 82, 60, 28, 42, 30, 79, 96, 79, 91, 59, 89, 72, 92, 96, 65, 49, 70, 68, 91, 68, 71, 63, 100, 42, 94, 49, 95, 65, 85, 92, 57, 41, 67, 77, 34, 74, 70, 40, 65, 42, 38, 46, 54, 83, 54, 19]\n",
      "[18, 18, 19, 18, 18, 19, 19, 18, 18, 18, 18, 19, 22, 19, 36, 27, 39, 18, 28, 24, 18, 18, 19, 30, 19, 45, 38, 24, 19, 62, 48, 43, 41, 43, 47, 43, 30, 51, 36, 30, 37, 55, 23, 32, 45, 27, 24, 39, 35, 19, 48, 83, 63, 58, 82, 60, 28, 42, 30, 79, 96, 79, 91, 59, 89, 72, 92, 96, 65, 49, 70, 68, 91, 68, 71, 63, 100, 42, 94, 49, 95, 65, 85, 92, 57, 41, 67, 77, 34, 74, 70, 40, 65, 42, 38, 46, 54, 83, 54, 19]\n",
      "[18, 18, 19, 18, 18, 19, 19, 18, 18, 18, 18, 19, 22, 19, 36, 27, 39, 18, 28, 24, 18, 18, 19, 30, 19, 45, 38, 24, 19, 62, 48, 43, 41, 43, 47, 43, 30, 51, 36, 30, 37, 55, 23, 32, 45, 27, 24, 39, 35, 19, 48, 83, 63, 58, 82, 60, 28, 42, 30, 79, 96, 79, 91, 59, 89, 72, 92, 96, 65, 49, 70, 68, 91, 68, 71, 63, 100, 42, 94, 49, 95, 65, 85, 92, 57, 41, 67, 77, 34, 74, 70, 40, 65, 42, 38, 46, 54, 83, 54, 19]\n",
      "[18, 18, 19, 18, 18, 19, 19, 18, 18, 18, 18, 19, 22, 19, 36, 27, 39, 18, 28, 24, 18, 18, 19, 30, 19, 45, 38, 24, 19, 62, 48, 43, 41, 43, 47, 43, 30, 51, 36, 30, 37, 55, 23, 32, 45, 27, 24, 39, 35, 19, 48, 83, 63, 58, 82, 60, 28, 42, 30, 79, 96, 79, 91, 59, 89, 72, 92, 96, 65, 49, 70, 68, 91, 68, 71, 63, 100, 42, 94, 49, 95, 65, 85, 92, 57, 41, 67, 77, 34, 74, 70, 40, 65, 42, 38, 46, 54, 83, 54, 19]\n",
      "[18, 18, 19, 18, 18, 19, 19, 18, 18, 18, 18, 19, 22, 19, 36, 27, 39, 18, 28, 24, 18, 18, 19, 30, 19, 45, 38, 24, 19, 62, 48, 43, 41, 43, 47, 43, 30, 51, 36, 30, 37, 55, 23, 32, 45, 27, 24, 39, 35, 19, 48, 83, 63, 58, 82, 60, 28, 42, 30, 79, 96, 79, 91, 59, 89, 72, 92, 96, 65, 49, 70, 68, 91, 68, 71, 63, 100, 42, 94, 49, 95, 65, 85, 92, 57, 41, 67, 77, 34, 74, 70, 40, 65, 42, 38, 46, 54, 83, 54, 19]\n",
      "[18, 18, 19, 18, 18, 19, 19, 18, 18, 18, 18, 19, 22, 19, 36, 27, 39, 18, 28, 24, 18, 18, 19, 30, 19, 45, 38, 24, 19, 62, 48, 43, 41, 43, 47, 43, 30, 51, 36, 30, 37, 55, 23, 32, 45, 27, 24, 39, 35, 19, 48, 83, 63, 58, 82, 60, 28, 42, 30, 79, 96, 79, 91, 59, 89, 72, 92, 96, 65, 49, 70, 68, 91, 68, 71, 63, 100, 42, 94, 49, 95, 65, 85, 92, 57, 41, 67, 77, 34, 74, 70, 40, 65, 42, 38, 46, 54, 83, 54, 19]\n",
      "[18, 18, 19, 18, 18, 19, 19, 18, 18, 18, 18, 19, 22, 19, 36, 27, 39, 18, 28, 24, 18, 18, 19, 30, 19, 45, 38, 24, 19, 62, 48, 43, 41, 43, 47, 43, 30, 51, 36, 30, 37, 55, 23, 32, 45, 27, 24, 39, 35, 19, 48, 83, 63, 58, 82, 60, 28, 42, 30, 79, 96, 79, 91, 59, 89, 72, 92, 96, 65, 49, 70, 68, 91, 68, 71, 63, 100, 42, 94, 49, 95, 65, 85, 92, 57, 41, 67, 77, 34, 74, 70, 40, 65, 42, 38, 46, 54, 83, 54, 19]\n",
      "[18, 18, 19, 18, 18, 19, 19, 18, 18, 18, 18, 19, 22, 19, 36, 27, 39, 18, 28, 24, 18, 18, 19, 30, 19, 45, 38, 24, 19, 62, 48, 43, 41, 43, 47, 43, 30, 51, 36, 30, 37, 55, 23, 32, 45, 27, 24, 39, 35, 19, 48, 83, 63, 58, 82, 60, 28, 42, 30, 79, 96, 79, 91, 59, 89, 72, 92, 96, 65, 49, 70, 68, 91, 68, 71, 63, 100, 42, 94, 49, 95, 65, 85, 92, 57, 41, 67, 77, 34, 74, 70, 40, 65, 42, 38, 46, 54, 83, 54, 19]\n",
      "[18, 18, 19, 18, 18, 19, 19, 18, 18, 18, 18, 19, 22, 19, 36, 27, 39, 18, 28, 24, 18, 18, 19, 30, 19, 45, 38, 24, 19, 62, 48, 43, 41, 43, 47, 43, 30, 51, 36, 30, 37, 55, 23, 32, 45, 27, 24, 39, 35, 19, 48, 83, 63, 58, 82, 60, 28, 42, 30, 79, 96, 79, 91, 59, 89, 72, 92, 96, 65, 49, 70, 68, 91, 68, 71, 63, 100, 42, 94, 49, 95, 65, 85, 92, 57, 41, 67, 77, 34, 74, 70, 40, 65, 42, 38, 46, 54, 83, 54, 19]\n",
      "[18, 18, 19, 18, 18, 19, 19, 18, 18, 18, 18, 19, 22, 19, 36, 27, 39, 18, 28, 24, 18, 18, 19, 30, 19, 45, 38, 24, 19, 62, 48, 43, 41, 43, 47, 43, 30, 51, 36, 30, 37, 55, 23, 32, 45, 27, 24, 39, 35, 19, 48, 83, 63, 58, 82, 60, 28, 42, 30, 79, 96, 79, 91, 59, 89, 72, 92, 96, 65, 49, 70, 68, 91, 68, 71, 63, 100, 42, 94, 49, 95, 65, 85, 92, 57, 41, 67, 77, 34, 74, 70, 40, 65, 42, 38, 46, 54, 83, 54, 19]\n",
      "[18, 18, 19, 18, 18, 19, 19, 18, 18, 18, 18, 19, 22, 19, 36, 27, 39, 18, 28, 24, 18, 18, 19, 30, 19, 45, 38, 24, 19, 62, 48, 43, 41, 43, 47, 43, 30, 51, 36, 30, 37, 55, 23, 32, 45, 27, 24, 39, 35, 19, 48, 83, 63, 58, 82, 60, 28, 42, 30, 79, 96, 79, 91, 59, 89, 72, 92, 96, 65, 49, 70, 68, 91, 68, 71, 63, 100, 42, 94, 49, 95, 65, 85, 92, 57, 41, 67, 77, 34, 74, 70, 40, 65, 42, 38, 46, 54, 83, 54, 19]\n",
      "[18, 18, 19, 18, 18, 19, 19, 18, 18, 18, 18, 19, 22, 19, 36, 27, 39, 18, 28, 24, 18, 18, 19, 30, 19, 45, 38, 24, 19, 62, 48, 43, 41, 43, 47, 43, 30, 51, 36, 30, 37, 55, 23, 32, 45, 27, 24, 39, 35, 19, 48, 83, 63, 58, 82, 60, 28, 42, 30, 79, 96, 79, 91, 59, 89, 72, 92, 96, 65, 49, 70, 68, 91, 68, 71, 63, 100, 42, 94, 49, 95, 65, 85, 92, 57, 41, 67, 77, 34, 74, 70, 40, 65, 42, 38, 46, 54, 83, 54, 19]\n",
      "[18, 18, 19, 18, 18, 19, 19, 18, 18, 18, 18, 19, 22, 19, 36, 27, 39, 18, 28, 24, 18, 18, 19, 30, 19, 45, 38, 24, 19, 62, 48, 43, 41, 43, 47, 43, 30, 51, 36, 30, 37, 55, 23, 32, 45, 27, 24, 39, 35, 19, 48, 83, 63, 58, 82, 60, 28, 42, 30, 79, 96, 79, 91, 59, 89, 72, 92, 96, 65, 49, 70, 68, 91, 68, 71, 63, 100, 42, 94, 49, 95, 65, 85, 92, 57, 41, 67, 77, 34, 74, 70, 40, 65, 42, 38, 46, 54, 83, 54, 19]\n",
      "[18, 18, 19, 18, 18, 19, 19, 18, 18, 18, 18, 19, 22, 19, 36, 27, 39, 18, 28, 24, 18, 18, 19, 30, 19, 45, 38, 24, 19, 62, 48, 43, 41, 43, 47, 43, 30, 51, 36, 30, 37, 55, 23, 32, 45, 27, 24, 39, 35, 19, 48, 83, 63, 58, 82, 60, 28, 42, 30, 79, 96, 79, 91, 59, 89, 72, 92, 96, 65, 49, 70, 68, 91, 68, 71, 63, 100, 42, 94, 49, 95, 65, 85, 92, 57, 41, 67, 77, 34, 74, 70, 40, 65, 42, 38, 46, 54, 83, 54, 19]\n",
      "[18, 18, 19, 18, 18, 19, 19, 18, 18, 18, 18, 19, 22, 19, 36, 27, 39, 18, 28, 24, 18, 18, 19, 30, 19, 45, 38, 24, 19, 62, 48, 43, 41, 43, 47, 43, 30, 51, 36, 30, 37, 55, 23, 32, 45, 27, 24, 39, 35, 19, 48, 83, 63, 58, 82, 60, 28, 42, 30, 79, 96, 79, 91, 59, 89, 72, 92, 96, 65, 49, 70, 68, 91, 68, 71, 63, 100, 42, 94, 49, 95, 65, 85, 92, 57, 41, 67, 77, 34, 74, 70, 40, 65, 42, 38, 46, 54, 83, 54, 19]\n",
      "[18, 18, 19, 18, 18, 19, 19, 18, 18, 18, 18, 19, 22, 19, 36, 27, 39, 18, 28, 24, 18, 18, 19, 30, 19, 45, 38, 24, 19, 62, 48, 43, 41, 43, 47, 43, 30, 51, 36, 30, 37, 55, 23, 32, 45, 27, 24, 39, 35, 19, 48, 83, 63, 58, 82, 60, 28, 42, 30, 79, 96, 79, 91, 59, 89, 72, 92, 96, 65, 49, 70, 68, 91, 68, 71, 63, 100, 42, 94, 49, 95, 65, 85, 92, 57, 41, 67, 77, 34, 74, 70, 40, 65, 42, 38, 46, 54, 83, 54, 19]\n",
      "[18, 18, 19, 18, 18, 19, 19, 18, 18, 18, 18, 19, 22, 19, 36, 27, 39, 18, 28, 24, 18, 18, 19, 30, 19, 45, 38, 24, 19, 62, 48, 43, 41, 43, 47, 43, 30, 51, 36, 30, 37, 55, 23, 32, 45, 27, 24, 39, 35, 19, 48, 83, 63, 58, 82, 60, 28, 42, 30, 79, 96, 79, 91, 59, 89, 72, 92, 96, 65, 49, 70, 68, 91, 68, 71, 63, 100, 42, 94, 49, 95, 65, 85, 92, 57, 41, 67, 77, 34, 74, 70, 40, 65, 42, 38, 46, 54, 83, 54, 19]\n",
      "[18, 18, 19, 18, 18, 19, 19, 18, 18, 18, 18, 19, 22, 19, 36, 27, 39, 18, 28, 24, 18, 18, 19, 30, 19, 45, 38, 24, 19, 62, 48, 43, 41, 43, 47, 43, 30, 51, 36, 30, 37, 55, 23, 32, 45, 27, 24, 39, 35, 19, 48, 83, 63, 58, 82, 60, 28, 42, 30, 79, 96, 79, 91, 59, 89, 72, 92, 96, 65, 49, 70, 68, 91, 68, 71, 63, 100, 42, 94, 49, 95, 65, 85, 92, 57, 41, 67, 77, 34, 74, 70, 40, 65, 42, 38, 46, 54, 83, 54, 19]\n",
      "[18, 18, 19, 18, 18, 19, 19, 18, 18, 18, 18, 19, 22, 19, 36, 27, 39, 18, 28, 24, 18, 18, 19, 30, 19, 45, 38, 24, 19, 62, 48, 43, 41, 43, 47, 43, 30, 51, 36, 30, 37, 55, 23, 32, 45, 27, 24, 39, 35, 19, 48, 83, 63, 58, 82, 60, 28, 42, 30, 79, 96, 79, 91, 59, 89, 72, 92, 96, 65, 49, 70, 68, 91, 68, 71, 63, 100, 42, 94, 49, 95, 65, 85, 92, 57, 41, 67, 77, 34, 74, 70, 40, 65, 42, 38, 46, 54, 83, 54, 19]\n",
      "[18, 18, 19, 18, 18, 19, 19, 18, 18, 18, 18, 19, 22, 19, 36, 27, 39, 18, 28, 24, 18, 18, 19, 30, 19, 45, 38, 24, 19, 62, 48, 43, 41, 43, 47, 43, 30, 51, 36, 30, 37, 55, 23, 32, 45, 27, 24, 39, 35, 19, 48, 83, 63, 58, 82, 60, 28, 42, 30, 79, 96, 79, 91, 59, 89, 72, 92, 96, 65, 49, 70, 68, 91, 68, 71, 63, 100, 42, 94, 49, 95, 65, 85, 92, 57, 41, 67, 77, 34, 74, 70, 40, 65, 42, 38, 46, 54, 83, 54, 19]\n",
      "[18, 18, 19, 18, 18, 19, 19, 18, 18, 18, 18, 19, 22, 19, 36, 27, 39, 18, 28, 24, 18, 18, 19, 30, 19, 45, 38, 24, 19, 62, 48, 43, 41, 43, 47, 43, 30, 51, 36, 30, 37, 55, 23, 32, 45, 27, 24, 39, 35, 19, 48, 83, 63, 58, 82, 60, 28, 42, 30, 79, 96, 79, 91, 59, 89, 72, 92, 96, 65, 49, 70, 68, 91, 68, 71, 63, 100, 42, 94, 49, 95, 65, 85, 92, 57, 41, 67, 77, 34, 74, 70, 40, 65, 42, 38, 46, 54, 83, 54, 19]\n",
      "[18, 18, 19, 18, 18, 19, 19, 18, 18, 18, 18, 19, 22, 19, 36, 27, 39, 18, 28, 24, 18, 18, 19, 30, 19, 45, 38, 24, 19, 62, 48, 43, 41, 43, 47, 43, 30, 51, 36, 30, 37, 55, 23, 32, 45, 27, 24, 39, 35, 19, 48, 83, 63, 58, 82, 60, 28, 42, 30, 79, 96, 79, 91, 59, 89, 72, 92, 96, 65, 49, 70, 68, 91, 68, 71, 63, 100, 42, 94, 49, 95, 65, 85, 92, 57, 41, 67, 77, 34, 74, 70, 40, 65, 42, 38, 46, 54, 83, 54, 19]\n",
      "[18, 18, 19, 18, 18, 19, 19, 18, 18, 18, 18, 19, 22, 19, 36, 27, 39, 18, 28, 24, 18, 18, 19, 30, 19, 45, 38, 24, 19, 62, 48, 43, 41, 43, 47, 43, 30, 51, 36, 30, 37, 55, 23, 32, 45, 27, 24, 39, 35, 19, 48, 83, 63, 58, 82, 60, 28, 42, 30, 79, 96, 79, 91, 59, 89, 72, 92, 96, 65, 49, 70, 68, 91, 68, 71, 63, 100, 42, 94, 49, 95, 65, 85, 92, 57, 41, 67, 77, 34, 74, 70, 40, 65, 42, 38, 46, 54, 83, 54, 19]\n",
      "[18, 18, 19, 18, 18, 19, 19, 18, 18, 18, 18, 19, 22, 19, 36, 27, 39, 18, 28, 24, 18, 18, 19, 30, 19, 45, 38, 24, 19, 62, 48, 43, 41, 43, 47, 43, 30, 51, 36, 30, 37, 55, 23, 32, 45, 27, 24, 39, 35, 19, 48, 83, 63, 58, 82, 60, 28, 42, 30, 79, 96, 79, 91, 59, 89, 72, 92, 96, 65, 49, 70, 68, 91, 68, 71, 63, 100, 42, 94, 49, 95, 65, 85, 92, 57, 41, 67, 77, 34, 74, 70, 40, 65, 42, 38, 46, 54, 83, 54, 19]\n",
      "[18, 18, 19, 18, 18, 19, 19, 18, 18, 18, 18, 19, 22, 19, 36, 27, 39, 18, 28, 24, 18, 18, 19, 30, 19, 45, 38, 24, 19, 62, 48, 43, 41, 43, 47, 43, 30, 51, 36, 30, 37, 55, 23, 32, 45, 27, 24, 39, 35, 19, 48, 83, 63, 58, 82, 60, 28, 42, 30, 79, 96, 79, 91, 59, 89, 72, 92, 96, 65, 49, 70, 68, 91, 68, 71, 63, 100, 42, 94, 49, 95, 65, 85, 92, 57, 41, 67, 77, 34, 74, 70, 40, 65, 42, 38, 46, 54, 83, 54, 19]\n",
      "[18, 18, 19, 18, 18, 19, 19, 18, 18, 18, 18, 19, 22, 19, 36, 27, 39, 18, 28, 24, 18, 18, 19, 30, 19, 45, 38, 24, 19, 62, 48, 43, 41, 43, 47, 43, 30, 51, 36, 30, 37, 55, 23, 32, 45, 27, 24, 39, 35, 19, 48, 83, 63, 58, 82, 60, 28, 42, 30, 79, 96, 79, 91, 59, 89, 72, 92, 96, 65, 49, 70, 68, 91, 68, 71, 63, 100, 42, 94, 49, 95, 65, 85, 92, 57, 41, 67, 77, 34, 74, 70, 40, 65, 42, 38, 46, 54, 83, 54, 19]\n",
      "[18, 18, 19, 18, 18, 19, 19, 18, 18, 18, 18, 19, 22, 19, 36, 27, 39, 18, 28, 24, 18, 18, 19, 30, 19, 45, 38, 24, 19, 62, 48, 43, 41, 43, 47, 43, 30, 51, 36, 30, 37, 55, 23, 32, 45, 27, 24, 39, 35, 19, 48, 83, 63, 58, 82, 60, 28, 42, 30, 79, 96, 79, 91, 59, 89, 72, 92, 96, 65, 49, 70, 68, 91, 68, 71, 63, 100, 42, 94, 49, 95, 65, 85, 92, 57, 41, 67, 77, 34, 74, 70, 40, 65, 42, 38, 46, 54, 83, 54, 19]\n",
      "[18, 18, 19, 18, 18, 19, 19, 18, 18, 18, 18, 19, 22, 19, 36, 27, 39, 18, 28, 24, 18, 18, 19, 30, 19, 45, 38, 24, 19, 62, 48, 43, 41, 43, 47, 43, 30, 51, 36, 30, 37, 55, 23, 32, 45, 27, 24, 39, 35, 19, 48, 83, 63, 58, 82, 60, 28, 42, 30, 79, 96, 79, 91, 59, 89, 72, 92, 96, 65, 49, 70, 68, 91, 68, 71, 63, 100, 42, 94, 49, 95, 65, 85, 92, 57, 41, 67, 77, 34, 74, 70, 40, 65, 42, 38, 46, 54, 83, 54, 19]\n",
      "[18, 18, 19, 18, 18, 19, 19, 18, 18, 18, 18, 19, 22, 19, 36, 27, 39, 18, 28, 24, 18, 18, 19, 30, 19, 45, 38, 24, 19, 62, 48, 43, 41, 43, 47, 43, 30, 51, 36, 30, 37, 55, 23, 32, 45, 27, 24, 39, 35, 19, 48, 83, 63, 58, 82, 60, 28, 42, 30, 79, 96, 79, 91, 59, 89, 72, 92, 96, 65, 49, 70, 68, 91, 68, 71, 63, 100, 42, 94, 49, 95, 65, 85, 92, 57, 41, 67, 77, 34, 74, 70, 40, 65, 42, 38, 46, 54, 83, 54, 19]\n",
      "[18, 18, 19, 18, 18, 19, 19, 18, 18, 18, 18, 19, 22, 19, 36, 27, 39, 18, 28, 24, 18, 18, 19, 30, 19, 45, 38, 24, 19, 62, 48, 43, 41, 43, 47, 43, 30, 51, 36, 30, 37, 55, 23, 32, 45, 27, 24, 39, 35, 19, 48, 83, 63, 58, 82, 60, 28, 42, 30, 79, 96, 79, 91, 59, 89, 72, 92, 96, 65, 49, 70, 68, 91, 68, 71, 63, 100, 42, 94, 49, 95, 65, 85, 92, 57, 41, 67, 77, 34, 74, 70, 40, 65, 42, 38, 46, 54, 83, 54, 19]\n",
      "[18, 18, 19, 18, 18, 19, 19, 18, 18, 18, 18, 19, 22, 19, 36, 27, 39, 18, 28, 24, 18, 18, 19, 30, 19, 45, 38, 24, 19, 62, 48, 43, 41, 43, 47, 43, 30, 51, 36, 30, 37, 55, 23, 32, 45, 27, 24, 39, 35, 19, 48, 83, 63, 58, 82, 60, 28, 42, 30, 79, 96, 79, 91, 59, 89, 72, 92, 96, 65, 49, 70, 68, 91, 68, 71, 63, 100, 42, 94, 49, 95, 65, 85, 92, 57, 41, 67, 77, 34, 74, 70, 40, 65, 42, 38, 46, 54, 83, 54, 19]\n",
      "[18, 18, 19, 18, 18, 19, 19, 18, 18, 18, 18, 19, 22, 19, 36, 27, 39, 18, 28, 24, 18, 18, 19, 30, 19, 45, 38, 24, 19, 62, 48, 43, 41, 43, 47, 43, 30, 51, 36, 30, 37, 55, 23, 32, 45, 27, 24, 39, 35, 19, 48, 83, 63, 58, 82, 60, 28, 42, 30, 79, 96, 79, 91, 59, 89, 72, 92, 96, 65, 49, 70, 68, 91, 68, 71, 63, 100, 42, 94, 49, 95, 65, 85, 92, 57, 41, 67, 77, 34, 74, 70, 40, 65, 42, 38, 46, 54, 83, 54, 19]\n",
      "[18, 18, 19, 18, 18, 19, 19, 18, 18, 18, 18, 19, 22, 19, 36, 27, 39, 18, 28, 24, 18, 18, 19, 30, 19, 45, 38, 24, 19, 62, 48, 43, 41, 43, 47, 43, 30, 51, 36, 30, 37, 55, 23, 32, 45, 27, 24, 39, 35, 19, 48, 83, 63, 58, 82, 60, 28, 42, 30, 79, 96, 79, 91, 59, 89, 72, 92, 96, 65, 49, 70, 68, 91, 68, 71, 63, 100, 42, 94, 49, 95, 65, 85, 92, 57, 41, 67, 77, 34, 74, 70, 40, 65, 42, 38, 46, 54, 83, 54, 19]\n",
      "[18, 18, 19, 18, 18, 19, 19, 18, 18, 18, 18, 19, 22, 19, 36, 27, 39, 18, 28, 24, 18, 18, 19, 30, 19, 45, 38, 24, 19, 62, 48, 43, 41, 43, 47, 43, 30, 51, 36, 30, 37, 55, 23, 32, 45, 27, 24, 39, 35, 19, 48, 83, 63, 58, 82, 60, 28, 42, 30, 79, 96, 79, 91, 59, 89, 72, 92, 96, 65, 49, 70, 68, 91, 68, 71, 63, 100, 42, 94, 49, 95, 65, 85, 92, 57, 41, 67, 77, 34, 74, 70, 40, 65, 42, 38, 46, 54, 83, 54, 19]\n",
      "[18, 18, 19, 18, 18, 19, 19, 18, 18, 18, 18, 19, 22, 19, 36, 27, 39, 18, 28, 24, 18, 18, 19, 30, 19, 45, 38, 24, 19, 62, 48, 43, 41, 43, 47, 43, 30, 51, 36, 30, 37, 55, 23, 32, 45, 27, 24, 39, 35, 19, 48, 83, 63, 58, 82, 60, 28, 42, 30, 79, 96, 79, 91, 59, 89, 72, 92, 96, 65, 49, 70, 68, 91, 68, 71, 63, 100, 42, 94, 49, 95, 65, 85, 92, 57, 41, 67, 77, 34, 74, 70, 40, 65, 42, 38, 46, 54, 83, 54, 19]\n",
      "[18, 18, 19, 18, 18, 19, 19, 18, 18, 18, 18, 19, 22, 19, 36, 27, 39, 18, 28, 24, 18, 18, 19, 30, 19, 45, 38, 24, 19, 62, 48, 43, 41, 43, 47, 43, 30, 51, 36, 30, 37, 55, 23, 32, 45, 27, 24, 39, 35, 19, 48, 83, 63, 58, 82, 60, 28, 42, 30, 79, 96, 79, 91, 59, 89, 72, 92, 96, 65, 49, 70, 68, 91, 68, 71, 63, 100, 42, 94, 49, 95, 65, 85, 92, 57, 41, 67, 77, 34, 74, 70, 40, 65, 42, 38, 46, 54, 83, 54, 19]\n",
      "[18, 18, 19, 18, 18, 19, 19, 18, 18, 18, 18, 19, 22, 19, 36, 27, 39, 18, 28, 24, 18, 18, 19, 30, 19, 45, 38, 24, 19, 62, 48, 43, 41, 43, 47, 43, 30, 51, 36, 30, 37, 55, 23, 32, 45, 27, 24, 39, 35, 19, 48, 83, 63, 58, 82, 60, 28, 42, 30, 79, 96, 79, 91, 59, 89, 72, 92, 96, 65, 49, 70, 68, 91, 68, 71, 63, 100, 42, 94, 49, 95, 65, 85, 92, 57, 41, 67, 77, 34, 74, 70, 40, 65, 42, 38, 46, 54, 83, 54, 19]\n",
      "[18, 18, 19, 18, 18, 19, 19, 18, 18, 18, 18, 19, 22, 19, 36, 27, 39, 18, 28, 24, 18, 18, 19, 30, 19, 45, 38, 24, 19, 62, 48, 43, 41, 43, 47, 43, 30, 51, 36, 30, 37, 55, 23, 32, 45, 27, 24, 39, 35, 19, 48, 83, 63, 58, 82, 60, 28, 42, 30, 79, 96, 79, 91, 59, 89, 72, 92, 96, 65, 49, 70, 68, 91, 68, 71, 63, 100, 42, 94, 49, 95, 65, 85, 92, 57, 41, 67, 77, 34, 74, 70, 40, 65, 42, 38, 46, 54, 83, 54, 19]\n",
      "[18, 18, 19, 18, 18, 19, 19, 18, 18, 18, 18, 19, 22, 19, 36, 27, 39, 18, 28, 24, 18, 18, 19, 30, 19, 45, 38, 24, 19, 62, 48, 43, 41, 43, 47, 43, 30, 51, 36, 30, 37, 55, 23, 32, 45, 27, 24, 39, 35, 19, 48, 83, 63, 58, 82, 60, 28, 42, 30, 79, 96, 79, 91, 59, 89, 72, 92, 96, 65, 49, 70, 68, 91, 68, 71, 63, 100, 42, 94, 49, 95, 65, 85, 92, 57, 41, 67, 77, 34, 74, 70, 40, 65, 42, 38, 46, 54, 83, 54, 19]\n",
      "[18, 18, 19, 18, 18, 19, 19, 18, 18, 18, 18, 19, 22, 19, 36, 27, 39, 18, 28, 24, 18, 18, 19, 30, 19, 45, 38, 24, 19, 62, 48, 43, 41, 43, 47, 43, 30, 51, 36, 30, 37, 55, 23, 32, 45, 27, 24, 39, 35, 19, 48, 83, 63, 58, 82, 60, 28, 42, 30, 79, 96, 79, 91, 59, 89, 72, 92, 96, 65, 49, 70, 68, 91, 68, 71, 63, 100, 42, 94, 49, 95, 65, 85, 92, 57, 41, 67, 77, 34, 74, 70, 40, 65, 42, 38, 46, 54, 83, 54, 19]\n",
      "[18, 18, 19, 18, 18, 19, 19, 18, 18, 18, 18, 19, 22, 19, 36, 27, 39, 18, 28, 24, 18, 18, 19, 30, 19, 45, 38, 24, 19, 62, 48, 43, 41, 43, 47, 43, 30, 51, 36, 30, 37, 55, 23, 32, 45, 27, 24, 39, 35, 19, 48, 83, 63, 58, 82, 60, 28, 42, 30, 79, 96, 79, 91, 59, 89, 72, 92, 96, 65, 49, 70, 68, 91, 68, 71, 63, 100, 42, 94, 49, 95, 65, 85, 92, 57, 41, 67, 77, 34, 74, 70, 40, 65, 42, 38, 46, 54, 83, 54, 19]\n",
      "[18, 18, 19, 18, 18, 19, 19, 18, 18, 18, 18, 19, 22, 19, 36, 27, 39, 18, 28, 24, 18, 18, 19, 30, 19, 45, 38, 24, 19, 62, 48, 43, 41, 43, 47, 43, 30, 51, 36, 30, 37, 55, 23, 32, 45, 27, 24, 39, 35, 19, 48, 83, 63, 58, 82, 60, 28, 42, 30, 79, 96, 79, 91, 59, 89, 72, 92, 96, 65, 49, 70, 68, 91, 68, 71, 63, 100, 42, 94, 49, 95, 65, 85, 92, 57, 41, 67, 77, 34, 74, 70, 40, 65, 42, 38, 46, 54, 83, 54, 19]\n",
      "[18, 18, 19, 18, 18, 19, 19, 18, 18, 18, 18, 19, 22, 19, 36, 27, 39, 18, 28, 24, 18, 18, 19, 30, 19, 45, 38, 24, 19, 62, 48, 43, 41, 43, 47, 43, 30, 51, 36, 30, 37, 55, 23, 32, 45, 27, 24, 39, 35, 19, 48, 83, 63, 58, 82, 60, 28, 42, 30, 79, 96, 79, 91, 59, 89, 72, 92, 96, 65, 49, 70, 68, 91, 68, 71, 63, 100, 42, 94, 49, 95, 65, 85, 92, 57, 41, 67, 77, 34, 74, 70, 40, 65, 42, 38, 46, 54, 83, 54, 19]\n",
      "[18, 18, 19, 18, 18, 19, 19, 18, 18, 18, 18, 19, 22, 19, 36, 27, 39, 18, 28, 24, 18, 18, 19, 30, 19, 45, 38, 24, 19, 62, 48, 43, 41, 43, 47, 43, 30, 51, 36, 30, 37, 55, 23, 32, 45, 27, 24, 39, 35, 19, 48, 83, 63, 58, 82, 60, 28, 42, 30, 79, 96, 79, 91, 59, 89, 72, 92, 96, 65, 49, 70, 68, 91, 68, 71, 63, 100, 42, 94, 49, 95, 65, 85, 92, 57, 41, 67, 77, 34, 74, 70, 40, 65, 42, 38, 46, 54, 83, 54, 19]\n",
      "[18, 18, 19, 18, 18, 19, 19, 18, 18, 18, 18, 19, 22, 19, 36, 27, 39, 18, 28, 24, 18, 18, 19, 30, 19, 45, 38, 24, 19, 62, 48, 43, 41, 43, 47, 43, 30, 51, 36, 30, 37, 55, 23, 32, 45, 27, 24, 39, 35, 19, 48, 83, 63, 58, 82, 60, 28, 42, 30, 79, 96, 79, 91, 59, 89, 72, 92, 96, 65, 49, 70, 68, 91, 68, 71, 63, 100, 42, 94, 49, 95, 65, 85, 92, 57, 41, 67, 77, 34, 74, 70, 40, 65, 42, 38, 46, 54, 83, 54, 19]\n",
      "[18, 18, 19, 18, 18, 19, 19, 18, 18, 18, 18, 19, 22, 19, 36, 27, 39, 18, 28, 24, 18, 18, 19, 30, 19, 45, 38, 24, 19, 62, 48, 43, 41, 43, 47, 43, 30, 51, 36, 30, 37, 55, 23, 32, 45, 27, 24, 39, 35, 19, 48, 83, 63, 58, 82, 60, 28, 42, 30, 79, 96, 79, 91, 59, 89, 72, 92, 96, 65, 49, 70, 68, 91, 68, 71, 63, 100, 42, 94, 49, 95, 65, 85, 92, 57, 41, 67, 77, 34, 74, 70, 40, 65, 42, 38, 46, 54, 83, 54, 19]\n",
      "[18, 18, 19, 18, 18, 19, 19, 18, 18, 18, 18, 19, 22, 19, 36, 27, 39, 18, 28, 24, 18, 18, 19, 30, 19, 45, 38, 24, 19, 62, 48, 43, 41, 43, 47, 43, 30, 51, 36, 30, 37, 55, 23, 32, 45, 27, 24, 39, 35, 19, 48, 83, 63, 58, 82, 60, 28, 42, 30, 79, 96, 79, 91, 59, 89, 72, 92, 96, 65, 49, 70, 68, 91, 68, 71, 63, 100, 42, 94, 49, 95, 65, 85, 92, 57, 41, 67, 77, 34, 74, 70, 40, 65, 42, 38, 46, 54, 83, 54, 19]\n",
      "[18, 18, 19, 18, 18, 19, 19, 18, 18, 18, 18, 19, 22, 19, 36, 27, 39, 18, 28, 24, 18, 18, 19, 30, 19, 45, 38, 24, 19, 62, 48, 43, 41, 43, 47, 43, 30, 51, 36, 30, 37, 55, 23, 32, 45, 27, 24, 39, 35, 19, 48, 83, 63, 58, 82, 60, 28, 42, 30, 79, 96, 79, 91, 59, 89, 72, 92, 96, 65, 49, 70, 68, 91, 68, 71, 63, 100, 42, 94, 49, 95, 65, 85, 92, 57, 41, 67, 77, 34, 74, 70, 40, 65, 42, 38, 46, 54, 83, 54, 19]\n",
      "[18, 18, 19, 18, 18, 19, 19, 18, 18, 18, 18, 19, 22, 19, 36, 27, 39, 18, 28, 24, 18, 18, 19, 30, 19, 45, 38, 24, 19, 62, 48, 43, 41, 43, 47, 43, 30, 51, 36, 30, 37, 55, 23, 32, 45, 27, 24, 39, 35, 19, 48, 83, 63, 58, 82, 60, 28, 42, 30, 79, 96, 79, 91, 59, 89, 72, 92, 96, 65, 49, 70, 68, 91, 68, 71, 63, 100, 42, 94, 49, 95, 65, 85, 92, 57, 41, 67, 77, 34, 74, 70, 40, 65, 42, 38, 46, 54, 83, 54, 19]\n",
      "[18, 18, 19, 18, 18, 19, 19, 18, 18, 18, 18, 19, 22, 19, 36, 27, 39, 18, 28, 24, 18, 18, 19, 30, 19, 45, 38, 24, 19, 62, 48, 43, 41, 43, 47, 43, 30, 51, 36, 30, 37, 55, 23, 32, 45, 27, 24, 39, 35, 19, 48, 83, 63, 58, 82, 60, 28, 42, 30, 79, 96, 79, 91, 59, 89, 72, 92, 96, 65, 49, 70, 68, 91, 68, 71, 63, 100, 42, 94, 49, 95, 65, 85, 92, 57, 41, 67, 77, 34, 74, 70, 40, 65, 42, 38, 46, 54, 83, 54, 19]\n",
      "[18, 18, 19, 18, 18, 19, 19, 18, 18, 18, 18, 19, 22, 19, 36, 27, 39, 18, 28, 24, 18, 18, 19, 30, 19, 45, 38, 24, 19, 62, 48, 43, 41, 43, 47, 43, 30, 51, 36, 30, 37, 55, 23, 32, 45, 27, 24, 39, 35, 19, 48, 83, 63, 58, 82, 60, 28, 42, 30, 79, 96, 79, 91, 59, 89, 72, 92, 96, 65, 49, 70, 68, 91, 68, 71, 63, 100, 42, 94, 49, 95, 65, 85, 92, 57, 41, 67, 77, 34, 74, 70, 40, 65, 42, 38, 46, 54, 83, 54, 19]\n",
      "[18, 18, 19, 18, 18, 19, 19, 18, 18, 18, 18, 19, 22, 19, 36, 27, 39, 18, 28, 24, 18, 18, 19, 30, 19, 45, 38, 24, 19, 62, 48, 43, 41, 43, 47, 43, 30, 51, 36, 30, 37, 55, 23, 32, 45, 27, 24, 39, 35, 19, 48, 83, 63, 58, 82, 60, 28, 42, 30, 79, 96, 79, 91, 59, 89, 72, 92, 96, 65, 49, 70, 68, 91, 68, 71, 63, 100, 42, 94, 49, 95, 65, 85, 92, 57, 41, 67, 77, 34, 74, 70, 40, 65, 42, 38, 46, 54, 83, 54, 19]\n",
      "[18, 18, 19, 18, 18, 19, 19, 18, 18, 18, 18, 19, 22, 19, 36, 27, 39, 18, 28, 24, 18, 18, 19, 30, 19, 45, 38, 24, 19, 62, 48, 43, 41, 43, 47, 43, 30, 51, 36, 30, 37, 55, 23, 32, 45, 27, 24, 39, 35, 19, 48, 83, 63, 58, 82, 60, 28, 42, 30, 79, 96, 79, 91, 59, 89, 72, 92, 96, 65, 49, 70, 68, 91, 68, 71, 63, 100, 42, 94, 49, 95, 65, 85, 92, 57, 41, 67, 77, 34, 74, 70, 40, 65, 42, 38, 46, 54, 83, 54, 19]\n",
      "[18, 18, 19, 18, 18, 19, 19, 18, 18, 18, 18, 19, 22, 19, 36, 27, 39, 18, 28, 24, 18, 18, 19, 30, 19, 45, 38, 24, 19, 62, 48, 43, 41, 43, 47, 43, 30, 51, 36, 30, 37, 55, 23, 32, 45, 27, 24, 39, 35, 19, 48, 83, 63, 58, 82, 60, 28, 42, 30, 79, 96, 79, 91, 59, 89, 72, 92, 96, 65, 49, 70, 68, 91, 68, 71, 63, 100, 42, 94, 49, 95, 65, 85, 92, 57, 41, 67, 77, 34, 74, 70, 40, 65, 42, 38, 46, 54, 83, 54, 19]\n",
      "[18, 18, 19, 18, 18, 19, 19, 18, 18, 18, 18, 19, 22, 19, 36, 27, 39, 18, 28, 24, 18, 18, 19, 30, 19, 45, 38, 24, 19, 62, 48, 43, 41, 43, 47, 43, 30, 51, 36, 30, 37, 55, 23, 32, 45, 27, 24, 39, 35, 19, 48, 83, 63, 58, 82, 60, 28, 42, 30, 79, 96, 79, 91, 59, 89, 72, 92, 96, 65, 49, 70, 68, 91, 68, 71, 63, 100, 42, 94, 49, 95, 65, 85, 92, 57, 41, 67, 77, 34, 74, 70, 40, 65, 42, 38, 46, 54, 83, 54, 19]\n",
      "[18, 18, 19, 18, 18, 19, 19, 18, 18, 18, 18, 19, 22, 19, 36, 27, 39, 18, 28, 24, 18, 18, 19, 30, 19, 45, 38, 24, 19, 62, 48, 43, 41, 43, 47, 43, 30, 51, 36, 30, 37, 55, 23, 32, 45, 27, 24, 39, 35, 19, 48, 83, 63, 58, 82, 60, 28, 42, 30, 79, 96, 79, 91, 59, 89, 72, 92, 96, 65, 49, 70, 68, 91, 68, 71, 63, 100, 42, 94, 49, 95, 65, 85, 92, 57, 41, 67, 77, 34, 74, 70, 40, 65, 42, 38, 46, 54, 83, 54, 19]\n",
      "[18, 18, 19, 18, 18, 19, 19, 18, 18, 18, 18, 19, 22, 19, 36, 27, 39, 18, 28, 24, 18, 18, 19, 30, 19, 45, 38, 24, 19, 62, 48, 43, 41, 43, 47, 43, 30, 51, 36, 30, 37, 55, 23, 32, 45, 27, 24, 39, 35, 19, 48, 83, 63, 58, 82, 60, 28, 42, 30, 79, 96, 79, 91, 59, 89, 72, 92, 96, 65, 49, 70, 68, 91, 68, 71, 63, 100, 42, 94, 49, 95, 65, 85, 92, 57, 41, 67, 77, 34, 74, 70, 40, 65, 42, 38, 46, 54, 83, 54, 19]\n",
      "[18, 18, 19, 18, 18, 19, 19, 18, 18, 18, 18, 19, 22, 19, 36, 27, 39, 18, 28, 24, 18, 18, 19, 30, 19, 45, 38, 24, 19, 62, 48, 43, 41, 43, 47, 43, 30, 51, 36, 30, 37, 55, 23, 32, 45, 27, 24, 39, 35, 19, 48, 83, 63, 58, 82, 60, 28, 42, 30, 79, 96, 79, 91, 59, 89, 72, 92, 96, 65, 49, 70, 68, 91, 68, 71, 63, 100, 42, 94, 49, 95, 65, 85, 92, 57, 41, 67, 77, 34, 74, 70, 40, 65, 42, 38, 46, 54, 83, 54, 19]\n",
      "[18, 18, 19, 18, 18, 19, 19, 18, 18, 18, 18, 19, 22, 19, 36, 27, 39, 18, 28, 24, 18, 18, 19, 30, 19, 45, 38, 24, 19, 62, 48, 43, 41, 43, 47, 43, 30, 51, 36, 30, 37, 55, 23, 32, 45, 27, 24, 39, 35, 19, 48, 83, 63, 58, 82, 60, 28, 42, 30, 79, 96, 79, 91, 59, 89, 72, 92, 96, 65, 49, 70, 68, 91, 68, 71, 63, 100, 42, 94, 49, 95, 65, 85, 92, 57, 41, 67, 77, 34, 74, 70, 40, 65, 42, 38, 46, 54, 83, 54, 19]\n",
      "[18, 18, 19, 18, 18, 19, 19, 18, 18, 18, 18, 19, 22, 19, 36, 27, 39, 18, 28, 24, 18, 18, 19, 30, 19, 45, 38, 24, 19, 62, 48, 43, 41, 43, 47, 43, 30, 51, 36, 30, 37, 55, 23, 32, 45, 27, 24, 39, 35, 19, 48, 83, 63, 58, 82, 60, 28, 42, 30, 79, 96, 79, 91, 59, 89, 72, 92, 96, 65, 49, 70, 68, 91, 68, 71, 63, 100, 42, 94, 49, 95, 65, 85, 92, 57, 41, 67, 77, 34, 74, 70, 40, 65, 42, 38, 46, 54, 83, 54, 19]\n",
      "[18, 18, 19, 18, 18, 19, 19, 18, 18, 18, 18, 19, 22, 19, 36, 27, 39, 18, 28, 24, 18, 18, 19, 30, 19, 45, 38, 24, 19, 62, 48, 43, 41, 43, 47, 43, 30, 51, 36, 30, 37, 55, 23, 32, 45, 27, 24, 39, 35, 19, 48, 83, 63, 58, 82, 60, 28, 42, 30, 79, 96, 79, 91, 59, 89, 72, 92, 96, 65, 49, 70, 68, 91, 68, 71, 63, 100, 42, 94, 49, 95, 65, 85, 92, 57, 41, 67, 77, 34, 74, 70, 40, 65, 42, 38, 46, 54, 83, 54, 19]\n",
      "[18, 18, 19, 18, 18, 19, 19, 18, 18, 18, 18, 19, 22, 19, 36, 27, 39, 18, 28, 24, 18, 18, 19, 30, 19, 45, 38, 24, 19, 62, 48, 43, 41, 43, 47, 43, 30, 51, 36, 30, 37, 55, 23, 32, 45, 27, 24, 39, 35, 19, 48, 83, 63, 58, 82, 60, 28, 42, 30, 79, 96, 79, 91, 59, 89, 72, 92, 96, 65, 49, 70, 68, 91, 68, 71, 63, 100, 42, 94, 49, 95, 65, 85, 92, 57, 41, 67, 77, 34, 74, 70, 40, 65, 42, 38, 46, 54, 83, 54, 19]\n",
      "[18, 18, 19, 18, 18, 19, 19, 18, 18, 18, 18, 19, 22, 19, 36, 27, 39, 18, 28, 24, 18, 18, 19, 30, 19, 45, 38, 24, 19, 62, 48, 43, 41, 43, 47, 43, 30, 51, 36, 30, 37, 55, 23, 32, 45, 27, 24, 39, 35, 19, 48, 83, 63, 58, 82, 60, 28, 42, 30, 79, 96, 79, 91, 59, 89, 72, 92, 96, 65, 49, 70, 68, 91, 68, 71, 63, 100, 42, 94, 49, 95, 65, 85, 92, 57, 41, 67, 77, 34, 74, 70, 40, 65, 42, 38, 46, 54, 83, 54, 19]\n",
      "[18, 18, 19, 18, 18, 19, 19, 18, 18, 18, 18, 19, 22, 19, 36, 27, 39, 18, 28, 24, 18, 18, 19, 30, 19, 45, 38, 24, 19, 62, 48, 43, 41, 43, 47, 43, 30, 51, 36, 30, 37, 55, 23, 32, 45, 27, 24, 39, 35, 19, 48, 83, 63, 58, 82, 60, 28, 42, 30, 79, 96, 79, 91, 59, 89, 72, 92, 96, 65, 49, 70, 68, 91, 68, 71, 63, 100, 42, 94, 49, 95, 65, 85, 92, 57, 41, 67, 77, 34, 74, 70, 40, 65, 42, 38, 46, 54, 83, 54, 19]\n",
      "[18, 18, 19, 18, 18, 19, 19, 18, 18, 18, 18, 19, 22, 19, 36, 27, 39, 18, 28, 24, 18, 18, 19, 30, 19, 45, 38, 24, 19, 62, 48, 43, 41, 43, 47, 43, 30, 51, 36, 30, 37, 55, 23, 32, 45, 27, 24, 39, 35, 19, 48, 83, 63, 58, 82, 60, 28, 42, 30, 79, 96, 79, 91, 59, 89, 72, 92, 96, 65, 49, 70, 68, 91, 68, 71, 63, 100, 42, 94, 49, 95, 65, 85, 92, 57, 41, 67, 77, 34, 74, 70, 40, 65, 42, 38, 46, 54, 83, 54, 19]\n",
      "[18, 18, 19, 18, 18, 19, 19, 18, 18, 18, 18, 19, 22, 19, 36, 27, 39, 18, 28, 24, 18, 18, 19, 30, 19, 45, 38, 24, 19, 62, 48, 43, 41, 43, 47, 43, 30, 51, 36, 30, 37, 55, 23, 32, 45, 27, 24, 39, 35, 19, 48, 83, 63, 58, 82, 60, 28, 42, 30, 79, 96, 79, 91, 59, 89, 72, 92, 96, 65, 49, 70, 68, 91, 68, 71, 63, 100, 42, 94, 49, 95, 65, 85, 92, 57, 41, 67, 77, 34, 74, 70, 40, 65, 42, 38, 46, 54, 83, 54, 19]\n",
      "[18, 18, 19, 18, 18, 19, 19, 18, 18, 18, 18, 19, 22, 19, 36, 27, 39, 18, 28, 24, 18, 18, 19, 30, 19, 45, 38, 24, 19, 62, 48, 43, 41, 43, 47, 43, 30, 51, 36, 30, 37, 55, 23, 32, 45, 27, 24, 39, 35, 19, 48, 83, 63, 58, 82, 60, 28, 42, 30, 79, 96, 79, 91, 59, 89, 72, 92, 96, 65, 49, 70, 68, 91, 68, 71, 63, 100, 42, 94, 49, 95, 65, 85, 92, 57, 41, 67, 77, 34, 74, 70, 40, 65, 42, 38, 46, 54, 83, 54, 19]\n",
      "[18, 18, 19, 18, 18, 19, 19, 18, 18, 18, 18, 19, 22, 19, 36, 27, 39, 18, 28, 24, 18, 18, 19, 30, 19, 45, 38, 24, 19, 62, 48, 43, 41, 43, 47, 43, 30, 51, 36, 30, 37, 55, 23, 32, 45, 27, 24, 39, 35, 19, 48, 83, 63, 58, 82, 60, 28, 42, 30, 79, 96, 79, 91, 59, 89, 72, 92, 96, 65, 49, 70, 68, 91, 68, 71, 63, 100, 42, 94, 49, 95, 65, 85, 92, 57, 41, 67, 77, 34, 74, 70, 40, 65, 42, 38, 46, 54, 83, 54, 19]\n",
      "[18, 18, 19, 18, 18, 19, 19, 18, 18, 18, 18, 19, 22, 19, 36, 27, 39, 18, 28, 24, 18, 18, 19, 30, 19, 45, 38, 24, 19, 62, 48, 43, 41, 43, 47, 43, 30, 51, 36, 30, 37, 55, 23, 32, 45, 27, 24, 39, 35, 19, 48, 83, 63, 58, 82, 60, 28, 42, 30, 79, 96, 79, 91, 59, 89, 72, 92, 96, 65, 49, 70, 68, 91, 68, 71, 63, 100, 42, 94, 49, 95, 65, 85, 92, 57, 41, 67, 77, 34, 74, 70, 40, 65, 42, 38, 46, 54, 83, 54, 19]\n",
      "[18, 18, 19, 18, 18, 19, 19, 18, 18, 18, 18, 19, 22, 19, 36, 27, 39, 18, 28, 24, 18, 18, 19, 30, 19, 45, 38, 24, 19, 62, 48, 43, 41, 43, 47, 43, 30, 51, 36, 30, 37, 55, 23, 32, 45, 27, 24, 39, 35, 19, 48, 83, 63, 58, 82, 60, 28, 42, 30, 79, 96, 79, 91, 59, 89, 72, 92, 96, 65, 49, 70, 68, 91, 68, 71, 63, 100, 42, 94, 49, 95, 65, 85, 92, 57, 41, 67, 77, 34, 74, 70, 40, 65, 42, 38, 46, 54, 83, 54, 19]\n",
      "[18, 18, 19, 18, 18, 19, 19, 18, 18, 18, 18, 19, 22, 19, 36, 27, 39, 18, 28, 24, 18, 18, 19, 30, 19, 45, 38, 24, 19, 62, 48, 43, 41, 43, 47, 43, 30, 51, 36, 30, 37, 55, 23, 32, 45, 27, 24, 39, 35, 19, 48, 83, 63, 58, 82, 60, 28, 42, 30, 79, 96, 79, 91, 59, 89, 72, 92, 96, 65, 49, 70, 68, 91, 68, 71, 63, 100, 42, 94, 49, 95, 65, 85, 92, 57, 41, 67, 77, 34, 74, 70, 40, 65, 42, 38, 46, 54, 83, 54, 19]\n",
      "[18, 18, 19, 18, 18, 19, 19, 18, 18, 18, 18, 19, 22, 19, 36, 27, 39, 18, 28, 24, 18, 18, 19, 30, 19, 45, 38, 24, 19, 62, 48, 43, 41, 43, 47, 43, 30, 51, 36, 30, 37, 55, 23, 32, 45, 27, 24, 39, 35, 19, 48, 83, 63, 58, 82, 60, 28, 42, 30, 79, 96, 79, 91, 59, 89, 72, 92, 96, 65, 49, 70, 68, 91, 68, 71, 63, 100, 42, 94, 49, 95, 65, 85, 92, 57, 41, 67, 77, 34, 74, 70, 40, 65, 42, 38, 46, 54, 83, 54, 19]\n",
      "[18, 18, 19, 18, 18, 19, 19, 18, 18, 18, 18, 19, 22, 19, 36, 27, 39, 18, 28, 24, 18, 18, 19, 30, 19, 45, 38, 24, 19, 62, 48, 43, 41, 43, 47, 43, 30, 51, 36, 30, 37, 55, 23, 32, 45, 27, 24, 39, 35, 19, 48, 83, 63, 58, 82, 60, 28, 42, 30, 79, 96, 79, 91, 59, 89, 72, 92, 96, 65, 49, 70, 68, 91, 68, 71, 63, 100, 42, 94, 49, 95, 65, 85, 92, 57, 41, 67, 77, 34, 74, 70, 40, 65, 42, 38, 46, 54, 83, 54, 19]\n",
      "[18, 18, 19, 18, 18, 19, 19, 18, 18, 18, 18, 19, 22, 19, 36, 27, 39, 18, 28, 24, 18, 18, 19, 30, 19, 45, 38, 24, 19, 62, 48, 43, 41, 43, 47, 43, 30, 51, 36, 30, 37, 55, 23, 32, 45, 27, 24, 39, 35, 19, 48, 83, 63, 58, 82, 60, 28, 42, 30, 79, 96, 79, 91, 59, 89, 72, 92, 96, 65, 49, 70, 68, 91, 68, 71, 63, 100, 42, 94, 49, 95, 65, 85, 92, 57, 41, 67, 77, 34, 74, 70, 40, 65, 42, 38, 46, 54, 83, 54, 19]\n",
      "[18, 18, 19, 18, 18, 19, 19, 18, 18, 18, 18, 19, 22, 19, 36, 27, 39, 18, 28, 24, 18, 18, 19, 30, 19, 45, 38, 24, 19, 62, 48, 43, 41, 43, 47, 43, 30, 51, 36, 30, 37, 55, 23, 32, 45, 27, 24, 39, 35, 19, 48, 83, 63, 58, 82, 60, 28, 42, 30, 79, 96, 79, 91, 59, 89, 72, 92, 96, 65, 49, 70, 68, 91, 68, 71, 63, 100, 42, 94, 49, 95, 65, 85, 92, 57, 41, 67, 77, 34, 74, 70, 40, 65, 42, 38, 46, 54, 83, 54, 19]\n",
      "[18, 18, 19, 18, 18, 19, 19, 18, 18, 18, 18, 19, 22, 19, 36, 27, 39, 18, 28, 24, 18, 18, 19, 30, 19, 45, 38, 24, 19, 62, 48, 43, 41, 43, 47, 43, 30, 51, 36, 30, 37, 55, 23, 32, 45, 27, 24, 39, 35, 19, 48, 83, 63, 58, 82, 60, 28, 42, 30, 79, 96, 79, 91, 59, 89, 72, 92, 96, 65, 49, 70, 68, 91, 68, 71, 63, 100, 42, 94, 49, 95, 65, 85, 92, 57, 41, 67, 77, 34, 74, 70, 40, 65, 42, 38, 46, 54, 83, 54, 19]\n",
      "[18, 18, 19, 18, 18, 19, 19, 18, 18, 18, 18, 19, 22, 19, 36, 27, 39, 18, 28, 24, 18, 18, 19, 30, 19, 45, 38, 24, 19, 62, 48, 43, 41, 43, 47, 43, 30, 51, 36, 30, 37, 55, 23, 32, 45, 27, 24, 39, 35, 19, 48, 83, 63, 58, 82, 60, 28, 42, 30, 79, 96, 79, 91, 59, 89, 72, 92, 96, 65, 49, 70, 68, 91, 68, 71, 63, 100, 42, 94, 49, 95, 65, 85, 92, 57, 41, 67, 77, 34, 74, 70, 40, 65, 42, 38, 46, 54, 83, 54, 19]\n",
      "[18, 18, 19, 18, 18, 19, 19, 18, 18, 18, 18, 19, 22, 19, 36, 27, 39, 18, 28, 24, 18, 18, 19, 30, 19, 45, 38, 24, 19, 62, 48, 43, 41, 43, 47, 43, 30, 51, 36, 30, 37, 55, 23, 32, 45, 27, 24, 39, 35, 19, 48, 83, 63, 58, 82, 60, 28, 42, 30, 79, 96, 79, 91, 59, 89, 72, 92, 96, 65, 49, 70, 68, 91, 68, 71, 63, 100, 42, 94, 49, 95, 65, 85, 92, 57, 41, 67, 77, 34, 74, 70, 40, 65, 42, 38, 46, 54, 83, 54, 19]\n",
      "[18, 18, 19, 18, 18, 19, 19, 18, 18, 18, 18, 19, 22, 19, 36, 27, 39, 18, 28, 24, 18, 18, 19, 30, 19, 45, 38, 24, 19, 62, 48, 43, 41, 43, 47, 43, 30, 51, 36, 30, 37, 55, 23, 32, 45, 27, 24, 39, 35, 19, 48, 83, 63, 58, 82, 60, 28, 42, 30, 79, 96, 79, 91, 59, 89, 72, 92, 96, 65, 49, 70, 68, 91, 68, 71, 63, 100, 42, 94, 49, 95, 65, 85, 92, 57, 41, 67, 77, 34, 74, 70, 40, 65, 42, 38, 46, 54, 83, 54, 19]\n",
      "[18, 18, 19, 18, 18, 19, 19, 18, 18, 18, 18, 19, 22, 19, 36, 27, 39, 18, 28, 24, 18, 18, 19, 30, 19, 45, 38, 24, 19, 62, 48, 43, 41, 43, 47, 43, 30, 51, 36, 30, 37, 55, 23, 32, 45, 27, 24, 39, 35, 19, 48, 83, 63, 58, 82, 60, 28, 42, 30, 79, 96, 79, 91, 59, 89, 72, 92, 96, 65, 49, 70, 68, 91, 68, 71, 63, 100, 42, 94, 49, 95, 65, 85, 92, 57, 41, 67, 77, 34, 74, 70, 40, 65, 42, 38, 46, 54, 83, 54, 19]\n",
      "[18, 18, 19, 18, 18, 19, 19, 18, 18, 18, 18, 19, 22, 19, 36, 27, 39, 18, 28, 24, 18, 18, 19, 30, 19, 45, 38, 24, 19, 62, 48, 43, 41, 43, 47, 43, 30, 51, 36, 30, 37, 55, 23, 32, 45, 27, 24, 39, 35, 19, 48, 83, 63, 58, 82, 60, 28, 42, 30, 79, 96, 79, 91, 59, 89, 72, 92, 96, 65, 49, 70, 68, 91, 68, 71, 63, 100, 42, 94, 49, 95, 65, 85, 92, 57, 41, 67, 77, 34, 74, 70, 40, 65, 42, 38, 46, 54, 83, 54, 19]\n",
      "[18, 18, 19, 18, 18, 19, 19, 18, 18, 18, 18, 19, 22, 19, 36, 27, 39, 18, 28, 24, 18, 18, 19, 30, 19, 45, 38, 24, 19, 62, 48, 43, 41, 43, 47, 43, 30, 51, 36, 30, 37, 55, 23, 32, 45, 27, 24, 39, 35, 19, 48, 83, 63, 58, 82, 60, 28, 42, 30, 79, 96, 79, 91, 59, 89, 72, 92, 96, 65, 49, 70, 68, 91, 68, 71, 63, 100, 42, 94, 49, 95, 65, 85, 92, 57, 41, 67, 77, 34, 74, 70, 40, 65, 42, 38, 46, 54, 83, 54, 19]\n",
      "[18, 18, 19, 18, 18, 19, 19, 18, 18, 18, 18, 19, 22, 19, 36, 27, 39, 18, 28, 24, 18, 18, 19, 30, 19, 45, 38, 24, 19, 62, 48, 43, 41, 43, 47, 43, 30, 51, 36, 30, 37, 55, 23, 32, 45, 27, 24, 39, 35, 19, 48, 83, 63, 58, 82, 60, 28, 42, 30, 79, 96, 79, 91, 59, 89, 72, 92, 96, 65, 49, 70, 68, 91, 68, 71, 63, 100, 42, 94, 49, 95, 65, 85, 92, 57, 41, 67, 77, 34, 74, 70, 40, 65, 42, 38, 46, 54, 83, 54, 19]\n",
      "[18, 18, 19, 18, 18, 19, 19, 18, 18, 18, 18, 19, 22, 19, 36, 27, 39, 18, 28, 24, 18, 18, 19, 30, 19, 45, 38, 24, 19, 62, 48, 43, 41, 43, 47, 43, 30, 51, 36, 30, 37, 55, 23, 32, 45, 27, 24, 39, 35, 19, 48, 83, 63, 58, 82, 60, 28, 42, 30, 79, 96, 79, 91, 59, 89, 72, 92, 96, 65, 49, 70, 68, 91, 68, 71, 63, 100, 42, 94, 49, 95, 65, 85, 92, 57, 41, 67, 77, 34, 74, 70, 40, 65, 42, 38, 46, 54, 83, 54, 19]\n",
      "[18, 18, 19, 18, 18, 19, 19, 18, 18, 18, 18, 19, 22, 19, 36, 27, 39, 18, 28, 24, 18, 18, 19, 30, 19, 45, 38, 24, 19, 62, 48, 43, 41, 43, 47, 43, 30, 51, 36, 30, 37, 55, 23, 32, 45, 27, 24, 39, 35, 19, 48, 83, 63, 58, 82, 60, 28, 42, 30, 79, 96, 79, 91, 59, 89, 72, 92, 96, 65, 49, 70, 68, 91, 68, 71, 63, 100, 42, 94, 49, 95, 65, 85, 92, 57, 41, 67, 77, 34, 74, 70, 40, 65, 42, 38, 46, 54, 83, 54, 19]\n",
      "[18, 18, 19, 18, 18, 19, 19, 18, 18, 18, 18, 19, 22, 19, 36, 27, 39, 18, 28, 24, 18, 18, 19, 30, 19, 45, 38, 24, 19, 62, 48, 43, 41, 43, 47, 43, 30, 51, 36, 30, 37, 55, 23, 32, 45, 27, 24, 39, 35, 19, 48, 83, 63, 58, 82, 60, 28, 42, 30, 79, 96, 79, 91, 59, 89, 72, 92, 96, 65, 49, 70, 68, 91, 68, 71, 63, 100, 42, 94, 49, 95, 65, 85, 92, 57, 41, 67, 77, 34, 74, 70, 40, 65, 42, 38, 46, 54, 83, 54, 19]\n",
      "[18, 18, 19, 18, 18, 19, 19, 18, 18, 18, 18, 19, 22, 19, 36, 27, 39, 18, 28, 24, 18, 18, 19, 30, 19, 45, 38, 24, 19, 62, 48, 43, 41, 43, 47, 43, 30, 51, 36, 30, 37, 55, 23, 32, 45, 27, 24, 39, 35, 19, 48, 83, 63, 58, 82, 60, 28, 42, 30, 79, 96, 79, 91, 59, 89, 72, 92, 96, 65, 49, 70, 68, 91, 68, 71, 63, 100, 42, 94, 49, 95, 65, 85, 92, 57, 41, 67, 77, 34, 74, 70, 40, 65, 42, 38, 46, 54, 83, 54, 19]\n",
      "[18, 18, 19, 18, 18, 19, 19, 18, 18, 18, 18, 19, 22, 19, 36, 27, 39, 18, 28, 24, 18, 18, 19, 30, 19, 45, 38, 24, 19, 62, 48, 43, 41, 43, 47, 43, 30, 51, 36, 30, 37, 55, 23, 32, 45, 27, 24, 39, 35, 19, 48, 83, 63, 58, 82, 60, 28, 42, 30, 79, 96, 79, 91, 59, 89, 72, 92, 96, 65, 49, 70, 68, 91, 68, 71, 63, 100, 42, 94, 49, 95, 65, 85, 92, 57, 41, 67, 77, 34, 74, 70, 40, 65, 42, 38, 46, 54, 83, 54, 19]\n",
      "[18, 18, 19, 18, 18, 19, 19, 18, 18, 18, 18, 19, 22, 19, 36, 27, 39, 18, 28, 24, 18, 18, 19, 30, 19, 45, 38, 24, 19, 62, 48, 43, 41, 43, 47, 43, 30, 51, 36, 30, 37, 55, 23, 32, 45, 27, 24, 39, 35, 19, 48, 83, 63, 58, 82, 60, 28, 42, 30, 79, 96, 79, 91, 59, 89, 72, 92, 96, 65, 49, 70, 68, 91, 68, 71, 63, 100, 42, 94, 49, 95, 65, 85, 92, 57, 41, 67, 77, 34, 74, 70, 40, 65, 42, 38, 46, 54, 83, 54, 19]\n",
      "[18, 18, 19, 18, 18, 19, 19, 18, 18, 18, 18, 19, 22, 19, 36, 27, 39, 18, 28, 24, 18, 18, 19, 30, 19, 45, 38, 24, 19, 62, 48, 43, 41, 43, 47, 43, 30, 51, 36, 30, 37, 55, 23, 32, 45, 27, 24, 39, 35, 19, 48, 83, 63, 58, 82, 60, 28, 42, 30, 79, 96, 79, 91, 59, 89, 72, 92, 96, 65, 49, 70, 68, 91, 68, 71, 63, 100, 42, 94, 49, 95, 65, 85, 92, 57, 41, 67, 77, 34, 74, 70, 40, 65, 42, 38, 46, 54, 83, 54, 19]\n",
      "[18, 18, 19, 18, 18, 19, 19, 18, 18, 18, 18, 19, 22, 19, 36, 27, 39, 18, 28, 24, 18, 18, 19, 30, 19, 45, 38, 24, 19, 62, 48, 43, 41, 43, 47, 43, 30, 51, 36, 30, 37, 55, 23, 32, 45, 27, 24, 39, 35, 19, 48, 83, 63, 58, 82, 60, 28, 42, 30, 79, 96, 79, 91, 59, 89, 72, 92, 96, 65, 49, 70, 68, 91, 68, 71, 63, 100, 42, 94, 49, 95, 65, 85, 92, 57, 41, 67, 77, 34, 74, 70, 40, 65, 42, 38, 46, 54, 83, 54, 19]\n",
      "[18, 18, 19, 18, 18, 19, 19, 18, 18, 18, 18, 19, 22, 19, 36, 27, 39, 18, 28, 24, 18, 18, 19, 30, 19, 45, 38, 24, 19, 62, 48, 43, 41, 43, 47, 43, 30, 51, 36, 30, 37, 55, 23, 32, 45, 27, 24, 39, 35, 19, 48, 83, 63, 58, 82, 60, 28, 42, 30, 79, 96, 79, 91, 59, 89, 72, 92, 96, 65, 49, 70, 68, 91, 68, 71, 63, 100, 42, 94, 49, 95, 65, 85, 92, 57, 41, 67, 77, 34, 74, 70, 40, 65, 42, 38, 46, 54, 83, 54, 19]\n",
      "[18, 18, 19, 18, 18, 19, 19, 18, 18, 18, 18, 19, 22, 19, 36, 27, 39, 18, 28, 24, 18, 18, 19, 30, 19, 45, 38, 24, 19, 62, 48, 43, 41, 43, 47, 43, 30, 51, 36, 30, 37, 55, 23, 32, 45, 27, 24, 39, 35, 19, 48, 83, 63, 58, 82, 60, 28, 42, 30, 79, 96, 79, 91, 59, 89, 72, 92, 96, 65, 49, 70, 68, 91, 68, 71, 63, 100, 42, 94, 49, 95, 65, 85, 92, 57, 41, 67, 77, 34, 74, 70, 40, 65, 42, 38, 46, 54, 83, 54, 19]\n",
      "[18, 18, 19, 18, 18, 19, 19, 18, 18, 18, 18, 19, 22, 19, 36, 27, 39, 18, 28, 24, 18, 18, 19, 30, 19, 45, 38, 24, 19, 62, 48, 43, 41, 43, 47, 43, 30, 51, 36, 30, 37, 55, 23, 32, 45, 27, 24, 39, 35, 19, 48, 83, 63, 58, 82, 60, 28, 42, 30, 79, 96, 79, 91, 59, 89, 72, 92, 96, 65, 49, 70, 68, 91, 68, 71, 63, 100, 42, 94, 49, 95, 65, 85, 92, 57, 41, 67, 77, 34, 74, 70, 40, 65, 42, 38, 46, 54, 83, 54, 19]\n",
      "[18, 18, 19, 18, 18, 19, 19, 18, 18, 18, 18, 19, 22, 19, 36, 27, 39, 18, 28, 24, 18, 18, 19, 30, 19, 45, 38, 24, 19, 62, 48, 43, 41, 43, 47, 43, 30, 51, 36, 30, 37, 55, 23, 32, 45, 27, 24, 39, 35, 19, 48, 83, 63, 58, 82, 60, 28, 42, 30, 79, 96, 79, 91, 59, 89, 72, 92, 96, 65, 49, 70, 68, 91, 68, 71, 63, 100, 42, 94, 49, 95, 65, 85, 92, 57, 41, 67, 77, 34, 74, 70, 40, 65, 42, 38, 46, 54, 83, 54, 19]\n",
      "[18, 18, 19, 18, 18, 19, 19, 18, 18, 18, 18, 19, 22, 19, 36, 27, 39, 18, 28, 24, 18, 18, 19, 30, 19, 45, 38, 24, 19, 62, 48, 43, 41, 43, 47, 43, 30, 51, 36, 30, 37, 55, 23, 32, 45, 27, 24, 39, 35, 19, 48, 83, 63, 58, 82, 60, 28, 42, 30, 79, 96, 79, 91, 59, 89, 72, 92, 96, 65, 49, 70, 68, 91, 68, 71, 63, 100, 42, 94, 49, 95, 65, 85, 92, 57, 41, 67, 77, 34, 74, 70, 40, 65, 42, 38, 46, 54, 83, 54, 19]\n",
      "[18, 18, 19, 18, 18, 19, 19, 18, 18, 18, 18, 19, 22, 19, 36, 27, 39, 18, 28, 24, 18, 18, 19, 30, 19, 45, 38, 24, 19, 62, 48, 43, 41, 43, 47, 43, 30, 51, 36, 30, 37, 55, 23, 32, 45, 27, 24, 39, 35, 19, 48, 83, 63, 58, 82, 60, 28, 42, 30, 79, 96, 79, 91, 59, 89, 72, 92, 96, 65, 49, 70, 68, 91, 68, 71, 63, 100, 42, 94, 49, 95, 65, 85, 92, 57, 41, 67, 77, 34, 74, 70, 40, 65, 42, 38, 46, 54, 83, 54, 19]\n",
      "[18, 18, 19, 18, 18, 19, 19, 18, 18, 18, 18, 19, 22, 19, 36, 27, 39, 18, 28, 24, 18, 18, 19, 30, 19, 45, 38, 24, 19, 62, 48, 43, 41, 43, 47, 43, 30, 51, 36, 30, 37, 55, 23, 32, 45, 27, 24, 39, 35, 19, 48, 83, 63, 58, 82, 60, 28, 42, 30, 79, 96, 79, 91, 59, 89, 72, 92, 96, 65, 49, 70, 68, 91, 68, 71, 63, 100, 42, 94, 49, 95, 65, 85, 92, 57, 41, 67, 77, 34, 74, 70, 40, 65, 42, 38, 46, 54, 83, 54, 19]\n",
      "[18, 18, 19, 18, 18, 19, 19, 18, 18, 18, 18, 19, 22, 19, 36, 27, 39, 18, 28, 24, 18, 18, 19, 30, 19, 45, 38, 24, 19, 62, 48, 43, 41, 43, 47, 43, 30, 51, 36, 30, 37, 55, 23, 32, 45, 27, 24, 39, 35, 19, 48, 83, 63, 58, 82, 60, 28, 42, 30, 79, 96, 79, 91, 59, 89, 72, 92, 96, 65, 49, 70, 68, 91, 68, 71, 63, 100, 42, 94, 49, 95, 65, 85, 92, 57, 41, 67, 77, 34, 74, 70, 40, 65, 42, 38, 46, 54, 83, 54, 19]\n",
      "[18, 18, 19, 18, 18, 19, 19, 18, 18, 18, 18, 19, 22, 19, 36, 27, 39, 18, 28, 24, 18, 18, 19, 30, 19, 45, 38, 24, 19, 62, 48, 43, 41, 43, 47, 43, 30, 51, 36, 30, 37, 55, 23, 32, 45, 27, 24, 39, 35, 19, 48, 83, 63, 58, 82, 60, 28, 42, 30, 79, 96, 79, 91, 59, 89, 72, 92, 96, 65, 49, 70, 68, 91, 68, 71, 63, 100, 42, 94, 49, 95, 65, 85, 92, 57, 41, 67, 77, 34, 74, 70, 40, 65, 42, 38, 46, 54, 83, 54, 19]\n",
      "[18, 18, 19, 18, 18, 19, 19, 18, 18, 18, 18, 19, 22, 19, 36, 27, 39, 18, 28, 24, 18, 18, 19, 30, 19, 45, 38, 24, 19, 62, 48, 43, 41, 43, 47, 43, 30, 51, 36, 30, 37, 55, 23, 32, 45, 27, 24, 39, 35, 19, 48, 83, 63, 58, 82, 60, 28, 42, 30, 79, 96, 79, 91, 59, 89, 72, 92, 96, 65, 49, 70, 68, 91, 68, 71, 63, 100, 42, 94, 49, 95, 65, 85, 92, 57, 41, 67, 77, 34, 74, 70, 40, 65, 42, 38, 46, 54, 83, 54, 19]\n",
      "[18, 18, 19, 18, 18, 19, 19, 18, 18, 18, 18, 19, 22, 19, 36, 27, 39, 18, 28, 24, 18, 18, 19, 30, 19, 45, 38, 24, 19, 62, 48, 43, 41, 43, 47, 43, 30, 51, 36, 30, 37, 55, 23, 32, 45, 27, 24, 39, 35, 19, 48, 83, 63, 58, 82, 60, 28, 42, 30, 79, 96, 79, 91, 59, 89, 72, 92, 96, 65, 49, 70, 68, 91, 68, 71, 63, 100, 42, 94, 49, 95, 65, 85, 92, 57, 41, 67, 77, 34, 74, 70, 40, 65, 42, 38, 46, 54, 83, 54, 19]\n",
      "[18, 18, 19, 18, 18, 19, 19, 18, 18, 18, 18, 19, 22, 19, 36, 27, 39, 18, 28, 24, 18, 18, 19, 30, 19, 45, 38, 24, 19, 62, 48, 43, 41, 43, 47, 43, 30, 51, 36, 30, 37, 55, 23, 32, 45, 27, 24, 39, 35, 19, 48, 83, 63, 58, 82, 60, 28, 42, 30, 79, 96, 79, 91, 59, 89, 72, 92, 96, 65, 49, 70, 68, 91, 68, 71, 63, 100, 42, 94, 49, 95, 65, 85, 92, 57, 41, 67, 77, 34, 74, 70, 40, 65, 42, 38, 46, 54, 83, 54, 19]\n",
      "[18, 18, 19, 18, 18, 19, 19, 18, 18, 18, 18, 19, 22, 19, 36, 27, 39, 18, 28, 24, 18, 18, 19, 30, 19, 45, 38, 24, 19, 62, 48, 43, 41, 43, 47, 43, 30, 51, 36, 30, 37, 55, 23, 32, 45, 27, 24, 39, 35, 19, 48, 83, 63, 58, 82, 60, 28, 42, 30, 79, 96, 79, 91, 59, 89, 72, 92, 96, 65, 49, 70, 68, 91, 68, 71, 63, 100, 42, 94, 49, 95, 65, 85, 92, 57, 41, 67, 77, 34, 74, 70, 40, 65, 42, 38, 46, 54, 83, 54, 19]\n",
      "[18, 18, 19, 18, 18, 19, 19, 18, 18, 18, 18, 19, 22, 19, 36, 27, 39, 18, 28, 24, 18, 18, 19, 30, 19, 45, 38, 24, 19, 62, 48, 43, 41, 43, 47, 43, 30, 51, 36, 30, 37, 55, 23, 32, 45, 27, 24, 39, 35, 19, 48, 83, 63, 58, 82, 60, 28, 42, 30, 79, 96, 79, 91, 59, 89, 72, 92, 96, 65, 49, 70, 68, 91, 68, 71, 63, 100, 42, 94, 49, 95, 65, 85, 92, 57, 41, 67, 77, 34, 74, 70, 40, 65, 42, 38, 46, 54, 83, 54, 19]\n",
      "[18, 18, 19, 18, 18, 19, 19, 18, 18, 18, 18, 19, 22, 19, 36, 27, 39, 18, 28, 24, 18, 18, 19, 30, 19, 45, 38, 24, 19, 62, 48, 43, 41, 43, 47, 43, 30, 51, 36, 30, 37, 55, 23, 32, 45, 27, 24, 39, 35, 19, 48, 83, 63, 58, 82, 60, 28, 42, 30, 79, 96, 79, 91, 59, 89, 72, 92, 96, 65, 49, 70, 68, 91, 68, 71, 63, 100, 42, 94, 49, 95, 65, 85, 92, 57, 41, 67, 77, 34, 74, 70, 40, 65, 42, 38, 46, 54, 83, 54, 19]\n",
      "[18, 18, 19, 18, 18, 19, 19, 18, 18, 18, 18, 19, 22, 19, 36, 27, 39, 18, 28, 24, 18, 18, 19, 30, 19, 45, 38, 24, 19, 62, 48, 43, 41, 43, 47, 43, 30, 51, 36, 30, 37, 55, 23, 32, 45, 27, 24, 39, 35, 19, 48, 83, 63, 58, 82, 60, 28, 42, 30, 79, 96, 79, 91, 59, 89, 72, 92, 96, 65, 49, 70, 68, 91, 68, 71, 63, 100, 42, 94, 49, 95, 65, 85, 92, 57, 41, 67, 77, 34, 74, 70, 40, 65, 42, 38, 46, 54, 83, 54, 19]\n",
      "[18, 18, 19, 18, 18, 19, 19, 18, 18, 18, 18, 19, 22, 19, 36, 27, 39, 18, 28, 24, 18, 18, 19, 30, 19, 45, 38, 24, 19, 62, 48, 43, 41, 43, 47, 43, 30, 51, 36, 30, 37, 55, 23, 32, 45, 27, 24, 39, 35, 19, 48, 83, 63, 58, 82, 60, 28, 42, 30, 79, 96, 79, 91, 59, 89, 72, 92, 96, 65, 49, 70, 68, 91, 68, 71, 63, 100, 42, 94, 49, 95, 65, 85, 92, 57, 41, 67, 77, 34, 74, 70, 40, 65, 42, 38, 46, 54, 83, 54, 19]\n",
      "[18, 18, 19, 18, 18, 19, 19, 18, 18, 18, 18, 19, 22, 19, 36, 27, 39, 18, 28, 24, 18, 18, 19, 30, 19, 45, 38, 24, 19, 62, 48, 43, 41, 43, 47, 43, 30, 51, 36, 30, 37, 55, 23, 32, 45, 27, 24, 39, 35, 19, 48, 83, 63, 58, 82, 60, 28, 42, 30, 79, 96, 79, 91, 59, 89, 72, 92, 96, 65, 49, 70, 68, 91, 68, 71, 63, 100, 42, 94, 49, 95, 65, 85, 92, 57, 41, 67, 77, 34, 74, 70, 40, 65, 42, 38, 46, 54, 83, 54, 19]\n",
      "[18, 18, 19, 18, 18, 19, 19, 18, 18, 18, 18, 19, 22, 19, 36, 27, 39, 18, 28, 24, 18, 18, 19, 30, 19, 45, 38, 24, 19, 62, 48, 43, 41, 43, 47, 43, 30, 51, 36, 30, 37, 55, 23, 32, 45, 27, 24, 39, 35, 19, 48, 83, 63, 58, 82, 60, 28, 42, 30, 79, 96, 79, 91, 59, 89, 72, 92, 96, 65, 49, 70, 68, 91, 68, 71, 63, 100, 42, 94, 49, 95, 65, 85, 92, 57, 41, 67, 77, 34, 74, 70, 40, 65, 42, 38, 46, 54, 83, 54, 19]\n",
      "[18, 18, 19, 18, 18, 19, 19, 18, 18, 18, 18, 19, 22, 19, 36, 27, 39, 18, 28, 24, 18, 18, 19, 30, 19, 45, 38, 24, 19, 62, 48, 43, 41, 43, 47, 43, 30, 51, 36, 30, 37, 55, 23, 32, 45, 27, 24, 39, 35, 19, 48, 83, 63, 58, 82, 60, 28, 42, 30, 79, 96, 79, 91, 59, 89, 72, 92, 96, 65, 49, 70, 68, 91, 68, 71, 63, 100, 42, 94, 49, 95, 65, 85, 92, 57, 41, 67, 77, 34, 74, 70, 40, 65, 42, 38, 46, 54, 83, 54, 19]\n",
      "[18, 18, 19, 18, 18, 19, 19, 18, 18, 18, 18, 19, 22, 19, 36, 27, 39, 18, 28, 24, 18, 18, 19, 30, 19, 45, 38, 24, 19, 62, 48, 43, 41, 43, 47, 43, 30, 51, 36, 30, 37, 55, 23, 32, 45, 27, 24, 39, 35, 19, 48, 83, 63, 58, 82, 60, 28, 42, 30, 79, 96, 79, 91, 59, 89, 72, 92, 96, 65, 49, 70, 68, 91, 68, 71, 63, 100, 42, 94, 49, 95, 65, 85, 92, 57, 41, 67, 77, 34, 74, 70, 40, 65, 42, 38, 46, 54, 83, 54, 19]\n",
      "[18, 18, 19, 18, 18, 19, 19, 18, 18, 18, 18, 19, 22, 19, 36, 27, 39, 18, 28, 24, 18, 18, 19, 30, 19, 45, 38, 24, 19, 62, 48, 43, 41, 43, 47, 43, 30, 51, 36, 30, 37, 55, 23, 32, 45, 27, 24, 39, 35, 19, 48, 83, 63, 58, 82, 60, 28, 42, 30, 79, 96, 79, 91, 59, 89, 72, 92, 96, 65, 49, 70, 68, 91, 68, 71, 63, 100, 42, 94, 49, 95, 65, 85, 92, 57, 41, 67, 77, 34, 74, 70, 40, 65, 42, 38, 46, 54, 83, 54, 19]\n",
      "[18, 18, 19, 18, 18, 19, 19, 18, 18, 18, 18, 19, 22, 19, 36, 27, 39, 18, 28, 24, 18, 18, 19, 30, 19, 45, 38, 24, 19, 62, 48, 43, 41, 43, 47, 43, 30, 51, 36, 30, 37, 55, 23, 32, 45, 27, 24, 39, 35, 19, 48, 83, 63, 58, 82, 60, 28, 42, 30, 79, 96, 79, 91, 59, 89, 72, 92, 96, 65, 49, 70, 68, 91, 68, 71, 63, 100, 42, 94, 49, 95, 65, 85, 92, 57, 41, 67, 77, 34, 74, 70, 40, 65, 42, 38, 46, 54, 83, 54, 19]\n",
      "[18, 18, 19, 18, 18, 19, 19, 18, 18, 18, 18, 19, 22, 19, 36, 27, 39, 18, 28, 24, 18, 18, 19, 30, 19, 45, 38, 24, 19, 62, 48, 43, 41, 43, 47, 43, 30, 51, 36, 30, 37, 55, 23, 32, 45, 27, 24, 39, 35, 19, 48, 83, 63, 58, 82, 60, 28, 42, 30, 79, 96, 79, 91, 59, 89, 72, 92, 96, 65, 49, 70, 68, 91, 68, 71, 63, 100, 42, 94, 49, 95, 65, 85, 92, 57, 41, 67, 77, 34, 74, 70, 40, 65, 42, 38, 46, 54, 83, 54, 19]\n",
      "[18, 18, 19, 18, 18, 19, 19, 18, 18, 18, 18, 19, 22, 19, 36, 27, 39, 18, 28, 24, 18, 18, 19, 30, 19, 45, 38, 24, 19, 62, 48, 43, 41, 43, 47, 43, 30, 51, 36, 30, 37, 55, 23, 32, 45, 27, 24, 39, 35, 19, 48, 83, 63, 58, 82, 60, 28, 42, 30, 79, 96, 79, 91, 59, 89, 72, 92, 96, 65, 49, 70, 68, 91, 68, 71, 63, 100, 42, 94, 49, 95, 65, 85, 92, 57, 41, 67, 77, 34, 74, 70, 40, 65, 42, 38, 46, 54, 83, 54, 19]\n",
      "[18, 18, 19, 18, 18, 19, 19, 18, 18, 18, 18, 19, 22, 19, 36, 27, 39, 18, 28, 24, 18, 18, 19, 30, 19, 45, 38, 24, 19, 62, 48, 43, 41, 43, 47, 43, 30, 51, 36, 30, 37, 55, 23, 32, 45, 27, 24, 39, 35, 19, 48, 83, 63, 58, 82, 60, 28, 42, 30, 79, 96, 79, 91, 59, 89, 72, 92, 96, 65, 49, 70, 68, 91, 68, 71, 63, 100, 42, 94, 49, 95, 65, 85, 92, 57, 41, 67, 77, 34, 74, 70, 40, 65, 42, 38, 46, 54, 83, 54, 19]\n",
      "[18, 18, 19, 18, 18, 19, 19, 18, 18, 18, 18, 19, 22, 19, 36, 27, 39, 18, 28, 24, 18, 18, 19, 30, 19, 45, 38, 24, 19, 62, 48, 43, 41, 43, 47, 43, 30, 51, 36, 30, 37, 55, 23, 32, 45, 27, 24, 39, 35, 19, 48, 83, 63, 58, 82, 60, 28, 42, 30, 79, 96, 79, 91, 59, 89, 72, 92, 96, 65, 49, 70, 68, 91, 68, 71, 63, 100, 42, 94, 49, 95, 65, 85, 92, 57, 41, 67, 77, 34, 74, 70, 40, 65, 42, 38, 46, 54, 83, 54, 19]\n",
      "[18, 18, 19, 18, 18, 19, 19, 18, 18, 18, 18, 19, 22, 19, 36, 27, 39, 18, 28, 24, 18, 18, 19, 30, 19, 45, 38, 24, 19, 62, 48, 43, 41, 43, 47, 43, 30, 51, 36, 30, 37, 55, 23, 32, 45, 27, 24, 39, 35, 19, 48, 83, 63, 58, 82, 60, 28, 42, 30, 79, 96, 79, 91, 59, 89, 72, 92, 96, 65, 49, 70, 68, 91, 68, 71, 63, 100, 42, 94, 49, 95, 65, 85, 92, 57, 41, 67, 77, 34, 74, 70, 40, 65, 42, 38, 46, 54, 83, 54, 19]\n",
      "[18, 18, 19, 18, 18, 19, 19, 18, 18, 18, 18, 19, 22, 19, 36, 27, 39, 18, 28, 24, 18, 18, 19, 30, 19, 45, 38, 24, 19, 62, 48, 43, 41, 43, 47, 43, 30, 51, 36, 30, 37, 55, 23, 32, 45, 27, 24, 39, 35, 19, 48, 83, 63, 58, 82, 60, 28, 42, 30, 79, 96, 79, 91, 59, 89, 72, 92, 96, 65, 49, 70, 68, 91, 68, 71, 63, 100, 42, 94, 49, 95, 65, 85, 92, 57, 41, 67, 77, 34, 74, 70, 40, 65, 42, 38, 46, 54, 83, 54, 19]\n",
      "[18, 18, 19, 18, 18, 19, 19, 18, 18, 18, 18, 19, 22, 19, 36, 27, 39, 18, 28, 24, 18, 18, 19, 30, 19, 45, 38, 24, 19, 62, 48, 43, 41, 43, 47, 43, 30, 51, 36, 30, 37, 55, 23, 32, 45, 27, 24, 39, 35, 19, 48, 83, 63, 58, 82, 60, 28, 42, 30, 79, 96, 79, 91, 59, 89, 72, 92, 96, 65, 49, 70, 68, 91, 68, 71, 63, 100, 42, 94, 49, 95, 65, 85, 92, 57, 41, 67, 77, 34, 74, 70, 40, 65, 42, 38, 46, 54, 83, 54, 19]\n",
      "[18, 18, 19, 18, 18, 19, 19, 18, 18, 18, 18, 19, 22, 19, 36, 27, 39, 18, 28, 24, 18, 18, 19, 30, 19, 45, 38, 24, 19, 62, 48, 43, 41, 43, 47, 43, 30, 51, 36, 30, 37, 55, 23, 32, 45, 27, 24, 39, 35, 19, 48, 83, 63, 58, 82, 60, 28, 42, 30, 79, 96, 79, 91, 59, 89, 72, 92, 96, 65, 49, 70, 68, 91, 68, 71, 63, 100, 42, 94, 49, 95, 65, 85, 92, 57, 41, 67, 77, 34, 74, 70, 40, 65, 42, 38, 46, 54, 83, 54, 19]\n",
      "[18, 18, 19, 18, 18, 19, 19, 18, 18, 18, 18, 19, 22, 19, 36, 27, 39, 18, 28, 24, 18, 18, 19, 30, 19, 45, 38, 24, 19, 62, 48, 43, 41, 43, 47, 43, 30, 51, 36, 30, 37, 55, 23, 32, 45, 27, 24, 39, 35, 19, 48, 83, 63, 58, 82, 60, 28, 42, 30, 79, 96, 79, 91, 59, 89, 72, 92, 96, 65, 49, 70, 68, 91, 68, 71, 63, 100, 42, 94, 49, 95, 65, 85, 92, 57, 41, 67, 77, 34, 74, 70, 40, 65, 42, 38, 46, 54, 83, 54, 19]\n",
      "[18, 18, 19, 18, 18, 19, 19, 18, 18, 18, 18, 19, 22, 19, 36, 27, 39, 18, 28, 24, 18, 18, 19, 30, 19, 45, 38, 24, 19, 62, 48, 43, 41, 43, 47, 43, 30, 51, 36, 30, 37, 55, 23, 32, 45, 27, 24, 39, 35, 19, 48, 83, 63, 58, 82, 60, 28, 42, 30, 79, 96, 79, 91, 59, 89, 72, 92, 96, 65, 49, 70, 68, 91, 68, 71, 63, 100, 42, 94, 49, 95, 65, 85, 92, 57, 41, 67, 77, 34, 74, 70, 40, 65, 42, 38, 46, 54, 83, 54, 19]\n",
      "[18, 18, 19, 18, 18, 19, 19, 18, 18, 18, 18, 19, 22, 19, 36, 27, 39, 18, 28, 24, 18, 18, 19, 30, 19, 45, 38, 24, 19, 62, 48, 43, 41, 43, 47, 43, 30, 51, 36, 30, 37, 55, 23, 32, 45, 27, 24, 39, 35, 19, 48, 83, 63, 58, 82, 60, 28, 42, 30, 79, 96, 79, 91, 59, 89, 72, 92, 96, 65, 49, 70, 68, 91, 68, 71, 63, 100, 42, 94, 49, 95, 65, 85, 92, 57, 41, 67, 77, 34, 74, 70, 40, 65, 42, 38, 46, 54, 83, 54, 19]\n",
      "[18, 18, 19, 18, 18, 19, 19, 18, 18, 18, 18, 19, 22, 19, 36, 27, 39, 18, 28, 24, 18, 18, 19, 30, 19, 45, 38, 24, 19, 62, 48, 43, 41, 43, 47, 43, 30, 51, 36, 30, 37, 55, 23, 32, 45, 27, 24, 39, 35, 19, 48, 83, 63, 58, 82, 60, 28, 42, 30, 79, 96, 79, 91, 59, 89, 72, 92, 96, 65, 49, 70, 68, 91, 68, 71, 63, 100, 42, 94, 49, 95, 65, 85, 92, 57, 41, 67, 77, 34, 74, 70, 40, 65, 42, 38, 46, 54, 83, 54, 19]\n",
      "[18, 18, 19, 18, 18, 19, 19, 18, 18, 18, 18, 19, 22, 19, 36, 27, 39, 18, 28, 24, 18, 18, 19, 30, 19, 45, 38, 24, 19, 62, 48, 43, 41, 43, 47, 43, 30, 51, 36, 30, 37, 55, 23, 32, 45, 27, 24, 39, 35, 19, 48, 83, 63, 58, 82, 60, 28, 42, 30, 79, 96, 79, 91, 59, 89, 72, 92, 96, 65, 49, 70, 68, 91, 68, 71, 63, 100, 42, 94, 49, 95, 65, 85, 92, 57, 41, 67, 77, 34, 74, 70, 40, 65, 42, 38, 46, 54, 83, 54, 19]\n",
      "[18, 18, 19, 18, 18, 19, 19, 18, 18, 18, 18, 19, 22, 19, 36, 27, 39, 18, 28, 24, 18, 18, 19, 30, 19, 45, 38, 24, 19, 62, 48, 43, 41, 43, 47, 43, 30, 51, 36, 30, 37, 55, 23, 32, 45, 27, 24, 39, 35, 19, 48, 83, 63, 58, 82, 60, 28, 42, 30, 79, 96, 79, 91, 59, 89, 72, 92, 96, 65, 49, 70, 68, 91, 68, 71, 63, 100, 42, 94, 49, 95, 65, 85, 92, 57, 41, 67, 77, 34, 74, 70, 40, 65, 42, 38, 46, 54, 83, 54, 19]\n",
      "[18, 18, 19, 18, 18, 19, 19, 18, 18, 18, 18, 19, 22, 19, 36, 27, 39, 18, 28, 24, 18, 18, 19, 30, 19, 45, 38, 24, 19, 62, 48, 43, 41, 43, 47, 43, 30, 51, 36, 30, 37, 55, 23, 32, 45, 27, 24, 39, 35, 19, 48, 83, 63, 58, 82, 60, 28, 42, 30, 79, 96, 79, 91, 59, 89, 72, 92, 96, 65, 49, 70, 68, 91, 68, 71, 63, 100, 42, 94, 49, 95, 65, 85, 92, 57, 41, 67, 77, 34, 74, 70, 40, 65, 42, 38, 46, 54, 83, 54, 19]\n",
      "[18, 18, 19, 18, 18, 19, 19, 18, 18, 18, 18, 19, 22, 19, 36, 27, 39, 18, 28, 24, 18, 18, 19, 30, 19, 45, 38, 24, 19, 62, 48, 43, 41, 43, 47, 43, 30, 51, 36, 30, 37, 55, 23, 32, 45, 27, 24, 39, 35, 19, 48, 83, 63, 58, 82, 60, 28, 42, 30, 79, 96, 79, 91, 59, 89, 72, 92, 96, 65, 49, 70, 68, 91, 68, 71, 63, 100, 42, 94, 49, 95, 65, 85, 92, 57, 41, 67, 77, 34, 74, 70, 40, 65, 42, 38, 46, 54, 83, 54, 19]\n",
      "[18, 18, 19, 18, 18, 19, 19, 18, 18, 18, 18, 19, 22, 19, 36, 27, 39, 18, 28, 24, 18, 18, 19, 30, 19, 45, 38, 24, 19, 62, 48, 43, 41, 43, 47, 43, 30, 51, 36, 30, 37, 55, 23, 32, 45, 27, 24, 39, 35, 19, 48, 83, 63, 58, 82, 60, 28, 42, 30, 79, 96, 79, 91, 59, 89, 72, 92, 96, 65, 49, 70, 68, 91, 68, 71, 63, 100, 42, 94, 49, 95, 65, 85, 92, 57, 41, 67, 77, 34, 74, 70, 40, 65, 42, 38, 46, 54, 83, 54, 19]\n",
      "[18, 18, 19, 18, 18, 19, 19, 18, 18, 18, 18, 19, 22, 19, 36, 27, 39, 18, 28, 24, 18, 18, 19, 30, 19, 45, 38, 24, 19, 62, 48, 43, 41, 43, 47, 43, 30, 51, 36, 30, 37, 55, 23, 32, 45, 27, 24, 39, 35, 19, 48, 83, 63, 58, 82, 60, 28, 42, 30, 79, 96, 79, 91, 59, 89, 72, 92, 96, 65, 49, 70, 68, 91, 68, 71, 63, 100, 42, 94, 49, 95, 65, 85, 92, 57, 41, 67, 77, 34, 74, 70, 40, 65, 42, 38, 46, 54, 83, 54, 19]\n",
      "[18, 18, 19, 18, 18, 19, 19, 18, 18, 18, 18, 19, 22, 19, 36, 27, 39, 18, 28, 24, 18, 18, 19, 30, 19, 45, 38, 24, 19, 62, 48, 43, 41, 43, 47, 43, 30, 51, 36, 30, 37, 55, 23, 32, 45, 27, 24, 39, 35, 19, 48, 83, 63, 58, 82, 60, 28, 42, 30, 79, 96, 79, 91, 59, 89, 72, 92, 96, 65, 49, 70, 68, 91, 68, 71, 63, 100, 42, 94, 49, 95, 65, 85, 92, 57, 41, 67, 77, 34, 74, 70, 40, 65, 42, 38, 46, 54, 83, 54, 19]\n",
      "[18, 18, 19, 18, 18, 19, 19, 18, 18, 18, 18, 19, 22, 19, 36, 27, 39, 18, 28, 24, 18, 18, 19, 30, 19, 45, 38, 24, 19, 62, 48, 43, 41, 43, 47, 43, 30, 51, 36, 30, 37, 55, 23, 32, 45, 27, 24, 39, 35, 19, 48, 83, 63, 58, 82, 60, 28, 42, 30, 79, 96, 79, 91, 59, 89, 72, 92, 96, 65, 49, 70, 68, 91, 68, 71, 63, 100, 42, 94, 49, 95, 65, 85, 92, 57, 41, 67, 77, 34, 74, 70, 40, 65, 42, 38, 46, 54, 83, 54, 19]\n",
      "[18, 18, 19, 18, 18, 19, 19, 18, 18, 18, 18, 19, 22, 19, 36, 27, 39, 18, 28, 24, 18, 18, 19, 30, 19, 45, 38, 24, 19, 62, 48, 43, 41, 43, 47, 43, 30, 51, 36, 30, 37, 55, 23, 32, 45, 27, 24, 39, 35, 19, 48, 83, 63, 58, 82, 60, 28, 42, 30, 79, 96, 79, 91, 59, 89, 72, 92, 96, 65, 49, 70, 68, 91, 68, 71, 63, 100, 42, 94, 49, 95, 65, 85, 92, 57, 41, 67, 77, 34, 74, 70, 40, 65, 42, 38, 46, 54, 83, 54, 19]\n",
      "[18, 18, 19, 18, 18, 19, 19, 18, 18, 18, 18, 19, 22, 19, 36, 27, 39, 18, 28, 24, 18, 18, 19, 30, 19, 45, 38, 24, 19, 62, 48, 43, 41, 43, 47, 43, 30, 51, 36, 30, 37, 55, 23, 32, 45, 27, 24, 39, 35, 19, 48, 83, 63, 58, 82, 60, 28, 42, 30, 79, 96, 79, 91, 59, 89, 72, 92, 96, 65, 49, 70, 68, 91, 68, 71, 63, 100, 42, 94, 49, 95, 65, 85, 92, 57, 41, 67, 77, 34, 74, 70, 40, 65, 42, 38, 46, 54, 83, 54, 19]\n",
      "[18, 18, 19, 18, 18, 19, 19, 18, 18, 18, 18, 19, 22, 19, 36, 27, 39, 18, 28, 24, 18, 18, 19, 30, 19, 45, 38, 24, 19, 62, 48, 43, 41, 43, 47, 43, 30, 51, 36, 30, 37, 55, 23, 32, 45, 27, 24, 39, 35, 19, 48, 83, 63, 58, 82, 60, 28, 42, 30, 79, 96, 79, 91, 59, 89, 72, 92, 96, 65, 49, 70, 68, 91, 68, 71, 63, 100, 42, 94, 49, 95, 65, 85, 92, 57, 41, 67, 77, 34, 74, 70, 40, 65, 42, 38, 46, 54, 83, 54, 19]\n",
      "[18, 18, 19, 18, 18, 19, 19, 18, 18, 18, 18, 19, 22, 19, 36, 27, 39, 18, 28, 24, 18, 18, 19, 30, 19, 45, 38, 24, 19, 62, 48, 43, 41, 43, 47, 43, 30, 51, 36, 30, 37, 55, 23, 32, 45, 27, 24, 39, 35, 19, 48, 83, 63, 58, 82, 60, 28, 42, 30, 79, 96, 79, 91, 59, 89, 72, 92, 96, 65, 49, 70, 68, 91, 68, 71, 63, 100, 42, 94, 49, 95, 65, 85, 92, 57, 41, 67, 77, 34, 74, 70, 40, 65, 42, 38, 46, 54, 83, 54, 19]\n",
      "[18, 18, 19, 18, 18, 19, 19, 18, 18, 18, 18, 19, 22, 19, 36, 27, 39, 18, 28, 24, 18, 18, 19, 30, 19, 45, 38, 24, 19, 62, 48, 43, 41, 43, 47, 43, 30, 51, 36, 30, 37, 55, 23, 32, 45, 27, 24, 39, 35, 19, 48, 83, 63, 58, 82, 60, 28, 42, 30, 79, 96, 79, 91, 59, 89, 72, 92, 96, 65, 49, 70, 68, 91, 68, 71, 63, 100, 42, 94, 49, 95, 65, 85, 92, 57, 41, 67, 77, 34, 74, 70, 40, 65, 42, 38, 46, 54, 83, 54, 19]\n",
      "[18, 18, 19, 18, 18, 19, 19, 18, 18, 18, 18, 19, 22, 19, 36, 27, 39, 18, 28, 24, 18, 18, 19, 30, 19, 45, 38, 24, 19, 62, 48, 43, 41, 43, 47, 43, 30, 51, 36, 30, 37, 55, 23, 32, 45, 27, 24, 39, 35, 19, 48, 83, 63, 58, 82, 60, 28, 42, 30, 79, 96, 79, 91, 59, 89, 72, 92, 96, 65, 49, 70, 68, 91, 68, 71, 63, 100, 42, 94, 49, 95, 65, 85, 92, 57, 41, 67, 77, 34, 74, 70, 40, 65, 42, 38, 46, 54, 83, 54, 19]\n",
      "[18, 18, 19, 18, 18, 19, 19, 18, 18, 18, 18, 19, 22, 19, 36, 27, 39, 18, 28, 24, 18, 18, 19, 30, 19, 45, 38, 24, 19, 62, 48, 43, 41, 43, 47, 43, 30, 51, 36, 30, 37, 55, 23, 32, 45, 27, 24, 39, 35, 19, 48, 83, 63, 58, 82, 60, 28, 42, 30, 79, 96, 79, 91, 59, 89, 72, 92, 96, 65, 49, 70, 68, 91, 68, 71, 63, 100, 42, 94, 49, 95, 65, 85, 92, 57, 41, 67, 77, 34, 74, 70, 40, 65, 42, 38, 46, 54, 83, 54, 19]\n",
      "[18, 18, 19, 18, 18, 19, 19, 18, 18, 18, 18, 19, 22, 19, 36, 27, 39, 18, 28, 24, 18, 18, 19, 30, 19, 45, 38, 24, 19, 62, 48, 43, 41, 43, 47, 43, 30, 51, 36, 30, 37, 55, 23, 32, 45, 27, 24, 39, 35, 19, 48, 83, 63, 58, 82, 60, 28, 42, 30, 79, 96, 79, 91, 59, 89, 72, 92, 96, 65, 49, 70, 68, 91, 68, 71, 63, 100, 42, 94, 49, 95, 65, 85, 92, 57, 41, 67, 77, 34, 74, 70, 40, 65, 42, 38, 46, 54, 83, 54, 19]\n",
      "[18, 18, 19, 18, 18, 19, 19, 18, 18, 18, 18, 19, 22, 19, 36, 27, 39, 18, 28, 24, 18, 18, 19, 30, 19, 45, 38, 24, 19, 62, 48, 43, 41, 43, 47, 43, 30, 51, 36, 30, 37, 55, 23, 32, 45, 27, 24, 39, 35, 19, 48, 83, 63, 58, 82, 60, 28, 42, 30, 79, 96, 79, 91, 59, 89, 72, 92, 96, 65, 49, 70, 68, 91, 68, 71, 63, 100, 42, 94, 49, 95, 65, 85, 92, 57, 41, 67, 77, 34, 74, 70, 40, 65, 42, 38, 46, 54, 83, 54, 19]\n",
      "[18, 18, 19, 18, 18, 19, 19, 18, 18, 18, 18, 19, 22, 19, 36, 27, 39, 18, 28, 24, 18, 18, 19, 30, 19, 45, 38, 24, 19, 62, 48, 43, 41, 43, 47, 43, 30, 51, 36, 30, 37, 55, 23, 32, 45, 27, 24, 39, 35, 19, 48, 83, 63, 58, 82, 60, 28, 42, 30, 79, 96, 79, 91, 59, 89, 72, 92, 96, 65, 49, 70, 68, 91, 68, 71, 63, 100, 42, 94, 49, 95, 65, 85, 92, 57, 41, 67, 77, 34, 74, 70, 40, 65, 42, 38, 46, 54, 83, 54, 19]\n",
      "[18, 18, 19, 18, 18, 19, 19, 18, 18, 18, 18, 19, 22, 19, 36, 27, 39, 18, 28, 24, 18, 18, 19, 30, 19, 45, 38, 24, 19, 62, 48, 43, 41, 43, 47, 43, 30, 51, 36, 30, 37, 55, 23, 32, 45, 27, 24, 39, 35, 19, 48, 83, 63, 58, 82, 60, 28, 42, 30, 79, 96, 79, 91, 59, 89, 72, 92, 96, 65, 49, 70, 68, 91, 68, 71, 63, 100, 42, 94, 49, 95, 65, 85, 92, 57, 41, 67, 77, 34, 74, 70, 40, 65, 42, 38, 46, 54, 83, 54, 19]\n",
      "[18, 18, 19, 18, 18, 19, 19, 18, 18, 18, 18, 19, 22, 19, 36, 27, 39, 18, 28, 24, 18, 18, 19, 30, 19, 45, 38, 24, 19, 62, 48, 43, 41, 43, 47, 43, 30, 51, 36, 30, 37, 55, 23, 32, 45, 27, 24, 39, 35, 19, 48, 83, 63, 58, 82, 60, 28, 42, 30, 79, 96, 79, 91, 59, 89, 72, 92, 96, 65, 49, 70, 68, 91, 68, 71, 63, 100, 42, 94, 49, 95, 65, 85, 92, 57, 41, 67, 77, 34, 74, 70, 40, 65, 42, 38, 46, 54, 83, 54, 19]\n",
      "[18, 18, 19, 18, 18, 19, 19, 18, 18, 18, 18, 19, 22, 19, 36, 27, 39, 18, 28, 24, 18, 18, 19, 30, 19, 45, 38, 24, 19, 62, 48, 43, 41, 43, 47, 43, 30, 51, 36, 30, 37, 55, 23, 32, 45, 27, 24, 39, 35, 19, 48, 83, 63, 58, 82, 60, 28, 42, 30, 79, 96, 79, 91, 59, 89, 72, 92, 96, 65, 49, 70, 68, 91, 68, 71, 63, 100, 42, 94, 49, 95, 65, 85, 92, 57, 41, 67, 77, 34, 74, 70, 40, 65, 42, 38, 46, 54, 83, 54, 19]\n",
      "[18, 18, 19, 18, 18, 19, 19, 18, 18, 18, 18, 19, 22, 19, 36, 27, 39, 18, 28, 24, 18, 18, 19, 30, 19, 45, 38, 24, 19, 62, 48, 43, 41, 43, 47, 43, 30, 51, 36, 30, 37, 55, 23, 32, 45, 27, 24, 39, 35, 19, 48, 83, 63, 58, 82, 60, 28, 42, 30, 79, 96, 79, 91, 59, 89, 72, 92, 96, 65, 49, 70, 68, 91, 68, 71, 63, 100, 42, 94, 49, 95, 65, 85, 92, 57, 41, 67, 77, 34, 74, 70, 40, 65, 42, 38, 46, 54, 83, 54, 19]\n",
      "[18, 18, 19, 18, 18, 19, 19, 18, 18, 18, 18, 19, 22, 19, 36, 27, 39, 18, 28, 24, 18, 18, 19, 30, 19, 45, 38, 24, 19, 62, 48, 43, 41, 43, 47, 43, 30, 51, 36, 30, 37, 55, 23, 32, 45, 27, 24, 39, 35, 19, 48, 83, 63, 58, 82, 60, 28, 42, 30, 79, 96, 79, 91, 59, 89, 72, 92, 96, 65, 49, 70, 68, 91, 68, 71, 63, 100, 42, 94, 49, 95, 65, 85, 92, 57, 41, 67, 77, 34, 74, 70, 40, 65, 42, 38, 46, 54, 83, 54, 19]\n",
      "[18, 18, 19, 18, 18, 19, 19, 18, 18, 18, 18, 19, 22, 19, 36, 27, 39, 18, 28, 24, 18, 18, 19, 30, 19, 45, 38, 24, 19, 62, 48, 43, 41, 43, 47, 43, 30, 51, 36, 30, 37, 55, 23, 32, 45, 27, 24, 39, 35, 19, 48, 83, 63, 58, 82, 60, 28, 42, 30, 79, 96, 79, 91, 59, 89, 72, 92, 96, 65, 49, 70, 68, 91, 68, 71, 63, 100, 42, 94, 49, 95, 65, 85, 92, 57, 41, 67, 77, 34, 74, 70, 40, 65, 42, 38, 46, 54, 83, 54, 19]\n",
      "[18, 18, 19, 18, 18, 19, 19, 18, 18, 18, 18, 19, 22, 19, 36, 27, 39, 18, 28, 24, 18, 18, 19, 30, 19, 45, 38, 24, 19, 62, 48, 43, 41, 43, 47, 43, 30, 51, 36, 30, 37, 55, 23, 32, 45, 27, 24, 39, 35, 19, 48, 83, 63, 58, 82, 60, 28, 42, 30, 79, 96, 79, 91, 59, 89, 72, 92, 96, 65, 49, 70, 68, 91, 68, 71, 63, 100, 42, 94, 49, 95, 65, 85, 92, 57, 41, 67, 77, 34, 74, 70, 40, 65, 42, 38, 46, 54, 83, 54, 19]\n",
      "[18, 18, 19, 18, 18, 19, 19, 18, 18, 18, 18, 19, 22, 19, 36, 27, 39, 18, 28, 24, 18, 18, 19, 30, 19, 45, 38, 24, 19, 62, 48, 43, 41, 43, 47, 43, 30, 51, 36, 30, 37, 55, 23, 32, 45, 27, 24, 39, 35, 19, 48, 83, 63, 58, 82, 60, 28, 42, 30, 79, 96, 79, 91, 59, 89, 72, 92, 96, 65, 49, 70, 68, 91, 68, 71, 63, 100, 42, 94, 49, 95, 65, 85, 92, 57, 41, 67, 77, 34, 74, 70, 40, 65, 42, 38, 46, 54, 83, 54, 19]\n",
      "[18, 18, 19, 18, 18, 19, 19, 18, 18, 18, 18, 19, 22, 19, 36, 27, 39, 18, 28, 24, 18, 18, 19, 30, 19, 45, 38, 24, 19, 62, 48, 43, 41, 43, 47, 43, 30, 51, 36, 30, 37, 55, 23, 32, 45, 27, 24, 39, 35, 19, 48, 83, 63, 58, 82, 60, 28, 42, 30, 79, 96, 79, 91, 59, 89, 72, 92, 96, 65, 49, 70, 68, 91, 68, 71, 63, 100, 42, 94, 49, 95, 65, 85, 92, 57, 41, 67, 77, 34, 74, 70, 40, 65, 42, 38, 46, 54, 83, 54, 19]\n",
      "[18, 18, 19, 18, 18, 19, 19, 18, 18, 18, 18, 19, 22, 19, 36, 27, 39, 18, 28, 24, 18, 18, 19, 30, 19, 45, 38, 24, 19, 62, 48, 43, 41, 43, 47, 43, 30, 51, 36, 30, 37, 55, 23, 32, 45, 27, 24, 39, 35, 19, 48, 83, 63, 58, 82, 60, 28, 42, 30, 79, 96, 79, 91, 59, 89, 72, 92, 96, 65, 49, 70, 68, 91, 68, 71, 63, 100, 42, 94, 49, 95, 65, 85, 92, 57, 41, 67, 77, 34, 74, 70, 40, 65, 42, 38, 46, 54, 83, 54, 19]\n",
      "[18, 18, 19, 18, 18, 19, 19, 18, 18, 18, 18, 19, 22, 19, 36, 27, 39, 18, 28, 24, 18, 18, 19, 30, 19, 45, 38, 24, 19, 62, 48, 43, 41, 43, 47, 43, 30, 51, 36, 30, 37, 55, 23, 32, 45, 27, 24, 39, 35, 19, 48, 83, 63, 58, 82, 60, 28, 42, 30, 79, 96, 79, 91, 59, 89, 72, 92, 96, 65, 49, 70, 68, 91, 68, 71, 63, 100, 42, 94, 49, 95, 65, 85, 92, 57, 41, 67, 77, 34, 74, 70, 40, 65, 42, 38, 46, 54, 83, 54, 19]\n",
      "[18, 18, 19, 18, 18, 19, 19, 18, 18, 18, 18, 19, 22, 19, 36, 27, 39, 18, 28, 24, 18, 18, 19, 30, 19, 45, 38, 24, 19, 62, 48, 43, 41, 43, 47, 43, 30, 51, 36, 30, 37, 55, 23, 32, 45, 27, 24, 39, 35, 19, 48, 83, 63, 58, 82, 60, 28, 42, 30, 79, 96, 79, 91, 59, 89, 72, 92, 96, 65, 49, 70, 68, 91, 68, 71, 63, 100, 42, 94, 49, 95, 65, 85, 92, 57, 41, 67, 77, 34, 74, 70, 40, 65, 42, 38, 46, 54, 83, 54, 19]\n",
      "[18, 18, 19, 18, 18, 19, 19, 18, 18, 18, 18, 19, 22, 19, 36, 27, 39, 18, 28, 24, 18, 18, 19, 30, 19, 45, 38, 24, 19, 62, 48, 43, 41, 43, 47, 43, 30, 51, 36, 30, 37, 55, 23, 32, 45, 27, 24, 39, 35, 19, 48, 83, 63, 58, 82, 60, 28, 42, 30, 79, 96, 79, 91, 59, 89, 72, 92, 96, 65, 49, 70, 68, 91, 68, 71, 63, 100, 42, 94, 49, 95, 65, 85, 92, 57, 41, 67, 77, 34, 74, 70, 40, 65, 42, 38, 46, 54, 83, 54, 19]\n",
      "[18, 18, 19, 18, 18, 19, 19, 18, 18, 18, 18, 19, 22, 19, 36, 27, 39, 18, 28, 24, 18, 18, 19, 30, 19, 45, 38, 24, 19, 62, 48, 43, 41, 43, 47, 43, 30, 51, 36, 30, 37, 55, 23, 32, 45, 27, 24, 39, 35, 19, 48, 83, 63, 58, 82, 60, 28, 42, 30, 79, 96, 79, 91, 59, 89, 72, 92, 96, 65, 49, 70, 68, 91, 68, 71, 63, 100, 42, 94, 49, 95, 65, 85, 92, 57, 41, 67, 77, 34, 74, 70, 40, 65, 42, 38, 46, 54, 83, 54, 19]\n",
      "[18, 18, 19, 18, 18, 19, 19, 18, 18, 18, 18, 19, 22, 19, 36, 27, 39, 18, 28, 24, 18, 18, 19, 30, 19, 45, 38, 24, 19, 62, 48, 43, 41, 43, 47, 43, 30, 51, 36, 30, 37, 55, 23, 32, 45, 27, 24, 39, 35, 19, 48, 83, 63, 58, 82, 60, 28, 42, 30, 79, 96, 79, 91, 59, 89, 72, 92, 96, 65, 49, 70, 68, 91, 68, 71, 63, 100, 42, 94, 49, 95, 65, 85, 92, 57, 41, 67, 77, 34, 74, 70, 40, 65, 42, 38, 46, 54, 83, 54, 19]\n",
      "[18, 18, 19, 18, 18, 19, 19, 18, 18, 18, 18, 19, 22, 19, 36, 27, 39, 18, 28, 24, 18, 18, 19, 30, 19, 45, 38, 24, 19, 62, 48, 43, 41, 43, 47, 43, 30, 51, 36, 30, 37, 55, 23, 32, 45, 27, 24, 39, 35, 19, 48, 83, 63, 58, 82, 60, 28, 42, 30, 79, 96, 79, 91, 59, 89, 72, 92, 96, 65, 49, 70, 68, 91, 68, 71, 63, 100, 42, 94, 49, 95, 65, 85, 92, 57, 41, 67, 77, 34, 74, 70, 40, 65, 42, 38, 46, 54, 83, 54, 19]\n",
      "[18, 18, 19, 18, 18, 19, 19, 18, 18, 18, 18, 19, 22, 19, 36, 27, 39, 18, 28, 24, 18, 18, 19, 30, 19, 45, 38, 24, 19, 62, 48, 43, 41, 43, 47, 43, 30, 51, 36, 30, 37, 55, 23, 32, 45, 27, 24, 39, 35, 19, 48, 83, 63, 58, 82, 60, 28, 42, 30, 79, 96, 79, 91, 59, 89, 72, 92, 96, 65, 49, 70, 68, 91, 68, 71, 63, 100, 42, 94, 49, 95, 65, 85, 92, 57, 41, 67, 77, 34, 74, 70, 40, 65, 42, 38, 46, 54, 83, 54, 19]\n",
      "[18, 18, 19, 18, 18, 19, 19, 18, 18, 18, 18, 19, 22, 19, 36, 27, 39, 18, 28, 24, 18, 18, 19, 30, 19, 45, 38, 24, 19, 62, 48, 43, 41, 43, 47, 43, 30, 51, 36, 30, 37, 55, 23, 32, 45, 27, 24, 39, 35, 19, 48, 83, 63, 58, 82, 60, 28, 42, 30, 79, 96, 79, 91, 59, 89, 72, 92, 96, 65, 49, 70, 68, 91, 68, 71, 63, 100, 42, 94, 49, 95, 65, 85, 92, 57, 41, 67, 77, 34, 74, 70, 40, 65, 42, 38, 46, 54, 83, 54, 19]\n",
      "[18, 18, 19, 18, 18, 19, 19, 18, 18, 18, 18, 19, 22, 19, 36, 27, 39, 18, 28, 24, 18, 18, 19, 30, 19, 45, 38, 24, 19, 62, 48, 43, 41, 43, 47, 43, 30, 51, 36, 30, 37, 55, 23, 32, 45, 27, 24, 39, 35, 19, 48, 83, 63, 58, 82, 60, 28, 42, 30, 79, 96, 79, 91, 59, 89, 72, 92, 96, 65, 49, 70, 68, 91, 68, 71, 63, 100, 42, 94, 49, 95, 65, 85, 92, 57, 41, 67, 77, 34, 74, 70, 40, 65, 42, 38, 46, 54, 83, 54, 19]\n",
      "[18, 18, 19, 18, 18, 19, 19, 18, 18, 18, 18, 19, 22, 19, 36, 27, 39, 18, 28, 24, 18, 18, 19, 30, 19, 45, 38, 24, 19, 62, 48, 43, 41, 43, 47, 43, 30, 51, 36, 30, 37, 55, 23, 32, 45, 27, 24, 39, 35, 19, 48, 83, 63, 58, 82, 60, 28, 42, 30, 79, 96, 79, 91, 59, 89, 72, 92, 96, 65, 49, 70, 68, 91, 68, 71, 63, 100, 42, 94, 49, 95, 65, 85, 92, 57, 41, 67, 77, 34, 74, 70, 40, 65, 42, 38, 46, 54, 83, 54, 19]\n",
      "[18, 18, 19, 18, 18, 19, 19, 18, 18, 18, 18, 19, 22, 19, 36, 27, 39, 18, 28, 24, 18, 18, 19, 30, 19, 45, 38, 24, 19, 62, 48, 43, 41, 43, 47, 43, 30, 51, 36, 30, 37, 55, 23, 32, 45, 27, 24, 39, 35, 19, 48, 83, 63, 58, 82, 60, 28, 42, 30, 79, 96, 79, 91, 59, 89, 72, 92, 96, 65, 49, 70, 68, 91, 68, 71, 63, 100, 42, 94, 49, 95, 65, 85, 92, 57, 41, 67, 77, 34, 74, 70, 40, 65, 42, 38, 46, 54, 83, 54, 19]\n",
      "[18, 18, 19, 18, 18, 19, 19, 18, 18, 18, 18, 19, 22, 19, 36, 27, 39, 18, 28, 24, 18, 18, 19, 30, 19, 45, 38, 24, 19, 62, 48, 43, 41, 43, 47, 43, 30, 51, 36, 30, 37, 55, 23, 32, 45, 27, 24, 39, 35, 19, 48, 83, 63, 58, 82, 60, 28, 42, 30, 79, 96, 79, 91, 59, 89, 72, 92, 96, 65, 49, 70, 68, 91, 68, 71, 63, 100, 42, 94, 49, 95, 65, 85, 92, 57, 41, 67, 77, 34, 74, 70, 40, 65, 42, 38, 46, 54, 83, 54, 19]\n",
      "[18, 18, 19, 18, 18, 19, 19, 18, 18, 18, 18, 19, 22, 19, 36, 27, 39, 18, 28, 24, 18, 18, 19, 30, 19, 45, 38, 24, 19, 62, 48, 43, 41, 43, 47, 43, 30, 51, 36, 30, 37, 55, 23, 32, 45, 27, 24, 39, 35, 19, 48, 83, 63, 58, 82, 60, 28, 42, 30, 79, 96, 79, 91, 59, 89, 72, 92, 96, 65, 49, 70, 68, 91, 68, 71, 63, 100, 42, 94, 49, 95, 65, 85, 92, 57, 41, 67, 77, 34, 74, 70, 40, 65, 42, 38, 46, 54, 83, 54, 19]\n",
      "[18, 18, 19, 18, 18, 19, 19, 18, 18, 18, 18, 19, 22, 19, 36, 27, 39, 18, 28, 24, 18, 18, 19, 30, 19, 45, 38, 24, 19, 62, 48, 43, 41, 43, 47, 43, 30, 51, 36, 30, 37, 55, 23, 32, 45, 27, 24, 39, 35, 19, 48, 83, 63, 58, 82, 60, 28, 42, 30, 79, 96, 79, 91, 59, 89, 72, 92, 96, 65, 49, 70, 68, 91, 68, 71, 63, 100, 42, 94, 49, 95, 65, 85, 92, 57, 41, 67, 77, 34, 74, 70, 40, 65, 42, 38, 46, 54, 83, 54, 19]\n",
      "[18, 18, 19, 18, 18, 19, 19, 18, 18, 18, 18, 19, 22, 19, 36, 27, 39, 18, 28, 24, 18, 18, 19, 30, 19, 45, 38, 24, 19, 62, 48, 43, 41, 43, 47, 43, 30, 51, 36, 30, 37, 55, 23, 32, 45, 27, 24, 39, 35, 19, 48, 83, 63, 58, 82, 60, 28, 42, 30, 79, 96, 79, 91, 59, 89, 72, 92, 96, 65, 49, 70, 68, 91, 68, 71, 63, 100, 42, 94, 49, 95, 65, 85, 92, 57, 41, 67, 77, 34, 74, 70, 40, 65, 42, 38, 46, 54, 83, 54, 19]\n",
      "[18, 18, 19, 18, 18, 19, 19, 18, 18, 18, 18, 19, 22, 19, 36, 27, 39, 18, 28, 24, 18, 18, 19, 30, 19, 45, 38, 24, 19, 62, 48, 43, 41, 43, 47, 43, 30, 51, 36, 30, 37, 55, 23, 32, 45, 27, 24, 39, 35, 19, 48, 83, 63, 58, 82, 60, 28, 42, 30, 79, 96, 79, 91, 59, 89, 72, 92, 96, 65, 49, 70, 68, 91, 68, 71, 63, 100, 42, 94, 49, 95, 65, 85, 92, 57, 41, 67, 77, 34, 74, 70, 40, 65, 42, 38, 46, 54, 83, 54, 19]\n",
      "[18, 18, 19, 18, 18, 19, 19, 18, 18, 18, 18, 19, 22, 19, 36, 27, 39, 18, 28, 24, 18, 18, 19, 30, 19, 45, 38, 24, 19, 62, 48, 43, 41, 43, 47, 43, 30, 51, 36, 30, 37, 55, 23, 32, 45, 27, 24, 39, 35, 19, 48, 83, 63, 58, 82, 60, 28, 42, 30, 79, 96, 79, 91, 59, 89, 72, 92, 96, 65, 49, 70, 68, 91, 68, 71, 63, 100, 42, 94, 49, 95, 65, 85, 92, 57, 41, 67, 77, 34, 74, 70, 40, 65, 42, 38, 46, 54, 83, 54, 19]\n",
      "[18, 18, 19, 18, 18, 19, 19, 18, 18, 18, 18, 19, 22, 19, 36, 27, 39, 18, 28, 24, 18, 18, 19, 30, 19, 45, 38, 24, 19, 62, 48, 43, 41, 43, 47, 43, 30, 51, 36, 30, 37, 55, 23, 32, 45, 27, 24, 39, 35, 19, 48, 83, 63, 58, 82, 60, 28, 42, 30, 79, 96, 79, 91, 59, 89, 72, 92, 96, 65, 49, 70, 68, 91, 68, 71, 63, 100, 42, 94, 49, 95, 65, 85, 92, 57, 41, 67, 77, 34, 74, 70, 40, 65, 42, 38, 46, 54, 83, 54, 19]\n",
      "[18, 18, 19, 18, 18, 19, 19, 18, 18, 18, 18, 19, 22, 19, 36, 27, 39, 18, 28, 24, 18, 18, 19, 30, 19, 45, 38, 24, 19, 62, 48, 43, 41, 43, 47, 43, 30, 51, 36, 30, 37, 55, 23, 32, 45, 27, 24, 39, 35, 19, 48, 83, 63, 58, 82, 60, 28, 42, 30, 79, 96, 79, 91, 59, 89, 72, 92, 96, 65, 49, 70, 68, 91, 68, 71, 63, 100, 42, 94, 49, 95, 65, 85, 92, 57, 41, 67, 77, 34, 74, 70, 40, 65, 42, 38, 46, 54, 83, 54, 19]\n",
      "[18, 18, 19, 18, 18, 19, 19, 18, 18, 18, 18, 19, 22, 19, 36, 27, 39, 18, 28, 24, 18, 18, 19, 30, 19, 45, 38, 24, 19, 62, 48, 43, 41, 43, 47, 43, 30, 51, 36, 30, 37, 55, 23, 32, 45, 27, 24, 39, 35, 19, 48, 83, 63, 58, 82, 60, 28, 42, 30, 79, 96, 79, 91, 59, 89, 72, 92, 96, 65, 49, 70, 68, 91, 68, 71, 63, 100, 42, 94, 49, 95, 65, 85, 92, 57, 41, 67, 77, 34, 74, 70, 40, 65, 42, 38, 46, 54, 83, 54, 19]\n",
      "[18, 18, 19, 18, 18, 19, 19, 18, 18, 18, 18, 19, 22, 19, 36, 27, 39, 18, 28, 24, 18, 18, 19, 30, 19, 45, 38, 24, 19, 62, 48, 43, 41, 43, 47, 43, 30, 51, 36, 30, 37, 55, 23, 32, 45, 27, 24, 39, 35, 19, 48, 83, 63, 58, 82, 60, 28, 42, 30, 79, 96, 79, 91, 59, 89, 72, 92, 96, 65, 49, 70, 68, 91, 68, 71, 63, 100, 42, 94, 49, 95, 65, 85, 92, 57, 41, 67, 77, 34, 74, 70, 40, 65, 42, 38, 46, 54, 83, 54, 19]\n",
      "[18, 18, 19, 18, 18, 19, 19, 18, 18, 18, 18, 19, 22, 19, 36, 27, 39, 18, 28, 24, 18, 18, 19, 30, 19, 45, 38, 24, 19, 62, 48, 43, 41, 43, 47, 43, 30, 51, 36, 30, 37, 55, 23, 32, 45, 27, 24, 39, 35, 19, 48, 83, 63, 58, 82, 60, 28, 42, 30, 79, 96, 79, 91, 59, 89, 72, 92, 96, 65, 49, 70, 68, 91, 68, 71, 63, 100, 42, 94, 49, 95, 65, 85, 92, 57, 41, 67, 77, 34, 74, 70, 40, 65, 42, 38, 46, 54, 83, 54, 19]\n",
      "[18, 18, 19, 18, 18, 19, 19, 18, 18, 18, 18, 19, 22, 19, 36, 27, 39, 18, 28, 24, 18, 18, 19, 30, 19, 45, 38, 24, 19, 62, 48, 43, 41, 43, 47, 43, 30, 51, 36, 30, 37, 55, 23, 32, 45, 27, 24, 39, 35, 19, 48, 83, 63, 58, 82, 60, 28, 42, 30, 79, 96, 79, 91, 59, 89, 72, 92, 96, 65, 49, 70, 68, 91, 68, 71, 63, 100, 42, 94, 49, 95, 65, 85, 92, 57, 41, 67, 77, 34, 74, 70, 40, 65, 42, 38, 46, 54, 83, 54, 19]\n",
      "[18, 18, 19, 18, 18, 19, 19, 18, 18, 18, 18, 19, 22, 19, 36, 27, 39, 18, 28, 24, 18, 18, 19, 30, 19, 45, 38, 24, 19, 62, 48, 43, 41, 43, 47, 43, 30, 51, 36, 30, 37, 55, 23, 32, 45, 27, 24, 39, 35, 19, 48, 83, 63, 58, 82, 60, 28, 42, 30, 79, 96, 79, 91, 59, 89, 72, 92, 96, 65, 49, 70, 68, 91, 68, 71, 63, 100, 42, 94, 49, 95, 65, 85, 92, 57, 41, 67, 77, 34, 74, 70, 40, 65, 42, 38, 46, 54, 83, 54, 19]\n",
      "[18, 18, 19, 18, 18, 19, 19, 18, 18, 18, 18, 19, 22, 19, 36, 27, 39, 18, 28, 24, 18, 18, 19, 30, 19, 45, 38, 24, 19, 62, 48, 43, 41, 43, 47, 43, 30, 51, 36, 30, 37, 55, 23, 32, 45, 27, 24, 39, 35, 19, 48, 83, 63, 58, 82, 60, 28, 42, 30, 79, 96, 79, 91, 59, 89, 72, 92, 96, 65, 49, 70, 68, 91, 68, 71, 63, 100, 42, 94, 49, 95, 65, 85, 92, 57, 41, 67, 77, 34, 74, 70, 40, 65, 42, 38, 46, 54, 83, 54, 19]\n",
      "[18, 18, 19, 18, 18, 19, 19, 18, 18, 18, 18, 19, 22, 19, 36, 27, 39, 18, 28, 24, 18, 18, 19, 30, 19, 45, 38, 24, 19, 62, 48, 43, 41, 43, 47, 43, 30, 51, 36, 30, 37, 55, 23, 32, 45, 27, 24, 39, 35, 19, 48, 83, 63, 58, 82, 60, 28, 42, 30, 79, 96, 79, 91, 59, 89, 72, 92, 96, 65, 49, 70, 68, 91, 68, 71, 63, 100, 42, 94, 49, 95, 65, 85, 92, 57, 41, 67, 77, 34, 74, 70, 40, 65, 42, 38, 46, 54, 83, 54, 19]\n",
      "[18, 18, 19, 18, 18, 19, 19, 18, 18, 18, 18, 19, 22, 19, 36, 27, 39, 18, 28, 24, 18, 18, 19, 30, 19, 45, 38, 24, 19, 62, 48, 43, 41, 43, 47, 43, 30, 51, 36, 30, 37, 55, 23, 32, 45, 27, 24, 39, 35, 19, 48, 83, 63, 58, 82, 60, 28, 42, 30, 79, 96, 79, 91, 59, 89, 72, 92, 96, 65, 49, 70, 68, 91, 68, 71, 63, 100, 42, 94, 49, 95, 65, 85, 92, 57, 41, 67, 77, 34, 74, 70, 40, 65, 42, 38, 46, 54, 83, 54, 19]\n",
      "[18, 18, 19, 18, 18, 19, 19, 18, 18, 18, 18, 19, 22, 19, 36, 27, 39, 18, 28, 24, 18, 18, 19, 30, 19, 45, 38, 24, 19, 62, 48, 43, 41, 43, 47, 43, 30, 51, 36, 30, 37, 55, 23, 32, 45, 27, 24, 39, 35, 19, 48, 83, 63, 58, 82, 60, 28, 42, 30, 79, 96, 79, 91, 59, 89, 72, 92, 96, 65, 49, 70, 68, 91, 68, 71, 63, 100, 42, 94, 49, 95, 65, 85, 92, 57, 41, 67, 77, 34, 74, 70, 40, 65, 42, 38, 46, 54, 83, 54, 19]\n",
      "[18, 18, 19, 18, 18, 19, 19, 18, 18, 18, 18, 19, 22, 19, 36, 27, 39, 18, 28, 24, 18, 18, 19, 30, 19, 45, 38, 24, 19, 62, 48, 43, 41, 43, 47, 43, 30, 51, 36, 30, 37, 55, 23, 32, 45, 27, 24, 39, 35, 19, 48, 83, 63, 58, 82, 60, 28, 42, 30, 79, 96, 79, 91, 59, 89, 72, 92, 96, 65, 49, 70, 68, 91, 68, 71, 63, 100, 42, 94, 49, 95, 65, 85, 92, 57, 41, 67, 77, 34, 74, 70, 40, 65, 42, 38, 46, 54, 83, 54, 19]\n",
      "[18, 18, 19, 18, 18, 19, 19, 18, 18, 18, 18, 19, 22, 19, 36, 27, 39, 18, 28, 24, 18, 18, 19, 30, 19, 45, 38, 24, 19, 62, 48, 43, 41, 43, 47, 43, 30, 51, 36, 30, 37, 55, 23, 32, 45, 27, 24, 39, 35, 19, 48, 83, 63, 58, 82, 60, 28, 42, 30, 79, 96, 79, 91, 59, 89, 72, 92, 96, 65, 49, 70, 68, 91, 68, 71, 63, 100, 42, 94, 49, 95, 65, 85, 92, 57, 41, 67, 77, 34, 74, 70, 40, 65, 42, 38, 46, 54, 83, 54, 19]\n",
      "[18, 18, 19, 18, 18, 19, 19, 18, 18, 18, 18, 19, 22, 19, 36, 27, 39, 18, 28, 24, 18, 18, 19, 30, 19, 45, 38, 24, 19, 62, 48, 43, 41, 43, 47, 43, 30, 51, 36, 30, 37, 55, 23, 32, 45, 27, 24, 39, 35, 19, 48, 83, 63, 58, 82, 60, 28, 42, 30, 79, 96, 79, 91, 59, 89, 72, 92, 96, 65, 49, 70, 68, 91, 68, 71, 63, 100, 42, 94, 49, 95, 65, 85, 92, 57, 41, 67, 77, 34, 74, 70, 40, 65, 42, 38, 46, 54, 83, 54, 19]\n",
      "[18, 18, 19, 18, 18, 19, 19, 18, 18, 18, 18, 19, 22, 19, 36, 27, 39, 18, 28, 24, 18, 18, 19, 30, 19, 45, 38, 24, 19, 62, 48, 43, 41, 43, 47, 43, 30, 51, 36, 30, 37, 55, 23, 32, 45, 27, 24, 39, 35, 19, 48, 83, 63, 58, 82, 60, 28, 42, 30, 79, 96, 79, 91, 59, 89, 72, 92, 96, 65, 49, 70, 68, 91, 68, 71, 63, 100, 42, 94, 49, 95, 65, 85, 92, 57, 41, 67, 77, 34, 74, 70, 40, 65, 42, 38, 46, 54, 83, 54, 19]\n",
      "[18, 18, 19, 18, 18, 19, 19, 18, 18, 18, 18, 19, 22, 19, 36, 27, 39, 18, 28, 24, 18, 18, 19, 30, 19, 45, 38, 24, 19, 62, 48, 43, 41, 43, 47, 43, 30, 51, 36, 30, 37, 55, 23, 32, 45, 27, 24, 39, 35, 19, 48, 83, 63, 58, 82, 60, 28, 42, 30, 79, 96, 79, 91, 59, 89, 72, 92, 96, 65, 49, 70, 68, 91, 68, 71, 63, 100, 42, 94, 49, 95, 65, 85, 92, 57, 41, 67, 77, 34, 74, 70, 40, 65, 42, 38, 46, 54, 83, 54, 19]\n",
      "[18, 18, 19, 18, 18, 19, 19, 18, 18, 18, 18, 19, 22, 19, 36, 27, 39, 18, 28, 24, 18, 18, 19, 30, 19, 45, 38, 24, 19, 62, 48, 43, 41, 43, 47, 43, 30, 51, 36, 30, 37, 55, 23, 32, 45, 27, 24, 39, 35, 19, 48, 83, 63, 58, 82, 60, 28, 42, 30, 79, 96, 79, 91, 59, 89, 72, 92, 96, 65, 49, 70, 68, 91, 68, 71, 63, 100, 42, 94, 49, 95, 65, 85, 92, 57, 41, 67, 77, 34, 74, 70, 40, 65, 42, 38, 46, 54, 83, 54, 19]\n",
      "[18, 18, 19, 18, 18, 19, 19, 18, 18, 18, 18, 19, 22, 19, 36, 27, 39, 18, 28, 24, 18, 18, 19, 30, 19, 45, 38, 24, 19, 62, 48, 43, 41, 43, 47, 43, 30, 51, 36, 30, 37, 55, 23, 32, 45, 27, 24, 39, 35, 19, 48, 83, 63, 58, 82, 60, 28, 42, 30, 79, 96, 79, 91, 59, 89, 72, 92, 96, 65, 49, 70, 68, 91, 68, 71, 63, 100, 42, 94, 49, 95, 65, 85, 92, 57, 41, 67, 77, 34, 74, 70, 40, 65, 42, 38, 46, 54, 83, 54, 19]\n",
      "[18, 18, 19, 18, 18, 19, 19, 18, 18, 18, 18, 19, 22, 19, 36, 27, 39, 18, 28, 24, 18, 18, 19, 30, 19, 45, 38, 24, 19, 62, 48, 43, 41, 43, 47, 43, 30, 51, 36, 30, 37, 55, 23, 32, 45, 27, 24, 39, 35, 19, 48, 83, 63, 58, 82, 60, 28, 42, 30, 79, 96, 79, 91, 59, 89, 72, 92, 96, 65, 49, 70, 68, 91, 68, 71, 63, 100, 42, 94, 49, 95, 65, 85, 92, 57, 41, 67, 77, 34, 74, 70, 40, 65, 42, 38, 46, 54, 83, 54, 19]\n",
      "[18, 18, 19, 18, 18, 19, 19, 18, 18, 18, 18, 19, 22, 19, 36, 27, 39, 18, 28, 24, 18, 18, 19, 30, 19, 45, 38, 24, 19, 62, 48, 43, 41, 43, 47, 43, 30, 51, 36, 30, 37, 55, 23, 32, 45, 27, 24, 39, 35, 19, 48, 83, 63, 58, 82, 60, 28, 42, 30, 79, 96, 79, 91, 59, 89, 72, 92, 96, 65, 49, 70, 68, 91, 68, 71, 63, 100, 42, 94, 49, 95, 65, 85, 92, 57, 41, 67, 77, 34, 74, 70, 40, 65, 42, 38, 46, 54, 83, 54, 19]\n",
      "[18, 18, 19, 18, 18, 19, 19, 18, 18, 18, 18, 19, 22, 19, 36, 27, 39, 18, 28, 24, 18, 18, 19, 30, 19, 45, 38, 24, 19, 62, 48, 43, 41, 43, 47, 43, 30, 51, 36, 30, 37, 55, 23, 32, 45, 27, 24, 39, 35, 19, 48, 83, 63, 58, 82, 60, 28, 42, 30, 79, 96, 79, 91, 59, 89, 72, 92, 96, 65, 49, 70, 68, 91, 68, 71, 63, 100, 42, 94, 49, 95, 65, 85, 92, 57, 41, 67, 77, 34, 74, 70, 40, 65, 42, 38, 46, 54, 83, 54, 19]\n",
      "[18, 18, 19, 18, 18, 19, 19, 18, 18, 18, 18, 19, 22, 19, 36, 27, 39, 18, 28, 24, 18, 18, 19, 30, 19, 45, 38, 24, 19, 62, 48, 43, 41, 43, 47, 43, 30, 51, 36, 30, 37, 55, 23, 32, 45, 27, 24, 39, 35, 19, 48, 83, 63, 58, 82, 60, 28, 42, 30, 79, 96, 79, 91, 59, 89, 72, 92, 96, 65, 49, 70, 68, 91, 68, 71, 63, 100, 42, 94, 49, 95, 65, 85, 92, 57, 41, 67, 77, 34, 74, 70, 40, 65, 42, 38, 46, 54, 83, 54, 19]\n",
      "[18, 18, 19, 18, 18, 19, 19, 18, 18, 18, 18, 19, 22, 19, 36, 27, 39, 18, 28, 24, 18, 18, 19, 30, 19, 45, 38, 24, 19, 62, 48, 43, 41, 43, 47, 43, 30, 51, 36, 30, 37, 55, 23, 32, 45, 27, 24, 39, 35, 19, 48, 83, 63, 58, 82, 60, 28, 42, 30, 79, 96, 79, 91, 59, 89, 72, 92, 96, 65, 49, 70, 68, 91, 68, 71, 63, 100, 42, 94, 49, 95, 65, 85, 92, 57, 41, 67, 77, 34, 74, 70, 40, 65, 42, 38, 46, 54, 83, 54, 19]\n",
      "[18, 18, 19, 18, 18, 19, 19, 18, 18, 18, 18, 19, 22, 19, 36, 27, 39, 18, 28, 24, 18, 18, 19, 30, 19, 45, 38, 24, 19, 62, 48, 43, 41, 43, 47, 43, 30, 51, 36, 30, 37, 55, 23, 32, 45, 27, 24, 39, 35, 19, 48, 83, 63, 58, 82, 60, 28, 42, 30, 79, 96, 79, 91, 59, 89, 72, 92, 96, 65, 49, 70, 68, 91, 68, 71, 63, 100, 42, 94, 49, 95, 65, 85, 92, 57, 41, 67, 77, 34, 74, 70, 40, 65, 42, 38, 46, 54, 83, 54, 19]\n",
      "[18, 18, 19, 18, 18, 19, 19, 18, 18, 18, 18, 19, 22, 19, 36, 27, 39, 18, 28, 24, 18, 18, 19, 30, 19, 45, 38, 24, 19, 62, 48, 43, 41, 43, 47, 43, 30, 51, 36, 30, 37, 55, 23, 32, 45, 27, 24, 39, 35, 19, 48, 83, 63, 58, 82, 60, 28, 42, 30, 79, 96, 79, 91, 59, 89, 72, 92, 96, 65, 49, 70, 68, 91, 68, 71, 63, 100, 42, 94, 49, 95, 65, 85, 92, 57, 41, 67, 77, 34, 74, 70, 40, 65, 42, 38, 46, 54, 83, 54, 19]\n",
      "[18, 18, 19, 18, 18, 19, 19, 18, 18, 18, 18, 19, 22, 19, 36, 27, 39, 18, 28, 24, 18, 18, 19, 30, 19, 45, 38, 24, 19, 62, 48, 43, 41, 43, 47, 43, 30, 51, 36, 30, 37, 55, 23, 32, 45, 27, 24, 39, 35, 19, 48, 83, 63, 58, 82, 60, 28, 42, 30, 79, 96, 79, 91, 59, 89, 72, 92, 96, 65, 49, 70, 68, 91, 68, 71, 63, 100, 42, 94, 49, 95, 65, 85, 92, 57, 41, 67, 77, 34, 74, 70, 40, 65, 42, 38, 46, 54, 83, 54, 19]\n",
      "[18, 18, 19, 18, 18, 19, 19, 18, 18, 18, 18, 19, 22, 19, 36, 27, 39, 18, 28, 24, 18, 18, 19, 30, 19, 45, 38, 24, 19, 62, 48, 43, 41, 43, 47, 43, 30, 51, 36, 30, 37, 55, 23, 32, 45, 27, 24, 39, 35, 19, 48, 83, 63, 58, 82, 60, 28, 42, 30, 79, 96, 79, 91, 59, 89, 72, 92, 96, 65, 49, 70, 68, 91, 68, 71, 63, 100, 42, 94, 49, 95, 65, 85, 92, 57, 41, 67, 77, 34, 74, 70, 40, 65, 42, 38, 46, 54, 83, 54, 19]\n",
      "[18, 18, 19, 18, 18, 19, 19, 18, 18, 18, 18, 19, 22, 19, 36, 27, 39, 18, 28, 24, 18, 18, 19, 30, 19, 45, 38, 24, 19, 62, 48, 43, 41, 43, 47, 43, 30, 51, 36, 30, 37, 55, 23, 32, 45, 27, 24, 39, 35, 19, 48, 83, 63, 58, 82, 60, 28, 42, 30, 79, 96, 79, 91, 59, 89, 72, 92, 96, 65, 49, 70, 68, 91, 68, 71, 63, 100, 42, 94, 49, 95, 65, 85, 92, 57, 41, 67, 77, 34, 74, 70, 40, 65, 42, 38, 46, 54, 83, 54, 19]\n",
      "[18, 18, 19, 18, 18, 19, 19, 18, 18, 18, 18, 19, 22, 19, 36, 27, 39, 18, 28, 24, 18, 18, 19, 30, 19, 45, 38, 24, 19, 62, 48, 43, 41, 43, 47, 43, 30, 51, 36, 30, 37, 55, 23, 32, 45, 27, 24, 39, 35, 19, 48, 83, 63, 58, 82, 60, 28, 42, 30, 79, 96, 79, 91, 59, 89, 72, 92, 96, 65, 49, 70, 68, 91, 68, 71, 63, 100, 42, 94, 49, 95, 65, 85, 92, 57, 41, 67, 77, 34, 74, 70, 40, 65, 42, 38, 46, 54, 83, 54, 19]\n",
      "[18, 18, 19, 18, 18, 19, 19, 18, 18, 18, 18, 19, 22, 19, 36, 27, 39, 18, 28, 24, 18, 18, 19, 30, 19, 45, 38, 24, 19, 62, 48, 43, 41, 43, 47, 43, 30, 51, 36, 30, 37, 55, 23, 32, 45, 27, 24, 39, 35, 19, 48, 83, 63, 58, 82, 60, 28, 42, 30, 79, 96, 79, 91, 59, 89, 72, 92, 96, 65, 49, 70, 68, 91, 68, 71, 63, 100, 42, 94, 49, 95, 65, 85, 92, 57, 41, 67, 77, 34, 74, 70, 40, 65, 42, 38, 46, 54, 83, 54, 19]\n",
      "[18, 18, 19, 18, 18, 19, 19, 18, 18, 18, 18, 19, 22, 19, 36, 27, 39, 18, 28, 24, 18, 18, 19, 30, 19, 45, 38, 24, 19, 62, 48, 43, 41, 43, 47, 43, 30, 51, 36, 30, 37, 55, 23, 32, 45, 27, 24, 39, 35, 19, 48, 83, 63, 58, 82, 60, 28, 42, 30, 79, 96, 79, 91, 59, 89, 72, 92, 96, 65, 49, 70, 68, 91, 68, 71, 63, 100, 42, 94, 49, 95, 65, 85, 92, 57, 41, 67, 77, 34, 74, 70, 40, 65, 42, 38, 46, 54, 83, 54, 19]\n",
      "[18, 18, 19, 18, 18, 19, 19, 18, 18, 18, 18, 19, 22, 19, 36, 27, 39, 18, 28, 24, 18, 18, 19, 30, 19, 45, 38, 24, 19, 62, 48, 43, 41, 43, 47, 43, 30, 51, 36, 30, 37, 55, 23, 32, 45, 27, 24, 39, 35, 19, 48, 83, 63, 58, 82, 60, 28, 42, 30, 79, 96, 79, 91, 59, 89, 72, 92, 96, 65, 49, 70, 68, 91, 68, 71, 63, 100, 42, 94, 49, 95, 65, 85, 92, 57, 41, 67, 77, 34, 74, 70, 40, 65, 42, 38, 46, 54, 83, 54, 19]\n",
      "[18, 18, 19, 18, 18, 19, 19, 18, 18, 18, 18, 19, 22, 19, 36, 27, 39, 18, 28, 24, 18, 18, 19, 30, 19, 45, 38, 24, 19, 62, 48, 43, 41, 43, 47, 43, 30, 51, 36, 30, 37, 55, 23, 32, 45, 27, 24, 39, 35, 19, 48, 83, 63, 58, 82, 60, 28, 42, 30, 79, 96, 79, 91, 59, 89, 72, 92, 96, 65, 49, 70, 68, 91, 68, 71, 63, 100, 42, 94, 49, 95, 65, 85, 92, 57, 41, 67, 77, 34, 74, 70, 40, 65, 42, 38, 46, 54, 83, 54, 19]\n",
      "[18, 18, 19, 18, 18, 19, 19, 18, 18, 18, 18, 19, 22, 19, 36, 27, 39, 18, 28, 24, 18, 18, 19, 30, 19, 45, 38, 24, 19, 62, 48, 43, 41, 43, 47, 43, 30, 51, 36, 30, 37, 55, 23, 32, 45, 27, 24, 39, 35, 19, 48, 83, 63, 58, 82, 60, 28, 42, 30, 79, 96, 79, 91, 59, 89, 72, 92, 96, 65, 49, 70, 68, 91, 68, 71, 63, 100, 42, 94, 49, 95, 65, 85, 92, 57, 41, 67, 77, 34, 74, 70, 40, 65, 42, 38, 46, 54, 83, 54, 19]\n",
      "[18, 18, 19, 18, 18, 19, 19, 18, 18, 18, 18, 19, 22, 19, 36, 27, 39, 18, 28, 24, 18, 18, 19, 30, 19, 45, 38, 24, 19, 62, 48, 43, 41, 43, 47, 43, 30, 51, 36, 30, 37, 55, 23, 32, 45, 27, 24, 39, 35, 19, 48, 83, 63, 58, 82, 60, 28, 42, 30, 79, 96, 79, 91, 59, 89, 72, 92, 96, 65, 49, 70, 68, 91, 68, 71, 63, 100, 42, 94, 49, 95, 65, 85, 92, 57, 41, 67, 77, 34, 74, 70, 40, 65, 42, 38, 46, 54, 83, 54, 19]\n",
      "[18, 18, 19, 18, 18, 19, 19, 18, 18, 18, 18, 19, 22, 19, 36, 27, 39, 18, 28, 24, 18, 18, 19, 30, 19, 45, 38, 24, 19, 62, 48, 43, 41, 43, 47, 43, 30, 51, 36, 30, 37, 55, 23, 32, 45, 27, 24, 39, 35, 19, 48, 83, 63, 58, 82, 60, 28, 42, 30, 79, 96, 79, 91, 59, 89, 72, 92, 96, 65, 49, 70, 68, 91, 68, 71, 63, 100, 42, 94, 49, 95, 65, 85, 92, 57, 41, 67, 77, 34, 74, 70, 40, 65, 42, 38, 46, 54, 83, 54, 19]\n",
      "[18, 18, 19, 18, 18, 19, 19, 18, 18, 18, 18, 19, 22, 19, 36, 27, 39, 18, 28, 24, 18, 18, 19, 30, 19, 45, 38, 24, 19, 62, 48, 43, 41, 43, 47, 43, 30, 51, 36, 30, 37, 55, 23, 32, 45, 27, 24, 39, 35, 19, 48, 83, 63, 58, 82, 60, 28, 42, 30, 79, 96, 79, 91, 59, 89, 72, 92, 96, 65, 49, 70, 68, 91, 68, 71, 63, 100, 42, 94, 49, 95, 65, 85, 92, 57, 41, 67, 77, 34, 74, 70, 40, 65, 42, 38, 46, 54, 83, 54, 19]\n",
      "[18, 18, 19, 18, 18, 19, 19, 18, 18, 18, 18, 19, 22, 19, 36, 27, 39, 18, 28, 24, 18, 18, 19, 30, 19, 45, 38, 24, 19, 62, 48, 43, 41, 43, 47, 43, 30, 51, 36, 30, 37, 55, 23, 32, 45, 27, 24, 39, 35, 19, 48, 83, 63, 58, 82, 60, 28, 42, 30, 79, 96, 79, 91, 59, 89, 72, 92, 96, 65, 49, 70, 68, 91, 68, 71, 63, 100, 42, 94, 49, 95, 65, 85, 92, 57, 41, 67, 77, 34, 74, 70, 40, 65, 42, 38, 46, 54, 83, 54, 19]\n",
      "[18, 18, 19, 18, 18, 19, 19, 18, 18, 18, 18, 19, 22, 19, 36, 27, 39, 18, 28, 24, 18, 18, 19, 30, 19, 45, 38, 24, 19, 62, 48, 43, 41, 43, 47, 43, 30, 51, 36, 30, 37, 55, 23, 32, 45, 27, 24, 39, 35, 19, 48, 83, 63, 58, 82, 60, 28, 42, 30, 79, 96, 79, 91, 59, 89, 72, 92, 96, 65, 49, 70, 68, 91, 68, 71, 63, 100, 42, 94, 49, 95, 65, 85, 92, 57, 41, 67, 77, 34, 74, 70, 40, 65, 42, 38, 46, 54, 83, 54, 19]\n",
      "[18, 18, 19, 18, 18, 19, 19, 18, 18, 18, 18, 19, 22, 19, 36, 27, 39, 18, 28, 24, 18, 18, 19, 30, 19, 45, 38, 24, 19, 62, 48, 43, 41, 43, 47, 43, 30, 51, 36, 30, 37, 55, 23, 32, 45, 27, 24, 39, 35, 19, 48, 83, 63, 58, 82, 60, 28, 42, 30, 79, 96, 79, 91, 59, 89, 72, 92, 96, 65, 49, 70, 68, 91, 68, 71, 63, 100, 42, 94, 49, 95, 65, 85, 92, 57, 41, 67, 77, 34, 74, 70, 40, 65, 42, 38, 46, 54, 83, 54, 19]\n",
      "[18, 18, 19, 18, 18, 19, 19, 18, 18, 18, 18, 19, 22, 19, 36, 27, 39, 18, 28, 24, 18, 18, 19, 30, 19, 45, 38, 24, 19, 62, 48, 43, 41, 43, 47, 43, 30, 51, 36, 30, 37, 55, 23, 32, 45, 27, 24, 39, 35, 19, 48, 83, 63, 58, 82, 60, 28, 42, 30, 79, 96, 79, 91, 59, 89, 72, 92, 96, 65, 49, 70, 68, 91, 68, 71, 63, 100, 42, 94, 49, 95, 65, 85, 92, 57, 41, 67, 77, 34, 74, 70, 40, 65, 42, 38, 46, 54, 83, 54, 19]\n",
      "[18, 18, 19, 18, 18, 19, 19, 18, 18, 18, 18, 19, 22, 19, 36, 27, 39, 18, 28, 24, 18, 18, 19, 30, 19, 45, 38, 24, 19, 62, 48, 43, 41, 43, 47, 43, 30, 51, 36, 30, 37, 55, 23, 32, 45, 27, 24, 39, 35, 19, 48, 83, 63, 58, 82, 60, 28, 42, 30, 79, 96, 79, 91, 59, 89, 72, 92, 96, 65, 49, 70, 68, 91, 68, 71, 63, 100, 42, 94, 49, 95, 65, 85, 92, 57, 41, 67, 77, 34, 74, 70, 40, 65, 42, 38, 46, 54, 83, 54, 19]\n",
      "[18, 18, 19, 18, 18, 19, 19, 18, 18, 18, 18, 19, 22, 19, 36, 27, 39, 18, 28, 24, 18, 18, 19, 30, 19, 45, 38, 24, 19, 62, 48, 43, 41, 43, 47, 43, 30, 51, 36, 30, 37, 55, 23, 32, 45, 27, 24, 39, 35, 19, 48, 83, 63, 58, 82, 60, 28, 42, 30, 79, 96, 79, 91, 59, 89, 72, 92, 96, 65, 49, 70, 68, 91, 68, 71, 63, 100, 42, 94, 49, 95, 65, 85, 92, 57, 41, 67, 77, 34, 74, 70, 40, 65, 42, 38, 46, 54, 83, 54, 19]\n",
      "[18, 18, 19, 18, 18, 19, 19, 18, 18, 18, 18, 19, 22, 19, 36, 27, 39, 18, 28, 24, 18, 18, 19, 30, 19, 45, 38, 24, 19, 62, 48, 43, 41, 43, 47, 43, 30, 51, 36, 30, 37, 55, 23, 32, 45, 27, 24, 39, 35, 19, 48, 83, 63, 58, 82, 60, 28, 42, 30, 79, 96, 79, 91, 59, 89, 72, 92, 96, 65, 49, 70, 68, 91, 68, 71, 63, 100, 42, 94, 49, 95, 65, 85, 92, 57, 41, 67, 77, 34, 74, 70, 40, 65, 42, 38, 46, 54, 83, 54, 19]\n",
      "[18, 18, 19, 18, 18, 19, 19, 18, 18, 18, 18, 19, 22, 19, 36, 27, 39, 18, 28, 24, 18, 18, 19, 30, 19, 45, 38, 24, 19, 62, 48, 43, 41, 43, 47, 43, 30, 51, 36, 30, 37, 55, 23, 32, 45, 27, 24, 39, 35, 19, 48, 83, 63, 58, 82, 60, 28, 42, 30, 79, 96, 79, 91, 59, 89, 72, 92, 96, 65, 49, 70, 68, 91, 68, 71, 63, 100, 42, 94, 49, 95, 65, 85, 92, 57, 41, 67, 77, 34, 74, 70, 40, 65, 42, 38, 46, 54, 83, 54, 19]\n",
      "[18, 18, 19, 18, 18, 19, 19, 18, 18, 18, 18, 19, 22, 19, 36, 27, 39, 18, 28, 24, 18, 18, 19, 30, 19, 45, 38, 24, 19, 62, 48, 43, 41, 43, 47, 43, 30, 51, 36, 30, 37, 55, 23, 32, 45, 27, 24, 39, 35, 19, 48, 83, 63, 58, 82, 60, 28, 42, 30, 79, 96, 79, 91, 59, 89, 72, 92, 96, 65, 49, 70, 68, 91, 68, 71, 63, 100, 42, 94, 49, 95, 65, 85, 92, 57, 41, 67, 77, 34, 74, 70, 40, 65, 42, 38, 46, 54, 83, 54, 19]\n",
      "[18, 18, 19, 18, 18, 19, 19, 18, 18, 18, 18, 19, 22, 19, 36, 27, 39, 18, 28, 24, 18, 18, 19, 30, 19, 45, 38, 24, 19, 62, 48, 43, 41, 43, 47, 43, 30, 51, 36, 30, 37, 55, 23, 32, 45, 27, 24, 39, 35, 19, 48, 83, 63, 58, 82, 60, 28, 42, 30, 79, 96, 79, 91, 59, 89, 72, 92, 96, 65, 49, 70, 68, 91, 68, 71, 63, 100, 42, 94, 49, 95, 65, 85, 92, 57, 41, 67, 77, 34, 74, 70, 40, 65, 42, 38, 46, 54, 83, 54, 19]\n",
      "[18, 18, 19, 18, 18, 19, 19, 18, 18, 18, 18, 19, 22, 19, 36, 27, 39, 18, 28, 24, 18, 18, 19, 30, 19, 45, 38, 24, 19, 62, 48, 43, 41, 43, 47, 43, 30, 51, 36, 30, 37, 55, 23, 32, 45, 27, 24, 39, 35, 19, 48, 83, 63, 58, 82, 60, 28, 42, 30, 79, 96, 79, 91, 59, 89, 72, 92, 96, 65, 49, 70, 68, 91, 68, 71, 63, 100, 42, 94, 49, 95, 65, 85, 92, 57, 41, 67, 77, 34, 74, 70, 40, 65, 42, 38, 46, 54, 83, 54, 19]\n",
      "[18, 18, 19, 18, 18, 19, 19, 18, 18, 18, 18, 19, 22, 19, 36, 27, 39, 18, 28, 24, 18, 18, 19, 30, 19, 45, 38, 24, 19, 62, 48, 43, 41, 43, 47, 43, 30, 51, 36, 30, 37, 55, 23, 32, 45, 27, 24, 39, 35, 19, 48, 83, 63, 58, 82, 60, 28, 42, 30, 79, 96, 79, 91, 59, 89, 72, 92, 96, 65, 49, 70, 68, 91, 68, 71, 63, 100, 42, 94, 49, 95, 65, 85, 92, 57, 41, 67, 77, 34, 74, 70, 40, 65, 42, 38, 46, 54, 83, 54, 19]\n",
      "[18, 18, 19, 18, 18, 19, 19, 18, 18, 18, 18, 19, 22, 19, 36, 27, 39, 18, 28, 24, 18, 18, 19, 30, 19, 45, 38, 24, 19, 62, 48, 43, 41, 43, 47, 43, 30, 51, 36, 30, 37, 55, 23, 32, 45, 27, 24, 39, 35, 19, 48, 83, 63, 58, 82, 60, 28, 42, 30, 79, 96, 79, 91, 59, 89, 72, 92, 96, 65, 49, 70, 68, 91, 68, 71, 63, 100, 42, 94, 49, 95, 65, 85, 92, 57, 41, 67, 77, 34, 74, 70, 40, 65, 42, 38, 46, 54, 83, 54, 19]\n",
      "[18, 18, 19, 18, 18, 19, 19, 18, 18, 18, 18, 19, 22, 19, 36, 27, 39, 18, 28, 24, 18, 18, 19, 30, 19, 45, 38, 24, 19, 62, 48, 43, 41, 43, 47, 43, 30, 51, 36, 30, 37, 55, 23, 32, 45, 27, 24, 39, 35, 19, 48, 83, 63, 58, 82, 60, 28, 42, 30, 79, 96, 79, 91, 59, 89, 72, 92, 96, 65, 49, 70, 68, 91, 68, 71, 63, 100, 42, 94, 49, 95, 65, 85, 92, 57, 41, 67, 77, 34, 74, 70, 40, 65, 42, 38, 46, 54, 83, 54, 19]\n",
      "[18, 18, 19, 18, 18, 19, 19, 18, 18, 18, 18, 19, 22, 19, 36, 27, 39, 18, 28, 24, 18, 18, 19, 30, 19, 45, 38, 24, 19, 62, 48, 43, 41, 43, 47, 43, 30, 51, 36, 30, 37, 55, 23, 32, 45, 27, 24, 39, 35, 19, 48, 83, 63, 58, 82, 60, 28, 42, 30, 79, 96, 79, 91, 59, 89, 72, 92, 96, 65, 49, 70, 68, 91, 68, 71, 63, 100, 42, 94, 49, 95, 65, 85, 92, 57, 41, 67, 77, 34, 74, 70, 40, 65, 42, 38, 46, 54, 83, 54, 19]\n",
      "[18, 18, 19, 18, 18, 19, 19, 18, 18, 18, 18, 19, 22, 19, 36, 27, 39, 18, 28, 24, 18, 18, 19, 30, 19, 45, 38, 24, 19, 62, 48, 43, 41, 43, 47, 43, 30, 51, 36, 30, 37, 55, 23, 32, 45, 27, 24, 39, 35, 19, 48, 83, 63, 58, 82, 60, 28, 42, 30, 79, 96, 79, 91, 59, 89, 72, 92, 96, 65, 49, 70, 68, 91, 68, 71, 63, 100, 42, 94, 49, 95, 65, 85, 92, 57, 41, 67, 77, 34, 74, 70, 40, 65, 42, 38, 46, 54, 83, 54, 19]\n",
      "[18, 18, 19, 18, 18, 19, 19, 18, 18, 18, 18, 19, 22, 19, 36, 27, 39, 18, 28, 24, 18, 18, 19, 30, 19, 45, 38, 24, 19, 62, 48, 43, 41, 43, 47, 43, 30, 51, 36, 30, 37, 55, 23, 32, 45, 27, 24, 39, 35, 19, 48, 83, 63, 58, 82, 60, 28, 42, 30, 79, 96, 79, 91, 59, 89, 72, 92, 96, 65, 49, 70, 68, 91, 68, 71, 63, 100, 42, 94, 49, 95, 65, 85, 92, 57, 41, 67, 77, 34, 74, 70, 40, 65, 42, 38, 46, 54, 83, 54, 19]\n",
      "[18, 18, 19, 18, 18, 19, 19, 18, 18, 18, 18, 19, 22, 19, 36, 27, 39, 18, 28, 24, 18, 18, 19, 30, 19, 45, 38, 24, 19, 62, 48, 43, 41, 43, 47, 43, 30, 51, 36, 30, 37, 55, 23, 32, 45, 27, 24, 39, 35, 19, 48, 83, 63, 58, 82, 60, 28, 42, 30, 79, 96, 79, 91, 59, 89, 72, 92, 96, 65, 49, 70, 68, 91, 68, 71, 63, 100, 42, 94, 49, 95, 65, 85, 92, 57, 41, 67, 77, 34, 74, 70, 40, 65, 42, 38, 46, 54, 83, 54, 19]\n",
      "[18, 18, 19, 18, 18, 19, 19, 18, 18, 18, 18, 19, 22, 19, 36, 27, 39, 18, 28, 24, 18, 18, 19, 30, 19, 45, 38, 24, 19, 62, 48, 43, 41, 43, 47, 43, 30, 51, 36, 30, 37, 55, 23, 32, 45, 27, 24, 39, 35, 19, 48, 83, 63, 58, 82, 60, 28, 42, 30, 79, 96, 79, 91, 59, 89, 72, 92, 96, 65, 49, 70, 68, 91, 68, 71, 63, 100, 42, 94, 49, 95, 65, 85, 92, 57, 41, 67, 77, 34, 74, 70, 40, 65, 42, 38, 46, 54, 83, 54, 19]\n",
      "[18, 18, 19, 18, 18, 19, 19, 18, 18, 18, 18, 19, 22, 19, 36, 27, 39, 18, 28, 24, 18, 18, 19, 30, 19, 45, 38, 24, 19, 62, 48, 43, 41, 43, 47, 43, 30, 51, 36, 30, 37, 55, 23, 32, 45, 27, 24, 39, 35, 19, 48, 83, 63, 58, 82, 60, 28, 42, 30, 79, 96, 79, 91, 59, 89, 72, 92, 96, 65, 49, 70, 68, 91, 68, 71, 63, 100, 42, 94, 49, 95, 65, 85, 92, 57, 41, 67, 77, 34, 74, 70, 40, 65, 42, 38, 46, 54, 83, 54, 19]\n",
      "[18, 18, 19, 18, 18, 19, 19, 18, 18, 18, 18, 19, 22, 19, 36, 27, 39, 18, 28, 24, 18, 18, 19, 30, 19, 45, 38, 24, 19, 62, 48, 43, 41, 43, 47, 43, 30, 51, 36, 30, 37, 55, 23, 32, 45, 27, 24, 39, 35, 19, 48, 83, 63, 58, 82, 60, 28, 42, 30, 79, 96, 79, 91, 59, 89, 72, 92, 96, 65, 49, 70, 68, 91, 68, 71, 63, 100, 42, 94, 49, 95, 65, 85, 92, 57, 41, 67, 77, 34, 74, 70, 40, 65, 42, 38, 46, 54, 83, 54, 19]\n",
      "[18, 18, 19, 18, 18, 19, 19, 18, 18, 18, 18, 19, 22, 19, 36, 27, 39, 18, 28, 24, 18, 18, 19, 30, 19, 45, 38, 24, 19, 62, 48, 43, 41, 43, 47, 43, 30, 51, 36, 30, 37, 55, 23, 32, 45, 27, 24, 39, 35, 19, 48, 83, 63, 58, 82, 60, 28, 42, 30, 79, 96, 79, 91, 59, 89, 72, 92, 96, 65, 49, 70, 68, 91, 68, 71, 63, 100, 42, 94, 49, 95, 65, 85, 92, 57, 41, 67, 77, 34, 74, 70, 40, 65, 42, 38, 46, 54, 83, 54, 19]\n",
      "[18, 18, 19, 18, 18, 19, 19, 18, 18, 18, 18, 19, 22, 19, 36, 27, 39, 18, 28, 24, 18, 18, 19, 30, 19, 45, 38, 24, 19, 62, 48, 43, 41, 43, 47, 43, 30, 51, 36, 30, 37, 55, 23, 32, 45, 27, 24, 39, 35, 19, 48, 83, 63, 58, 82, 60, 28, 42, 30, 79, 96, 79, 91, 59, 89, 72, 92, 96, 65, 49, 70, 68, 91, 68, 71, 63, 100, 42, 94, 49, 95, 65, 85, 92, 57, 41, 67, 77, 34, 74, 70, 40, 65, 42, 38, 46, 54, 83, 54, 19]\n",
      "[18, 18, 19, 18, 18, 19, 19, 18, 18, 18, 18, 19, 22, 19, 36, 27, 39, 18, 28, 24, 18, 18, 19, 30, 19, 45, 38, 24, 19, 62, 48, 43, 41, 43, 47, 43, 30, 51, 36, 30, 37, 55, 23, 32, 45, 27, 24, 39, 35, 19, 48, 83, 63, 58, 82, 60, 28, 42, 30, 79, 96, 79, 91, 59, 89, 72, 92, 96, 65, 49, 70, 68, 91, 68, 71, 63, 100, 42, 94, 49, 95, 65, 85, 92, 57, 41, 67, 77, 34, 74, 70, 40, 65, 42, 38, 46, 54, 83, 54, 19]\n",
      "[18, 18, 19, 18, 18, 19, 19, 18, 18, 18, 18, 19, 22, 19, 36, 27, 39, 18, 28, 24, 18, 18, 19, 30, 19, 45, 38, 24, 19, 62, 48, 43, 41, 43, 47, 43, 30, 51, 36, 30, 37, 55, 23, 32, 45, 27, 24, 39, 35, 19, 48, 83, 63, 58, 82, 60, 28, 42, 30, 79, 96, 79, 91, 59, 89, 72, 92, 96, 65, 49, 70, 68, 91, 68, 71, 63, 100, 42, 94, 49, 95, 65, 85, 92, 57, 41, 67, 77, 34, 74, 70, 40, 65, 42, 38, 46, 54, 83, 54, 19]\n",
      "[18, 18, 19, 18, 18, 19, 19, 18, 18, 18, 18, 19, 22, 19, 36, 27, 39, 18, 28, 24, 18, 18, 19, 30, 19, 45, 38, 24, 19, 62, 48, 43, 41, 43, 47, 43, 30, 51, 36, 30, 37, 55, 23, 32, 45, 27, 24, 39, 35, 19, 48, 83, 63, 58, 82, 60, 28, 42, 30, 79, 96, 79, 91, 59, 89, 72, 92, 96, 65, 49, 70, 68, 91, 68, 71, 63, 100, 42, 94, 49, 95, 65, 85, 92, 57, 41, 67, 77, 34, 74, 70, 40, 65, 42, 38, 46, 54, 83, 54, 19]\n",
      "[18, 18, 19, 18, 18, 19, 19, 18, 18, 18, 18, 19, 22, 19, 36, 27, 39, 18, 28, 24, 18, 18, 19, 30, 19, 45, 38, 24, 19, 62, 48, 43, 41, 43, 47, 43, 30, 51, 36, 30, 37, 55, 23, 32, 45, 27, 24, 39, 35, 19, 48, 83, 63, 58, 82, 60, 28, 42, 30, 79, 96, 79, 91, 59, 89, 72, 92, 96, 65, 49, 70, 68, 91, 68, 71, 63, 100, 42, 94, 49, 95, 65, 85, 92, 57, 41, 67, 77, 34, 74, 70, 40, 65, 42, 38, 46, 54, 83, 54, 19]\n",
      "[18, 18, 19, 18, 18, 19, 19, 18, 18, 18, 18, 19, 22, 19, 36, 27, 39, 18, 28, 24, 18, 18, 19, 30, 19, 45, 38, 24, 19, 62, 48, 43, 41, 43, 47, 43, 30, 51, 36, 30, 37, 55, 23, 32, 45, 27, 24, 39, 35, 19, 48, 83, 63, 58, 82, 60, 28, 42, 30, 79, 96, 79, 91, 59, 89, 72, 92, 96, 65, 49, 70, 68, 91, 68, 71, 63, 100, 42, 94, 49, 95, 65, 85, 92, 57, 41, 67, 77, 34, 74, 70, 40, 65, 42, 38, 46, 54, 83, 54, 19]\n",
      "[18, 18, 19, 18, 18, 19, 19, 18, 18, 18, 18, 19, 22, 19, 36, 27, 39, 18, 28, 24, 18, 18, 19, 30, 19, 45, 38, 24, 19, 62, 48, 43, 41, 43, 47, 43, 30, 51, 36, 30, 37, 55, 23, 32, 45, 27, 24, 39, 35, 19, 48, 83, 63, 58, 82, 60, 28, 42, 30, 79, 96, 79, 91, 59, 89, 72, 92, 96, 65, 49, 70, 68, 91, 68, 71, 63, 100, 42, 94, 49, 95, 65, 85, 92, 57, 41, 67, 77, 34, 74, 70, 40, 65, 42, 38, 46, 54, 83, 54, 19]\n",
      "[18, 18, 19, 18, 18, 19, 19, 18, 18, 18, 18, 19, 22, 19, 36, 27, 39, 18, 28, 24, 18, 18, 19, 30, 19, 45, 38, 24, 19, 62, 48, 43, 41, 43, 47, 43, 30, 51, 36, 30, 37, 55, 23, 32, 45, 27, 24, 39, 35, 19, 48, 83, 63, 58, 82, 60, 28, 42, 30, 79, 96, 79, 91, 59, 89, 72, 92, 96, 65, 49, 70, 68, 91, 68, 71, 63, 100, 42, 94, 49, 95, 65, 85, 92, 57, 41, 67, 77, 34, 74, 70, 40, 65, 42, 38, 46, 54, 83, 54, 19]\n",
      "[18, 18, 19, 18, 18, 19, 19, 18, 18, 18, 18, 19, 22, 19, 36, 27, 39, 18, 28, 24, 18, 18, 19, 30, 19, 45, 38, 24, 19, 62, 48, 43, 41, 43, 47, 43, 30, 51, 36, 30, 37, 55, 23, 32, 45, 27, 24, 39, 35, 19, 48, 83, 63, 58, 82, 60, 28, 42, 30, 79, 96, 79, 91, 59, 89, 72, 92, 96, 65, 49, 70, 68, 91, 68, 71, 63, 100, 42, 94, 49, 95, 65, 85, 92, 57, 41, 67, 77, 34, 74, 70, 40, 65, 42, 38, 46, 54, 83, 54, 19]\n",
      "[18, 18, 19, 18, 18, 19, 19, 18, 18, 18, 18, 19, 22, 19, 36, 27, 39, 18, 28, 24, 18, 18, 19, 30, 19, 45, 38, 24, 19, 62, 48, 43, 41, 43, 47, 43, 30, 51, 36, 30, 37, 55, 23, 32, 45, 27, 24, 39, 35, 19, 48, 83, 63, 58, 82, 60, 28, 42, 30, 79, 96, 79, 91, 59, 89, 72, 92, 96, 65, 49, 70, 68, 91, 68, 71, 63, 100, 42, 94, 49, 95, 65, 85, 92, 57, 41, 67, 77, 34, 74, 70, 40, 65, 42, 38, 46, 54, 83, 54, 19]\n",
      "[18, 18, 19, 18, 18, 19, 19, 18, 18, 18, 18, 19, 22, 19, 36, 27, 39, 18, 28, 24, 18, 18, 19, 30, 19, 45, 38, 24, 19, 62, 48, 43, 41, 43, 47, 43, 30, 51, 36, 30, 37, 55, 23, 32, 45, 27, 24, 39, 35, 19, 48, 83, 63, 58, 82, 60, 28, 42, 30, 79, 96, 79, 91, 59, 89, 72, 92, 96, 65, 49, 70, 68, 91, 68, 71, 63, 100, 42, 94, 49, 95, 65, 85, 92, 57, 41, 67, 77, 34, 74, 70, 40, 65, 42, 38, 46, 54, 83, 54, 19]\n",
      "[18, 18, 19, 18, 18, 19, 19, 18, 18, 18, 18, 19, 22, 19, 36, 27, 39, 18, 28, 24, 18, 18, 19, 30, 19, 45, 38, 24, 19, 62, 48, 43, 41, 43, 47, 43, 30, 51, 36, 30, 37, 55, 23, 32, 45, 27, 24, 39, 35, 19, 48, 83, 63, 58, 82, 60, 28, 42, 30, 79, 96, 79, 91, 59, 89, 72, 92, 96, 65, 49, 70, 68, 91, 68, 71, 63, 100, 42, 94, 49, 95, 65, 85, 92, 57, 41, 67, 77, 34, 74, 70, 40, 65, 42, 38, 46, 54, 83, 54, 19]\n",
      "[18, 18, 19, 18, 18, 19, 19, 18, 18, 18, 18, 19, 22, 19, 36, 27, 39, 18, 28, 24, 18, 18, 19, 30, 19, 45, 38, 24, 19, 62, 48, 43, 41, 43, 47, 43, 30, 51, 36, 30, 37, 55, 23, 32, 45, 27, 24, 39, 35, 19, 48, 83, 63, 58, 82, 60, 28, 42, 30, 79, 96, 79, 91, 59, 89, 72, 92, 96, 65, 49, 70, 68, 91, 68, 71, 63, 100, 42, 94, 49, 95, 65, 85, 92, 57, 41, 67, 77, 34, 74, 70, 40, 65, 42, 38, 46, 54, 83, 54, 19]\n",
      "[18, 18, 19, 18, 18, 19, 19, 18, 18, 18, 18, 19, 22, 19, 36, 27, 39, 18, 28, 24, 18, 18, 19, 30, 19, 45, 38, 24, 19, 62, 48, 43, 41, 43, 47, 43, 30, 51, 36, 30, 37, 55, 23, 32, 45, 27, 24, 39, 35, 19, 48, 83, 63, 58, 82, 60, 28, 42, 30, 79, 96, 79, 91, 59, 89, 72, 92, 96, 65, 49, 70, 68, 91, 68, 71, 63, 100, 42, 94, 49, 95, 65, 85, 92, 57, 41, 67, 77, 34, 74, 70, 40, 65, 42, 38, 46, 54, 83, 54, 19]\n",
      "[18, 18, 19, 18, 18, 19, 19, 18, 18, 18, 18, 19, 22, 19, 36, 27, 39, 18, 28, 24, 18, 18, 19, 30, 19, 45, 38, 24, 19, 62, 48, 43, 41, 43, 47, 43, 30, 51, 36, 30, 37, 55, 23, 32, 45, 27, 24, 39, 35, 19, 48, 83, 63, 58, 82, 60, 28, 42, 30, 79, 96, 79, 91, 59, 89, 72, 92, 96, 65, 49, 70, 68, 91, 68, 71, 63, 100, 42, 94, 49, 95, 65, 85, 92, 57, 41, 67, 77, 34, 74, 70, 40, 65, 42, 38, 46, 54, 83, 54, 19]\n",
      "[18, 18, 19, 18, 18, 19, 19, 18, 18, 18, 18, 19, 22, 19, 36, 27, 39, 18, 28, 24, 18, 18, 19, 30, 19, 45, 38, 24, 19, 62, 48, 43, 41, 43, 47, 43, 30, 51, 36, 30, 37, 55, 23, 32, 45, 27, 24, 39, 35, 19, 48, 83, 63, 58, 82, 60, 28, 42, 30, 79, 96, 79, 91, 59, 89, 72, 92, 96, 65, 49, 70, 68, 91, 68, 71, 63, 100, 42, 94, 49, 95, 65, 85, 92, 57, 41, 67, 77, 34, 74, 70, 40, 65, 42, 38, 46, 54, 83, 54, 19]\n",
      "[18, 18, 19, 18, 18, 19, 19, 18, 18, 18, 18, 19, 22, 19, 36, 27, 39, 18, 28, 24, 18, 18, 19, 30, 19, 45, 38, 24, 19, 62, 48, 43, 41, 43, 47, 43, 30, 51, 36, 30, 37, 55, 23, 32, 45, 27, 24, 39, 35, 19, 48, 83, 63, 58, 82, 60, 28, 42, 30, 79, 96, 79, 91, 59, 89, 72, 92, 96, 65, 49, 70, 68, 91, 68, 71, 63, 100, 42, 94, 49, 95, 65, 85, 92, 57, 41, 67, 77, 34, 74, 70, 40, 65, 42, 38, 46, 54, 83, 54, 19]\n",
      "[18, 18, 19, 18, 18, 19, 19, 18, 18, 18, 18, 19, 22, 19, 36, 27, 39, 18, 28, 24, 18, 18, 19, 30, 19, 45, 38, 24, 19, 62, 48, 43, 41, 43, 47, 43, 30, 51, 36, 30, 37, 55, 23, 32, 45, 27, 24, 39, 35, 19, 48, 83, 63, 58, 82, 60, 28, 42, 30, 79, 96, 79, 91, 59, 89, 72, 92, 96, 65, 49, 70, 68, 91, 68, 71, 63, 100, 42, 94, 49, 95, 65, 85, 92, 57, 41, 67, 77, 34, 74, 70, 40, 65, 42, 38, 46, 54, 83, 54, 19]\n",
      "[18, 18, 19, 18, 18, 19, 19, 18, 18, 18, 18, 19, 22, 19, 36, 27, 39, 18, 28, 24, 18, 18, 19, 30, 19, 45, 38, 24, 19, 62, 48, 43, 41, 43, 47, 43, 30, 51, 36, 30, 37, 55, 23, 32, 45, 27, 24, 39, 35, 19, 48, 83, 63, 58, 82, 60, 28, 42, 30, 79, 96, 79, 91, 59, 89, 72, 92, 96, 65, 49, 70, 68, 91, 68, 71, 63, 100, 42, 94, 49, 95, 65, 85, 92, 57, 41, 67, 77, 34, 74, 70, 40, 65, 42, 38, 46, 54, 83, 54, 19]\n",
      "[18, 18, 19, 18, 18, 19, 19, 18, 18, 18, 18, 19, 22, 19, 36, 27, 39, 18, 28, 24, 18, 18, 19, 30, 19, 45, 38, 24, 19, 62, 48, 43, 41, 43, 47, 43, 30, 51, 36, 30, 37, 55, 23, 32, 45, 27, 24, 39, 35, 19, 48, 83, 63, 58, 82, 60, 28, 42, 30, 79, 96, 79, 91, 59, 89, 72, 92, 96, 65, 49, 70, 68, 91, 68, 71, 63, 100, 42, 94, 49, 95, 65, 85, 92, 57, 41, 67, 77, 34, 74, 70, 40, 65, 42, 38, 46, 54, 83, 54, 19]\n",
      "[18, 18, 19, 18, 18, 19, 19, 18, 18, 18, 18, 19, 22, 19, 36, 27, 39, 18, 28, 24, 18, 18, 19, 30, 19, 45, 38, 24, 19, 62, 48, 43, 41, 43, 47, 43, 30, 51, 36, 30, 37, 55, 23, 32, 45, 27, 24, 39, 35, 19, 48, 83, 63, 58, 82, 60, 28, 42, 30, 79, 96, 79, 91, 59, 89, 72, 92, 96, 65, 49, 70, 68, 91, 68, 71, 63, 100, 42, 94, 49, 95, 65, 85, 92, 57, 41, 67, 77, 34, 74, 70, 40, 65, 42, 38, 46, 54, 83, 54, 19]\n",
      "[18, 18, 19, 18, 18, 19, 19, 18, 18, 18, 18, 19, 22, 19, 36, 27, 39, 18, 28, 24, 18, 18, 19, 30, 19, 45, 38, 24, 19, 62, 48, 43, 41, 43, 47, 43, 30, 51, 36, 30, 37, 55, 23, 32, 45, 27, 24, 39, 35, 19, 48, 83, 63, 58, 82, 60, 28, 42, 30, 79, 96, 79, 91, 59, 89, 72, 92, 96, 65, 49, 70, 68, 91, 68, 71, 63, 100, 42, 94, 49, 95, 65, 85, 92, 57, 41, 67, 77, 34, 74, 70, 40, 65, 42, 38, 46, 54, 83, 54, 19]\n",
      "[18, 18, 19, 18, 18, 19, 19, 18, 18, 18, 18, 19, 22, 19, 36, 27, 39, 18, 28, 24, 18, 18, 19, 30, 19, 45, 38, 24, 19, 62, 48, 43, 41, 43, 47, 43, 30, 51, 36, 30, 37, 55, 23, 32, 45, 27, 24, 39, 35, 19, 48, 83, 63, 58, 82, 60, 28, 42, 30, 79, 96, 79, 91, 59, 89, 72, 92, 96, 65, 49, 70, 68, 91, 68, 71, 63, 100, 42, 94, 49, 95, 65, 85, 92, 57, 41, 67, 77, 34, 74, 70, 40, 65, 42, 38, 46, 54, 83, 54, 19]\n",
      "[18, 18, 19, 18, 18, 19, 19, 18, 18, 18, 18, 19, 22, 19, 36, 27, 39, 18, 28, 24, 18, 18, 19, 30, 19, 45, 38, 24, 19, 62, 48, 43, 41, 43, 47, 43, 30, 51, 36, 30, 37, 55, 23, 32, 45, 27, 24, 39, 35, 19, 48, 83, 63, 58, 82, 60, 28, 42, 30, 79, 96, 79, 91, 59, 89, 72, 92, 96, 65, 49, 70, 68, 91, 68, 71, 63, 100, 42, 94, 49, 95, 65, 85, 92, 57, 41, 67, 77, 34, 74, 70, 40, 65, 42, 38, 46, 54, 83, 54, 19]\n",
      "[18, 18, 19, 18, 18, 19, 19, 18, 18, 18, 18, 19, 22, 19, 36, 27, 39, 18, 28, 24, 18, 18, 19, 30, 19, 45, 38, 24, 19, 62, 48, 43, 41, 43, 47, 43, 30, 51, 36, 30, 37, 55, 23, 32, 45, 27, 24, 39, 35, 19, 48, 83, 63, 58, 82, 60, 28, 42, 30, 79, 96, 79, 91, 59, 89, 72, 92, 96, 65, 49, 70, 68, 91, 68, 71, 63, 100, 42, 94, 49, 95, 65, 85, 92, 57, 41, 67, 77, 34, 74, 70, 40, 65, 42, 38, 46, 54, 83, 54, 19]\n",
      "[18, 18, 19, 18, 18, 19, 19, 18, 18, 18, 18, 19, 22, 19, 36, 27, 39, 18, 28, 24, 18, 18, 19, 30, 19, 45, 38, 24, 19, 62, 48, 43, 41, 43, 47, 43, 30, 51, 36, 30, 37, 55, 23, 32, 45, 27, 24, 39, 35, 19, 48, 83, 63, 58, 82, 60, 28, 42, 30, 79, 96, 79, 91, 59, 89, 72, 92, 96, 65, 49, 70, 68, 91, 68, 71, 63, 100, 42, 94, 49, 95, 65, 85, 92, 57, 41, 67, 77, 34, 74, 70, 40, 65, 42, 38, 46, 54, 83, 54, 19]\n",
      "[18, 18, 19, 18, 18, 19, 19, 18, 18, 18, 18, 19, 22, 19, 36, 27, 39, 18, 28, 24, 18, 18, 19, 30, 19, 45, 38, 24, 19, 62, 48, 43, 41, 43, 47, 43, 30, 51, 36, 30, 37, 55, 23, 32, 45, 27, 24, 39, 35, 19, 48, 83, 63, 58, 82, 60, 28, 42, 30, 79, 96, 79, 91, 59, 89, 72, 92, 96, 65, 49, 70, 68, 91, 68, 71, 63, 100, 42, 94, 49, 95, 65, 85, 92, 57, 41, 67, 77, 34, 74, 70, 40, 65, 42, 38, 46, 54, 83, 54, 19]\n",
      "[18, 18, 19, 18, 18, 19, 19, 18, 18, 18, 18, 19, 22, 19, 36, 27, 39, 18, 28, 24, 18, 18, 19, 30, 19, 45, 38, 24, 19, 62, 48, 43, 41, 43, 47, 43, 30, 51, 36, 30, 37, 55, 23, 32, 45, 27, 24, 39, 35, 19, 48, 83, 63, 58, 82, 60, 28, 42, 30, 79, 96, 79, 91, 59, 89, 72, 92, 96, 65, 49, 70, 68, 91, 68, 71, 63, 100, 42, 94, 49, 95, 65, 85, 92, 57, 41, 67, 77, 34, 74, 70, 40, 65, 42, 38, 46, 54, 83, 54, 19]\n",
      "[18, 18, 19, 18, 18, 19, 19, 18, 18, 18, 18, 19, 22, 19, 36, 27, 39, 18, 28, 24, 18, 18, 19, 30, 19, 45, 38, 24, 19, 62, 48, 43, 41, 43, 47, 43, 30, 51, 36, 30, 37, 55, 23, 32, 45, 27, 24, 39, 35, 19, 48, 83, 63, 58, 82, 60, 28, 42, 30, 79, 96, 79, 91, 59, 89, 72, 92, 96, 65, 49, 70, 68, 91, 68, 71, 63, 100, 42, 94, 49, 95, 65, 85, 92, 57, 41, 67, 77, 34, 74, 70, 40, 65, 42, 38, 46, 54, 83, 54, 19]\n",
      "[18, 18, 19, 18, 18, 19, 19, 18, 18, 18, 18, 19, 22, 19, 36, 27, 39, 18, 28, 24, 18, 18, 19, 30, 19, 45, 38, 24, 19, 62, 48, 43, 41, 43, 47, 43, 30, 51, 36, 30, 37, 55, 23, 32, 45, 27, 24, 39, 35, 19, 48, 83, 63, 58, 82, 60, 28, 42, 30, 79, 96, 79, 91, 59, 89, 72, 92, 96, 65, 49, 70, 68, 91, 68, 71, 63, 100, 42, 94, 49, 95, 65, 85, 92, 57, 41, 67, 77, 34, 74, 70, 40, 65, 42, 38, 46, 54, 83, 54, 19]\n",
      "[18, 18, 19, 18, 18, 19, 19, 18, 18, 18, 18, 19, 22, 19, 36, 27, 39, 18, 28, 24, 18, 18, 19, 30, 19, 45, 38, 24, 19, 62, 48, 43, 41, 43, 47, 43, 30, 51, 36, 30, 37, 55, 23, 32, 45, 27, 24, 39, 35, 19, 48, 83, 63, 58, 82, 60, 28, 42, 30, 79, 96, 79, 91, 59, 89, 72, 92, 96, 65, 49, 70, 68, 91, 68, 71, 63, 100, 42, 94, 49, 95, 65, 85, 92, 57, 41, 67, 77, 34, 74, 70, 40, 65, 42, 38, 46, 54, 83, 54, 19]\n",
      "[18, 18, 19, 18, 18, 19, 19, 18, 18, 18, 18, 19, 22, 19, 36, 27, 39, 18, 28, 24, 18, 18, 19, 30, 19, 45, 38, 24, 19, 62, 48, 43, 41, 43, 47, 43, 30, 51, 36, 30, 37, 55, 23, 32, 45, 27, 24, 39, 35, 19, 48, 83, 63, 58, 82, 60, 28, 42, 30, 79, 96, 79, 91, 59, 89, 72, 92, 96, 65, 49, 70, 68, 91, 68, 71, 63, 100, 42, 94, 49, 95, 65, 85, 92, 57, 41, 67, 77, 34, 74, 70, 40, 65, 42, 38, 46, 54, 83, 54, 19]\n",
      "[18, 18, 19, 18, 18, 19, 19, 18, 18, 18, 18, 19, 22, 19, 36, 27, 39, 18, 28, 24, 18, 18, 19, 30, 19, 45, 38, 24, 19, 62, 48, 43, 41, 43, 47, 43, 30, 51, 36, 30, 37, 55, 23, 32, 45, 27, 24, 39, 35, 19, 48, 83, 63, 58, 82, 60, 28, 42, 30, 79, 96, 79, 91, 59, 89, 72, 92, 96, 65, 49, 70, 68, 91, 68, 71, 63, 100, 42, 94, 49, 95, 65, 85, 92, 57, 41, 67, 77, 34, 74, 70, 40, 65, 42, 38, 46, 54, 83, 54, 19]\n",
      "[18, 18, 19, 18, 18, 19, 19, 18, 18, 18, 18, 19, 22, 19, 36, 27, 39, 18, 28, 24, 18, 18, 19, 30, 19, 45, 38, 24, 19, 62, 48, 43, 41, 43, 47, 43, 30, 51, 36, 30, 37, 55, 23, 32, 45, 27, 24, 39, 35, 19, 48, 83, 63, 58, 82, 60, 28, 42, 30, 79, 96, 79, 91, 59, 89, 72, 92, 96, 65, 49, 70, 68, 91, 68, 71, 63, 100, 42, 94, 49, 95, 65, 85, 92, 57, 41, 67, 77, 34, 74, 70, 40, 65, 42, 38, 46, 54, 83, 54, 19]\n",
      "[18, 18, 19, 18, 18, 19, 19, 18, 18, 18, 18, 19, 22, 19, 36, 27, 39, 18, 28, 24, 18, 18, 19, 30, 19, 45, 38, 24, 19, 62, 48, 43, 41, 43, 47, 43, 30, 51, 36, 30, 37, 55, 23, 32, 45, 27, 24, 39, 35, 19, 48, 83, 63, 58, 82, 60, 28, 42, 30, 79, 96, 79, 91, 59, 89, 72, 92, 96, 65, 49, 70, 68, 91, 68, 71, 63, 100, 42, 94, 49, 95, 65, 85, 92, 57, 41, 67, 77, 34, 74, 70, 40, 65, 42, 38, 46, 54, 83, 54, 19]\n",
      "[18, 18, 19, 18, 18, 19, 19, 18, 18, 18, 18, 19, 22, 19, 36, 27, 39, 18, 28, 24, 18, 18, 19, 30, 19, 45, 38, 24, 19, 62, 48, 43, 41, 43, 47, 43, 30, 51, 36, 30, 37, 55, 23, 32, 45, 27, 24, 39, 35, 19, 48, 83, 63, 58, 82, 60, 28, 42, 30, 79, 96, 79, 91, 59, 89, 72, 92, 96, 65, 49, 70, 68, 91, 68, 71, 63, 100, 42, 94, 49, 95, 65, 85, 92, 57, 41, 67, 77, 34, 74, 70, 40, 65, 42, 38, 46, 54, 83, 54, 19]\n",
      "[18, 18, 19, 18, 18, 19, 19, 18, 18, 18, 18, 19, 22, 19, 36, 27, 39, 18, 28, 24, 18, 18, 19, 30, 19, 45, 38, 24, 19, 62, 48, 43, 41, 43, 47, 43, 30, 51, 36, 30, 37, 55, 23, 32, 45, 27, 24, 39, 35, 19, 48, 83, 63, 58, 82, 60, 28, 42, 30, 79, 96, 79, 91, 59, 89, 72, 92, 96, 65, 49, 70, 68, 91, 68, 71, 63, 100, 42, 94, 49, 95, 65, 85, 92, 57, 41, 67, 77, 34, 74, 70, 40, 65, 42, 38, 46, 54, 83, 54, 19]\n",
      "[18, 18, 19, 18, 18, 19, 19, 18, 18, 18, 18, 19, 22, 19, 36, 27, 39, 18, 28, 24, 18, 18, 19, 30, 19, 45, 38, 24, 19, 62, 48, 43, 41, 43, 47, 43, 30, 51, 36, 30, 37, 55, 23, 32, 45, 27, 24, 39, 35, 19, 48, 83, 63, 58, 82, 60, 28, 42, 30, 79, 96, 79, 91, 59, 89, 72, 92, 96, 65, 49, 70, 68, 91, 68, 71, 63, 100, 42, 94, 49, 95, 65, 85, 92, 57, 41, 67, 77, 34, 74, 70, 40, 65, 42, 38, 46, 54, 83, 54, 19]\n",
      "[18, 18, 19, 18, 18, 19, 19, 18, 18, 18, 18, 19, 22, 19, 36, 27, 39, 18, 28, 24, 18, 18, 19, 30, 19, 45, 38, 24, 19, 62, 48, 43, 41, 43, 47, 43, 30, 51, 36, 30, 37, 55, 23, 32, 45, 27, 24, 39, 35, 19, 48, 83, 63, 58, 82, 60, 28, 42, 30, 79, 96, 79, 91, 59, 89, 72, 92, 96, 65, 49, 70, 68, 91, 68, 71, 63, 100, 42, 94, 49, 95, 65, 85, 92, 57, 41, 67, 77, 34, 74, 70, 40, 65, 42, 38, 46, 54, 83, 54, 19]\n",
      "[18, 18, 19, 18, 18, 19, 19, 18, 18, 18, 18, 19, 22, 19, 36, 27, 39, 18, 28, 24, 18, 18, 19, 30, 19, 45, 38, 24, 19, 62, 48, 43, 41, 43, 47, 43, 30, 51, 36, 30, 37, 55, 23, 32, 45, 27, 24, 39, 35, 19, 48, 83, 63, 58, 82, 60, 28, 42, 30, 79, 96, 79, 91, 59, 89, 72, 92, 96, 65, 49, 70, 68, 91, 68, 71, 63, 100, 42, 94, 49, 95, 65, 85, 92, 57, 41, 67, 77, 34, 74, 70, 40, 65, 42, 38, 46, 54, 83, 54, 19]\n",
      "[18, 18, 19, 18, 18, 19, 19, 18, 18, 18, 18, 19, 22, 19, 36, 27, 39, 18, 28, 24, 18, 18, 19, 30, 19, 45, 38, 24, 19, 62, 48, 43, 41, 43, 47, 43, 30, 51, 36, 30, 37, 55, 23, 32, 45, 27, 24, 39, 35, 19, 48, 83, 63, 58, 82, 60, 28, 42, 30, 79, 96, 79, 91, 59, 89, 72, 92, 96, 65, 49, 70, 68, 91, 68, 71, 63, 100, 42, 94, 49, 95, 65, 85, 92, 57, 41, 67, 77, 34, 74, 70, 40, 65, 42, 38, 46, 54, 83, 54, 19]\n",
      "[18, 18, 19, 18, 18, 19, 19, 18, 18, 18, 18, 19, 22, 19, 36, 27, 39, 18, 28, 24, 18, 18, 19, 30, 19, 45, 38, 24, 19, 62, 48, 43, 41, 43, 47, 43, 30, 51, 36, 30, 37, 55, 23, 32, 45, 27, 24, 39, 35, 19, 48, 83, 63, 58, 82, 60, 28, 42, 30, 79, 96, 79, 91, 59, 89, 72, 92, 96, 65, 49, 70, 68, 91, 68, 71, 63, 100, 42, 94, 49, 95, 65, 85, 92, 57, 41, 67, 77, 34, 74, 70, 40, 65, 42, 38, 46, 54, 83, 54, 19]\n",
      "[18, 18, 19, 18, 18, 19, 19, 18, 18, 18, 18, 19, 22, 19, 36, 27, 39, 18, 28, 24, 18, 18, 19, 30, 19, 45, 38, 24, 19, 62, 48, 43, 41, 43, 47, 43, 30, 51, 36, 30, 37, 55, 23, 32, 45, 27, 24, 39, 35, 19, 48, 83, 63, 58, 82, 60, 28, 42, 30, 79, 96, 79, 91, 59, 89, 72, 92, 96, 65, 49, 70, 68, 91, 68, 71, 63, 100, 42, 94, 49, 95, 65, 85, 92, 57, 41, 67, 77, 34, 74, 70, 40, 65, 42, 38, 46, 54, 83, 54, 19]\n",
      "[18, 18, 19, 18, 18, 19, 19, 18, 18, 18, 18, 19, 22, 19, 36, 27, 39, 18, 28, 24, 18, 18, 19, 30, 19, 45, 38, 24, 19, 62, 48, 43, 41, 43, 47, 43, 30, 51, 36, 30, 37, 55, 23, 32, 45, 27, 24, 39, 35, 19, 48, 83, 63, 58, 82, 60, 28, 42, 30, 79, 96, 79, 91, 59, 89, 72, 92, 96, 65, 49, 70, 68, 91, 68, 71, 63, 100, 42, 94, 49, 95, 65, 85, 92, 57, 41, 67, 77, 34, 74, 70, 40, 65, 42, 38, 46, 54, 83, 54, 19]\n",
      "[18, 18, 19, 18, 18, 19, 19, 18, 18, 18, 18, 19, 22, 19, 36, 27, 39, 18, 28, 24, 18, 18, 19, 30, 19, 45, 38, 24, 19, 62, 48, 43, 41, 43, 47, 43, 30, 51, 36, 30, 37, 55, 23, 32, 45, 27, 24, 39, 35, 19, 48, 83, 63, 58, 82, 60, 28, 42, 30, 79, 96, 79, 91, 59, 89, 72, 92, 96, 65, 49, 70, 68, 91, 68, 71, 63, 100, 42, 94, 49, 95, 65, 85, 92, 57, 41, 67, 77, 34, 74, 70, 40, 65, 42, 38, 46, 54, 83, 54, 19]\n",
      "[18, 18, 19, 18, 18, 19, 19, 18, 18, 18, 18, 19, 22, 19, 36, 27, 39, 18, 28, 24, 18, 18, 19, 30, 19, 45, 38, 24, 19, 62, 48, 43, 41, 43, 47, 43, 30, 51, 36, 30, 37, 55, 23, 32, 45, 27, 24, 39, 35, 19, 48, 83, 63, 58, 82, 60, 28, 42, 30, 79, 96, 79, 91, 59, 89, 72, 92, 96, 65, 49, 70, 68, 91, 68, 71, 63, 100, 42, 94, 49, 95, 65, 85, 92, 57, 41, 67, 77, 34, 74, 70, 40, 65, 42, 38, 46, 54, 83, 54, 19]\n",
      "[18, 18, 19, 18, 18, 19, 19, 18, 18, 18, 18, 19, 22, 19, 36, 27, 39, 18, 28, 24, 18, 18, 19, 30, 19, 45, 38, 24, 19, 62, 48, 43, 41, 43, 47, 43, 30, 51, 36, 30, 37, 55, 23, 32, 45, 27, 24, 39, 35, 19, 48, 83, 63, 58, 82, 60, 28, 42, 30, 79, 96, 79, 91, 59, 89, 72, 92, 96, 65, 49, 70, 68, 91, 68, 71, 63, 100, 42, 94, 49, 95, 65, 85, 92, 57, 41, 67, 77, 34, 74, 70, 40, 65, 42, 38, 46, 54, 83, 54, 19]\n",
      "[18, 18, 19, 18, 18, 19, 19, 18, 18, 18, 18, 19, 22, 19, 36, 27, 39, 18, 28, 24, 18, 18, 19, 30, 19, 45, 38, 24, 19, 62, 48, 43, 41, 43, 47, 43, 30, 51, 36, 30, 37, 55, 23, 32, 45, 27, 24, 39, 35, 19, 48, 83, 63, 58, 82, 60, 28, 42, 30, 79, 96, 79, 91, 59, 89, 72, 92, 96, 65, 49, 70, 68, 91, 68, 71, 63, 100, 42, 94, 49, 95, 65, 85, 92, 57, 41, 67, 77, 34, 74, 70, 40, 65, 42, 38, 46, 54, 83, 54, 19]\n",
      "[18, 18, 19, 18, 18, 19, 19, 18, 18, 18, 18, 19, 22, 19, 36, 27, 39, 18, 28, 24, 18, 18, 19, 30, 19, 45, 38, 24, 19, 62, 48, 43, 41, 43, 47, 43, 30, 51, 36, 30, 37, 55, 23, 32, 45, 27, 24, 39, 35, 19, 48, 83, 63, 58, 82, 60, 28, 42, 30, 79, 96, 79, 91, 59, 89, 72, 92, 96, 65, 49, 70, 68, 91, 68, 71, 63, 100, 42, 94, 49, 95, 65, 85, 92, 57, 41, 67, 77, 34, 74, 70, 40, 65, 42, 38, 46, 54, 83, 54, 19]\n",
      "[18, 18, 19, 18, 18, 19, 19, 18, 18, 18, 18, 19, 22, 19, 36, 27, 39, 18, 28, 24, 18, 18, 19, 30, 19, 45, 38, 24, 19, 62, 48, 43, 41, 43, 47, 43, 30, 51, 36, 30, 37, 55, 23, 32, 45, 27, 24, 39, 35, 19, 48, 83, 63, 58, 82, 60, 28, 42, 30, 79, 96, 79, 91, 59, 89, 72, 92, 96, 65, 49, 70, 68, 91, 68, 71, 63, 100, 42, 94, 49, 95, 65, 85, 92, 57, 41, 67, 77, 34, 74, 70, 40, 65, 42, 38, 46, 54, 83, 54, 19]\n",
      "[18, 18, 19, 18, 18, 19, 19, 18, 18, 18, 18, 19, 22, 19, 36, 27, 39, 18, 28, 24, 18, 18, 19, 30, 19, 45, 38, 24, 19, 62, 48, 43, 41, 43, 47, 43, 30, 51, 36, 30, 37, 55, 23, 32, 45, 27, 24, 39, 35, 19, 48, 83, 63, 58, 82, 60, 28, 42, 30, 79, 96, 79, 91, 59, 89, 72, 92, 96, 65, 49, 70, 68, 91, 68, 71, 63, 100, 42, 94, 49, 95, 65, 85, 92, 57, 41, 67, 77, 34, 74, 70, 40, 65, 42, 38, 46, 54, 83, 54, 19]\n",
      "[18, 18, 19, 18, 18, 19, 19, 18, 18, 18, 18, 19, 22, 19, 36, 27, 39, 18, 28, 24, 18, 18, 19, 30, 19, 45, 38, 24, 19, 62, 48, 43, 41, 43, 47, 43, 30, 51, 36, 30, 37, 55, 23, 32, 45, 27, 24, 39, 35, 19, 48, 83, 63, 58, 82, 60, 28, 42, 30, 79, 96, 79, 91, 59, 89, 72, 92, 96, 65, 49, 70, 68, 91, 68, 71, 63, 100, 42, 94, 49, 95, 65, 85, 92, 57, 41, 67, 77, 34, 74, 70, 40, 65, 42, 38, 46, 54, 83, 54, 19]\n",
      "[18, 18, 19, 18, 18, 19, 19, 18, 18, 18, 18, 19, 22, 19, 36, 27, 39, 18, 28, 24, 18, 18, 19, 30, 19, 45, 38, 24, 19, 62, 48, 43, 41, 43, 47, 43, 30, 51, 36, 30, 37, 55, 23, 32, 45, 27, 24, 39, 35, 19, 48, 83, 63, 58, 82, 60, 28, 42, 30, 79, 96, 79, 91, 59, 89, 72, 92, 96, 65, 49, 70, 68, 91, 68, 71, 63, 100, 42, 94, 49, 95, 65, 85, 92, 57, 41, 67, 77, 34, 74, 70, 40, 65, 42, 38, 46, 54, 83, 54, 19]\n",
      "[18, 18, 19, 18, 18, 19, 19, 18, 18, 18, 18, 19, 22, 19, 36, 27, 39, 18, 28, 24, 18, 18, 19, 30, 19, 45, 38, 24, 19, 62, 48, 43, 41, 43, 47, 43, 30, 51, 36, 30, 37, 55, 23, 32, 45, 27, 24, 39, 35, 19, 48, 83, 63, 58, 82, 60, 28, 42, 30, 79, 96, 79, 91, 59, 89, 72, 92, 96, 65, 49, 70, 68, 91, 68, 71, 63, 100, 42, 94, 49, 95, 65, 85, 92, 57, 41, 67, 77, 34, 74, 70, 40, 65, 42, 38, 46, 54, 83, 54, 19]\n",
      "[18, 18, 19, 18, 18, 19, 19, 18, 18, 18, 18, 19, 22, 19, 36, 27, 39, 18, 28, 24, 18, 18, 19, 30, 19, 45, 38, 24, 19, 62, 48, 43, 41, 43, 47, 43, 30, 51, 36, 30, 37, 55, 23, 32, 45, 27, 24, 39, 35, 19, 48, 83, 63, 58, 82, 60, 28, 42, 30, 79, 96, 79, 91, 59, 89, 72, 92, 96, 65, 49, 70, 68, 91, 68, 71, 63, 100, 42, 94, 49, 95, 65, 85, 92, 57, 41, 67, 77, 34, 74, 70, 40, 65, 42, 38, 46, 54, 83, 54, 19]\n",
      "[18, 18, 19, 18, 18, 19, 19, 18, 18, 18, 18, 19, 22, 19, 36, 27, 39, 18, 28, 24, 18, 18, 19, 30, 19, 45, 38, 24, 19, 62, 48, 43, 41, 43, 47, 43, 30, 51, 36, 30, 37, 55, 23, 32, 45, 27, 24, 39, 35, 19, 48, 83, 63, 58, 82, 60, 28, 42, 30, 79, 96, 79, 91, 59, 89, 72, 92, 96, 65, 49, 70, 68, 91, 68, 71, 63, 100, 42, 94, 49, 95, 65, 85, 92, 57, 41, 67, 77, 34, 74, 70, 40, 65, 42, 38, 46, 54, 83, 54, 19]\n",
      "[18, 18, 19, 18, 18, 19, 19, 18, 18, 18, 18, 19, 22, 19, 36, 27, 39, 18, 28, 24, 18, 18, 19, 30, 19, 45, 38, 24, 19, 62, 48, 43, 41, 43, 47, 43, 30, 51, 36, 30, 37, 55, 23, 32, 45, 27, 24, 39, 35, 19, 48, 83, 63, 58, 82, 60, 28, 42, 30, 79, 96, 79, 91, 59, 89, 72, 92, 96, 65, 49, 70, 68, 91, 68, 71, 63, 100, 42, 94, 49, 95, 65, 85, 92, 57, 41, 67, 77, 34, 74, 70, 40, 65, 42, 38, 46, 54, 83, 54, 19]\n",
      "[18, 18, 19, 18, 18, 19, 19, 18, 18, 18, 18, 19, 22, 19, 36, 27, 39, 18, 28, 24, 18, 18, 19, 30, 19, 45, 38, 24, 19, 62, 48, 43, 41, 43, 47, 43, 30, 51, 36, 30, 37, 55, 23, 32, 45, 27, 24, 39, 35, 19, 48, 83, 63, 58, 82, 60, 28, 42, 30, 79, 96, 79, 91, 59, 89, 72, 92, 96, 65, 49, 70, 68, 91, 68, 71, 63, 100, 42, 94, 49, 95, 65, 85, 92, 57, 41, 67, 77, 34, 74, 70, 40, 65, 42, 38, 46, 54, 83, 54, 19]\n",
      "[18, 18, 19, 18, 18, 19, 19, 18, 18, 18, 18, 19, 22, 19, 36, 27, 39, 18, 28, 24, 18, 18, 19, 30, 19, 45, 38, 24, 19, 62, 48, 43, 41, 43, 47, 43, 30, 51, 36, 30, 37, 55, 23, 32, 45, 27, 24, 39, 35, 19, 48, 83, 63, 58, 82, 60, 28, 42, 30, 79, 96, 79, 91, 59, 89, 72, 92, 96, 65, 49, 70, 68, 91, 68, 71, 63, 100, 42, 94, 49, 95, 65, 85, 92, 57, 41, 67, 77, 34, 74, 70, 40, 65, 42, 38, 46, 54, 83, 54, 19]\n",
      "[18, 18, 19, 18, 18, 19, 19, 18, 18, 18, 18, 19, 22, 19, 36, 27, 39, 18, 28, 24, 18, 18, 19, 30, 19, 45, 38, 24, 19, 62, 48, 43, 41, 43, 47, 43, 30, 51, 36, 30, 37, 55, 23, 32, 45, 27, 24, 39, 35, 19, 48, 83, 63, 58, 82, 60, 28, 42, 30, 79, 96, 79, 91, 59, 89, 72, 92, 96, 65, 49, 70, 68, 91, 68, 71, 63, 100, 42, 94, 49, 95, 65, 85, 92, 57, 41, 67, 77, 34, 74, 70, 40, 65, 42, 38, 46, 54, 83, 54, 19]\n",
      "[18, 18, 19, 18, 18, 19, 19, 18, 18, 18, 18, 19, 22, 19, 36, 27, 39, 18, 28, 24, 18, 18, 19, 30, 19, 45, 38, 24, 19, 62, 48, 43, 41, 43, 47, 43, 30, 51, 36, 30, 37, 55, 23, 32, 45, 27, 24, 39, 35, 19, 48, 83, 63, 58, 82, 60, 28, 42, 30, 79, 96, 79, 91, 59, 89, 72, 92, 96, 65, 49, 70, 68, 91, 68, 71, 63, 100, 42, 94, 49, 95, 65, 85, 92, 57, 41, 67, 77, 34, 74, 70, 40, 65, 42, 38, 46, 54, 83, 54, 19]\n",
      "[18, 18, 19, 18, 18, 19, 19, 18, 18, 18, 18, 19, 22, 19, 36, 27, 39, 18, 28, 24, 18, 18, 19, 30, 19, 45, 38, 24, 19, 62, 48, 43, 41, 43, 47, 43, 30, 51, 36, 30, 37, 55, 23, 32, 45, 27, 24, 39, 35, 19, 48, 83, 63, 58, 82, 60, 28, 42, 30, 79, 96, 79, 91, 59, 89, 72, 92, 96, 65, 49, 70, 68, 91, 68, 71, 63, 100, 42, 94, 49, 95, 65, 85, 92, 57, 41, 67, 77, 34, 74, 70, 40, 65, 42, 38, 46, 54, 83, 54, 19]\n",
      "[18, 18, 19, 18, 18, 19, 19, 18, 18, 18, 18, 19, 22, 19, 36, 27, 39, 18, 28, 24, 18, 18, 19, 30, 19, 45, 38, 24, 19, 62, 48, 43, 41, 43, 47, 43, 30, 51, 36, 30, 37, 55, 23, 32, 45, 27, 24, 39, 35, 19, 48, 83, 63, 58, 82, 60, 28, 42, 30, 79, 96, 79, 91, 59, 89, 72, 92, 96, 65, 49, 70, 68, 91, 68, 71, 63, 100, 42, 94, 49, 95, 65, 85, 92, 57, 41, 67, 77, 34, 74, 70, 40, 65, 42, 38, 46, 54, 83, 54, 19]\n",
      "[18, 18, 19, 18, 18, 19, 19, 18, 18, 18, 18, 19, 22, 19, 36, 27, 39, 18, 28, 24, 18, 18, 19, 30, 19, 45, 38, 24, 19, 62, 48, 43, 41, 43, 47, 43, 30, 51, 36, 30, 37, 55, 23, 32, 45, 27, 24, 39, 35, 19, 48, 83, 63, 58, 82, 60, 28, 42, 30, 79, 96, 79, 91, 59, 89, 72, 92, 96, 65, 49, 70, 68, 91, 68, 71, 63, 100, 42, 94, 49, 95, 65, 85, 92, 57, 41, 67, 77, 34, 74, 70, 40, 65, 42, 38, 46, 54, 83, 54, 19]\n",
      "[18, 18, 19, 18, 18, 19, 19, 18, 18, 18, 18, 19, 22, 19, 36, 27, 39, 18, 28, 24, 18, 18, 19, 30, 19, 45, 38, 24, 19, 62, 48, 43, 41, 43, 47, 43, 30, 51, 36, 30, 37, 55, 23, 32, 45, 27, 24, 39, 35, 19, 48, 83, 63, 58, 82, 60, 28, 42, 30, 79, 96, 79, 91, 59, 89, 72, 92, 96, 65, 49, 70, 68, 91, 68, 71, 63, 100, 42, 94, 49, 95, 65, 85, 92, 57, 41, 67, 77, 34, 74, 70, 40, 65, 42, 38, 46, 54, 83, 54, 19]\n",
      "[18, 18, 19, 18, 18, 19, 19, 18, 18, 18, 18, 19, 22, 19, 36, 27, 39, 18, 28, 24, 18, 18, 19, 30, 19, 45, 38, 24, 19, 62, 48, 43, 41, 43, 47, 43, 30, 51, 36, 30, 37, 55, 23, 32, 45, 27, 24, 39, 35, 19, 48, 83, 63, 58, 82, 60, 28, 42, 30, 79, 96, 79, 91, 59, 89, 72, 92, 96, 65, 49, 70, 68, 91, 68, 71, 63, 100, 42, 94, 49, 95, 65, 85, 92, 57, 41, 67, 77, 34, 74, 70, 40, 65, 42, 38, 46, 54, 83, 54, 19]\n",
      "[18, 18, 19, 18, 18, 19, 19, 18, 18, 18, 18, 19, 22, 19, 36, 27, 39, 18, 28, 24, 18, 18, 19, 30, 19, 45, 38, 24, 19, 62, 48, 43, 41, 43, 47, 43, 30, 51, 36, 30, 37, 55, 23, 32, 45, 27, 24, 39, 35, 19, 48, 83, 63, 58, 82, 60, 28, 42, 30, 79, 96, 79, 91, 59, 89, 72, 92, 96, 65, 49, 70, 68, 91, 68, 71, 63, 100, 42, 94, 49, 95, 65, 85, 92, 57, 41, 67, 77, 34, 74, 70, 40, 65, 42, 38, 46, 54, 83, 54, 19]\n",
      "[18, 18, 19, 18, 18, 19, 19, 18, 18, 18, 18, 19, 22, 19, 36, 27, 39, 18, 28, 24, 18, 18, 19, 30, 19, 45, 38, 24, 19, 62, 48, 43, 41, 43, 47, 43, 30, 51, 36, 30, 37, 55, 23, 32, 45, 27, 24, 39, 35, 19, 48, 83, 63, 58, 82, 60, 28, 42, 30, 79, 96, 79, 91, 59, 89, 72, 92, 96, 65, 49, 70, 68, 91, 68, 71, 63, 100, 42, 94, 49, 95, 65, 85, 92, 57, 41, 67, 77, 34, 74, 70, 40, 65, 42, 38, 46, 54, 83, 54, 19]\n",
      "[18, 18, 19, 18, 18, 19, 19, 18, 18, 18, 18, 19, 22, 19, 36, 27, 39, 18, 28, 24, 18, 18, 19, 30, 19, 45, 38, 24, 19, 62, 48, 43, 41, 43, 47, 43, 30, 51, 36, 30, 37, 55, 23, 32, 45, 27, 24, 39, 35, 19, 48, 83, 63, 58, 82, 60, 28, 42, 30, 79, 96, 79, 91, 59, 89, 72, 92, 96, 65, 49, 70, 68, 91, 68, 71, 63, 100, 42, 94, 49, 95, 65, 85, 92, 57, 41, 67, 77, 34, 74, 70, 40, 65, 42, 38, 46, 54, 83, 54, 19]\n",
      "[18, 18, 19, 18, 18, 19, 19, 18, 18, 18, 18, 19, 22, 19, 36, 27, 39, 18, 28, 24, 18, 18, 19, 30, 19, 45, 38, 24, 19, 62, 48, 43, 41, 43, 47, 43, 30, 51, 36, 30, 37, 55, 23, 32, 45, 27, 24, 39, 35, 19, 48, 83, 63, 58, 82, 60, 28, 42, 30, 79, 96, 79, 91, 59, 89, 72, 92, 96, 65, 49, 70, 68, 91, 68, 71, 63, 100, 42, 94, 49, 95, 65, 85, 92, 57, 41, 67, 77, 34, 74, 70, 40, 65, 42, 38, 46, 54, 83, 54, 19]\n",
      "[18, 18, 19, 18, 18, 19, 19, 18, 18, 18, 18, 19, 22, 19, 36, 27, 39, 18, 28, 24, 18, 18, 19, 30, 19, 45, 38, 24, 19, 62, 48, 43, 41, 43, 47, 43, 30, 51, 36, 30, 37, 55, 23, 32, 45, 27, 24, 39, 35, 19, 48, 83, 63, 58, 82, 60, 28, 42, 30, 79, 96, 79, 91, 59, 89, 72, 92, 96, 65, 49, 70, 68, 91, 68, 71, 63, 100, 42, 94, 49, 95, 65, 85, 92, 57, 41, 67, 77, 34, 74, 70, 40, 65, 42, 38, 46, 54, 83, 54, 19]\n",
      "[18, 18, 19, 18, 18, 19, 19, 18, 18, 18, 18, 19, 22, 19, 36, 27, 39, 18, 28, 24, 18, 18, 19, 30, 19, 45, 38, 24, 19, 62, 48, 43, 41, 43, 47, 43, 30, 51, 36, 30, 37, 55, 23, 32, 45, 27, 24, 39, 35, 19, 48, 83, 63, 58, 82, 60, 28, 42, 30, 79, 96, 79, 91, 59, 89, 72, 92, 96, 65, 49, 70, 68, 91, 68, 71, 63, 100, 42, 94, 49, 95, 65, 85, 92, 57, 41, 67, 77, 34, 74, 70, 40, 65, 42, 38, 46, 54, 83, 54, 19]\n",
      "[18, 18, 19, 18, 18, 19, 19, 18, 18, 18, 18, 19, 22, 19, 36, 27, 39, 18, 28, 24, 18, 18, 19, 30, 19, 45, 38, 24, 19, 62, 48, 43, 41, 43, 47, 43, 30, 51, 36, 30, 37, 55, 23, 32, 45, 27, 24, 39, 35, 19, 48, 83, 63, 58, 82, 60, 28, 42, 30, 79, 96, 79, 91, 59, 89, 72, 92, 96, 65, 49, 70, 68, 91, 68, 71, 63, 100, 42, 94, 49, 95, 65, 85, 92, 57, 41, 67, 77, 34, 74, 70, 40, 65, 42, 38, 46, 54, 83, 54, 19]\n",
      "[18, 18, 19, 18, 18, 19, 19, 18, 18, 18, 18, 19, 22, 19, 36, 27, 39, 18, 28, 24, 18, 18, 19, 30, 19, 45, 38, 24, 19, 62, 48, 43, 41, 43, 47, 43, 30, 51, 36, 30, 37, 55, 23, 32, 45, 27, 24, 39, 35, 19, 48, 83, 63, 58, 82, 60, 28, 42, 30, 79, 96, 79, 91, 59, 89, 72, 92, 96, 65, 49, 70, 68, 91, 68, 71, 63, 100, 42, 94, 49, 95, 65, 85, 92, 57, 41, 67, 77, 34, 74, 70, 40, 65, 42, 38, 46, 54, 83, 54, 19]\n",
      "[18, 18, 19, 18, 18, 19, 19, 18, 18, 18, 18, 19, 22, 19, 36, 27, 39, 18, 28, 24, 18, 18, 19, 30, 19, 45, 38, 24, 19, 62, 48, 43, 41, 43, 47, 43, 30, 51, 36, 30, 37, 55, 23, 32, 45, 27, 24, 39, 35, 19, 48, 83, 63, 58, 82, 60, 28, 42, 30, 79, 96, 79, 91, 59, 89, 72, 92, 96, 65, 49, 70, 68, 91, 68, 71, 63, 100, 42, 94, 49, 95, 65, 85, 92, 57, 41, 67, 77, 34, 74, 70, 40, 65, 42, 38, 46, 54, 83, 54, 19]\n",
      "[18, 18, 19, 18, 18, 19, 19, 18, 18, 18, 18, 19, 22, 19, 36, 27, 39, 18, 28, 24, 18, 18, 19, 30, 19, 45, 38, 24, 19, 62, 48, 43, 41, 43, 47, 43, 30, 51, 36, 30, 37, 55, 23, 32, 45, 27, 24, 39, 35, 19, 48, 83, 63, 58, 82, 60, 28, 42, 30, 79, 96, 79, 91, 59, 89, 72, 92, 96, 65, 49, 70, 68, 91, 68, 71, 63, 100, 42, 94, 49, 95, 65, 85, 92, 57, 41, 67, 77, 34, 74, 70, 40, 65, 42, 38, 46, 54, 83, 54, 19]\n",
      "[18, 18, 19, 18, 18, 19, 19, 18, 18, 18, 18, 19, 22, 19, 36, 27, 39, 18, 28, 24, 18, 18, 19, 30, 19, 45, 38, 24, 19, 62, 48, 43, 41, 43, 47, 43, 30, 51, 36, 30, 37, 55, 23, 32, 45, 27, 24, 39, 35, 19, 48, 83, 63, 58, 82, 60, 28, 42, 30, 79, 96, 79, 91, 59, 89, 72, 92, 96, 65, 49, 70, 68, 91, 68, 71, 63, 100, 42, 94, 49, 95, 65, 85, 92, 57, 41, 67, 77, 34, 74, 70, 40, 65, 42, 38, 46, 54, 83, 54, 19]\n",
      "[18, 18, 19, 18, 18, 19, 19, 18, 18, 18, 18, 19, 22, 19, 36, 27, 39, 18, 28, 24, 18, 18, 19, 30, 19, 45, 38, 24, 19, 62, 48, 43, 41, 43, 47, 43, 30, 51, 36, 30, 37, 55, 23, 32, 45, 27, 24, 39, 35, 19, 48, 83, 63, 58, 82, 60, 28, 42, 30, 79, 96, 79, 91, 59, 89, 72, 92, 96, 65, 49, 70, 68, 91, 68, 71, 63, 100, 42, 94, 49, 95, 65, 85, 92, 57, 41, 67, 77, 34, 74, 70, 40, 65, 42, 38, 46, 54, 83, 54, 19]\n",
      "[18, 18, 19, 18, 18, 19, 19, 18, 18, 18, 18, 19, 22, 19, 36, 27, 39, 18, 28, 24, 18, 18, 19, 30, 19, 45, 38, 24, 19, 62, 48, 43, 41, 43, 47, 43, 30, 51, 36, 30, 37, 55, 23, 32, 45, 27, 24, 39, 35, 19, 48, 83, 63, 58, 82, 60, 28, 42, 30, 79, 96, 79, 91, 59, 89, 72, 92, 96, 65, 49, 70, 68, 91, 68, 71, 63, 100, 42, 94, 49, 95, 65, 85, 92, 57, 41, 67, 77, 34, 74, 70, 40, 65, 42, 38, 46, 54, 83, 54, 19]\n",
      "[18, 18, 19, 18, 18, 19, 19, 18, 18, 18, 18, 19, 22, 19, 36, 27, 39, 18, 28, 24, 18, 18, 19, 30, 19, 45, 38, 24, 19, 62, 48, 43, 41, 43, 47, 43, 30, 51, 36, 30, 37, 55, 23, 32, 45, 27, 24, 39, 35, 19, 48, 83, 63, 58, 82, 60, 28, 42, 30, 79, 96, 79, 91, 59, 89, 72, 92, 96, 65, 49, 70, 68, 91, 68, 71, 63, 100, 42, 94, 49, 95, 65, 85, 92, 57, 41, 67, 77, 34, 74, 70, 40, 65, 42, 38, 46, 54, 83, 54, 19]\n",
      "[18, 18, 19, 18, 18, 19, 19, 18, 18, 18, 18, 19, 22, 19, 36, 27, 39, 18, 28, 24, 18, 18, 19, 30, 19, 45, 38, 24, 19, 62, 48, 43, 41, 43, 47, 43, 30, 51, 36, 30, 37, 55, 23, 32, 45, 27, 24, 39, 35, 19, 48, 83, 63, 58, 82, 60, 28, 42, 30, 79, 96, 79, 91, 59, 89, 72, 92, 96, 65, 49, 70, 68, 91, 68, 71, 63, 100, 42, 94, 49, 95, 65, 85, 92, 57, 41, 67, 77, 34, 74, 70, 40, 65, 42, 38, 46, 54, 83, 54, 19]\n",
      "[18, 18, 19, 18, 18, 19, 19, 18, 18, 18, 18, 19, 22, 19, 36, 27, 39, 18, 28, 24, 18, 18, 19, 30, 19, 45, 38, 24, 19, 62, 48, 43, 41, 43, 47, 43, 30, 51, 36, 30, 37, 55, 23, 32, 45, 27, 24, 39, 35, 19, 48, 83, 63, 58, 82, 60, 28, 42, 30, 79, 96, 79, 91, 59, 89, 72, 92, 96, 65, 49, 70, 68, 91, 68, 71, 63, 100, 42, 94, 49, 95, 65, 85, 92, 57, 41, 67, 77, 34, 74, 70, 40, 65, 42, 38, 46, 54, 83, 54, 19]\n",
      "[18, 18, 19, 18, 18, 19, 19, 18, 18, 18, 18, 19, 22, 19, 36, 27, 39, 18, 28, 24, 18, 18, 19, 30, 19, 45, 38, 24, 19, 62, 48, 43, 41, 43, 47, 43, 30, 51, 36, 30, 37, 55, 23, 32, 45, 27, 24, 39, 35, 19, 48, 83, 63, 58, 82, 60, 28, 42, 30, 79, 96, 79, 91, 59, 89, 72, 92, 96, 65, 49, 70, 68, 91, 68, 71, 63, 100, 42, 94, 49, 95, 65, 85, 92, 57, 41, 67, 77, 34, 74, 70, 40, 65, 42, 38, 46, 54, 83, 54, 19]\n",
      "[18, 18, 19, 18, 18, 19, 19, 18, 18, 18, 18, 19, 22, 19, 36, 27, 39, 18, 28, 24, 18, 18, 19, 30, 19, 45, 38, 24, 19, 62, 48, 43, 41, 43, 47, 43, 30, 51, 36, 30, 37, 55, 23, 32, 45, 27, 24, 39, 35, 19, 48, 83, 63, 58, 82, 60, 28, 42, 30, 79, 96, 79, 91, 59, 89, 72, 92, 96, 65, 49, 70, 68, 91, 68, 71, 63, 100, 42, 94, 49, 95, 65, 85, 92, 57, 41, 67, 77, 34, 74, 70, 40, 65, 42, 38, 46, 54, 83, 54, 19]\n",
      "[18, 18, 19, 18, 18, 19, 19, 18, 18, 18, 18, 19, 22, 19, 36, 27, 39, 18, 28, 24, 18, 18, 19, 30, 19, 45, 38, 24, 19, 62, 48, 43, 41, 43, 47, 43, 30, 51, 36, 30, 37, 55, 23, 32, 45, 27, 24, 39, 35, 19, 48, 83, 63, 58, 82, 60, 28, 42, 30, 79, 96, 79, 91, 59, 89, 72, 92, 96, 65, 49, 70, 68, 91, 68, 71, 63, 100, 42, 94, 49, 95, 65, 85, 92, 57, 41, 67, 77, 34, 74, 70, 40, 65, 42, 38, 46, 54, 83, 54, 19]\n",
      "[18, 18, 19, 18, 18, 19, 19, 18, 18, 18, 18, 19, 22, 19, 36, 27, 39, 18, 28, 24, 18, 18, 19, 30, 19, 45, 38, 24, 19, 62, 48, 43, 41, 43, 47, 43, 30, 51, 36, 30, 37, 55, 23, 32, 45, 27, 24, 39, 35, 19, 48, 83, 63, 58, 82, 60, 28, 42, 30, 79, 96, 79, 91, 59, 89, 72, 92, 96, 65, 49, 70, 68, 91, 68, 71, 63, 100, 42, 94, 49, 95, 65, 85, 92, 57, 41, 67, 77, 34, 74, 70, 40, 65, 42, 38, 46, 54, 83, 54, 19]\n",
      "[18, 18, 19, 18, 18, 19, 19, 18, 18, 18, 18, 19, 22, 19, 36, 27, 39, 18, 28, 24, 18, 18, 19, 30, 19, 45, 38, 24, 19, 62, 48, 43, 41, 43, 47, 43, 30, 51, 36, 30, 37, 55, 23, 32, 45, 27, 24, 39, 35, 19, 48, 83, 63, 58, 82, 60, 28, 42, 30, 79, 96, 79, 91, 59, 89, 72, 92, 96, 65, 49, 70, 68, 91, 68, 71, 63, 100, 42, 94, 49, 95, 65, 85, 92, 57, 41, 67, 77, 34, 74, 70, 40, 65, 42, 38, 46, 54, 83, 54, 19]\n",
      "[18, 18, 19, 18, 18, 19, 19, 18, 18, 18, 18, 19, 22, 19, 36, 27, 39, 18, 28, 24, 18, 18, 19, 30, 19, 45, 38, 24, 19, 62, 48, 43, 41, 43, 47, 43, 30, 51, 36, 30, 37, 55, 23, 32, 45, 27, 24, 39, 35, 19, 48, 83, 63, 58, 82, 60, 28, 42, 30, 79, 96, 79, 91, 59, 89, 72, 92, 96, 65, 49, 70, 68, 91, 68, 71, 63, 100, 42, 94, 49, 95, 65, 85, 92, 57, 41, 67, 77, 34, 74, 70, 40, 65, 42, 38, 46, 54, 83, 54, 19]\n",
      "[18, 18, 19, 18, 18, 19, 19, 18, 18, 18, 18, 19, 22, 19, 36, 27, 39, 18, 28, 24, 18, 18, 19, 30, 19, 45, 38, 24, 19, 62, 48, 43, 41, 43, 47, 43, 30, 51, 36, 30, 37, 55, 23, 32, 45, 27, 24, 39, 35, 19, 48, 83, 63, 58, 82, 60, 28, 42, 30, 79, 96, 79, 91, 59, 89, 72, 92, 96, 65, 49, 70, 68, 91, 68, 71, 63, 100, 42, 94, 49, 95, 65, 85, 92, 57, 41, 67, 77, 34, 74, 70, 40, 65, 42, 38, 46, 54, 83, 54, 19]\n",
      "[18, 18, 19, 18, 18, 19, 19, 18, 18, 18, 18, 19, 22, 19, 36, 27, 39, 18, 28, 24, 18, 18, 19, 30, 19, 45, 38, 24, 19, 62, 48, 43, 41, 43, 47, 43, 30, 51, 36, 30, 37, 55, 23, 32, 45, 27, 24, 39, 35, 19, 48, 83, 63, 58, 82, 60, 28, 42, 30, 79, 96, 79, 91, 59, 89, 72, 92, 96, 65, 49, 70, 68, 91, 68, 71, 63, 100, 42, 94, 49, 95, 65, 85, 92, 57, 41, 67, 77, 34, 74, 70, 40, 65, 42, 38, 46, 54, 83, 54, 19]\n",
      "[18, 18, 19, 18, 18, 19, 19, 18, 18, 18, 18, 19, 22, 19, 36, 27, 39, 18, 28, 24, 18, 18, 19, 30, 19, 45, 38, 24, 19, 62, 48, 43, 41, 43, 47, 43, 30, 51, 36, 30, 37, 55, 23, 32, 45, 27, 24, 39, 35, 19, 48, 83, 63, 58, 82, 60, 28, 42, 30, 79, 96, 79, 91, 59, 89, 72, 92, 96, 65, 49, 70, 68, 91, 68, 71, 63, 100, 42, 94, 49, 95, 65, 85, 92, 57, 41, 67, 77, 34, 74, 70, 40, 65, 42, 38, 46, 54, 83, 54, 19]\n",
      "[18, 18, 19, 18, 18, 19, 19, 18, 18, 18, 18, 19, 22, 19, 36, 27, 39, 18, 28, 24, 18, 18, 19, 30, 19, 45, 38, 24, 19, 62, 48, 43, 41, 43, 47, 43, 30, 51, 36, 30, 37, 55, 23, 32, 45, 27, 24, 39, 35, 19, 48, 83, 63, 58, 82, 60, 28, 42, 30, 79, 96, 79, 91, 59, 89, 72, 92, 96, 65, 49, 70, 68, 91, 68, 71, 63, 100, 42, 94, 49, 95, 65, 85, 92, 57, 41, 67, 77, 34, 74, 70, 40, 65, 42, 38, 46, 54, 83, 54, 19]\n",
      "[18, 18, 19, 18, 18, 19, 19, 18, 18, 18, 18, 19, 22, 19, 36, 27, 39, 18, 28, 24, 18, 18, 19, 30, 19, 45, 38, 24, 19, 62, 48, 43, 41, 43, 47, 43, 30, 51, 36, 30, 37, 55, 23, 32, 45, 27, 24, 39, 35, 19, 48, 83, 63, 58, 82, 60, 28, 42, 30, 79, 96, 79, 91, 59, 89, 72, 92, 96, 65, 49, 70, 68, 91, 68, 71, 63, 100, 42, 94, 49, 95, 65, 85, 92, 57, 41, 67, 77, 34, 74, 70, 40, 65, 42, 38, 46, 54, 83, 54, 19]\n",
      "[18, 18, 19, 18, 18, 19, 19, 18, 18, 18, 18, 19, 22, 19, 36, 27, 39, 18, 28, 24, 18, 18, 19, 30, 19, 45, 38, 24, 19, 62, 48, 43, 41, 43, 47, 43, 30, 51, 36, 30, 37, 55, 23, 32, 45, 27, 24, 39, 35, 19, 48, 83, 63, 58, 82, 60, 28, 42, 30, 79, 96, 79, 91, 59, 89, 72, 92, 96, 65, 49, 70, 68, 91, 68, 71, 63, 100, 42, 94, 49, 95, 65, 85, 92, 57, 41, 67, 77, 34, 74, 70, 40, 65, 42, 38, 46, 54, 83, 54, 19]\n",
      "[18, 18, 19, 18, 18, 19, 19, 18, 18, 18, 18, 19, 22, 19, 36, 27, 39, 18, 28, 24, 18, 18, 19, 30, 19, 45, 38, 24, 19, 62, 48, 43, 41, 43, 47, 43, 30, 51, 36, 30, 37, 55, 23, 32, 45, 27, 24, 39, 35, 19, 48, 83, 63, 58, 82, 60, 28, 42, 30, 79, 96, 79, 91, 59, 89, 72, 92, 96, 65, 49, 70, 68, 91, 68, 71, 63, 100, 42, 94, 49, 95, 65, 85, 92, 57, 41, 67, 77, 34, 74, 70, 40, 65, 42, 38, 46, 54, 83, 54, 19]\n",
      "[18, 18, 19, 18, 18, 19, 19, 18, 18, 18, 18, 19, 22, 19, 36, 27, 39, 18, 28, 24, 18, 18, 19, 30, 19, 45, 38, 24, 19, 62, 48, 43, 41, 43, 47, 43, 30, 51, 36, 30, 37, 55, 23, 32, 45, 27, 24, 39, 35, 19, 48, 83, 63, 58, 82, 60, 28, 42, 30, 79, 96, 79, 91, 59, 89, 72, 92, 96, 65, 49, 70, 68, 91, 68, 71, 63, 100, 42, 94, 49, 95, 65, 85, 92, 57, 41, 67, 77, 34, 74, 70, 40, 65, 42, 38, 46, 54, 83, 54, 19]\n",
      "[18, 18, 19, 18, 18, 19, 19, 18, 18, 18, 18, 19, 22, 19, 36, 27, 39, 18, 28, 24, 18, 18, 19, 30, 19, 45, 38, 24, 19, 62, 48, 43, 41, 43, 47, 43, 30, 51, 36, 30, 37, 55, 23, 32, 45, 27, 24, 39, 35, 19, 48, 83, 63, 58, 82, 60, 28, 42, 30, 79, 96, 79, 91, 59, 89, 72, 92, 96, 65, 49, 70, 68, 91, 68, 71, 63, 100, 42, 94, 49, 95, 65, 85, 92, 57, 41, 67, 77, 34, 74, 70, 40, 65, 42, 38, 46, 54, 83, 54, 19]\n",
      "[18, 18, 19, 18, 18, 19, 19, 18, 18, 18, 18, 19, 22, 19, 36, 27, 39, 18, 28, 24, 18, 18, 19, 30, 19, 45, 38, 24, 19, 62, 48, 43, 41, 43, 47, 43, 30, 51, 36, 30, 37, 55, 23, 32, 45, 27, 24, 39, 35, 19, 48, 83, 63, 58, 82, 60, 28, 42, 30, 79, 96, 79, 91, 59, 89, 72, 92, 96, 65, 49, 70, 68, 91, 68, 71, 63, 100, 42, 94, 49, 95, 65, 85, 92, 57, 41, 67, 77, 34, 74, 70, 40, 65, 42, 38, 46, 54, 83, 54, 19]\n",
      "[18, 18, 19, 18, 18, 19, 19, 18, 18, 18, 18, 19, 22, 19, 36, 27, 39, 18, 28, 24, 18, 18, 19, 30, 19, 45, 38, 24, 19, 62, 48, 43, 41, 43, 47, 43, 30, 51, 36, 30, 37, 55, 23, 32, 45, 27, 24, 39, 35, 19, 48, 83, 63, 58, 82, 60, 28, 42, 30, 79, 96, 79, 91, 59, 89, 72, 92, 96, 65, 49, 70, 68, 91, 68, 71, 63, 100, 42, 94, 49, 95, 65, 85, 92, 57, 41, 67, 77, 34, 74, 70, 40, 65, 42, 38, 46, 54, 83, 54, 19]\n",
      "[18, 18, 19, 18, 18, 19, 19, 18, 18, 18, 18, 19, 22, 19, 36, 27, 39, 18, 28, 24, 18, 18, 19, 30, 19, 45, 38, 24, 19, 62, 48, 43, 41, 43, 47, 43, 30, 51, 36, 30, 37, 55, 23, 32, 45, 27, 24, 39, 35, 19, 48, 83, 63, 58, 82, 60, 28, 42, 30, 79, 96, 79, 91, 59, 89, 72, 92, 96, 65, 49, 70, 68, 91, 68, 71, 63, 100, 42, 94, 49, 95, 65, 85, 92, 57, 41, 67, 77, 34, 74, 70, 40, 65, 42, 38, 46, 54, 83, 54, 19]\n",
      "[18, 18, 19, 18, 18, 19, 19, 18, 18, 18, 18, 19, 22, 19, 36, 27, 39, 18, 28, 24, 18, 18, 19, 30, 19, 45, 38, 24, 19, 62, 48, 43, 41, 43, 47, 43, 30, 51, 36, 30, 37, 55, 23, 32, 45, 27, 24, 39, 35, 19, 48, 83, 63, 58, 82, 60, 28, 42, 30, 79, 96, 79, 91, 59, 89, 72, 92, 96, 65, 49, 70, 68, 91, 68, 71, 63, 100, 42, 94, 49, 95, 65, 85, 92, 57, 41, 67, 77, 34, 74, 70, 40, 65, 42, 38, 46, 54, 83, 54, 19]\n",
      "[18, 18, 19, 18, 18, 19, 19, 18, 18, 18, 18, 19, 22, 19, 36, 27, 39, 18, 28, 24, 18, 18, 19, 30, 19, 45, 38, 24, 19, 62, 48, 43, 41, 43, 47, 43, 30, 51, 36, 30, 37, 55, 23, 32, 45, 27, 24, 39, 35, 19, 48, 83, 63, 58, 82, 60, 28, 42, 30, 79, 96, 79, 91, 59, 89, 72, 92, 96, 65, 49, 70, 68, 91, 68, 71, 63, 100, 42, 94, 49, 95, 65, 85, 92, 57, 41, 67, 77, 34, 74, 70, 40, 65, 42, 38, 46, 54, 83, 54, 19]\n",
      "[18, 18, 19, 18, 18, 19, 19, 18, 18, 18, 18, 19, 22, 19, 36, 27, 39, 18, 28, 24, 18, 18, 19, 30, 19, 45, 38, 24, 19, 62, 48, 43, 41, 43, 47, 43, 30, 51, 36, 30, 37, 55, 23, 32, 45, 27, 24, 39, 35, 19, 48, 83, 63, 58, 82, 60, 28, 42, 30, 79, 96, 79, 91, 59, 89, 72, 92, 96, 65, 49, 70, 68, 91, 68, 71, 63, 100, 42, 94, 49, 95, 65, 85, 92, 57, 41, 67, 77, 34, 74, 70, 40, 65, 42, 38, 46, 54, 83, 54, 19]\n",
      "[18, 18, 19, 18, 18, 19, 19, 18, 18, 18, 18, 19, 22, 19, 36, 27, 39, 18, 28, 24, 18, 18, 19, 30, 19, 45, 38, 24, 19, 62, 48, 43, 41, 43, 47, 43, 30, 51, 36, 30, 37, 55, 23, 32, 45, 27, 24, 39, 35, 19, 48, 83, 63, 58, 82, 60, 28, 42, 30, 79, 96, 79, 91, 59, 89, 72, 92, 96, 65, 49, 70, 68, 91, 68, 71, 63, 100, 42, 94, 49, 95, 65, 85, 92, 57, 41, 67, 77, 34, 74, 70, 40, 65, 42, 38, 46, 54, 83, 54, 19]\n",
      "[18, 18, 19, 18, 18, 19, 19, 18, 18, 18, 18, 19, 22, 19, 36, 27, 39, 18, 28, 24, 18, 18, 19, 30, 19, 45, 38, 24, 19, 62, 48, 43, 41, 43, 47, 43, 30, 51, 36, 30, 37, 55, 23, 32, 45, 27, 24, 39, 35, 19, 48, 83, 63, 58, 82, 60, 28, 42, 30, 79, 96, 79, 91, 59, 89, 72, 92, 96, 65, 49, 70, 68, 91, 68, 71, 63, 100, 42, 94, 49, 95, 65, 85, 92, 57, 41, 67, 77, 34, 74, 70, 40, 65, 42, 38, 46, 54, 83, 54, 19]\n",
      "[18, 18, 19, 18, 18, 19, 19, 18, 18, 18, 18, 19, 22, 19, 36, 27, 39, 18, 28, 24, 18, 18, 19, 30, 19, 45, 38, 24, 19, 62, 48, 43, 41, 43, 47, 43, 30, 51, 36, 30, 37, 55, 23, 32, 45, 27, 24, 39, 35, 19, 48, 83, 63, 58, 82, 60, 28, 42, 30, 79, 96, 79, 91, 59, 89, 72, 92, 96, 65, 49, 70, 68, 91, 68, 71, 63, 100, 42, 94, 49, 95, 65, 85, 92, 57, 41, 67, 77, 34, 74, 70, 40, 65, 42, 38, 46, 54, 83, 54, 19]\n",
      "[18, 18, 19, 18, 18, 19, 19, 18, 18, 18, 18, 19, 22, 19, 36, 27, 39, 18, 28, 24, 18, 18, 19, 30, 19, 45, 38, 24, 19, 62, 48, 43, 41, 43, 47, 43, 30, 51, 36, 30, 37, 55, 23, 32, 45, 27, 24, 39, 35, 19, 48, 83, 63, 58, 82, 60, 28, 42, 30, 79, 96, 79, 91, 59, 89, 72, 92, 96, 65, 49, 70, 68, 91, 68, 71, 63, 100, 42, 94, 49, 95, 65, 85, 92, 57, 41, 67, 77, 34, 74, 70, 40, 65, 42, 38, 46, 54, 83, 54, 19]\n",
      "[18, 18, 19, 18, 18, 19, 19, 18, 18, 18, 18, 19, 22, 19, 36, 27, 39, 18, 28, 24, 18, 18, 19, 30, 19, 45, 38, 24, 19, 62, 48, 43, 41, 43, 47, 43, 30, 51, 36, 30, 37, 55, 23, 32, 45, 27, 24, 39, 35, 19, 48, 83, 63, 58, 82, 60, 28, 42, 30, 79, 96, 79, 91, 59, 89, 72, 92, 96, 65, 49, 70, 68, 91, 68, 71, 63, 100, 42, 94, 49, 95, 65, 85, 92, 57, 41, 67, 77, 34, 74, 70, 40, 65, 42, 38, 46, 54, 83, 54, 19]\n",
      "[18, 18, 19, 18, 18, 19, 19, 18, 18, 18, 18, 19, 22, 19, 36, 27, 39, 18, 28, 24, 18, 18, 19, 30, 19, 45, 38, 24, 19, 62, 48, 43, 41, 43, 47, 43, 30, 51, 36, 30, 37, 55, 23, 32, 45, 27, 24, 39, 35, 19, 48, 83, 63, 58, 82, 60, 28, 42, 30, 79, 96, 79, 91, 59, 89, 72, 92, 96, 65, 49, 70, 68, 91, 68, 71, 63, 100, 42, 94, 49, 95, 65, 85, 92, 57, 41, 67, 77, 34, 74, 70, 40, 65, 42, 38, 46, 54, 83, 54, 19]\n",
      "[18, 18, 19, 18, 18, 19, 19, 18, 18, 18, 18, 19, 22, 19, 36, 27, 39, 18, 28, 24, 18, 18, 19, 30, 19, 45, 38, 24, 19, 62, 48, 43, 41, 43, 47, 43, 30, 51, 36, 30, 37, 55, 23, 32, 45, 27, 24, 39, 35, 19, 48, 83, 63, 58, 82, 60, 28, 42, 30, 79, 96, 79, 91, 59, 89, 72, 92, 96, 65, 49, 70, 68, 91, 68, 71, 63, 100, 42, 94, 49, 95, 65, 85, 92, 57, 41, 67, 77, 34, 74, 70, 40, 65, 42, 38, 46, 54, 83, 54, 19]\n",
      "[18, 18, 19, 18, 18, 19, 19, 18, 18, 18, 18, 19, 22, 19, 36, 27, 39, 18, 28, 24, 18, 18, 19, 30, 19, 45, 38, 24, 19, 62, 48, 43, 41, 43, 47, 43, 30, 51, 36, 30, 37, 55, 23, 32, 45, 27, 24, 39, 35, 19, 48, 83, 63, 58, 82, 60, 28, 42, 30, 79, 96, 79, 91, 59, 89, 72, 92, 96, 65, 49, 70, 68, 91, 68, 71, 63, 100, 42, 94, 49, 95, 65, 85, 92, 57, 41, 67, 77, 34, 74, 70, 40, 65, 42, 38, 46, 54, 83, 54, 19]\n",
      "[18, 18, 19, 18, 18, 19, 19, 18, 18, 18, 18, 19, 22, 19, 36, 27, 39, 18, 28, 24, 18, 18, 19, 30, 19, 45, 38, 24, 19, 62, 48, 43, 41, 43, 47, 43, 30, 51, 36, 30, 37, 55, 23, 32, 45, 27, 24, 39, 35, 19, 48, 83, 63, 58, 82, 60, 28, 42, 30, 79, 96, 79, 91, 59, 89, 72, 92, 96, 65, 49, 70, 68, 91, 68, 71, 63, 100, 42, 94, 49, 95, 65, 85, 92, 57, 41, 67, 77, 34, 74, 70, 40, 65, 42, 38, 46, 54, 83, 54, 19]\n",
      "[18, 18, 19, 18, 18, 19, 19, 18, 18, 18, 18, 19, 22, 19, 36, 27, 39, 18, 28, 24, 18, 18, 19, 30, 19, 45, 38, 24, 19, 62, 48, 43, 41, 43, 47, 43, 30, 51, 36, 30, 37, 55, 23, 32, 45, 27, 24, 39, 35, 19, 48, 83, 63, 58, 82, 60, 28, 42, 30, 79, 96, 79, 91, 59, 89, 72, 92, 96, 65, 49, 70, 68, 91, 68, 71, 63, 100, 42, 94, 49, 95, 65, 85, 92, 57, 41, 67, 77, 34, 74, 70, 40, 65, 42, 38, 46, 54, 83, 54, 19]\n",
      "[18, 18, 19, 18, 18, 19, 19, 18, 18, 18, 18, 19, 22, 19, 36, 27, 39, 18, 28, 24, 18, 18, 19, 30, 19, 45, 38, 24, 19, 62, 48, 43, 41, 43, 47, 43, 30, 51, 36, 30, 37, 55, 23, 32, 45, 27, 24, 39, 35, 19, 48, 83, 63, 58, 82, 60, 28, 42, 30, 79, 96, 79, 91, 59, 89, 72, 92, 96, 65, 49, 70, 68, 91, 68, 71, 63, 100, 42, 94, 49, 95, 65, 85, 92, 57, 41, 67, 77, 34, 74, 70, 40, 65, 42, 38, 46, 54, 83, 54, 19]\n",
      "[18, 18, 19, 18, 18, 19, 19, 18, 18, 18, 18, 19, 22, 19, 36, 27, 39, 18, 28, 24, 18, 18, 19, 30, 19, 45, 38, 24, 19, 62, 48, 43, 41, 43, 47, 43, 30, 51, 36, 30, 37, 55, 23, 32, 45, 27, 24, 39, 35, 19, 48, 83, 63, 58, 82, 60, 28, 42, 30, 79, 96, 79, 91, 59, 89, 72, 92, 96, 65, 49, 70, 68, 91, 68, 71, 63, 100, 42, 94, 49, 95, 65, 85, 92, 57, 41, 67, 77, 34, 74, 70, 40, 65, 42, 38, 46, 54, 83, 54, 19]\n",
      "[18, 18, 19, 18, 18, 19, 19, 18, 18, 18, 18, 19, 22, 19, 36, 27, 39, 18, 28, 24, 18, 18, 19, 30, 19, 45, 38, 24, 19, 62, 48, 43, 41, 43, 47, 43, 30, 51, 36, 30, 37, 55, 23, 32, 45, 27, 24, 39, 35, 19, 48, 83, 63, 58, 82, 60, 28, 42, 30, 79, 96, 79, 91, 59, 89, 72, 92, 96, 65, 49, 70, 68, 91, 68, 71, 63, 100, 42, 94, 49, 95, 65, 85, 92, 57, 41, 67, 77, 34, 74, 70, 40, 65, 42, 38, 46, 54, 83, 54, 19]\n",
      "[18, 18, 19, 18, 18, 19, 19, 18, 18, 18, 18, 19, 22, 19, 36, 27, 39, 18, 28, 24, 18, 18, 19, 30, 19, 45, 38, 24, 19, 62, 48, 43, 41, 43, 47, 43, 30, 51, 36, 30, 37, 55, 23, 32, 45, 27, 24, 39, 35, 19, 48, 83, 63, 58, 82, 60, 28, 42, 30, 79, 96, 79, 91, 59, 89, 72, 92, 96, 65, 49, 70, 68, 91, 68, 71, 63, 100, 42, 94, 49, 95, 65, 85, 92, 57, 41, 67, 77, 34, 74, 70, 40, 65, 42, 38, 46, 54, 83, 54, 19]\n",
      "[18, 18, 19, 18, 18, 19, 19, 18, 18, 18, 18, 19, 22, 19, 36, 27, 39, 18, 28, 24, 18, 18, 19, 30, 19, 45, 38, 24, 19, 62, 48, 43, 41, 43, 47, 43, 30, 51, 36, 30, 37, 55, 23, 32, 45, 27, 24, 39, 35, 19, 48, 83, 63, 58, 82, 60, 28, 42, 30, 79, 96, 79, 91, 59, 89, 72, 92, 96, 65, 49, 70, 68, 91, 68, 71, 63, 100, 42, 94, 49, 95, 65, 85, 92, 57, 41, 67, 77, 34, 74, 70, 40, 65, 42, 38, 46, 54, 83, 54, 19]\n",
      "[18, 18, 19, 18, 18, 19, 19, 18, 18, 18, 18, 19, 22, 19, 36, 27, 39, 18, 28, 24, 18, 18, 19, 30, 19, 45, 38, 24, 19, 62, 48, 43, 41, 43, 47, 43, 30, 51, 36, 30, 37, 55, 23, 32, 45, 27, 24, 39, 35, 19, 48, 83, 63, 58, 82, 60, 28, 42, 30, 79, 96, 79, 91, 59, 89, 72, 92, 96, 65, 49, 70, 68, 91, 68, 71, 63, 100, 42, 94, 49, 95, 65, 85, 92, 57, 41, 67, 77, 34, 74, 70, 40, 65, 42, 38, 46, 54, 83, 54, 19]\n",
      "[18, 18, 19, 18, 18, 19, 19, 18, 18, 18, 18, 19, 22, 19, 36, 27, 39, 18, 28, 24, 18, 18, 19, 30, 19, 45, 38, 24, 19, 62, 48, 43, 41, 43, 47, 43, 30, 51, 36, 30, 37, 55, 23, 32, 45, 27, 24, 39, 35, 19, 48, 83, 63, 58, 82, 60, 28, 42, 30, 79, 96, 79, 91, 59, 89, 72, 92, 96, 65, 49, 70, 68, 91, 68, 71, 63, 100, 42, 94, 49, 95, 65, 85, 92, 57, 41, 67, 77, 34, 74, 70, 40, 65, 42, 38, 46, 54, 83, 54, 19]\n",
      "[18, 18, 19, 18, 18, 19, 19, 18, 18, 18, 18, 19, 22, 19, 36, 27, 39, 18, 28, 24, 18, 18, 19, 30, 19, 45, 38, 24, 19, 62, 48, 43, 41, 43, 47, 43, 30, 51, 36, 30, 37, 55, 23, 32, 45, 27, 24, 39, 35, 19, 48, 83, 63, 58, 82, 60, 28, 42, 30, 79, 96, 79, 91, 59, 89, 72, 92, 96, 65, 49, 70, 68, 91, 68, 71, 63, 100, 42, 94, 49, 95, 65, 85, 92, 57, 41, 67, 77, 34, 74, 70, 40, 65, 42, 38, 46, 54, 83, 54, 19]\n",
      "[18, 18, 19, 18, 18, 19, 19, 18, 18, 18, 18, 19, 22, 19, 36, 27, 39, 18, 28, 24, 18, 18, 19, 30, 19, 45, 38, 24, 19, 62, 48, 43, 41, 43, 47, 43, 30, 51, 36, 30, 37, 55, 23, 32, 45, 27, 24, 39, 35, 19, 48, 83, 63, 58, 82, 60, 28, 42, 30, 79, 96, 79, 91, 59, 89, 72, 92, 96, 65, 49, 70, 68, 91, 68, 71, 63, 100, 42, 94, 49, 95, 65, 85, 92, 57, 41, 67, 77, 34, 74, 70, 40, 65, 42, 38, 46, 54, 83, 54, 19]\n",
      "[18, 18, 19, 18, 18, 19, 19, 18, 18, 18, 18, 19, 22, 19, 36, 27, 39, 18, 28, 24, 18, 18, 19, 30, 19, 45, 38, 24, 19, 62, 48, 43, 41, 43, 47, 43, 30, 51, 36, 30, 37, 55, 23, 32, 45, 27, 24, 39, 35, 19, 48, 83, 63, 58, 82, 60, 28, 42, 30, 79, 96, 79, 91, 59, 89, 72, 92, 96, 65, 49, 70, 68, 91, 68, 71, 63, 100, 42, 94, 49, 95, 65, 85, 92, 57, 41, 67, 77, 34, 74, 70, 40, 65, 42, 38, 46, 54, 83, 54, 19]\n",
      "[18, 18, 19, 18, 18, 19, 19, 18, 18, 18, 18, 19, 22, 19, 36, 27, 39, 18, 28, 24, 18, 18, 19, 30, 19, 45, 38, 24, 19, 62, 48, 43, 41, 43, 47, 43, 30, 51, 36, 30, 37, 55, 23, 32, 45, 27, 24, 39, 35, 19, 48, 83, 63, 58, 82, 60, 28, 42, 30, 79, 96, 79, 91, 59, 89, 72, 92, 96, 65, 49, 70, 68, 91, 68, 71, 63, 100, 42, 94, 49, 95, 65, 85, 92, 57, 41, 67, 77, 34, 74, 70, 40, 65, 42, 38, 46, 54, 83, 54, 19]\n",
      "[18, 18, 19, 18, 18, 19, 19, 18, 18, 18, 18, 19, 22, 19, 36, 27, 39, 18, 28, 24, 18, 18, 19, 30, 19, 45, 38, 24, 19, 62, 48, 43, 41, 43, 47, 43, 30, 51, 36, 30, 37, 55, 23, 32, 45, 27, 24, 39, 35, 19, 48, 83, 63, 58, 82, 60, 28, 42, 30, 79, 96, 79, 91, 59, 89, 72, 92, 96, 65, 49, 70, 68, 91, 68, 71, 63, 100, 42, 94, 49, 95, 65, 85, 92, 57, 41, 67, 77, 34, 74, 70, 40, 65, 42, 38, 46, 54, 83, 54, 19]\n",
      "[18, 18, 19, 18, 18, 19, 19, 18, 18, 18, 18, 19, 22, 19, 36, 27, 39, 18, 28, 24, 18, 18, 19, 30, 19, 45, 38, 24, 19, 62, 48, 43, 41, 43, 47, 43, 30, 51, 36, 30, 37, 55, 23, 32, 45, 27, 24, 39, 35, 19, 48, 83, 63, 58, 82, 60, 28, 42, 30, 79, 96, 79, 91, 59, 89, 72, 92, 96, 65, 49, 70, 68, 91, 68, 71, 63, 100, 42, 94, 49, 95, 65, 85, 92, 57, 41, 67, 77, 34, 74, 70, 40, 65, 42, 38, 46, 54, 83, 54, 19]\n",
      "[18, 18, 19, 18, 18, 19, 19, 18, 18, 18, 18, 19, 22, 19, 36, 27, 39, 18, 28, 24, 18, 18, 19, 30, 19, 45, 38, 24, 19, 62, 48, 43, 41, 43, 47, 43, 30, 51, 36, 30, 37, 55, 23, 32, 45, 27, 24, 39, 35, 19, 48, 83, 63, 58, 82, 60, 28, 42, 30, 79, 96, 79, 91, 59, 89, 72, 92, 96, 65, 49, 70, 68, 91, 68, 71, 63, 100, 42, 94, 49, 95, 65, 85, 92, 57, 41, 67, 77, 34, 74, 70, 40, 65, 42, 38, 46, 54, 83, 54, 19]\n",
      "[18, 18, 19, 18, 18, 19, 19, 18, 18, 18, 18, 19, 22, 19, 36, 27, 39, 18, 28, 24, 18, 18, 19, 30, 19, 45, 38, 24, 19, 62, 48, 43, 41, 43, 47, 43, 30, 51, 36, 30, 37, 55, 23, 32, 45, 27, 24, 39, 35, 19, 48, 83, 63, 58, 82, 60, 28, 42, 30, 79, 96, 79, 91, 59, 89, 72, 92, 96, 65, 49, 70, 68, 91, 68, 71, 63, 100, 42, 94, 49, 95, 65, 85, 92, 57, 41, 67, 77, 34, 74, 70, 40, 65, 42, 38, 46, 54, 83, 54, 19]\n",
      "[18, 18, 19, 18, 18, 19, 19, 18, 18, 18, 18, 19, 22, 19, 36, 27, 39, 18, 28, 24, 18, 18, 19, 30, 19, 45, 38, 24, 19, 62, 48, 43, 41, 43, 47, 43, 30, 51, 36, 30, 37, 55, 23, 32, 45, 27, 24, 39, 35, 19, 48, 83, 63, 58, 82, 60, 28, 42, 30, 79, 96, 79, 91, 59, 89, 72, 92, 96, 65, 49, 70, 68, 91, 68, 71, 63, 100, 42, 94, 49, 95, 65, 85, 92, 57, 41, 67, 77, 34, 74, 70, 40, 65, 42, 38, 46, 54, 83, 54, 19]\n",
      "[18, 18, 19, 18, 18, 19, 19, 18, 18, 18, 18, 19, 22, 19, 36, 27, 39, 18, 28, 24, 18, 18, 19, 30, 19, 45, 38, 24, 19, 62, 48, 43, 41, 43, 47, 43, 30, 51, 36, 30, 37, 55, 23, 32, 45, 27, 24, 39, 35, 19, 48, 83, 63, 58, 82, 60, 28, 42, 30, 79, 96, 79, 91, 59, 89, 72, 92, 96, 65, 49, 70, 68, 91, 68, 71, 63, 100, 42, 94, 49, 95, 65, 85, 92, 57, 41, 67, 77, 34, 74, 70, 40, 65, 42, 38, 46, 54, 83, 54, 19]\n",
      "[18, 18, 19, 18, 18, 19, 19, 18, 18, 18, 18, 19, 22, 19, 36, 27, 39, 18, 28, 24, 18, 18, 19, 30, 19, 45, 38, 24, 19, 62, 48, 43, 41, 43, 47, 43, 30, 51, 36, 30, 37, 55, 23, 32, 45, 27, 24, 39, 35, 19, 48, 83, 63, 58, 82, 60, 28, 42, 30, 79, 96, 79, 91, 59, 89, 72, 92, 96, 65, 49, 70, 68, 91, 68, 71, 63, 100, 42, 94, 49, 95, 65, 85, 92, 57, 41, 67, 77, 34, 74, 70, 40, 65, 42, 38, 46, 54, 83, 54, 19]\n",
      "[18, 18, 19, 18, 18, 19, 19, 18, 18, 18, 18, 19, 22, 19, 36, 27, 39, 18, 28, 24, 18, 18, 19, 30, 19, 45, 38, 24, 19, 62, 48, 43, 41, 43, 47, 43, 30, 51, 36, 30, 37, 55, 23, 32, 45, 27, 24, 39, 35, 19, 48, 83, 63, 58, 82, 60, 28, 42, 30, 79, 96, 79, 91, 59, 89, 72, 92, 96, 65, 49, 70, 68, 91, 68, 71, 63, 100, 42, 94, 49, 95, 65, 85, 92, 57, 41, 67, 77, 34, 74, 70, 40, 65, 42, 38, 46, 54, 83, 54, 19]\n",
      "[18, 18, 19, 18, 18, 19, 19, 18, 18, 18, 18, 19, 22, 19, 36, 27, 39, 18, 28, 24, 18, 18, 19, 30, 19, 45, 38, 24, 19, 62, 48, 43, 41, 43, 47, 43, 30, 51, 36, 30, 37, 55, 23, 32, 45, 27, 24, 39, 35, 19, 48, 83, 63, 58, 82, 60, 28, 42, 30, 79, 96, 79, 91, 59, 89, 72, 92, 96, 65, 49, 70, 68, 91, 68, 71, 63, 100, 42, 94, 49, 95, 65, 85, 92, 57, 41, 67, 77, 34, 74, 70, 40, 65, 42, 38, 46, 54, 83, 54, 19]\n",
      "[18, 18, 19, 18, 18, 19, 19, 18, 18, 18, 18, 19, 22, 19, 36, 27, 39, 18, 28, 24, 18, 18, 19, 30, 19, 45, 38, 24, 19, 62, 48, 43, 41, 43, 47, 43, 30, 51, 36, 30, 37, 55, 23, 32, 45, 27, 24, 39, 35, 19, 48, 83, 63, 58, 82, 60, 28, 42, 30, 79, 96, 79, 91, 59, 89, 72, 92, 96, 65, 49, 70, 68, 91, 68, 71, 63, 100, 42, 94, 49, 95, 65, 85, 92, 57, 41, 67, 77, 34, 74, 70, 40, 65, 42, 38, 46, 54, 83, 54, 19]\n",
      "[18, 18, 19, 18, 18, 19, 19, 18, 18, 18, 18, 19, 22, 19, 36, 27, 39, 18, 28, 24, 18, 18, 19, 30, 19, 45, 38, 24, 19, 62, 48, 43, 41, 43, 47, 43, 30, 51, 36, 30, 37, 55, 23, 32, 45, 27, 24, 39, 35, 19, 48, 83, 63, 58, 82, 60, 28, 42, 30, 79, 96, 79, 91, 59, 89, 72, 92, 96, 65, 49, 70, 68, 91, 68, 71, 63, 100, 42, 94, 49, 95, 65, 85, 92, 57, 41, 67, 77, 34, 74, 70, 40, 65, 42, 38, 46, 54, 83, 54, 19]\n",
      "[18, 18, 19, 18, 18, 19, 19, 18, 18, 18, 18, 19, 22, 19, 36, 27, 39, 18, 28, 24, 18, 18, 19, 30, 19, 45, 38, 24, 19, 62, 48, 43, 41, 43, 47, 43, 30, 51, 36, 30, 37, 55, 23, 32, 45, 27, 24, 39, 35, 19, 48, 83, 63, 58, 82, 60, 28, 42, 30, 79, 96, 79, 91, 59, 89, 72, 92, 96, 65, 49, 70, 68, 91, 68, 71, 63, 100, 42, 94, 49, 95, 65, 85, 92, 57, 41, 67, 77, 34, 74, 70, 40, 65, 42, 38, 46, 54, 83, 54, 19]\n",
      "-1\n"
     ]
    }
   ],
   "source": [
    "from queue import PriorityQueue\n",
    "T = 10\n",
    "\n",
    "for test_case in range(1, T + 1):\n",
    "    damp = int(input())\n",
    "    box = list(map(int, input().split()))\n",
    "    box = PriorityQueue(box)\n",
    "    for _ in damp:\n",
    "        box.get()"
   ]
  },
  {
   "cell_type": "code",
   "execution_count": 18,
   "metadata": {},
   "outputs": [
    {
     "name": "stdout",
     "output_type": "stream",
     "text": [
      "#1 7\n",
      "#2 11\n"
     ]
    }
   ],
   "source": [
    "def dfs(index, score):\n",
    "    global max_score\n",
    "    # 현재 점수 합을 max_score에 추가 (중복 제거)\n",
    "    if score not in max_score:\n",
    "        max_score.append(score)\n",
    "    \n",
    "    # 모든 요소를 탐색한 경우 종료\n",
    "    if index == N:\n",
    "        return\n",
    "    \n",
    "    # 현재 index의 요소를 포함하지 않는 경우\n",
    "    dfs(index + 1, score)\n",
    "    \n",
    "    # 현재 index의 요소를 포함하는 경우\n",
    "    dfs(index + 1, score + score_list[index])\n",
    "\n",
    "T = int(input())\n",
    "\n",
    "for test_case in range(1, T + 1):\n",
    "    N = int(input())\n",
    "    score_list = list(map(int, input().split()))\n",
    "    max_score = []\n",
    "    \n",
    "    # DFS 탐색 시작\n",
    "    dfs(0, 0)\n",
    "    \n",
    "    # 출력\n",
    "    print(f'#{test_case} {len(max_score)}')  # 가능한 점수 조합의 개수를 출력\n",
    "\n"
   ]
  },
  {
   "cell_type": "code",
   "execution_count": null,
   "metadata": {},
   "outputs": [
    {
     "ename": "ValueError",
     "evalue": "invalid literal for int() with base 10: ''",
     "output_type": "error",
     "traceback": [
      "\u001b[1;31m---------------------------------------------------------------------------\u001b[0m",
      "\u001b[1;31mValueError\u001b[0m                                Traceback (most recent call last)",
      "Cell \u001b[1;32mIn[27], line 3\u001b[0m\n\u001b[0;32m      1\u001b[0m T \u001b[38;5;241m=\u001b[39m \u001b[38;5;241m10\u001b[39m\n\u001b[0;32m      2\u001b[0m \u001b[38;5;28;01mfor\u001b[39;00m test_case \u001b[38;5;129;01min\u001b[39;00m \u001b[38;5;28mrange\u001b[39m(\u001b[38;5;241m1\u001b[39m, T \u001b[38;5;241m+\u001b[39m \u001b[38;5;241m1\u001b[39m):\n\u001b[1;32m----> 3\u001b[0m     word_len \u001b[38;5;241m=\u001b[39m \u001b[38;5;28;43mint\u001b[39;49m\u001b[43m(\u001b[49m\u001b[38;5;28;43minput\u001b[39;49m\u001b[43m(\u001b[49m\u001b[43m)\u001b[49m\u001b[43m)\u001b[49m\n\u001b[0;32m      4\u001b[0m     board \u001b[38;5;241m=\u001b[39m []\n\u001b[0;32m      5\u001b[0m     ans \u001b[38;5;241m=\u001b[39m \u001b[38;5;241m0\u001b[39m\n",
      "\u001b[1;31mValueError\u001b[0m: invalid literal for int() with base 10: ''"
     ]
    }
   ],
   "source": [
    "T = 10\n",
    "for test_case in range(1, T + 1):\n",
    "    word_len = int(input())\n",
    "    board = []\n",
    "    check_list_row = []\n",
    "    check_list_col = []\n",
    "    ans = 0\n",
    "    for _ in range(8):\n",
    "        board_list = list(input())\n",
    "        board.append(board_list)\n",
    "\n",
    "    for i in range(8):\n",
    "        for j in range(8 - word_len):\n",
    "            check = 0\n",
    "            for k in range(1, word_len//2 + 1):\n",
    "                if board[i][j+k-1] != board[i][j+(word_len-k)]:\n",
    "                    check = 1\n",
    "                    break\n",
    "            if check == 0:\n",
    "                ans += 1\n",
    "\n",
    "    for i in range(8):\n",
    "        for j in range(8 - word_len):\n",
    "            check = 0\n",
    "            for k in range(1, word_len//2 + 1):\n",
    "                if board[j+k-1][i] != board[j+(word_len-k)][i]:\n",
    "                    check = 1\n",
    "                    break\n",
    "            if check == 0:\n",
    "                ans += 1\n",
    "    print(f'#{test_case} {ans}')\n",
    "\n",
    "                \n",
    "\n",
    "\n",
    "    "
   ]
  },
  {
   "cell_type": "code",
   "execution_count": 25,
   "metadata": {},
   "outputs": [
    {
     "data": {
      "text/plain": [
       "1"
      ]
     },
     "execution_count": 25,
     "metadata": {},
     "output_type": "execute_result"
    }
   ],
   "source": [
    "ans"
   ]
  },
  {
   "cell_type": "code",
   "execution_count": 6,
   "metadata": {},
   "outputs": [],
   "source": [
    "board_list = [1,2,3,4]"
   ]
  },
  {
   "cell_type": "code",
   "execution_count": 7,
   "metadata": {},
   "outputs": [
    {
     "data": {
      "text/plain": [
       "4"
      ]
     },
     "execution_count": 7,
     "metadata": {},
     "output_type": "execute_result"
    }
   ],
   "source": [
    "board_list.pop()"
   ]
  },
  {
   "cell_type": "code",
   "execution_count": 8,
   "metadata": {},
   "outputs": [
    {
     "data": {
      "text/plain": [
       "[1, 2, 3]"
      ]
     },
     "execution_count": 8,
     "metadata": {},
     "output_type": "execute_result"
    }
   ],
   "source": [
    "board_list"
   ]
  },
  {
   "cell_type": "code",
   "execution_count": null,
   "metadata": {},
   "outputs": [
    {
     "name": "stdout",
     "output_type": "stream",
     "text": [
      "#0 51\n"
     ]
    }
   ],
   "source": [
    "T = int(input())\n",
    "for test_case in range(1,T):\n",
    "    bit = list(input())\n",
    "    check = '0'\n",
    "    ans = 0\n",
    "    for i in range(len(bit)):\n",
    "        if bit[i] != check:\n",
    "            check = bit[i]\n",
    "            ans += 1\n",
    "    print(f\"#{test_case} {ans}\")"
   ]
  },
  {
   "cell_type": "code",
   "execution_count": null,
   "metadata": {},
   "outputs": [],
   "source": [
    "def dfs():\n",
    "T = int(input())\n",
    "for test_case in range(1, T + 1):\n"
   ]
  },
  {
   "cell_type": "code",
   "execution_count": 37,
   "metadata": {},
   "outputs": [
    {
     "name": "stdout",
     "output_type": "stream",
     "text": [
      "#1 23\n"
     ]
    }
   ],
   "source": [
    "def dfs(x, y, count, board, unique_numbers, word):\n",
    "    # 7자리 숫자가 완성되면 set에 추가\n",
    "    if count == 7:\n",
    "        unique_numbers.add(word)\n",
    "        return\n",
    "    \n",
    "    # 동서남북 방향 이동\n",
    "    dx = [1, -1, 0, 0]\n",
    "    dy = [0, 0, 1, -1]\n",
    "    \n",
    "    for i in range(4):\n",
    "        tx = x + dx[i]\n",
    "        ty = y + dy[i]\n",
    "        # 격자판 범위 내에서만 이동\n",
    "        if 0 <= tx < 4 and 0 <= ty < 4:\n",
    "            # 다음 칸으로 이동하며 count 증가, word에 숫자 추가\n",
    "            dfs(tx, ty, count + 1, board, unique_numbers, word + str(board[tx][ty]))\n",
    "\n",
    "T = int(input())\n",
    "for test_case in range(1, T + 1):\n",
    "    board = [list(map(int, input().split())) for _ in range(4)]\n",
    "    unique_numbers = set()\n",
    "    \n",
    "    # 모든 위치에서 DFS 시작\n",
    "    for i in range(4):\n",
    "        for j in range(4):\n",
    "            dfs(i, j, 1, board, unique_numbers, str(board[i][j]))\n",
    "    \n",
    "    ans = len(unique_numbers)\n",
    "    print(f'#{test_case} {ans}')\n"
   ]
  },
  {
   "cell_type": "code",
   "execution_count": 34,
   "metadata": {},
   "outputs": [
    {
     "data": {
      "text/plain": [
       "[[1, 1, 1, 1], [1, 1, 1, 1], [1, 1, 1, 1], [1, 1, 1, 1]]"
      ]
     },
     "execution_count": 34,
     "metadata": {},
     "output_type": "execute_result"
    }
   ],
   "source": [
    "board"
   ]
  },
  {
   "cell_type": "code",
   "execution_count": 38,
   "metadata": {},
   "outputs": [
    {
     "ename": "ValueError",
     "evalue": "invalid literal for int() with base 10: '100 1 0 0 0 0 0 0 0 2 0 0 0 1 0 1 1 0 2 0 0 1 0 2 0 2 2 1 0 0 0 0 0 1 0 0 2 0 0 0 0 0 1 2 0 0 0 1 1 0 0 0 0 2 0 0 0 0 1 0 0 0 0 0 2 0 0 0 2 0 0 0 0 0 0 0 0 0 1 0 0 0 0 0 0 0 0 0 0 1 0 0 0 0 0 0 0 0 2",
     "output_type": "error",
     "traceback": [
      "\u001b[1;31m---------------------------------------------------------------------------\u001b[0m",
      "\u001b[1;31mValueError\u001b[0m                                Traceback (most recent call last)",
      "Cell \u001b[1;32mIn[38], line 1\u001b[0m\n\u001b[1;32m----> 1\u001b[0m T \u001b[38;5;241m=\u001b[39m \u001b[38;5;28;43mint\u001b[39;49m\u001b[43m(\u001b[49m\u001b[38;5;28;43minput\u001b[39;49m\u001b[43m(\u001b[49m\u001b[43m)\u001b[49m\u001b[43m)\u001b[49m\n\u001b[0;32m      3\u001b[0m \u001b[38;5;28;01mfor\u001b[39;00m test_case \u001b[38;5;129;01min\u001b[39;00m \u001b[38;5;28mrange\u001b[39m(\u001b[38;5;241m1\u001b[39m, T \u001b[38;5;241m+\u001b[39m \u001b[38;5;241m1\u001b[39m):\n\u001b[0;32m      4\u001b[0m     N \u001b[38;5;241m=\u001b[39m \u001b[38;5;28mint\u001b[39m(\u001b[38;5;28minput\u001b[39m())\n",
      "\u001b[1;31mValueError\u001b[0m: invalid literal for int() with base 10: '100 1 0 0 0 0 0 0 0 2 0 0 0 1 0 1 1 0 2 0 0 1 0 2 0 2 2 1 0 0 0 0 0 1 0 0 2 0 0 0 0 0 1 2 0 0 0 1 1 0 0 0 0 2 0 0 0 0 1 0 0 0 0 0 2 0 0 0 2 0 0 0 0 0 0 0 0 0 1 0 0 0 0 0 0 0 0 0 0 1 0 0 0 0 0 0 0 0 2"
     ]
    }
   ],
   "source": [
    "T = int(input())\n",
    "\n",
    "for test_case in range(1, T + 1):\n",
    "    N = int(input())\n",
    "    board = [list(map(int, input().split())) for _ in range(N)]\n",
    "    n_check = False\n",
    "    ans = 0\n",
    "    for i in range(N):\n",
    "        for j in range(N):\n",
    "            if board[j][i] == 1:\n",
    "                n_check = True\n",
    "            if board[j][i] == 2 and n_check:\n",
    "                ans += 1\n",
    "                n_check = False\n",
    "    print(f\"#{test_case} {ans}\")"
   ]
  },
  {
   "cell_type": "code",
   "execution_count": 39,
   "metadata": {},
   "outputs": [
    {
     "ename": "ValueError",
     "evalue": "invalid literal for int() with base 10: ''",
     "output_type": "error",
     "traceback": [
      "\u001b[1;31m---------------------------------------------------------------------------\u001b[0m",
      "\u001b[1;31mValueError\u001b[0m                                Traceback (most recent call last)",
      "Cell \u001b[1;32mIn[39], line 19\u001b[0m\n\u001b[0;32m     17\u001b[0m T \u001b[38;5;241m=\u001b[39m \u001b[38;5;241m10\u001b[39m\n\u001b[0;32m     18\u001b[0m \u001b[38;5;28;01mfor\u001b[39;00m _ \u001b[38;5;129;01min\u001b[39;00m \u001b[38;5;28mrange\u001b[39m(T):\n\u001b[1;32m---> 19\u001b[0m     test_case \u001b[38;5;241m=\u001b[39m \u001b[38;5;28;43mint\u001b[39;49m\u001b[43m(\u001b[49m\u001b[38;5;28;43minput\u001b[39;49m\u001b[43m(\u001b[49m\u001b[43m)\u001b[49m\u001b[43m)\u001b[49m\n\u001b[0;32m     20\u001b[0m     board \u001b[38;5;241m=\u001b[39m [\u001b[38;5;28mlist\u001b[39m(\u001b[38;5;28minput\u001b[39m()) \u001b[38;5;28;01mfor\u001b[39;00m _ \u001b[38;5;129;01min\u001b[39;00m \u001b[38;5;28mrange\u001b[39m(\u001b[38;5;241m16\u001b[39m)]\n\u001b[0;32m     21\u001b[0m     visited \u001b[38;5;241m=\u001b[39m [[\u001b[38;5;28;01mFalse\u001b[39;00m]\u001b[38;5;241m*\u001b[39m\u001b[38;5;241m16\u001b[39m \u001b[38;5;28;01mfor\u001b[39;00m _ \u001b[38;5;129;01min\u001b[39;00m \u001b[38;5;28mrange\u001b[39m(\u001b[38;5;241m16\u001b[39m)]\n",
      "\u001b[1;31mValueError\u001b[0m: invalid literal for int() with base 10: ''"
     ]
    }
   ],
   "source": [
    "def dfs(x, y):\n",
    "    \n",
    "    if board[x][y] == '3':\n",
    "        return 1\n",
    "    visited[x][y] = True\n",
    "    dx = [1, -1, 0, 0]\n",
    "    dy = [0, 0, -1, 1]\n",
    "    for i in range(4):\n",
    "        tx = x + dx[i]\n",
    "        ty = y + dy[i]\n",
    "        if 0<=tx<16 and 0<=ty<16 and not visited[tx][ty]:\n",
    "            if board[tx][ty] == '0' or board[tx][ty] == '3':\n",
    "                if dfs(tx, ty):\n",
    "                    return 1\n",
    "    return 0\n",
    "\n",
    "T = 10\n",
    "for _ in range(T):\n",
    "    test_case = int(input())\n",
    "    board = [list(input()) for _ in range(16)]\n",
    "    visited = [[False]*16 for _ in range(16)]\n",
    "    ans = dfs(1,1)\n",
    "    print(f\"#{test_case} {ans}\")\n",
    "            "
   ]
  },
  {
   "cell_type": "code",
   "execution_count": 40,
   "metadata": {},
   "outputs": [
    {
     "name": "stdout",
     "output_type": "stream",
     "text": [
      "{('23888', 1): 83882}\n",
      "{('23888', 1): 83882, ('82388', 1): 88382}\n",
      "{('23888', 1): 83882, ('82388', 1): 88382, ('82838', 1): 88832}\n",
      "{('23888', 1): 83882, ('82388', 1): 88382, ('82838', 1): 88832, ('82883', 1): 88823}\n",
      "{('23888', 1): 83882, ('82388', 1): 88382, ('82838', 1): 88832, ('82883', 1): 88823, ('38288', 1): 88283}\n",
      "{('23888', 1): 83882, ('82388', 1): 88382, ('82838', 1): 88832, ('82883', 1): 88823, ('38288', 1): 88283, ('38828', 1): 88823}\n",
      "{('23888', 1): 83882, ('82388', 1): 88382, ('82838', 1): 88832, ('82883', 1): 88823, ('38288', 1): 88283, ('38828', 1): 88823, ('38882', 1): 88832}\n",
      "{('23888', 1): 83882, ('82388', 1): 88382, ('82838', 1): 88832, ('82883', 1): 88823, ('38288', 1): 88283, ('38828', 1): 88823, ('38882', 1): 88832, ('32888', 1): 82883}\n",
      "{('23888', 1): 83882, ('82388', 1): 88382, ('82838', 1): 88832, ('82883', 1): 88823, ('38288', 1): 88283, ('38828', 1): 88823, ('38882', 1): 88832, ('32888', 1): 82883, ('32888', 2): 88832}\n",
      "#1 88832\n"
     ]
    }
   ],
   "source": [
    "def dfs(num:list, count:int, memo:dict):\n",
    "    num_str = \"\".join(num)\n",
    "    if (num_str, count) in memo:\n",
    "        return memo[(num_str, count)]\n",
    "    if count == 0:\n",
    "        return int(num_str)\n",
    "    max_score = 0\n",
    "    for i in range(len(num)):\n",
    "        for j in range(i+1, len(num)):\n",
    "            num[i], num[j] = num[j], num[i]\n",
    "            max_score = max(max_score, dfs(num,count-1, memo))\n",
    "            num[i], num[j] = num[j], num[i]\n",
    "    memo[num_str, count] = max_score\n",
    "    print(memo)\n",
    "    return max_score\n",
    "\n",
    "T = int(input())\n",
    "for test_case in range(1 , T + 1):\n",
    "    num, count = map(str, input().split())\n",
    "    num = list(num)\n",
    "    count = int(count)\n",
    "    memo = {}\n",
    "    score = dfs(num, count, memo)\n",
    "    print(f'#{test_case} {score}')\n",
    "\n"
   ]
  },
  {
   "cell_type": "code",
   "execution_count": null,
   "metadata": {},
   "outputs": [],
   "source": [
    "def dfs(index, current_sum, N, K, num_list):\n",
    "    if current_sum == K:\n",
    "        return 1\n",
    "    if index >= N or current_sum > K:\n",
    "        return 0\n",
    "    count = 0\n",
    "    count += dfs(index+1, current_sum, N, K, num_list)\n",
    "    count += dfs(index+1, current_sum + num_list[index], N, K, num_list)\n",
    "    return count\n",
    "T = int(input())\n",
    "\n",
    "for test_case in range(1, T + 1):\n",
    "    N, K = map(int, input().split())\n",
    "    num_list = list(map(int, input().split()))\n",
    "    ans = dfs(0, 0, N, K, num_list)\n",
    "    print(f'{test_case} {ans}')\n",
    "    "
   ]
  },
  {
   "cell_type": "code",
   "execution_count": null,
   "metadata": {},
   "outputs": [
    {
     "ename": "ValueError",
     "evalue": "invalid literal for int() with base 10: ''",
     "output_type": "error",
     "traceback": [
      "\u001b[1;31m---------------------------------------------------------------------------\u001b[0m",
      "\u001b[1;31mValueError\u001b[0m                                Traceback (most recent call last)",
      "Cell \u001b[1;32mIn[41], line 4\u001b[0m\n\u001b[0;32m      1\u001b[0m T \u001b[38;5;241m=\u001b[39m \u001b[38;5;241m10\u001b[39m\n\u001b[0;32m      3\u001b[0m \u001b[38;5;28;01mfor\u001b[39;00m _ \u001b[38;5;129;01min\u001b[39;00m \u001b[38;5;28mrange\u001b[39m(T):\n\u001b[1;32m----> 4\u001b[0m     test_case \u001b[38;5;241m=\u001b[39m \u001b[38;5;28;43mint\u001b[39;49m\u001b[43m(\u001b[49m\u001b[38;5;28;43minput\u001b[39;49m\u001b[43m(\u001b[49m\u001b[43m)\u001b[49m\u001b[43m)\u001b[49m\n\u001b[0;32m      5\u001b[0m     board \u001b[38;5;241m=\u001b[39m [\u001b[38;5;28mlist\u001b[39m(\u001b[38;5;28mmap\u001b[39m(\u001b[38;5;28mint\u001b[39m, \u001b[38;5;28minput\u001b[39m()\u001b[38;5;241m.\u001b[39msplit())) \u001b[38;5;28;01mfor\u001b[39;00m _ \u001b[38;5;129;01min\u001b[39;00m \u001b[38;5;28mrange\u001b[39m(\u001b[38;5;241m100\u001b[39m)]\n",
      "\u001b[1;31mValueError\u001b[0m: invalid literal for int() with base 10: ''"
     ]
    }
   ],
   "source": [
    "T = 10\n",
    "\n",
    "for _ in range(T):\n",
    "    test_case = int(input())\n",
    "    board = [list(map(int, input().split())) for _ in range(100)]\n",
    "    visited = [[False] * 100 for _ in range(100)]\n",
    "    ans = 0\n",
    "    d = [(1, 0), (0, 1), (0, -1)]\n",
    "    for i in range(100):\n",
    "        j = 0\n",
    "        ans = i\n",
    "        if board[j][i] == 1:\n",
    "            k = i\n",
    "            while j < 99:\n",
    "                for dx, dy in d:\n",
    "                    j += dx\n",
    "                    k += dy\n",
    "                    if 0<= j < 100 and 0<= k < 100 and not visited[j][k]:\n",
    "                        visited[j][k] = True\n",
    "                        if board[j][k]==1:\n",
    "                            break\n",
    "                        else:\n",
    "                            j -= dx\n",
    "                            k -= dy\n",
    "            if board[j][k] == 2:\n",
    "                break   \n",
    "    print(f\"#{test_case} {ans}\")"
   ]
  },
  {
   "cell_type": "code",
   "execution_count": 63,
   "metadata": {},
   "outputs": [
    {
     "name": "stdout",
     "output_type": "stream",
     "text": [
      "#1 6 2 2 9 4 1 3 0\n"
     ]
    }
   ],
   "source": [
    "from collections import deque\n",
    "T = 1 \n",
    "\n",
    "for _ in range(1):\n",
    "    test_case = int(input())\n",
    "    pw = list(map(int, input().split()))\n",
    "    pw = deque(pw)\n",
    "    i = 0\n",
    "    while pw[-1] > 0:\n",
    "        i = i % 5\n",
    "        pw[0] -= (i+1)\n",
    "        if pw[0] < 0:\n",
    "            pw[0] = 0\n",
    "        pw.append(pw.popleft())\n",
    "        i += 1\n",
    "    pw = list(pw)\n",
    "    ans = ' '.join(map(str, pw))\n",
    "    print(f\"#{test_case} {ans}\")"
   ]
  },
  {
   "cell_type": "code",
   "execution_count": null,
   "metadata": {},
   "outputs": [],
   "source": [
    "def dfs(index, str_list:list):\n",
    "    if index <=max_score:\n",
    "        return max_score\n",
    "    if str_list.sort(reverse=True) == str_list:\n",
    "        return len(str_list)\n",
    "    index -= 1\n",
    "    max_score = dfs(index, str_list[:index])\n",
    "    return max_score\n",
    "T = 10\n",
    "for _ in range(T):\n",
    "    test_case = int(input())\n",
    "    board = [list(map(str, input().split())) for _ in range(100)]\n",
    "    for i in range(100):\n",
    "        right_list = board[i][:]\n",
    "        down_list = board[:][i]\n",
    "        max_score = max(dfs(100, right_list), dfs(100, down_list))\n",
    "    print(f\"#{test_case} {max_score}\")\n"
   ]
  },
  {
   "cell_type": "code",
   "execution_count": null,
   "metadata": {},
   "outputs": [
    {
     "ename": "SyntaxError",
     "evalue": "incomplete input (3752950405.py, line 9)",
     "output_type": "error",
     "traceback": [
      "\u001b[1;36m  Cell \u001b[1;32mIn[64], line 9\u001b[1;36m\u001b[0m\n\u001b[1;33m    for i in range(0, len(node_list), 2):\u001b[0m\n\u001b[1;37m                                         ^\u001b[0m\n\u001b[1;31mSyntaxError\u001b[0m\u001b[1;31m:\u001b[0m incomplete input\n"
     ]
    }
   ],
   "source": [
    "def dfs(node_index, count):\n",
    "    global max_score\n",
    "    visited[node_index] = True\n",
    "    if count >= max_score[1]:\n",
    "        if count > max_score[1] or node_index > max_score[0]:\n",
    "            max_score = [node_index, count]\n",
    "    \n",
    "    for i in node.get(node_index, []):\n",
    "        if not visited[i]:\n",
    "            dfs(i, count+1)\n",
    "    \n",
    "    return max_score\n",
    "\n",
    "T = 10\n",
    "\n",
    "for test_case in range(1, T+1):\n",
    "    N, K = map(int, input().split())\n",
    "    node_list = list(map(int, input().split()))\n",
    "    node = {}\n",
    "    max_score = [0,0]\n",
    "    visited = [False] * 101\n",
    "    for i in range(0, len(node_list), 2):\n",
    "        from_node, to_node = node_list[i], node_list[i + 1]\n",
    "        if from_node not in node:\n",
    "            node[from_node] = []\n",
    "        if to_node not in node[from_node]:\n",
    "            node[from_node].append(to_node)\n",
    "    max_score = dfs(K,0)\n",
    "    print(f\"#{test_case} {max_score[0]}\")\n",
    "    "
   ]
  },
  {
   "cell_type": "code",
   "execution_count": null,
   "metadata": {},
   "outputs": [],
   "source": [
    "def dfs(i, j):\n",
    "    if memo[i,j] != -1:\n",
    "        return memo[i,j]\n",
    "    \n",
    "    max_path = 1\n",
    "\n",
    "    dx = [1,-1,0,0]\n",
    "    dy = [0,0,-1,1]\n",
    "    for k in range(4):\n",
    "        x = i + dx[k]\n",
    "        y = j + dy[k]\n",
    "        if 0<=x<N and 0<=y<N and (board[x][y] - board[i][j]) == 1:\n",
    "            max_path = max(max_path, dfs(x,y) + 1)\n",
    "    memo[i][j] = max_path\n",
    "    return memo[i][j]\n",
    "            \n",
    "        \n",
    "    \n",
    "T = int(input())\n",
    "for test_case in range(1, 1+T):\n",
    "    N = int(input())\n",
    "    board = [list(map(int, input().split())) for _ in range(N)]\n",
    "    memo = [[-1]*N for _ in range(N)]\n",
    "    max_count = [1000001,0]\n",
    "    for i in range(N):\n",
    "        for j in range(N):\n",
    "            index = board[i][j]\n",
    "            count = dfs(i, j)\n",
    "            if max_count[1] > count or (max_count[1] == count and max_count[0] > index):\n",
    "                max_count = [index, count]\n",
    "    print(f\"#{test_case} {max_count[0]} {max_count[1]}\")"
   ]
  }
 ],
 "metadata": {
  "kernelspec": {
   "display_name": "Python 3",
   "language": "python",
   "name": "python3"
  },
  "language_info": {
   "codemirror_mode": {
    "name": "ipython",
    "version": 3
   },
   "file_extension": ".py",
   "mimetype": "text/x-python",
   "name": "python",
   "nbconvert_exporter": "python",
   "pygments_lexer": "ipython3",
   "version": "3.11.2"
  }
 },
 "nbformat": 4,
 "nbformat_minor": 2
}
