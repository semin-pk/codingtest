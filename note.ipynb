{
 "cells": [
  {
   "cell_type": "markdown",
   "metadata": {},
   "source": [
    "문자열 s에는 공백으로 구분된 숫자들이 저장되어 있습니다. str에 나타나는 숫자 중 최소값과 최대값을 찾아 이를 \"(최소값) (최대값)\"형태의 문자열을 반환하는 함수, solution을 완성하세요.\n",
    "예를들어 s가 \"1 2 3 4\"라면 \"1 4\"를 리턴하고, \"-1 -2 -3 -4\"라면 \"-4 -1\"을 리턴하면 됩니다."
   ]
  },
  {
   "cell_type": "code",
   "execution_count": null,
   "metadata": {},
   "outputs": [],
   "source": [
    "\n",
    "def solution(s):\n",
    "    s = list(map(int,s.split())) #중요한 문법\n",
    "\n",
    "    return str(min(s)) + \" \" + str(max(s))"
   ]
  },
  {
   "cell_type": "markdown",
   "metadata": {},
   "source": [
    "길이가 같은 배열 A, B 두개가 있습니다. 각 배열은 자연수로 이루어져 있습니다.\n",
    "배열 A, B에서 각각 한 개의 숫자를 뽑아 두 수를 곱합니다. 이러한 과정을 배열의 길이만큼 반복하며, 두 수를 곱한 값을 누적하여 더합니다. 이때 최종적으로 누적된 값이 최소가 되도록 만드는 것이 목표입니다. (단, 각 배열에서 k번째 숫자를 뽑았다면 다음에 k번째 숫자는 다시 뽑을 수 없습니다.)\n",
    "\n",
    "예를 들어 A = [1, 4, 2] , B = [5, 4, 4] 라면\n",
    "\n",
    "A에서 첫번째 숫자인 1, B에서 첫번째 숫자인 5를 뽑아 곱하여 더합니다. (누적된 값 : 0 + 5(1x5) = 5)\n",
    "A에서 두번째 숫자인 4, B에서 세번째 숫자인 4를 뽑아 곱하여 더합니다. (누적된 값 : 5 + 16(4x4) = 21)\n",
    "A에서 세번째 숫자인 2, B에서 두번째 숫자인 4를 뽑아 곱하여 더합니다. (누적된 값 : 21 + 8(2x4) = 29)\n",
    "즉, 이 경우가 최소가 되므로 29를 return 합니다.\n",
    "\n",
    "배열 A, B가 주어질 때 최종적으로 누적된 최솟값을 return 하는 solution 함수를 완성해 주세요.\n",
    "\n",
    "제한사항\n",
    "배열 A, B의 크기 : 1,000 이하의 자연수\n",
    "배열 A, B의 원소의 크기 : 1,000 이하의 자연수"
   ]
  },
  {
   "cell_type": "code",
   "execution_count": null,
   "metadata": {},
   "outputs": [],
   "source": [
    "def getMinSum(A, B):\n",
    "    return sum([a * b for a, b in zip(sorted(A), sorted(B, reverse=True))])\n",
    "\n",
    "\n",
    "# 아래 코드는 출력을 위한 테스트 코드입니다.\n",
    "\n",
    "print(getMinSum([1, 2], [3, 4]))"
   ]
  },
  {
   "cell_type": "markdown",
   "metadata": {},
   "source": [
    "0과 1로 이루어진 어떤 문자열 x에 대한 이진 변환을 다음과 같이 정의합니다.\n",
    "\n",
    "x의 모든 0을 제거합니다.\n",
    "x의 길이를 c라고 하면, x를 \"c를 2진법으로 표현한 문자열\"로 바꿉니다.\n",
    "예를 들어, x = \"0111010\"이라면, x에 이진 변환을 가하면 x = \"0111010\" -> \"1111\" -> \"100\" 이 됩니다.\n",
    "\n",
    "0과 1로 이루어진 문자열 s가 매개변수로 주어집니다. s가 \"1\"이 될 때까지 계속해서 s에 이진 변환을 가했을 때, 이진 변환의 횟수와 변환 과정에서 제거된 모든 0의 개수를 각각 배열에 담아 return 하도록 solution 함수를 완성해주세요."
   ]
  },
  {
   "cell_type": "code",
   "execution_count": null,
   "metadata": {},
   "outputs": [],
   "source": [
    "def solution(s):\n",
    "    a, b = 0, 0\n",
    "    while s != '1':\n",
    "        a += 1\n",
    "        num = s.count('1')\n",
    "        b += len(s) - num\n",
    "        s = bin(num)[2:]\n",
    "    return [a, b]"
   ]
  },
  {
   "cell_type": "markdown",
   "metadata": {},
   "source": [
    "문제 설명\n",
    "자연수 n이 주어졌을 때, n의 다음 큰 숫자는 다음과 같이 정의 합니다.\n",
    "\n",
    "조건 1. n의 다음 큰 숫자는 n보다 큰 자연수 입니다.\n",
    "조건 2. n의 다음 큰 숫자와 n은 2진수로 변환했을 때 1의 갯수가 같습니다.\n",
    "조건 3. n의 다음 큰 숫자는 조건 1, 2를 만족하는 수 중 가장 작은 수 입니다.\n",
    "예를 들어서 78(1001110)의 다음 큰 숫자는 83(1010011)입니다.\n",
    "\n",
    "자연수 n이 매개변수로 주어질 때, n의 다음 큰 숫자를 return 하는 solution 함수를 완성해주세요.\n",
    "\n",
    "제한 사항\n",
    "n은 1,000,000 이하의 자연수 입니다."
   ]
  },
  {
   "cell_type": "code",
   "execution_count": null,
   "metadata": {},
   "outputs": [],
   "source": [
    "def solution(n):\n",
    "    cnt = bin(n)[2:].count(\"1\")\n",
    "    while True:\n",
    "        n += 1\n",
    "        if bin(n)[2:].count(\"1\") == cnt:\n",
    "            break\n",
    "            \n",
    "    answer = n\n",
    "    return answer"
   ]
  },
  {
   "cell_type": "markdown",
   "metadata": {},
   "source": [
    "문제 설명\n",
    "피보나치 수는 F(0) = 0, F(1) = 1일 때, 1 이상의 n에 대하여 F(n) = F(n-1) + F(n-2) 가 적용되는 수 입니다.\n",
    "\n",
    "예를들어\n",
    "\n",
    "F(2) = F(0) + F(1) = 0 + 1 = 1\n",
    "F(3) = F(1) + F(2) = 1 + 1 = 2\n",
    "F(4) = F(2) + F(3) = 1 + 2 = 3\n",
    "F(5) = F(3) + F(4) = 2 + 3 = 5\n",
    "와 같이 이어집니다.\n",
    "\n",
    "2 이상의 n이 입력되었을 때, n번째 피보나치 수를 1234567으로 나눈 나머지를 리턴하는 함수, solution을 완성해 주세요.\n",
    "\n",
    "제한 사항\n",
    "n은 2 이상 100,000 이하인 자연수입니다.\n",
    "입출력 예\n",
    "n\treturn\n",
    "3\t2\n",
    "5\t5\n",
    "입출력 예 설명\n",
    "피보나치수는 0번째부터 0, 1, 1, 2, 3, 5, ... 와 같이 이어집니다.\n",
    "\n"
   ]
  },
  {
   "cell_type": "code",
   "execution_count": null,
   "metadata": {},
   "outputs": [],
   "source": [
    "def solution(n):\n",
    "    f0 = 0\n",
    "    f1 = 1\n",
    "    for i in range(n-1):\n",
    "        f = f0 + f1\n",
    "        f0 = f1\n",
    "        f1 = f\n",
    "    answer = f % 1234567\n",
    "    return answer"
   ]
  },
  {
   "cell_type": "markdown",
   "metadata": {},
   "source": [
    "문제 설명\n",
    "짝지어 제거하기는, 알파벳 소문자로 이루어진 문자열을 가지고 시작합니다. 먼저 문자열에서 같은 알파벳이 2개 붙어 있는 짝을 찾습니다. 그다음, 그 둘을 제거한 뒤, 앞뒤로 문자열을 이어 붙입니다. 이 과정을 반복해서 문자열을 모두 제거한다면 짝지어 제거하기가 종료됩니다. 문자열 S가 주어졌을 때, 짝지어 제거하기를 성공적으로 수행할 수 있는지 반환하는 함수를 완성해 주세요. 성공적으로 수행할 수 있으면 1을, 아닐 경우 0을 리턴해주면 됩니다.\n",
    "\n",
    "예를 들어, 문자열 S = baabaa 라면\n",
    "\n",
    "b aa baa → bb aa → aa →\n",
    "\n",
    "의 순서로 문자열을 모두 제거할 수 있으므로 1을 반환합니다.\n",
    "\n",
    "제한사항\n",
    "문자열의 길이 : 1,000,000이하의 자연수\n",
    "문자열은 모두 소문자로 이루어져 있습니다.\n",
    "입출력 예\n",
    "s\tresult\n",
    "baabaa\t1\n",
    "cdcd\t0\n",
    "입출력 예 설명\n",
    "입출력 예 #1\n",
    "위의 예시와 같습니다.\n",
    "입출력 예 #2\n",
    "문자열이 남아있지만 짝지어 제거할 수 있는 문자열이 더 이상 존재하지 않기 때문에 0을 반환합니다.\n",
    "\n",
    "※ 공지 - 2020년 6월 8일 테스트케이스가 추가되었습니다.\n",
    "※ 공지 - 2023년 8월 31일 테스트케이스가 추가되었습니다. 기존에 제출한 코드가 통과하지 못할 수도 있습니다."
   ]
  },
  {
   "cell_type": "code",
   "execution_count": 6,
   "metadata": {},
   "outputs": [
    {
     "ename": "TypeError",
     "evalue": "unsupported operand type(s) for -: 'str' and 'str'",
     "output_type": "error",
     "traceback": [
      "\u001b[1;31m---------------------------------------------------------------------------\u001b[0m",
      "\u001b[1;31mTypeError\u001b[0m                                 Traceback (most recent call last)",
      "Cell \u001b[1;32mIn[6], line 3\u001b[0m\n\u001b[0;32m      1\u001b[0m \u001b[38;5;28mstr\u001b[39m \u001b[38;5;241m=\u001b[39m \u001b[38;5;124m\"\u001b[39m\u001b[38;5;124maab\u001b[39m\u001b[38;5;124m\"\u001b[39m\n\u001b[0;32m      2\u001b[0m sto \u001b[38;5;241m=\u001b[39m \u001b[38;5;124m\"\u001b[39m\u001b[38;5;124ma\u001b[39m\u001b[38;5;124m\"\u001b[39m\n\u001b[1;32m----> 3\u001b[0m \u001b[38;5;28;43mstr\u001b[39;49m\u001b[38;5;241;43m-\u001b[39;49m\u001b[43msto\u001b[49m\n",
      "\u001b[1;31mTypeError\u001b[0m: unsupported operand type(s) for -: 'str' and 'str'"
     ]
    }
   ],
   "source": [
    "def solution(s):\n",
    "    store = []\n",
    "    for i in s:\n",
    "        if len(store) > 0:\n",
    "            if store[-1] == i:\n",
    "                store.pop(-1)\n",
    "            else:\n",
    "                store.append(i)\n",
    "        else:\n",
    "            store.append(i)\n",
    "            \n",
    "    if len(store) == 0:\n",
    "        answer = 1\n",
    "    else:\n",
    "        answer = 0\n",
    "                \n",
    "    return answer"
   ]
  },
  {
   "cell_type": "markdown",
   "metadata": {},
   "source": [
    "OO 연구소는 한 번에 K 칸을 앞으로 점프하거나, (현재까지 온 거리) x 2 에 해당하는 위치로 순간이동을 할 수 있는 특수한 기능을 가진 아이언 슈트를 개발하여 판매하고 있습니다. 이 아이언 슈트는 건전지로 작동되는데, 순간이동을 하면 건전지 사용량이 줄지 않지만, 앞으로 K 칸을 점프하면 K 만큼의 건전지 사용량이 듭니다. 그러므로 아이언 슈트를 착용하고 이동할 때는 순간 이동을 하는 것이 더 효율적입니다. 아이언 슈트 구매자는 아이언 슈트를 착용하고 거리가 N 만큼 떨어져 있는 장소로 가려고 합니다. 단, 건전지 사용량을 줄이기 위해 점프로 이동하는 것은 최소로 하려고 합니다. 아이언 슈트 구매자가 이동하려는 거리 N이 주어졌을 때, 사용해야 하는 건전지 사용량의 최솟값을 return하는 solution 함수를 만들어 주세요.\n",
    "\n",
    "예를 들어 거리가 5만큼 떨어져 있는 장소로 가려고 합니다.\n",
    "아이언 슈트를 입고 거리가 5만큼 떨어져 있는 장소로 갈 수 있는 경우의 수는 여러 가지입니다.\n",
    "\n",
    "처음 위치 0 에서 5 칸을 앞으로 점프하면 바로 도착하지만, 건전지 사용량이 5 만큼 듭니다.\n",
    "처음 위치 0 에서 2 칸을 앞으로 점프한 다음 순간이동 하면 (현재까지 온 거리 : 2) x 2에 해당하는 위치로 이동할 수 있으므로 위치 4로 이동합니다. 이때 1 칸을 앞으로 점프하면 도착하므로 건전지 사용량이 3 만큼 듭니다.\n",
    "처음 위치 0 에서 1 칸을 앞으로 점프한 다음 순간이동 하면 (현재까지 온 거리 : 1) x 2에 해당하는 위치로 이동할 수 있으므로 위치 2로 이동됩니다. 이때 다시 순간이동 하면 (현재까지 온 거리 : 2) x 2 만큼 이동할 수 있으므로 위치 4로 이동합니다. 이때 1 칸을 앞으로 점프하면 도착하므로 건전지 사용량이 2 만큼 듭니다.\n",
    "위의 3가지 경우 거리가 5만큼 떨어져 있는 장소로 가기 위해서 3번째 경우가 건전지 사용량이 가장 적으므로 답은 2가 됩니다.\n",
    "\n",
    "제한 사항\n",
    "숫자 N: 1 이상 10억 이하의 자연수\n",
    "숫자 K: 1 이상의 자연수\n",
    "입출력 예\n",
    "N\tresult\n",
    "5\t2\n",
    "6\t2\n",
    "5000\t5\n",
    "입출력 예 설명\n",
    "입출력 예 #1\n",
    "위의 예시와 같습니다.\n",
    "\n",
    "입출력 예 #2\n",
    "처음 위치 0 에서 1 칸을 앞으로 점프한 다음 순간이동 하면 (현재까지 온 거리 : 1) x 2에 해당하는 위치로 이동할 수 있으므로 위치 2로 이동합니다. 이때 1 칸을 앞으로 점프하면 위치3으로 이동합니다. 이때 다시 순간이동 하면 (현재까지 온 거리 : 3) x 2 이동할 수 있으므로 위치 6에 도착합니다. 이 경우가 건전지 사용량이 가장 적으므로 2를 반환해주면 됩니다.\n",
    "\n",
    "입출력 예 #3\n",
    "위와 같은 방식으로 합니다."
   ]
  },
  {
   "cell_type": "code",
   "execution_count": null,
   "metadata": {},
   "outputs": [],
   "source": [
    "def solution(n):\n",
    "    return bin(n).count('1')"
   ]
  },
  {
   "cell_type": "markdown",
   "metadata": {},
   "source": [
    "프로그래머스\n",
    "표 편집\n"
   ]
  },
  {
   "cell_type": "code",
   "execution_count": null,
   "metadata": {},
   "outputs": [],
   "source": [
    "def solution(n, k, cmd):\n",
    "    deleted = []\n",
    "    up = [i - 1 for i in range(n+2)]\n",
    "    down = [i + 1 for i in range(n+1)]\n",
    "    \n",
    "    k += 1\n",
    "    \n",
    "    for cmd_i in cmd:\n",
    "        if cmd_i.startswith(\"C\"):\n",
    "            deleted.append(k)\n",
    "            up[down[k]] = up[k]\n",
    "            down[up[k]] = down[k]\n",
    "            k = up[k] if n < down[k] else down[k]\n",
    "            \n",
    "        elif cmd_i.startswith(\"Z\"):\n",
    "            restore = deleted.pop()\n",
    "            down[up[restore]] = restore\n",
    "            up[down[restore]] = restore\n",
    "            \n",
    "        else:\n",
    "            action, num = cmd_i.split()\n",
    "            if action == \"U\":\n",
    "                for _ in range(int(num)):\n",
    "                    k = up[k]\n",
    "                    \n",
    "            else:\n",
    "                for _ in range(int(num)):\n",
    "                    k = down[k]\n",
    "                    \n",
    "    answer = [\"O\"] * n\n",
    "    for i in deleted:\n",
    "        answer[i - 1] = \"X\"\n",
    "    return  \"\".join(answer)"
   ]
  },
  {
   "cell_type": "markdown",
   "metadata": {},
   "source": [
    "Python\n",
    "리스트 정렬  arr.sort()\n",
    "\t이 자체로 코드 실행 가능 변수 할당 안해도됌 변수를 할당하고싶으면                      x = list(sort(arr)\n",
    "result = sorted(result, key=lambda x : result[x], reverse=True)\n",
    "lambd를 사용하여 정렬\n",
    "result딕셔너리의 value값을 key로 설정하여 value값을 기준으로 정렬하고 reverse를 True로 설정하여 내림차순으로 정렬한다.\n",
    "\n",
    "리스트를 문자열로\n",
    "Ex) [‘z’, ‘e’, ‘r’, ‘o’]  ‘zero’: string = ‘’.join(list)\n",
    "\n",
    "Deque 사용하기\n",
    "From collections import deque\n"
   ]
  },
  {
   "cell_type": "code",
   "execution_count": null,
   "metadata": {},
   "outputs": [],
   "source": [
    "result = sorted(result, key=lambda x : result[x], reverse=True)\n",
    "#lambd를 사용하여 정렬\n",
    "#result딕셔너리의 value값을 key로 설정하여 value값을 기준으로 정렬하고 reverse를 True로 설정하여 내림차순으로 정렬한다.\n",
    "\n"
   ]
  },
  {
   "cell_type": "code",
   "execution_count": 2,
   "metadata": {},
   "outputs": [
    {
     "name": "stdout",
     "output_type": "stream",
     "text": [
      "zero\n"
     ]
    }
   ],
   "source": [
    "#리스트를 문자열로\n",
    "list_ex = [\"z\", \"e\", \"r\", \"o\"]\n",
    "string_ex = \"\".join(list_ex)\n",
    "print(string_ex)"
   ]
  },
  {
   "cell_type": "code",
   "execution_count": null,
   "metadata": {},
   "outputs": [],
   "source": [
    "#deque 사용하기\n",
    "from collections import deque\n",
    "dq = deque()\n"
   ]
  },
  {
   "cell_type": "markdown",
   "metadata": {},
   "source": [
    "기능 개발(프로그래머스)"
   ]
  },
  {
   "cell_type": "code",
   "execution_count": 3,
   "metadata": {},
   "outputs": [],
   "source": [
    "from collections import deque\n",
    "def solution(progresses, speeds):\n",
    "    progresses = deque(progresses)\n",
    "    speeds = deque(speeds)\n",
    "    answer = []\n",
    "    while len(progresses) > 0:\n",
    "        if progresses[0] < 100:\n",
    "            for i in range(len(progresses)):\n",
    "                progresses[i] += speeds[i]\n",
    "        else:\n",
    "            j = 0\n",
    "            while progresses and progresses[0] >= 100:\n",
    "                progresses.popleft()\n",
    "                speeds.popleft()\n",
    "                j += 1\n",
    "            answer.append(j)\n",
    "                    \n",
    "    return answer"
   ]
  },
  {
   "cell_type": "code",
   "execution_count": 5,
   "metadata": {},
   "outputs": [],
   "source": [
    "import math \n",
    "def solution(progresses, speeds):\n",
    "    answer = []\n",
    "    n = len(progresses)\n",
    "    days_left = [math.ceil((100 - progresses[i])/ speeds[i]) for i in range(n)]\n",
    "\n",
    "    count = 0\n",
    "\n",
    "    max_day = days_left[0]\n",
    "\n",
    "    for i in range(n):\n",
    "        if days_left[i] <= max_day:\n",
    "            count += 1\n",
    "        else:\n",
    "            answer.append(count)\n",
    "            count = 1\n",
    "            max_day = days_left[i]\n",
    "    answer.append(count)\n",
    "    return answer"
   ]
  },
  {
   "cell_type": "code",
   "execution_count": 6,
   "metadata": {},
   "outputs": [
    {
     "data": {
      "text/plain": [
       "[2, 1]"
      ]
     },
     "execution_count": 6,
     "metadata": {},
     "output_type": "execute_result"
    }
   ],
   "source": [
    "solution([93, 30, 55], [1, 30, 5])"
   ]
  },
  {
   "cell_type": "markdown",
   "metadata": {},
   "source": [
    "카드뭉치(프로그래머스)"
   ]
  },
  {
   "cell_type": "code",
   "execution_count": null,
   "metadata": {},
   "outputs": [],
   "source": [
    "from collections import deque\n",
    "\n",
    "def solution(cards1, cards2, goal):\n",
    "    cards1 = deque(cards1)\n",
    "    cards2 = deque(cards2)\n",
    "    goal = deque(goal)\n",
    "    for goal_i in goal:\n",
    "        if cards1 and cards1[0] == goal_i:\n",
    "            cards1.popleft()\n",
    "        elif cards2 and cards2[0] == goal_i:\n",
    "            cards2.popleft()\n",
    "        else:\n",
    "            return \"No\"\n",
    "    answer = 'Yes'\n",
    "    return answer"
   ]
  },
  {
   "cell_type": "markdown",
   "metadata": {},
   "source": [
    "문자열 해싱을 이용한 검색 함수 만들기\n"
   ]
  },
  {
   "cell_type": "code",
   "execution_count": 3,
   "metadata": {},
   "outputs": [],
   "source": [
    "def polynomial_hash(str):\n",
    "    p = 31\n",
    "    m = 1_000_000_007\n",
    "    hash_value = 0\n",
    "    for char in str:\n",
    "        hash_value = (hash_value * p + ord(char))%m\n",
    "    return hash_value\n",
    "\n",
    "def solution(string_list, query_list):\n",
    "    hash_list = [polynomial_hash(str) for str in string_list]\n",
    "\n",
    "    result = []\n",
    "    for query in query_list:\n",
    "        query_hash = polynomial_hash(query)\n",
    "        if query_hash in hash_list:\n",
    "            result.append(True)\n",
    "        else:\n",
    "            result.append(False)\n",
    "    return result"
   ]
  },
  {
   "cell_type": "code",
   "execution_count": 28,
   "metadata": {},
   "outputs": [],
   "source": [
    "def solution(id_list, report, k):\n",
    "    report_dic = {}\n",
    "    report_count = {}\n",
    "    for report_i in report:\n",
    "        a, b = report_i.split(\" \")\n",
    "        print(a,b)\n",
    "        if b not in report_count:\n",
    "            report_count[b] = 0\n",
    "        if a not in report_dic:\n",
    "            report_dic[a] = []\n",
    "        report_dic[a].append(b)\n",
    "        report_count[b] += 1\n",
    "    print(report_dic)\n",
    "    for user, u_users in report_dic.items():\n",
    "        count = 0\n",
    "        print(u_users)\n",
    "        for u_user in u_users:\n",
    "            print(user, u_user)\n",
    "            if report_count[u_user] >= k:\n",
    "                count += 1\n",
    "        for i in range(len(id_list)):\n",
    "            if id_list[i] == user:\n",
    "                id_list[i] = count\n",
    "    for i in range(len(id_list)):\n",
    "        if type(id_list[i]) is str:\n",
    "                id_list[i] = 0\n",
    "    return id_list"
   ]
  },
  {
   "cell_type": "code",
   "execution_count": 29,
   "metadata": {},
   "outputs": [
    {
     "name": "stdout",
     "output_type": "stream",
     "text": [
      "muzi frodo\n",
      "apeach frodo\n",
      "frodo neo\n",
      "muzi neo\n",
      "apeach muzi\n",
      "{'muzi': ['frodo', 'neo'], 'apeach': ['frodo', 'muzi'], 'frodo': ['neo']}\n",
      "['frodo', 'neo']\n",
      "muzi frodo\n",
      "muzi neo\n",
      "['frodo', 'muzi']\n",
      "apeach frodo\n",
      "apeach muzi\n",
      "['neo']\n",
      "frodo neo\n"
     ]
    },
    {
     "data": {
      "text/plain": [
       "[2, 1, 1, 0]"
      ]
     },
     "execution_count": 29,
     "metadata": {},
     "output_type": "execute_result"
    }
   ],
   "source": [
    "solution([\"muzi\", \"frodo\", \"apeach\", \"neo\"],[\"muzi frodo\",\"apeach frodo\",\"frodo neo\",\"muzi neo\",\"apeach muzi\"], 2)"
   ]
  },
  {
   "cell_type": "markdown",
   "metadata": {},
   "source": [
    "메뉴 리뉴얼\n",
    "counter, combinations 공부 필요"
   ]
  },
  {
   "cell_type": "code",
   "execution_count": null,
   "metadata": {},
   "outputs": [],
   "source": [
    "from itertools import combinations\n",
    "from collections import Counter\n",
    "\n",
    "def solution(orders, course):\n",
    "    answer = []\n",
    "    \n",
    "    for c in course:\n",
    "        menu = []\n",
    "        for order in orders:\n",
    "            comb = combinations(\n",
    "            sorted(order), c\n",
    "            )\n",
    "            menu += comb\n",
    "        counter = Counter(menu)\n",
    "        if(\n",
    "            len(counter) != 0 and max(counter.values()) != 1\n",
    "        ):\n",
    "            for m, cnt in counter.items():\n",
    "                if cnt == max(counter.values()):\n",
    "                    answer.append(\"\".join(m))\n",
    "            \n",
    "    return sorted(answer)"
   ]
  },
  {
   "cell_type": "markdown",
   "metadata": {},
   "source": [
    "트리순회"
   ]
  },
  {
   "cell_type": "code",
   "execution_count": 3,
   "metadata": {},
   "outputs": [],
   "source": [
    "def preorder(nodes, idx):\n",
    "    if idx < len(nodes):\n",
    "        ret = str(nodes[idx]) + \" \"\n",
    "        ret += preorder(nodes, idx * 2 + 1)\n",
    "        ret += preorder(nodes, idx * 2 + 2)\n",
    "        return ret\n",
    "    else:\n",
    "        return \"\"\n",
    "    \n",
    "def inorder(nodes, idx):\n",
    "    if idx < len(nodes):\n",
    "        ret = inorder(nodes, idx * 2 + 1)\n",
    "        ret += str(nodes[idx]) + \" \"\n",
    "        ret += inorder(nodes, idx * 2 + 2)\n",
    "        return ret\n",
    "    else:\n",
    "        return \"\" \n",
    "\n",
    "def postorder(nodes, idx):\n",
    "    if idx < len(nodes):\n",
    "        ret = postorder(nodes, idx * 2 + 1)\n",
    "        ret += postorder(nodes, idx * 2 + 2)\n",
    "        ret += str(nodes[idx]) + \" \"\n",
    "        return ret\n",
    "    else:\n",
    "        return \"\"\n",
    "    \n",
    "def solution(nodes):\n",
    "\n",
    "    return [\n",
    "        preorder(nodes, 0)[:-1],\n",
    "        inorder(nodes, 0)[:-1],\n",
    "        postorder(nodes, 0)[:-1],\n",
    "    ]"
   ]
  },
  {
   "cell_type": "code",
   "execution_count": 4,
   "metadata": {},
   "outputs": [
    {
     "data": {
      "text/plain": [
       "['1 2 4 5 3 6 7', '4 2 5 1 6 3 7', '4 5 2 6 7 3 1']"
      ]
     },
     "execution_count": 4,
     "metadata": {},
     "output_type": "execute_result"
    }
   ],
   "source": [
    "solution([1,2,3,4,5,6,7])"
   ]
  },
  {
   "cell_type": "markdown",
   "metadata": {},
   "source": [
    "이진 탐색 트리 구현"
   ]
  },
  {
   "cell_type": "code",
   "execution_count": 22,
   "metadata": {},
   "outputs": [],
   "source": [
    "class Node:\n",
    "    def __init__(self, key):\n",
    "        self.left = None\n",
    "        self.right = None\n",
    "        self.val = key\n",
    "\n",
    "class BST:\n",
    "    def __init__(self):\n",
    "        self.root = None\n",
    "\n",
    "    def insert(self, key):\n",
    "        if not self.root:\n",
    "            self.root = Node(key)\n",
    "        else:\n",
    "            curr = self.root\n",
    "            while True:\n",
    "                if key < curr.val:\n",
    "                    if curr.left:\n",
    "                        curr = curr.left\n",
    "                    else:\n",
    "                        curr.left = Node(key)\n",
    "                        break\n",
    "                else:\n",
    "                    if curr.right:\n",
    "                        curr = curr.right\n",
    "                    else:\n",
    "                        curr.right = Node(key)\n",
    "                        break\n",
    "    def search(self, key):\n",
    "        curr = self.root\n",
    "        print(curr.left)\n",
    "        while curr and curr.val != key:\n",
    "            if key < curr.val:\n",
    "                curr = curr.left\n",
    "            else:\n",
    "                curr = curr.right\n",
    "        return curr\n",
    "    \n",
    "def solution(lst, search_lst):\n",
    "    bst = BST()\n",
    "\n",
    "    for key in lst:\n",
    "        bst.insert(key)\n",
    "    result = []\n",
    "    print(bst)\n",
    "\n",
    "    for search_val in search_lst:\n",
    "        if bst.search(search_val):\n",
    "            result.append(True)\n",
    "        else:\n",
    "            result.append(False)\n",
    "\n",
    "    return result"
   ]
  },
  {
   "cell_type": "code",
   "execution_count": 23,
   "metadata": {},
   "outputs": [
    {
     "name": "stdout",
     "output_type": "stream",
     "text": [
      "<__main__.BST object at 0x000001E7C91F9C10>\n",
      "<__main__.Node object at 0x000001E7C91F8A90>\n",
      "<__main__.Node object at 0x000001E7C91F8A90>\n",
      "<__main__.Node object at 0x000001E7C91F8A90>\n",
      "<__main__.Node object at 0x000001E7C91F8A90>\n"
     ]
    },
    {
     "data": {
      "text/plain": [
       "[True, True, True, False]"
      ]
     },
     "execution_count": 23,
     "metadata": {},
     "output_type": "execute_result"
    }
   ],
   "source": [
    "solution([5, 3, 8, 2, 1, 7, 10], [1, 2, 5, 6])"
   ]
  },
  {
   "cell_type": "markdown",
   "metadata": {},
   "source": [
    "예상 대진표"
   ]
  },
  {
   "cell_type": "code",
   "execution_count": null,
   "metadata": {},
   "outputs": [],
   "source": [
    "def solution(n,a,b):\n",
    "    answer = 0\n",
    "    while a != b:\n",
    "        a = (a + 1) // 2\n",
    "        b = (b + 1) // 2\n",
    "        answer += 1\n",
    "\n",
    "    return answer"
   ]
  },
  {
   "cell_type": "markdown",
   "metadata": {},
   "source": []
  },
  {
   "cell_type": "markdown",
   "metadata": {},
   "source": [
    "깊이 우선 탐색 순회"
   ]
  },
  {
   "cell_type": "code",
   "execution_count": 36,
   "metadata": {},
   "outputs": [],
   "source": [
    "from collections import defaultdict\n",
    "\n",
    "def solution(graph, start):\n",
    "    adj_list = defaultdict(list)\n",
    "\n",
    "    for u, v in graph:\n",
    "        adj_list[u].append(v)\n",
    "\n",
    "    def dfs(node, visited:set, result:list):\n",
    "        visited.add(node)\n",
    "        result.append(node)\n",
    "        for neighbor in adj_list.get(node, []):\n",
    "            print(neighbor)\n",
    "            if neighbor not in visited:\n",
    "                dfs(neighbor, visited, result)\n",
    "\n",
    "    visited = set()\n",
    "    result = []\n",
    "    dfs(start, visited, result)\n",
    "    return result\n"
   ]
  },
  {
   "cell_type": "code",
   "execution_count": 37,
   "metadata": {},
   "outputs": [
    {
     "name": "stdout",
     "output_type": "stream",
     "text": [
      "B\n",
      "D\n",
      "E\n",
      "F\n",
      "C\n",
      "F\n"
     ]
    },
    {
     "data": {
      "text/plain": [
       "['A', 'B', 'D', 'E', 'F', 'C']"
      ]
     },
     "execution_count": 37,
     "metadata": {},
     "output_type": "execute_result"
    }
   ],
   "source": [
    "solution([['A','B'],['A','C'],['B','D'],['B','E'], ['C', 'F'], ['E', 'F']], 'A')"
   ]
  },
  {
   "cell_type": "markdown",
   "metadata": {},
   "source": [
    "너비 우선 탐색 순회"
   ]
  },
  {
   "cell_type": "code",
   "execution_count": 38,
   "metadata": {},
   "outputs": [],
   "source": [
    "from collections import defaultdict, deque\n",
    "\n",
    "def solution(graph, start):\n",
    "    adj_list = defaultdict(list)\n",
    "    for u, v in graph:\n",
    "        adj_list[u].append(v)\n",
    "\n",
    "    def bfs(start):\n",
    "        visited = set()\n",
    "\n",
    "        queue = deque([start])\n",
    "        visited.add(start)\n",
    "        result.append(start)\n",
    "\n",
    "        while queue:\n",
    "            node = queue.popleft()\n",
    "            for neighbor in adj_list.get(node, []):\n",
    "                if neighbor not in visited:\n",
    "                    queue.append(neighbor)\n",
    "                    visited.add(neighbor)\n",
    "                    result.append(neighbor)\n",
    "\n",
    "    result = []\n",
    "    bfs(start)\n",
    "    return result"
   ]
  },
  {
   "cell_type": "markdown",
   "metadata": {},
   "source": [
    "다익스트라 알고리즘"
   ]
  },
  {
   "cell_type": "code",
   "execution_count": 41,
   "metadata": {},
   "outputs": [],
   "source": [
    "import heapq\n",
    "def solution(graph, start):\n",
    "    distances = {node: float(\"inf\") for node in graph}\n",
    "\n",
    "    distances[start] = 0\n",
    "    queue = []\n",
    "    heapq.heappush(queue, [distances[start], start])\n",
    "    paths = {start:[start]}\n",
    "\n",
    "    while queue:\n",
    "        current_distance, current_node = heapq.heappop(queue)\n",
    "\n",
    "        if distances[current_node] < current_distance:\n",
    "            continue\n",
    "\n",
    "        for adjacent_node, weight in graph[current_node].items():\n",
    "            distance = current_distance + weight\n",
    "            \n",
    "\n",
    "            if distance < distance[adjacent_node]:\n",
    "                distances[adjacent_node] = distance\n",
    "                paths[adjacent_node] = paths[current_node] + [adjacent_node]\n",
    "\n",
    "                heapq.heappush(queue, [distance, adjacent_node])\n",
    "\n",
    "    sorted_paths = {node:paths[node] for node in sorted(paths)}\n",
    "    return [distances, sorted_paths]"
   ]
  },
  {
   "cell_type": "code",
   "execution_count": 43,
   "metadata": {},
   "outputs": [],
   "source": [
    "def solution(graph, source):\n",
    "    num_vertices = len(graph)\n",
    "\n",
    "    distance = [float(\"inf\")] * num_vertices\n",
    "    distance[source] = 0\n",
    "    predecessor = [None] * num_vertices\n",
    "\n",
    "    for temp in range(num_vertices - 1):\n",
    "        for u in range(num_vertices):\n",
    "            for v, weight in graph[u]:\n",
    "\n",
    "                if distance[u] + weight < distance[v]:\n",
    "                    distance[v] = distance[u] + weight\n",
    "                    predecessor[v] = u\n",
    "    for u in range(num_vertices):\n",
    "        for v, weight in graph[u]:\n",
    "\n",
    "            if distance[u] + weight <  distance[v]:\n",
    "                return [-1]\n",
    "    return [distance, predecessor]"
   ]
  },
  {
   "cell_type": "markdown",
   "metadata": {},
   "source": [
    "백트래킹\n",
    "    - 1부터 N까지 숫자 중 합이 10이 되는 조합 구하기\n",
    "    "
   ]
  },
  {
   "cell_type": "code",
   "execution_count": 44,
   "metadata": {},
   "outputs": [],
   "source": [
    "def solution(N):\n",
    "    results = []\n",
    "    def backtrack(sum, selected_nums, start):\n",
    "        if sum == 10:\n",
    "            results.append(selected_nums)\n",
    "            return\n",
    "        \n",
    "        for i in range(start, N + 1):\n",
    "            if sum + i <= 10:\n",
    "                backtrack(\n",
    "                    sum+i, selected_nums+ [i], i + 1\n",
    "                )\n",
    "    backtrack(0, [], 1)\n",
    "    return results"
   ]
  },
  {
   "cell_type": "code",
   "execution_count": 46,
   "metadata": {},
   "outputs": [
    {
     "data": {
      "text/plain": [
       "[[1, 2, 3, 4],\n",
       " [1, 2, 7],\n",
       " [1, 3, 6],\n",
       " [1, 4, 5],\n",
       " [1, 9],\n",
       " [2, 3, 5],\n",
       " [2, 8],\n",
       " [3, 7],\n",
       " [4, 6],\n",
       " [10]]"
      ]
     },
     "execution_count": 46,
     "metadata": {},
     "output_type": "execute_result"
    }
   ],
   "source": [
    "solution(100)\n"
   ]
  },
  {
   "cell_type": "markdown",
   "metadata": {},
   "source": [
    "스도쿠 퍼즐"
   ]
  },
  {
   "cell_type": "code",
   "execution_count": null,
   "metadata": {},
   "outputs": [],
   "source": []
  },
  {
   "cell_type": "markdown",
   "metadata": {},
   "source": [
    "<h1>정렬 <br>\n"
   ]
  },
  {
   "cell_type": "markdown",
   "metadata": {},
   "source": [
    "계수 정렬 구현하기"
   ]
  },
  {
   "cell_type": "code",
   "execution_count": 3,
   "metadata": {},
   "outputs": [],
   "source": [
    "def solution(s):\n",
    "    num_sort = {}\n",
    "    for ch in s:\n",
    "        if ch not in num_sort:\n",
    "            num_sort[ch] = 0\n",
    "        num_sort[ch] += 1\n",
    "    return num_sort"
   ]
  },
  {
   "cell_type": "code",
   "execution_count": 6,
   "metadata": {},
   "outputs": [
    {
     "data": {
      "text/plain": [
       "'ehllo'"
      ]
     },
     "execution_count": 6,
     "metadata": {},
     "output_type": "execute_result"
    }
   ],
   "source": [
    "solution(\"hello\")"
   ]
  },
  {
   "cell_type": "code",
   "execution_count": 5,
   "metadata": {},
   "outputs": [],
   "source": [
    "def solution(s):\n",
    "    counts = [0] * 26\n",
    "\n",
    "    for c in s:\n",
    "        counts[ord(c) - ord(\"a\")] += 1\n",
    "\n",
    "    sorted_str =\"\"\n",
    "    for i in range(26):\n",
    "        sorted_str += chr(i + ord(\"a\")) * counts[i]\n",
    "\n",
    "    return sorted_str"
   ]
  },
  {
   "cell_type": "markdown",
   "metadata": {},
   "source": [
    "병합정렬"
   ]
  },
  {
   "cell_type": "code",
   "execution_count": 12,
   "metadata": {},
   "outputs": [],
   "source": [
    "def solution(arr1, arr2):\n",
    "    i, j = 0, 0\n",
    "    sort_matrix = []\n",
    "    while i < len(arr1) and j < len(arr2):\n",
    "        if arr1[i] <= arr2[j]:\n",
    "            sort_matrix.append(arr1[i])\n",
    "            i += 1\n",
    "        else:\n",
    "            sort_matrix.append(arr2[j])\n",
    "            j += 1\n",
    "    while i < len(arr1):\n",
    "        sort_matrix.append(arr1[i])\n",
    "        i += 1\n",
    "    while j < len(arr2):\n",
    "        sort_matrix.append(arr2[j])\n",
    "        j += 1\n",
    "    return sort_matrix"
   ]
  },
  {
   "cell_type": "code",
   "execution_count": 13,
   "metadata": {},
   "outputs": [
    {
     "data": {
      "text/plain": [
       "[1, 2, 3, 4, 5, 6]"
      ]
     },
     "execution_count": 13,
     "metadata": {},
     "output_type": "execute_result"
    }
   ],
   "source": [
    "solution([1,3,5], [2,4,6])"
   ]
  },
  {
   "cell_type": "markdown",
   "metadata": {},
   "source": [
    "python 정렬 <br>\n",
    "cmp_to_key(lambda a,b : compare(a, b))  <br>\n",
    "compare 리턴값이 양수이면 a, b 자리를 바꿈 <br>\n",
    "compare 리턴값이 음수이면 a, b 자리를 바꾸지않음"
   ]
  },
  {
   "cell_type": "code",
   "execution_count": null,
   "metadata": {},
   "outputs": [],
   "source": [
    "import functools\n",
    "\n",
    "def compare(a, b):\n",
    "    t1 = str(a) + str(b)\n",
    "    t2 = str(b) + str(a)\n",
    "    return (int(t1) > int(t2)) - (int(t1) < int(t2))\n",
    "\n",
    "def solution(numbers):\n",
    "    sorted_nums = sorted(\n",
    "        numbers, key=functools.cmp_to_key(lambda a, b: compare(a, b)), reverse=True\n",
    "    )\n",
    "    answer = \"\".join(str(x) for x in sorted_nums)\n",
    "    return \"0\" if int(answer) == 0 else answer\n"
   ]
  },
  {
   "cell_type": "markdown",
   "metadata": {},
   "source": [
    "문자열 내 마음대로 정렬하기"
   ]
  },
  {
   "cell_type": "code",
   "execution_count": null,
   "metadata": {},
   "outputs": [],
   "source": [
    "def solution(strings, n):\n",
    "    return sorted(strings, key=lambda x: (x[n], x))\n",
    "\n"
   ]
  },
  {
   "cell_type": "markdown",
   "metadata": {},
   "source": [
    "정수 내림차순으로 배치하기"
   ]
  },
  {
   "cell_type": "code",
   "execution_count": null,
   "metadata": {},
   "outputs": [],
   "source": [
    "def solution(n):\n",
    "    n = list(str(n))\n",
    "    nin = sorted(n, key = lambda x: int(x)*(-1))\n",
    "    nin = \"\".join(nin)\n",
    "    return int(nin)"
   ]
  },
  {
   "cell_type": "markdown",
   "metadata": {},
   "source": [
    "k번째 수"
   ]
  },
  {
   "cell_type": "code",
   "execution_count": null,
   "metadata": {},
   "outputs": [],
   "source": [
    "def solution(array, commands):\n",
    "    answer = []\n",
    "    sample = []\n",
    "    for i in commands:\n",
    "        answer.append(sorted(array[i[0]-1:i[1]])[i[2]-1])\n",
    "    return answer"
   ]
  },
  {
   "cell_type": "markdown",
   "metadata": {},
   "source": [
    "가장 큰 수"
   ]
  },
  {
   "cell_type": "code",
   "execution_count": null,
   "metadata": {},
   "outputs": [],
   "source": [
    "import functools\n",
    "\n",
    "def compare(a, b):\n",
    "    t1 = str(a) + str(b)\n",
    "    t2 = str(b) + str(a)\n",
    "    return (int(t1) > int(t2)) - (int(t1) < int(t2))\n",
    "\n",
    "def solution(numbers):\n",
    "    sorted_nums = sorted(\n",
    "        numbers, key=functools.cmp_to_key(lambda a, b: compare(a, b)), reverse=True\n",
    "    )\n",
    "    answer = \"\".join(str(x) for x in sorted_nums)\n",
    "    return \"0\" if int(answer) == 0 else answer\n"
   ]
  },
  {
   "cell_type": "markdown",
   "metadata": {},
   "source": [
    "튜플"
   ]
  },
  {
   "cell_type": "code",
   "execution_count": null,
   "metadata": {},
   "outputs": [],
   "source": [
    "def solution(s):\n",
    "    s = list(s[2:-2].split(\"},{\"))\n",
    "    for i in range(len(s)):\n",
    "        s[i] = list(s[i].split(\",\"))\n",
    "    answer = []\n",
    "    s = sorted(s, key=lambda x: len(x))\n",
    "    for i in s:\n",
    "        for j in i:\n",
    "            if int(j) not in answer:\n",
    "                answer.append(int(j))\n",
    "    \n",
    "    return answer"
   ]
  },
  {
   "cell_type": "markdown",
   "metadata": {},
   "source": [
    "지형이동"
   ]
  },
  {
   "cell_type": "markdown",
   "metadata": {},
   "source": []
  }
 ],
 "metadata": {
  "kernelspec": {
   "display_name": "Python 3",
   "language": "python",
   "name": "python3"
  },
  "language_info": {
   "codemirror_mode": {
    "name": "ipython",
    "version": 3
   },
   "file_extension": ".py",
   "mimetype": "text/x-python",
   "name": "python",
   "nbconvert_exporter": "python",
   "pygments_lexer": "ipython3",
   "version": "3.12.1"
  }
 },
 "nbformat": 4,
 "nbformat_minor": 2
}
